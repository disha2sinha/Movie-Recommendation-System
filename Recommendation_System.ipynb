{
  "nbformat": 4,
  "nbformat_minor": 0,
  "metadata": {
    "colab": {
      "name": "Recommendation System.ipynb",
      "provenance": [],
      "authorship_tag": "ABX9TyPTxjgnO0y/LZhH8nwsAfCi",
      "include_colab_link": true
    },
    "kernelspec": {
      "name": "python3",
      "display_name": "Python 3"
    },
    "accelerator": "GPU"
  },
  "cells": [
    {
      "cell_type": "markdown",
      "metadata": {
        "id": "view-in-github",
        "colab_type": "text"
      },
      "source": [
        "<a href=\"https://colab.research.google.com/github/disha2sinha/Movie-Recommendation-System/blob/master/Recommendation_System.ipynb\" target=\"_parent\"><img src=\"https://colab.research.google.com/assets/colab-badge.svg\" alt=\"Open In Colab\"/></a>"
      ]
    },
    {
      "cell_type": "markdown",
      "metadata": {
        "id": "vYXuZ57oEdGG",
        "colab_type": "text"
      },
      "source": [
        "**IMPORTING LIBRARIES:**"
      ]
    },
    {
      "cell_type": "code",
      "metadata": {
        "id": "zsj7g3JfAitV",
        "colab_type": "code",
        "colab": {
          "base_uri": "https://localhost:8080/",
          "height": 128
        },
        "outputId": "84823164-3e68-4171-eba9-2977120214f2"
      },
      "source": [
        "!pip install -U -q PyDrive\n",
        "from pydrive.auth import GoogleAuth\n",
        "from pydrive.drive import GoogleDrive\n",
        "from google.colab import auth\n",
        "from oauth2client.client import GoogleCredentials\n",
        "import pandas as pd\n",
        "import math\n",
        "import numpy as np\n",
        "import matplotlib.pyplot as plt\n",
        "import seaborn as sns\n",
        "from sklearn.preprocessing import MinMaxScaler\n",
        "!pip install rake_nltk\n",
        "from rake_nltk import Rake \n",
        "from sklearn.metrics.pairwise import cosine_similarity\n",
        "from sklearn.feature_extraction.text import CountVectorizer"
      ],
      "execution_count": 1,
      "outputs": [
        {
          "output_type": "stream",
          "text": [
            "/usr/local/lib/python3.6/dist-packages/statsmodels/tools/_testing.py:19: FutureWarning: pandas.util.testing is deprecated. Use the functions in the public API at pandas.testing instead.\n",
            "  import pandas.util.testing as tm\n"
          ],
          "name": "stderr"
        },
        {
          "output_type": "stream",
          "text": [
            "Requirement already satisfied: rake_nltk in /usr/local/lib/python3.6/dist-packages (1.0.4)\n",
            "Requirement already satisfied: nltk in /usr/local/lib/python3.6/dist-packages (from rake_nltk) (3.2.5)\n",
            "Requirement already satisfied: six in /usr/local/lib/python3.6/dist-packages (from nltk->rake_nltk) (1.15.0)\n"
          ],
          "name": "stdout"
        }
      ]
    },
    {
      "cell_type": "code",
      "metadata": {
        "id": "R9gJZ2TKEwIa",
        "colab_type": "code",
        "colab": {}
      },
      "source": [
        "auth.authenticate_user()\n",
        "gauth = GoogleAuth()\n",
        "gauth.credentials = GoogleCredentials.get_application_default()\n",
        "drive = GoogleDrive(gauth)\n",
        "#https://drive.google.com/file/d/1HcaON_5Qz-bfqlRyDgVWfdS4bD0hQ0Z3/view?usp=sharing"
      ],
      "execution_count": null,
      "outputs": []
    },
    {
      "cell_type": "code",
      "metadata": {
        "id": "9LEjNWemFE9G",
        "colab_type": "code",
        "colab": {}
      },
      "source": [
        "id='1HcaON_5Qz-bfqlRyDgVWfdS4bD0hQ0Z3'\n",
        "downloaded = drive.CreateFile({'id':id}) \n",
        "downloaded.GetContentFile('MoviesData.csv')  \n",
        "movies_data = pd.read_csv('MoviesData.csv',engine='python',index_col=0)\n",
        "movies_data.head()"
      ],
      "execution_count": null,
      "outputs": []
    },
    {
      "cell_type": "markdown",
      "metadata": {
        "id": "O7cyXup7Ar9i",
        "colab_type": "text"
      },
      "source": [
        "# **POPULARITY BASED RECOMMENDATION SYSTEM :**"
      ]
    },
    {
      "cell_type": "code",
      "metadata": {
        "id": "UmVOCDMfTOXG",
        "colab_type": "code",
        "colab": {}
      },
      "source": [
        "movies_data[['vote_count','vote_average','rating_count','mean_rating','popularity']].describe()"
      ],
      "execution_count": null,
      "outputs": []
    },
    {
      "cell_type": "markdown",
      "metadata": {
        "id": "6Bg4rk09RaRs",
        "colab_type": "text"
      },
      "source": [
        "**WEIGHTED AVERAGE FOR EACH MOVIES AVERAGE RATINGS :**"
      ]
    },
    {
      "cell_type": "markdown",
      "metadata": {
        "id": "vyASuE9fGSea",
        "colab_type": "text"
      },
      "source": [
        "Weighted Ratings: \n",
        ">              W =   Rv + Cm\n",
        ">                   ---------\n",
        "                     v+m\n",
        "\n",
        "R= average rating for the movie as a number from 0 to 10\n",
        "\n",
        "v= number of votes for the movie\n",
        "\n",
        "m= minimum votes required to be listed in Top(here 2000)\n",
        "\n",
        "C=the mean vote across whole report\n"
      ]
    },
    {
      "cell_type": "code",
      "metadata": {
        "id": "QttoY9X0GNmJ",
        "colab_type": "code",
        "colab": {}
      },
      "source": [
        "R=movies_data['vote_average']\n",
        "v=movies_data['vote_count']\n",
        "C=movies_data['vote_average'].mean()\n",
        "m=2000"
      ],
      "execution_count": null,
      "outputs": []
    },
    {
      "cell_type": "code",
      "metadata": {
        "id": "fWlX75ybVldx",
        "colab_type": "code",
        "colab": {}
      },
      "source": [
        "movies_data['weighted_votes']=(R*v+C*m)/(v+m)\n",
        "movies_data[['title','weighted_votes']].sort_values('weighted_votes',ascending=False).head(20)"
      ],
      "execution_count": null,
      "outputs": []
    },
    {
      "cell_type": "code",
      "metadata": {
        "id": "7k6aDmB6_gx5",
        "colab_type": "code",
        "colab": {}
      },
      "source": [
        "R1=movies_data['mean_rating']\n",
        "v1=movies_data['rating_count']\n",
        "C1=movies_data['mean_rating'].mean()\n",
        "m1=movies_data['rating_count'].quantile(0.95)\n",
        "m1"
      ],
      "execution_count": null,
      "outputs": []
    },
    {
      "cell_type": "code",
      "metadata": {
        "id": "_UVJlVGD_wF4",
        "colab_type": "code",
        "colab": {}
      },
      "source": [
        "movies_data['weighted_ratings']=(R1*v1+C1*m1)/(v1+m1)\n",
        "movies_data[['title','weighted_ratings']].sort_values('weighted_ratings',ascending=False).head(20)"
      ],
      "execution_count": null,
      "outputs": []
    },
    {
      "cell_type": "markdown",
      "metadata": {
        "id": "vK-7k_U-DzA-",
        "colab_type": "text"
      },
      "source": [
        "**ASSIGNING SCORES TO THE MOVIES BY GIVING 45% IMPORTANCE TO WEIGHTED AVERAGE OF VOTES + 45% IMPORTANCE TO POPULARITY + 10% TO WEIGHTED AVERAGE OF RATINGS**"
      ]
    },
    {
      "cell_type": "code",
      "metadata": {
        "id": "IH1d9-OoHjax",
        "colab_type": "code",
        "colab": {}
      },
      "source": [
        "scaler=MinMaxScaler()\n",
        "movies_data[['weighted_votes','weighted_ratings','popularity']]=scaler.fit_transform(movies_data[['weighted_votes','weighted_ratings','popularity']])\n",
        "movies_data['score']=movies_data['weighted_votes']*0.45 + movies_data['weighted_ratings']*0.1+movies_data['popularity']*0.45\n",
        "movies_data[['title','weighted_votes','weighted_ratings','popularity','score']].sort_values('score',ascending=False).head(10)"
      ],
      "execution_count": null,
      "outputs": []
    },
    {
      "cell_type": "markdown",
      "metadata": {
        "id": "A8WhluFOUWK3",
        "colab_type": "text"
      },
      "source": [
        "**ONLY MOVIES HAVING SCORE ABOVE A THRESHOLD VALUE CONSIDERED POPULAR :**"
      ]
    },
    {
      "cell_type": "code",
      "metadata": {
        "id": "iTtTDUXsQSC8",
        "colab_type": "code",
        "colab": {}
      },
      "source": [
        "movies_data.score.describe()"
      ],
      "execution_count": null,
      "outputs": []
    },
    {
      "cell_type": "code",
      "metadata": {
        "id": "4IQTU_QRTytd",
        "colab_type": "code",
        "colab": {}
      },
      "source": [
        "movies_data[movies_data['score']>=0.0992].movieId.count()"
      ],
      "execution_count": null,
      "outputs": []
    },
    {
      "cell_type": "code",
      "metadata": {
        "id": "jmSDwLUVELrN",
        "colab_type": "code",
        "colab": {}
      },
      "source": [
        "popular_movies=movies_data[movies_data['score']>=0.0992]\n",
        "popular_movies=popular_movies[['movieId','title','budget','profit','score','release_year','release_day','genres','production_countries','production_companies','original_language','runtime','content','status','cast','director']].sort_values('score',ascending=False).reset_index(drop=True)\n",
        "plt.figure(figsize=(30,10))\n",
        "axis=sns.barplot(x=popular_movies['score'].head(20),y=popular_movies['title'].head(20))\n",
        "plt.title('Top 20 Most popular movies: ',weight='bold')\n",
        "plt.xlabel('score',weight='bold')\n",
        "plt.ylabel('Movies',weight='bold')\n",
        "plt.savefig('PopularMovies.jpg')"
      ],
      "execution_count": null,
      "outputs": []
    },
    {
      "cell_type": "code",
      "metadata": {
        "id": "Fu7TG_LgVq1y",
        "colab_type": "code",
        "colab": {}
      },
      "source": [
        "popular_movies.shape"
      ],
      "execution_count": null,
      "outputs": []
    },
    {
      "cell_type": "code",
      "metadata": {
        "id": "O9fkQtS7MFw_",
        "colab_type": "code",
        "colab": {}
      },
      "source": [
        "popular_movies.head()"
      ],
      "execution_count": null,
      "outputs": []
    },
    {
      "cell_type": "markdown",
      "metadata": {
        "id": "2gbLnRHagnIi",
        "colab_type": "text"
      },
      "source": [
        "**IMPORTING USER_RATINGS DATASET:**"
      ]
    },
    {
      "cell_type": "code",
      "metadata": {
        "id": "Xh_Wx1odYYSe",
        "colab_type": "code",
        "colab": {}
      },
      "source": [
        "#https://drive.google.com/file/d/1nVaAmYBm8xnDR8ynF9eX0qY06_c5ZzqG/view?usp=sharing\n",
        "id='1nVaAmYBm8xnDR8ynF9eX0qY06_c5ZzqG'\n",
        "downloaded = drive.CreateFile({'id':id}) \n",
        "downloaded.GetContentFile('RevisedRatings.csv')  \n",
        "user_ratings = pd.read_csv('RevisedRatings.csv',engine='python',index_col=0)\n",
        "user_ratings.head()"
      ],
      "execution_count": null,
      "outputs": []
    },
    {
      "cell_type": "markdown",
      "metadata": {
        "id": "glx9PxNPgytu",
        "colab_type": "text"
      },
      "source": [
        "**FILTERING USERS BY THE NUMBER OF RATINGS THEY GAVE:**Users who gave less than 60 ratings are discarded."
      ]
    },
    {
      "cell_type": "code",
      "metadata": {
        "id": "LNVjuGmbdtYw",
        "colab_type": "code",
        "colab": {}
      },
      "source": [
        "user_numberOfRatings=pd.DataFrame(user_ratings.groupby('userId')['rating'].count()).rename(columns={'rating':'count_rating'})\n",
        "user_numberOfRatings=user_numberOfRatings[user_numberOfRatings['count_rating']>50]\n",
        "len(user_numberOfRatings)"
      ],
      "execution_count": null,
      "outputs": []
    },
    {
      "cell_type": "code",
      "metadata": {
        "id": "fuoDuqaekfH-",
        "colab_type": "code",
        "colab": {}
      },
      "source": [
        "user_ratings.shape"
      ],
      "execution_count": null,
      "outputs": []
    },
    {
      "cell_type": "code",
      "metadata": {
        "id": "RbVq6WI_jjGJ",
        "colab_type": "code",
        "colab": {}
      },
      "source": [
        "users_movies=pd.merge(user_ratings,popular_movies[['movieId','title']],how='inner',on='movieId')\n",
        "selectedusers=user_numberOfRatings.index.values.tolist()\n",
        "final_ratings=users_movies.query('userId in @selectedusers')\n",
        "final_ratings.shape"
      ],
      "execution_count": null,
      "outputs": []
    },
    {
      "cell_type": "code",
      "metadata": {
        "id": "b4NB_kKmbC0S",
        "colab_type": "code",
        "colab": {}
      },
      "source": [
        "final_ratings.head()"
      ],
      "execution_count": null,
      "outputs": []
    },
    {
      "cell_type": "markdown",
      "metadata": {
        "id": "55N0vDLXcYdG",
        "colab_type": "text"
      },
      "source": [
        "# **CONTENT - BASED RECOMMENDATION SYSTEM ON POPULAR MOVIES**"
      ]
    },
    {
      "cell_type": "code",
      "metadata": {
        "id": "g1JIWGKVwYQc",
        "colab_type": "code",
        "colab": {}
      },
      "source": [
        "popular_movies.loc[0,'profit']"
      ],
      "execution_count": null,
      "outputs": []
    },
    {
      "cell_type": "code",
      "metadata": {
        "id": "tT8woCk5sUji",
        "colab_type": "code",
        "colab": {}
      },
      "source": [
        "popular_movies['keywords']=popular_movies['cast'].apply(str)+\" \"+popular_movies['production_companies'].apply(str)+\" \"+popular_movies['production_countries'].apply(str)+\" \"+popular_movies['content'].apply(str)+\" \"+popular_movies['genres'].apply(str)+\" \"+popular_movies['director'].apply(str)+\" \"+popular_movies['release_day'].apply(str)+\" \"+popular_movies['release_year'].apply(str)+\" \"+popular_movies['budget'].apply(str)+\" \"+popular_movies['profit'].apply(str)+\" \"+popular_movies['score'].apply(str)+\" \"+popular_movies['runtime'].apply(str)+\" \"+popular_movies['status'].apply(str)+\" \"+popular_movies['original_language'].apply(str)\n",
        "popular_movies['important_words']=\"\"\n",
        "for index,row in popular_movies.iterrows():\n",
        "  keywords=row['keywords']\n",
        "  r=Rake()\n",
        "  r.extract_keywords_from_text(keywords)\n",
        "  keywords_scores=r.get_word_degrees()\n",
        "  popular_movies.at[index,'important_words']=list(keywords_scores.keys())\n"
      ],
      "execution_count": null,
      "outputs": []
    },
    {
      "cell_type": "code",
      "metadata": {
        "id": "7R5CHnMTSngB",
        "colab_type": "code",
        "colab": {}
      },
      "source": [
        "popular_movies['important_words']=[','.join(map(str,word)) for word in popular_movies['important_words']]\n",
        "popular_movies.head()"
      ],
      "execution_count": null,
      "outputs": []
    },
    {
      "cell_type": "code",
      "metadata": {
        "id": "nwR1O0sORqxW",
        "colab_type": "code",
        "colab": {}
      },
      "source": [
        "cv=CountVectorizer()\n",
        "count_matrix=cv.fit_transform(popular_movies['important_words'])\n",
        "cosine_sim=cosine_similarity(count_matrix,count_matrix)\n",
        "cosine_sim"
      ],
      "execution_count": null,
      "outputs": []
    }
  ]
}