{
  "nbformat": 4,
  "nbformat_minor": 0,
  "metadata": {
    "colab": {
      "name": "Recommendation System.ipynb",
      "provenance": [],
      "authorship_tag": "ABX9TyMjR445mtU91qz/JXguIB+9",
      "include_colab_link": true
    },
    "kernelspec": {
      "name": "python3",
      "display_name": "Python 3"
    },
    "accelerator": "GPU"
  },
  "cells": [
    {
      "cell_type": "markdown",
      "metadata": {
        "id": "view-in-github",
        "colab_type": "text"
      },
      "source": [
        "<a href=\"https://colab.research.google.com/github/disha2sinha/Movie-Recommendation-System/blob/master/Recommendation_System.ipynb\" target=\"_parent\"><img src=\"https://colab.research.google.com/assets/colab-badge.svg\" alt=\"Open In Colab\"/></a>"
      ]
    },
    {
      "cell_type": "markdown",
      "metadata": {
        "id": "vYXuZ57oEdGG",
        "colab_type": "text"
      },
      "source": [
        "**IMPORTING LIBRARIES:**"
      ]
    },
    {
      "cell_type": "code",
      "metadata": {
        "id": "zsj7g3JfAitV",
        "colab_type": "code",
        "colab": {
          "base_uri": "https://localhost:8080/",
          "height": 121
        },
        "outputId": "cb161a09-18b3-490a-aee4-34cb3df3ef15"
      },
      "source": [
        "!pip install -U -q PyDrive\n",
        "from pydrive.auth import GoogleAuth\n",
        "from pydrive.drive import GoogleDrive\n",
        "from google.colab import auth\n",
        "from oauth2client.client import GoogleCredentials\n",
        "import pandas as pd\n",
        "import math\n",
        "import numpy as np\n",
        "import matplotlib.pyplot as plt\n",
        "import seaborn as sns\n",
        "from sklearn.preprocessing import MinMaxScaler\n",
        "!pip install rake_nltk\n",
        "from rake_nltk import Rake \n",
        "from sklearn.metrics.pairwise import cosine_similarity\n",
        "from sklearn.feature_extraction.text import CountVectorizer"
      ],
      "execution_count": 1,
      "outputs": [
        {
          "output_type": "stream",
          "text": [
            "/usr/local/lib/python3.6/dist-packages/statsmodels/tools/_testing.py:19: FutureWarning: pandas.util.testing is deprecated. Use the functions in the public API at pandas.testing instead.\n",
            "  import pandas.util.testing as tm\n"
          ],
          "name": "stderr"
        },
        {
          "output_type": "stream",
          "text": [
            "Requirement already satisfied: rake_nltk in /usr/local/lib/python3.6/dist-packages (1.0.4)\n",
            "Requirement already satisfied: nltk in /usr/local/lib/python3.6/dist-packages (from rake_nltk) (3.2.5)\n",
            "Requirement already satisfied: six in /usr/local/lib/python3.6/dist-packages (from nltk->rake_nltk) (1.15.0)\n"
          ],
          "name": "stdout"
        }
      ]
    },
    {
      "cell_type": "code",
      "metadata": {
        "id": "R9gJZ2TKEwIa",
        "colab_type": "code",
        "colab": {}
      },
      "source": [
        "auth.authenticate_user()\n",
        "gauth = GoogleAuth()\n",
        "gauth.credentials = GoogleCredentials.get_application_default()\n",
        "drive = GoogleDrive(gauth)\n",
        "#https://drive.google.com/file/d/1HcaON_5Qz-bfqlRyDgVWfdS4bD0hQ0Z3/view?usp=sharing"
      ],
      "execution_count": 2,
      "outputs": []
    },
    {
      "cell_type": "code",
      "metadata": {
        "id": "9LEjNWemFE9G",
        "colab_type": "code",
        "colab": {
          "base_uri": "https://localhost:8080/",
          "height": 669
        },
        "outputId": "b612c3dc-1ced-4986-d887-3f7cb0d69209"
      },
      "source": [
        "id='1HcaON_5Qz-bfqlRyDgVWfdS4bD0hQ0Z3'\n",
        "downloaded = drive.CreateFile({'id':id}) \n",
        "downloaded.GetContentFile('MoviesData.csv')  \n",
        "movies_data = pd.read_csv('MoviesData.csv',engine='python',index_col=0)\n",
        "movies_data.head()"
      ],
      "execution_count": 3,
      "outputs": [
        {
          "output_type": "execute_result",
          "data": {
            "text/html": [
              "<div>\n",
              "<style scoped>\n",
              "    .dataframe tbody tr th:only-of-type {\n",
              "        vertical-align: middle;\n",
              "    }\n",
              "\n",
              "    .dataframe tbody tr th {\n",
              "        vertical-align: top;\n",
              "    }\n",
              "\n",
              "    .dataframe thead th {\n",
              "        text-align: right;\n",
              "    }\n",
              "</style>\n",
              "<table border=\"1\" class=\"dataframe\">\n",
              "  <thead>\n",
              "    <tr style=\"text-align: right;\">\n",
              "      <th></th>\n",
              "      <th>title</th>\n",
              "      <th>release_year</th>\n",
              "      <th>release_day</th>\n",
              "      <th>genres</th>\n",
              "      <th>original_language</th>\n",
              "      <th>runtime</th>\n",
              "      <th>content</th>\n",
              "      <th>production_companies</th>\n",
              "      <th>budget</th>\n",
              "      <th>revenue</th>\n",
              "      <th>profit</th>\n",
              "      <th>production_countries</th>\n",
              "      <th>status</th>\n",
              "      <th>popularity</th>\n",
              "      <th>vote_average</th>\n",
              "      <th>vote_count</th>\n",
              "      <th>movieId</th>\n",
              "      <th>cast</th>\n",
              "      <th>director</th>\n",
              "      <th>rating_count</th>\n",
              "      <th>mean_rating</th>\n",
              "    </tr>\n",
              "  </thead>\n",
              "  <tbody>\n",
              "    <tr>\n",
              "      <th>0</th>\n",
              "      <td>Se7en</td>\n",
              "      <td>1995</td>\n",
              "      <td>Friday</td>\n",
              "      <td>Crime|Mystery|Thriller</td>\n",
              "      <td>English</td>\n",
              "      <td>127.0</td>\n",
              "      <td>Two homicide detectives are on a desperate hun...</td>\n",
              "      <td>New Line Cinema|Juno Pix|Cecchi Gori Pictures</td>\n",
              "      <td>33000000</td>\n",
              "      <td>327311859.0</td>\n",
              "      <td>294311859.0</td>\n",
              "      <td>United States of America</td>\n",
              "      <td>Released</td>\n",
              "      <td>18.457430</td>\n",
              "      <td>8.1</td>\n",
              "      <td>5915.0</td>\n",
              "      <td>47</td>\n",
              "      <td>Brad Pitt|Morgan Freeman|Gwyneth Paltrow|John ...</td>\n",
              "      <td>David Fincher</td>\n",
              "      <td>91921.0</td>\n",
              "      <td>4.052926</td>\n",
              "    </tr>\n",
              "    <tr>\n",
              "      <th>1</th>\n",
              "      <td>Batman</td>\n",
              "      <td>1989</td>\n",
              "      <td>Friday</td>\n",
              "      <td>Fantasy|Action</td>\n",
              "      <td>English</td>\n",
              "      <td>126.0</td>\n",
              "      <td>The Dark Knight of Gotham City begins his war ...</td>\n",
              "      <td>PolyGram Filmed Entertainment|The Guber-Peters...</td>\n",
              "      <td>35000000</td>\n",
              "      <td>411348924.0</td>\n",
              "      <td>376348924.0</td>\n",
              "      <td>United Kingdom|United States of America</td>\n",
              "      <td>Released</td>\n",
              "      <td>19.106730</td>\n",
              "      <td>7.0</td>\n",
              "      <td>2145.0</td>\n",
              "      <td>592</td>\n",
              "      <td>Jack Nicholson|Michael Keaton|Kim Basinger|Mic...</td>\n",
              "      <td>Tim Burton</td>\n",
              "      <td>91082.0</td>\n",
              "      <td>4.429015</td>\n",
              "    </tr>\n",
              "    <tr>\n",
              "      <th>2</th>\n",
              "      <td>The Empire Strikes Back</td>\n",
              "      <td>1980</td>\n",
              "      <td>Saturday</td>\n",
              "      <td>Adventure|Action|Science Fiction</td>\n",
              "      <td>English</td>\n",
              "      <td>124.0</td>\n",
              "      <td>The epic saga continues as Luke Skywalker, in ...</td>\n",
              "      <td>Lucasfilm|Twentieth Century Fox Film Corporation</td>\n",
              "      <td>18000000</td>\n",
              "      <td>538400000.0</td>\n",
              "      <td>520400000.0</td>\n",
              "      <td>United States of America</td>\n",
              "      <td>Released</td>\n",
              "      <td>19.470959</td>\n",
              "      <td>8.2</td>\n",
              "      <td>5998.0</td>\n",
              "      <td>1196</td>\n",
              "      <td>Mark Hamill|Harrison Ford|Carrie Fisher|Billy ...</td>\n",
              "      <td>Irvin Kershner</td>\n",
              "      <td>87901.0</td>\n",
              "      <td>4.169975</td>\n",
              "    </tr>\n",
              "    <tr>\n",
              "      <th>3</th>\n",
              "      <td>Drag Me to Hell</td>\n",
              "      <td>2009</td>\n",
              "      <td>Sunday</td>\n",
              "      <td>Horror|Thriller</td>\n",
              "      <td>English</td>\n",
              "      <td>99.0</td>\n",
              "      <td>After denying a woman the extension she needs ...</td>\n",
              "      <td>Universal Pictures|Ghost House Pictures|Mandat...</td>\n",
              "      <td>30000000</td>\n",
              "      <td>90810892.0</td>\n",
              "      <td>60810892.0</td>\n",
              "      <td>United States of America</td>\n",
              "      <td>Released</td>\n",
              "      <td>15.809588</td>\n",
              "      <td>6.2</td>\n",
              "      <td>995.0</td>\n",
              "      <td>68952</td>\n",
              "      <td>Alison Lohman|Justin Long|Lorna Raver|Dileep R...</td>\n",
              "      <td>Sam Raimi</td>\n",
              "      <td>84078.0</td>\n",
              "      <td>4.152246</td>\n",
              "    </tr>\n",
              "    <tr>\n",
              "      <th>4</th>\n",
              "      <td>Suspect</td>\n",
              "      <td>1987</td>\n",
              "      <td>Friday</td>\n",
              "      <td>Crime|Drama|Thriller</td>\n",
              "      <td>English</td>\n",
              "      <td>121.0</td>\n",
              "      <td>When a Supreme Court judge commits suicide and...</td>\n",
              "      <td>TriStar Pictures</td>\n",
              "      <td>8000000</td>\n",
              "      <td>18782400.0</td>\n",
              "      <td>10782400.0</td>\n",
              "      <td>United States of America</td>\n",
              "      <td>Released</td>\n",
              "      <td>10.638289</td>\n",
              "      <td>6.4</td>\n",
              "      <td>45.0</td>\n",
              "      <td>4332</td>\n",
              "      <td>Cher|Dennis Quaid|Liam Neeson|John Mahoney|Joe...</td>\n",
              "      <td>Peter Yates</td>\n",
              "      <td>77960.0</td>\n",
              "      <td>4.154098</td>\n",
              "    </tr>\n",
              "  </tbody>\n",
              "</table>\n",
              "</div>"
            ],
            "text/plain": [
              "                     title release_year  ... rating_count mean_rating\n",
              "0                    Se7en         1995  ...      91921.0    4.052926\n",
              "1                   Batman         1989  ...      91082.0    4.429015\n",
              "2  The Empire Strikes Back         1980  ...      87901.0    4.169975\n",
              "3          Drag Me to Hell         2009  ...      84078.0    4.152246\n",
              "4                  Suspect         1987  ...      77960.0    4.154098\n",
              "\n",
              "[5 rows x 21 columns]"
            ]
          },
          "metadata": {
            "tags": []
          },
          "execution_count": 3
        }
      ]
    },
    {
      "cell_type": "markdown",
      "metadata": {
        "id": "O7cyXup7Ar9i",
        "colab_type": "text"
      },
      "source": [
        "# **POPULARITY BASED RECOMMENDATION SYSTEM :**"
      ]
    },
    {
      "cell_type": "code",
      "metadata": {
        "id": "UmVOCDMfTOXG",
        "colab_type": "code",
        "colab": {
          "base_uri": "https://localhost:8080/",
          "height": 284
        },
        "outputId": "52816be9-e089-4b17-90df-96c17faa0355"
      },
      "source": [
        "movies_data[['vote_count','vote_average','rating_count','mean_rating','popularity']].describe()"
      ],
      "execution_count": 4,
      "outputs": [
        {
          "output_type": "execute_result",
          "data": {
            "text/html": [
              "<div>\n",
              "<style scoped>\n",
              "    .dataframe tbody tr th:only-of-type {\n",
              "        vertical-align: middle;\n",
              "    }\n",
              "\n",
              "    .dataframe tbody tr th {\n",
              "        vertical-align: top;\n",
              "    }\n",
              "\n",
              "    .dataframe thead th {\n",
              "        text-align: right;\n",
              "    }\n",
              "</style>\n",
              "<table border=\"1\" class=\"dataframe\">\n",
              "  <thead>\n",
              "    <tr style=\"text-align: right;\">\n",
              "      <th></th>\n",
              "      <th>vote_count</th>\n",
              "      <th>vote_average</th>\n",
              "      <th>rating_count</th>\n",
              "      <th>mean_rating</th>\n",
              "      <th>popularity</th>\n",
              "    </tr>\n",
              "  </thead>\n",
              "  <tbody>\n",
              "    <tr>\n",
              "      <th>count</th>\n",
              "      <td>45663.000000</td>\n",
              "      <td>45663.000000</td>\n",
              "      <td>45663.000000</td>\n",
              "      <td>45663.000000</td>\n",
              "      <td>45663.000000</td>\n",
              "    </tr>\n",
              "    <tr>\n",
              "      <th>mean</th>\n",
              "      <td>109.588179</td>\n",
              "      <td>5.617947</td>\n",
              "      <td>484.200666</td>\n",
              "      <td>0.771628</td>\n",
              "      <td>2.922354</td>\n",
              "    </tr>\n",
              "    <tr>\n",
              "      <th>std</th>\n",
              "      <td>490.228641</td>\n",
              "      <td>1.924399</td>\n",
              "      <td>2943.748802</td>\n",
              "      <td>1.389116</td>\n",
              "      <td>5.996711</td>\n",
              "    </tr>\n",
              "    <tr>\n",
              "      <th>min</th>\n",
              "      <td>0.000000</td>\n",
              "      <td>0.000000</td>\n",
              "      <td>0.000000</td>\n",
              "      <td>0.000000</td>\n",
              "      <td>0.000000</td>\n",
              "    </tr>\n",
              "    <tr>\n",
              "      <th>25%</th>\n",
              "      <td>3.000000</td>\n",
              "      <td>5.000000</td>\n",
              "      <td>0.000000</td>\n",
              "      <td>0.000000</td>\n",
              "      <td>0.386454</td>\n",
              "    </tr>\n",
              "    <tr>\n",
              "      <th>50%</th>\n",
              "      <td>10.000000</td>\n",
              "      <td>6.000000</td>\n",
              "      <td>0.000000</td>\n",
              "      <td>0.000000</td>\n",
              "      <td>1.129126</td>\n",
              "    </tr>\n",
              "    <tr>\n",
              "      <th>75%</th>\n",
              "      <td>34.000000</td>\n",
              "      <td>6.800000</td>\n",
              "      <td>0.000000</td>\n",
              "      <td>0.000000</td>\n",
              "      <td>3.685682</td>\n",
              "    </tr>\n",
              "    <tr>\n",
              "      <th>max</th>\n",
              "      <td>14075.000000</td>\n",
              "      <td>10.000000</td>\n",
              "      <td>91921.000000</td>\n",
              "      <td>5.000000</td>\n",
              "      <td>547.488298</td>\n",
              "    </tr>\n",
              "  </tbody>\n",
              "</table>\n",
              "</div>"
            ],
            "text/plain": [
              "         vote_count  vote_average  rating_count   mean_rating    popularity\n",
              "count  45663.000000  45663.000000  45663.000000  45663.000000  45663.000000\n",
              "mean     109.588179      5.617947    484.200666      0.771628      2.922354\n",
              "std      490.228641      1.924399   2943.748802      1.389116      5.996711\n",
              "min        0.000000      0.000000      0.000000      0.000000      0.000000\n",
              "25%        3.000000      5.000000      0.000000      0.000000      0.386454\n",
              "50%       10.000000      6.000000      0.000000      0.000000      1.129126\n",
              "75%       34.000000      6.800000      0.000000      0.000000      3.685682\n",
              "max    14075.000000     10.000000  91921.000000      5.000000    547.488298"
            ]
          },
          "metadata": {
            "tags": []
          },
          "execution_count": 4
        }
      ]
    },
    {
      "cell_type": "markdown",
      "metadata": {
        "id": "6Bg4rk09RaRs",
        "colab_type": "text"
      },
      "source": [
        "**WEIGHTED AVERAGE FOR EACH MOVIES AVERAGE RATINGS :**"
      ]
    },
    {
      "cell_type": "markdown",
      "metadata": {
        "id": "vyASuE9fGSea",
        "colab_type": "text"
      },
      "source": [
        "Weighted Ratings: \n",
        ">              W =   Rv + Cm\n",
        ">                   ---------\n",
        "                     v+m\n",
        "\n",
        "R= average rating for the movie as a number from 0 to 10\n",
        "\n",
        "v= number of votes for the movie\n",
        "\n",
        "m= minimum votes required to be listed in Top(here 2000)\n",
        "\n",
        "C=the mean vote across whole report\n"
      ]
    },
    {
      "cell_type": "code",
      "metadata": {
        "id": "QttoY9X0GNmJ",
        "colab_type": "code",
        "colab": {}
      },
      "source": [
        "R=movies_data['vote_average']\n",
        "v=movies_data['vote_count']\n",
        "C=movies_data['vote_average'].mean()\n",
        "m=2000"
      ],
      "execution_count": 5,
      "outputs": []
    },
    {
      "cell_type": "code",
      "metadata": {
        "id": "fWlX75ybVldx",
        "colab_type": "code",
        "colab": {
          "base_uri": "https://localhost:8080/",
          "height": 639
        },
        "outputId": "3676b2ad-a823-48c3-e274-6721a78861ed"
      },
      "source": [
        "movies_data['weighted_votes']=(R*v+C*m)/(v+m)\n",
        "movies_data[['title','weighted_votes']].sort_values('weighted_votes',ascending=False).head(20)"
      ],
      "execution_count": 6,
      "outputs": [
        {
          "output_type": "execute_result",
          "data": {
            "text/html": [
              "<div>\n",
              "<style scoped>\n",
              "    .dataframe tbody tr th:only-of-type {\n",
              "        vertical-align: middle;\n",
              "    }\n",
              "\n",
              "    .dataframe tbody tr th {\n",
              "        vertical-align: top;\n",
              "    }\n",
              "\n",
              "    .dataframe thead th {\n",
              "        text-align: right;\n",
              "    }\n",
              "</style>\n",
              "<table border=\"1\" class=\"dataframe\">\n",
              "  <thead>\n",
              "    <tr style=\"text-align: right;\">\n",
              "      <th></th>\n",
              "      <th>title</th>\n",
              "      <th>weighted_votes</th>\n",
              "    </tr>\n",
              "  </thead>\n",
              "  <tbody>\n",
              "    <tr>\n",
              "      <th>67</th>\n",
              "      <td>The Shawshank Redemption</td>\n",
              "      <td>7.943512</td>\n",
              "    </tr>\n",
              "    <tr>\n",
              "      <th>1555</th>\n",
              "      <td>The Dark Knight</td>\n",
              "      <td>7.924073</td>\n",
              "    </tr>\n",
              "    <tr>\n",
              "      <th>2120</th>\n",
              "      <td>Fight Club</td>\n",
              "      <td>7.840666</td>\n",
              "    </tr>\n",
              "    <tr>\n",
              "      <th>2130</th>\n",
              "      <td>Pulp Fiction</td>\n",
              "      <td>7.797272</td>\n",
              "    </tr>\n",
              "    <tr>\n",
              "      <th>6075</th>\n",
              "      <td>Inception</td>\n",
              "      <td>7.791191</td>\n",
              "    </tr>\n",
              "    <tr>\n",
              "      <th>9040</th>\n",
              "      <td>The Godfather</td>\n",
              "      <td>7.781642</td>\n",
              "    </tr>\n",
              "    <tr>\n",
              "      <th>33564</th>\n",
              "      <td>Interstellar</td>\n",
              "      <td>7.723561</td>\n",
              "    </tr>\n",
              "    <tr>\n",
              "      <th>109</th>\n",
              "      <td>Forrest Gump</td>\n",
              "      <td>7.691071</td>\n",
              "    </tr>\n",
              "    <tr>\n",
              "      <th>2594</th>\n",
              "      <td>The Lord of the Rings: The Return of the King</td>\n",
              "      <td>7.614560</td>\n",
              "    </tr>\n",
              "    <tr>\n",
              "      <th>1942</th>\n",
              "      <td>The Lord of the Rings: The Fellowship of the Ring</td>\n",
              "      <td>7.562605</td>\n",
              "    </tr>\n",
              "    <tr>\n",
              "      <th>2</th>\n",
              "      <td>The Empire Strikes Back</td>\n",
              "      <td>7.554325</td>\n",
              "    </tr>\n",
              "    <tr>\n",
              "      <th>1497</th>\n",
              "      <td>Star Wars</td>\n",
              "      <td>7.534483</td>\n",
              "    </tr>\n",
              "    <tr>\n",
              "      <th>24</th>\n",
              "      <td>Guardians of the Galaxy</td>\n",
              "      <td>7.520101</td>\n",
              "    </tr>\n",
              "    <tr>\n",
              "      <th>5265</th>\n",
              "      <td>The Lord of the Rings: The Two Towers</td>\n",
              "      <td>7.505849</td>\n",
              "    </tr>\n",
              "    <tr>\n",
              "      <th>2266</th>\n",
              "      <td>The Intouchables</td>\n",
              "      <td>7.503090</td>\n",
              "    </tr>\n",
              "    <tr>\n",
              "      <th>985</th>\n",
              "      <td>The Matrix</td>\n",
              "      <td>7.488040</td>\n",
              "    </tr>\n",
              "    <tr>\n",
              "      <th>0</th>\n",
              "      <td>Se7en</td>\n",
              "      <td>7.472823</td>\n",
              "    </tr>\n",
              "    <tr>\n",
              "      <th>307</th>\n",
              "      <td>Schindler's List</td>\n",
              "      <td>7.466547</td>\n",
              "    </tr>\n",
              "    <tr>\n",
              "      <th>1597</th>\n",
              "      <td>Whiplash</td>\n",
              "      <td>7.458703</td>\n",
              "    </tr>\n",
              "    <tr>\n",
              "      <th>1063</th>\n",
              "      <td>Django Unchained</td>\n",
              "      <td>7.445108</td>\n",
              "    </tr>\n",
              "  </tbody>\n",
              "</table>\n",
              "</div>"
            ],
            "text/plain": [
              "                                                   title  weighted_votes\n",
              "67                              The Shawshank Redemption        7.943512\n",
              "1555                                     The Dark Knight        7.924073\n",
              "2120                                          Fight Club        7.840666\n",
              "2130                                        Pulp Fiction        7.797272\n",
              "6075                                           Inception        7.791191\n",
              "9040                                       The Godfather        7.781642\n",
              "33564                                       Interstellar        7.723561\n",
              "109                                         Forrest Gump        7.691071\n",
              "2594       The Lord of the Rings: The Return of the King        7.614560\n",
              "1942   The Lord of the Rings: The Fellowship of the Ring        7.562605\n",
              "2                                The Empire Strikes Back        7.554325\n",
              "1497                                           Star Wars        7.534483\n",
              "24                               Guardians of the Galaxy        7.520101\n",
              "5265               The Lord of the Rings: The Two Towers        7.505849\n",
              "2266                                    The Intouchables        7.503090\n",
              "985                                           The Matrix        7.488040\n",
              "0                                                  Se7en        7.472823\n",
              "307                                     Schindler's List        7.466547\n",
              "1597                                            Whiplash        7.458703\n",
              "1063                                    Django Unchained        7.445108"
            ]
          },
          "metadata": {
            "tags": []
          },
          "execution_count": 6
        }
      ]
    },
    {
      "cell_type": "code",
      "metadata": {
        "id": "7k6aDmB6_gx5",
        "colab_type": "code",
        "colab": {
          "base_uri": "https://localhost:8080/",
          "height": 34
        },
        "outputId": "937ab45f-ee66-4cfa-edc8-e9ad2179c68b"
      },
      "source": [
        "R1=movies_data['mean_rating']\n",
        "v1=movies_data['rating_count']\n",
        "C1=movies_data['mean_rating'].mean()\n",
        "m1=movies_data['rating_count'].quantile(0.95)\n",
        "m1"
      ],
      "execution_count": 7,
      "outputs": [
        {
          "output_type": "execute_result",
          "data": {
            "text/plain": [
              "1643.9000000000015"
            ]
          },
          "metadata": {
            "tags": []
          },
          "execution_count": 7
        }
      ]
    },
    {
      "cell_type": "code",
      "metadata": {
        "id": "_UVJlVGD_wF4",
        "colab_type": "code",
        "colab": {
          "base_uri": "https://localhost:8080/",
          "height": 639
        },
        "outputId": "abf8b3b2-f8b2-44c3-8c7b-416864c8650a"
      },
      "source": [
        "movies_data['weighted_ratings']=(R1*v1+C1*m1)/(v1+m1)\n",
        "movies_data[['title','weighted_ratings']].sort_values('weighted_ratings',ascending=False).head(20)"
      ],
      "execution_count": 8,
      "outputs": [
        {
          "output_type": "execute_result",
          "data": {
            "text/html": [
              "<div>\n",
              "<style scoped>\n",
              "    .dataframe tbody tr th:only-of-type {\n",
              "        vertical-align: middle;\n",
              "    }\n",
              "\n",
              "    .dataframe tbody tr th {\n",
              "        vertical-align: top;\n",
              "    }\n",
              "\n",
              "    .dataframe thead th {\n",
              "        text-align: right;\n",
              "    }\n",
              "</style>\n",
              "<table border=\"1\" class=\"dataframe\">\n",
              "  <thead>\n",
              "    <tr style=\"text-align: right;\">\n",
              "      <th></th>\n",
              "      <th>title</th>\n",
              "      <th>weighted_ratings</th>\n",
              "    </tr>\n",
              "  </thead>\n",
              "  <tbody>\n",
              "    <tr>\n",
              "      <th>1</th>\n",
              "      <td>Batman</td>\n",
              "      <td>4.364174</td>\n",
              "    </tr>\n",
              "    <tr>\n",
              "      <th>19</th>\n",
              "      <td>Three Days of the Condor</td>\n",
              "      <td>4.239907</td>\n",
              "    </tr>\n",
              "    <tr>\n",
              "      <th>15</th>\n",
              "      <td>Maze Runner: The Scorch Trials</td>\n",
              "      <td>4.204964</td>\n",
              "    </tr>\n",
              "    <tr>\n",
              "      <th>7</th>\n",
              "      <td>Dracula Untold</td>\n",
              "      <td>4.183633</td>\n",
              "    </tr>\n",
              "    <tr>\n",
              "      <th>13</th>\n",
              "      <td>Far from Heaven</td>\n",
              "      <td>4.138506</td>\n",
              "    </tr>\n",
              "    <tr>\n",
              "      <th>63</th>\n",
              "      <td>The Truman Show</td>\n",
              "      <td>4.113689</td>\n",
              "    </tr>\n",
              "    <tr>\n",
              "      <th>2</th>\n",
              "      <td>The Empire Strikes Back</td>\n",
              "      <td>4.107587</td>\n",
              "    </tr>\n",
              "    <tr>\n",
              "      <th>47</th>\n",
              "      <td>Street Kings</td>\n",
              "      <td>4.092986</td>\n",
              "    </tr>\n",
              "    <tr>\n",
              "      <th>3</th>\n",
              "      <td>Drag Me to Hell</td>\n",
              "      <td>4.087415</td>\n",
              "    </tr>\n",
              "    <tr>\n",
              "      <th>4</th>\n",
              "      <td>Suspect</td>\n",
              "      <td>4.084247</td>\n",
              "    </tr>\n",
              "    <tr>\n",
              "      <th>5</th>\n",
              "      <td>V for Vendetta</td>\n",
              "      <td>4.062091</td>\n",
              "    </tr>\n",
              "    <tr>\n",
              "      <th>12</th>\n",
              "      <td>Armageddon</td>\n",
              "      <td>4.055016</td>\n",
              "    </tr>\n",
              "    <tr>\n",
              "      <th>14</th>\n",
              "      <td>Blazing Saddles</td>\n",
              "      <td>4.044482</td>\n",
              "    </tr>\n",
              "    <tr>\n",
              "      <th>16</th>\n",
              "      <td>Mortdecai</td>\n",
              "      <td>4.037933</td>\n",
              "    </tr>\n",
              "    <tr>\n",
              "      <th>100</th>\n",
              "      <td>Meet the Parents</td>\n",
              "      <td>4.035784</td>\n",
              "    </tr>\n",
              "    <tr>\n",
              "      <th>44</th>\n",
              "      <td>Gantz:O</td>\n",
              "      <td>4.025664</td>\n",
              "    </tr>\n",
              "    <tr>\n",
              "      <th>113</th>\n",
              "      <td>Spring Breakers</td>\n",
              "      <td>4.023973</td>\n",
              "    </tr>\n",
              "    <tr>\n",
              "      <th>75</th>\n",
              "      <td>Lethal Weapon</td>\n",
              "      <td>4.021116</td>\n",
              "    </tr>\n",
              "    <tr>\n",
              "      <th>50</th>\n",
              "      <td>Philadelphia</td>\n",
              "      <td>4.018497</td>\n",
              "    </tr>\n",
              "    <tr>\n",
              "      <th>20</th>\n",
              "      <td>Black Water</td>\n",
              "      <td>4.010473</td>\n",
              "    </tr>\n",
              "  </tbody>\n",
              "</table>\n",
              "</div>"
            ],
            "text/plain": [
              "                              title  weighted_ratings\n",
              "1                            Batman          4.364174\n",
              "19         Three Days of the Condor          4.239907\n",
              "15   Maze Runner: The Scorch Trials          4.204964\n",
              "7                    Dracula Untold          4.183633\n",
              "13                  Far from Heaven          4.138506\n",
              "63                  The Truman Show          4.113689\n",
              "2           The Empire Strikes Back          4.107587\n",
              "47                     Street Kings          4.092986\n",
              "3                   Drag Me to Hell          4.087415\n",
              "4                           Suspect          4.084247\n",
              "5                    V for Vendetta          4.062091\n",
              "12                       Armageddon          4.055016\n",
              "14                  Blazing Saddles          4.044482\n",
              "16                        Mortdecai          4.037933\n",
              "100                Meet the Parents          4.035784\n",
              "44                          Gantz:O          4.025664\n",
              "113                 Spring Breakers          4.023973\n",
              "75                    Lethal Weapon          4.021116\n",
              "50                     Philadelphia          4.018497\n",
              "20                      Black Water          4.010473"
            ]
          },
          "metadata": {
            "tags": []
          },
          "execution_count": 8
        }
      ]
    },
    {
      "cell_type": "markdown",
      "metadata": {
        "id": "vK-7k_U-DzA-",
        "colab_type": "text"
      },
      "source": [
        "**ASSIGNING SCORES TO THE MOVIES BY GIVING 45% IMPORTANCE TO WEIGHTED AVERAGE OF VOTES + 45% IMPORTANCE TO POPULARITY + 10% TO WEIGHTED AVERAGE OF RATINGS**"
      ]
    },
    {
      "cell_type": "code",
      "metadata": {
        "id": "IH1d9-OoHjax",
        "colab_type": "code",
        "colab": {
          "base_uri": "https://localhost:8080/",
          "height": 343
        },
        "outputId": "8e515767-f3f7-4ba7-a4c4-962b25472320"
      },
      "source": [
        "scaler=MinMaxScaler()\n",
        "movies_data[['weighted_votes','weighted_ratings','popularity']]=scaler.fit_transform(movies_data[['weighted_votes','weighted_ratings','popularity']])\n",
        "movies_data['score']=movies_data['weighted_votes']*0.45 + movies_data['weighted_ratings']*0.1+movies_data['popularity']*0.45\n",
        "movies_data[['title','weighted_votes','weighted_ratings','popularity','score']].sort_values('score',ascending=False).head(10)"
      ],
      "execution_count": 9,
      "outputs": [
        {
          "output_type": "execute_result",
          "data": {
            "text/html": [
              "<div>\n",
              "<style scoped>\n",
              "    .dataframe tbody tr th:only-of-type {\n",
              "        vertical-align: middle;\n",
              "    }\n",
              "\n",
              "    .dataframe tbody tr th {\n",
              "        vertical-align: top;\n",
              "    }\n",
              "\n",
              "    .dataframe thead th {\n",
              "        text-align: right;\n",
              "    }\n",
              "</style>\n",
              "<table border=\"1\" class=\"dataframe\">\n",
              "  <thead>\n",
              "    <tr style=\"text-align: right;\">\n",
              "      <th></th>\n",
              "      <th>title</th>\n",
              "      <th>weighted_votes</th>\n",
              "      <th>weighted_ratings</th>\n",
              "      <th>popularity</th>\n",
              "      <th>score</th>\n",
              "    </tr>\n",
              "  </thead>\n",
              "  <tbody>\n",
              "    <tr>\n",
              "      <th>27517</th>\n",
              "      <td>Minions</td>\n",
              "      <td>0.404024</td>\n",
              "      <td>0.000274</td>\n",
              "      <td>1.000000</td>\n",
              "      <td>0.631838</td>\n",
              "    </tr>\n",
              "    <tr>\n",
              "      <th>9</th>\n",
              "      <td>Wonder Woman</td>\n",
              "      <td>0.599344</td>\n",
              "      <td>0.846461</td>\n",
              "      <td>0.537613</td>\n",
              "      <td>0.596277</td>\n",
              "    </tr>\n",
              "    <tr>\n",
              "      <th>1555</th>\n",
              "      <td>The Dark Knight</td>\n",
              "      <td>0.993477</td>\n",
              "      <td>0.356847</td>\n",
              "      <td>0.224968</td>\n",
              "      <td>0.583985</td>\n",
              "    </tr>\n",
              "    <tr>\n",
              "      <th>2130</th>\n",
              "      <td>Pulp Fiction</td>\n",
              "      <td>0.950925</td>\n",
              "      <td>0.375564</td>\n",
              "      <td>0.257449</td>\n",
              "      <td>0.581325</td>\n",
              "    </tr>\n",
              "    <tr>\n",
              "      <th>67</th>\n",
              "      <td>The Shawshank Redemption</td>\n",
              "      <td>1.000000</td>\n",
              "      <td>0.757741</td>\n",
              "      <td>0.094332</td>\n",
              "      <td>0.568223</td>\n",
              "    </tr>\n",
              "    <tr>\n",
              "      <th>1609</th>\n",
              "      <td>Big Hero 6</td>\n",
              "      <td>0.775159</td>\n",
              "      <td>0.377674</td>\n",
              "      <td>0.390602</td>\n",
              "      <td>0.562360</td>\n",
              "    </tr>\n",
              "    <tr>\n",
              "      <th>116</th>\n",
              "      <td>Guardians of the Galaxy Vol. 2</td>\n",
              "      <td>0.690749</td>\n",
              "      <td>0.807078</td>\n",
              "      <td>0.338511</td>\n",
              "      <td>0.543875</td>\n",
              "    </tr>\n",
              "    <tr>\n",
              "      <th>328</th>\n",
              "      <td>Deadpool</td>\n",
              "      <td>0.728643</td>\n",
              "      <td>0.580056</td>\n",
              "      <td>0.343132</td>\n",
              "      <td>0.540304</td>\n",
              "    </tr>\n",
              "    <tr>\n",
              "      <th>131</th>\n",
              "      <td>Beauty and the Beast</td>\n",
              "      <td>0.510901</td>\n",
              "      <td>0.645611</td>\n",
              "      <td>0.524675</td>\n",
              "      <td>0.530570</td>\n",
              "    </tr>\n",
              "    <tr>\n",
              "      <th>1218</th>\n",
              "      <td>Gone Girl</td>\n",
              "      <td>0.794494</td>\n",
              "      <td>0.454052</td>\n",
              "      <td>0.282748</td>\n",
              "      <td>0.530164</td>\n",
              "    </tr>\n",
              "  </tbody>\n",
              "</table>\n",
              "</div>"
            ],
            "text/plain": [
              "                                title  weighted_votes  ...  popularity     score\n",
              "27517                         Minions        0.404024  ...    1.000000  0.631838\n",
              "9                        Wonder Woman        0.599344  ...    0.537613  0.596277\n",
              "1555                  The Dark Knight        0.993477  ...    0.224968  0.583985\n",
              "2130                     Pulp Fiction        0.950925  ...    0.257449  0.581325\n",
              "67           The Shawshank Redemption        1.000000  ...    0.094332  0.568223\n",
              "1609                       Big Hero 6        0.775159  ...    0.390602  0.562360\n",
              "116    Guardians of the Galaxy Vol. 2        0.690749  ...    0.338511  0.543875\n",
              "328                          Deadpool        0.728643  ...    0.343132  0.540304\n",
              "131              Beauty and the Beast        0.510901  ...    0.524675  0.530570\n",
              "1218                        Gone Girl        0.794494  ...    0.282748  0.530164\n",
              "\n",
              "[10 rows x 5 columns]"
            ]
          },
          "metadata": {
            "tags": []
          },
          "execution_count": 9
        }
      ]
    },
    {
      "cell_type": "markdown",
      "metadata": {
        "id": "A8WhluFOUWK3",
        "colab_type": "text"
      },
      "source": [
        "**ONLY MOVIES HAVING SCORE ABOVE A THRESHOLD VALUE CONSIDERED POPULAR :**"
      ]
    },
    {
      "cell_type": "code",
      "metadata": {
        "id": "iTtTDUXsQSC8",
        "colab_type": "code",
        "colab": {
          "base_uri": "https://localhost:8080/",
          "height": 168
        },
        "outputId": "d07a50f9-0125-4c4b-c419-b126d75ea595"
      },
      "source": [
        "movies_data.score.describe()"
      ],
      "execution_count": 10,
      "outputs": [
        {
          "output_type": "execute_result",
          "data": {
            "text/plain": [
              "count    45663.000000\n",
              "mean         0.110041\n",
              "std          0.030936\n",
              "min          0.030931\n",
              "25%          0.099160\n",
              "50%          0.100148\n",
              "75%          0.104319\n",
              "max          0.631838\n",
              "Name: score, dtype: float64"
            ]
          },
          "metadata": {
            "tags": []
          },
          "execution_count": 10
        }
      ]
    },
    {
      "cell_type": "code",
      "metadata": {
        "id": "4IQTU_QRTytd",
        "colab_type": "code",
        "colab": {
          "base_uri": "https://localhost:8080/",
          "height": 34
        },
        "outputId": "8a63ab14-44e4-4c90-baff-4feed1abe740"
      },
      "source": [
        "movies_data[movies_data['score']>=0.0992].movieId.count()"
      ],
      "execution_count": 11,
      "outputs": [
        {
          "output_type": "execute_result",
          "data": {
            "text/plain": [
              "33593"
            ]
          },
          "metadata": {
            "tags": []
          },
          "execution_count": 11
        }
      ]
    },
    {
      "cell_type": "code",
      "metadata": {
        "id": "jmSDwLUVELrN",
        "colab_type": "code",
        "colab": {
          "base_uri": "https://localhost:8080/",
          "height": 476
        },
        "outputId": "069568ac-ca71-4b8f-995b-5e1ce9f9805a"
      },
      "source": [
        "popular_movies=movies_data[movies_data['score']>=0.0992]\n",
        "popular_movies=popular_movies[['movieId','title','budget','profit','score','release_year','release_day','genres','production_countries','production_companies','original_language','runtime','content','status','cast','director']].sort_values('score',ascending=False).reset_index(drop=True)\n",
        "plt.figure(figsize=(30,10))\n",
        "axis=sns.barplot(x=popular_movies['score'].head(20),y=popular_movies['title'].head(20))\n",
        "plt.title('Top 20 Most popular movies: ',weight='bold')\n",
        "plt.xlabel('score',weight='bold')\n",
        "plt.ylabel('Movies',weight='bold')\n",
        "plt.savefig('PopularMovies.jpg')"
      ],
      "execution_count": 12,
      "outputs": [
        {
          "output_type": "display_data",
          "data": {
            "image/png": "[encoded data removed]",
            "text/plain": [
              "<Figure size 2160x720 with 1 Axes>"
            ]
          },
          "metadata": {
            "tags": [],
            "needs_background": "light"
          }
        }
      ]
    },
    {
      "cell_type": "code",
      "metadata": {
        "id": "Fu7TG_LgVq1y",
        "colab_type": "code",
        "colab": {
          "base_uri": "https://localhost:8080/",
          "height": 34
        },
        "outputId": "333f95bd-f3b8-4a38-e832-bceb41df7bb4"
      },
      "source": [
        "popular_movies.shape"
      ],
      "execution_count": 13,
      "outputs": [
        {
          "output_type": "execute_result",
          "data": {
            "text/plain": [
              "(33593, 16)"
            ]
          },
          "metadata": {
            "tags": []
          },
          "execution_count": 13
        }
      ]
    },
    {
      "cell_type": "code",
      "metadata": {
        "id": "O9fkQtS7MFw_",
        "colab_type": "code",
        "colab": {
          "base_uri": "https://localhost:8080/",
          "height": 568
        },
        "outputId": "a50a9a44-f53f-48b5-f696-b118a09b667e"
      },
      "source": [
        "popular_movies.head()"
      ],
      "execution_count": 14,
      "outputs": [
        {
          "output_type": "execute_result",
          "data": {
            "text/html": [
              "<div>\n",
              "<style scoped>\n",
              "    .dataframe tbody tr th:only-of-type {\n",
              "        vertical-align: middle;\n",
              "    }\n",
              "\n",
              "    .dataframe tbody tr th {\n",
              "        vertical-align: top;\n",
              "    }\n",
              "\n",
              "    .dataframe thead th {\n",
              "        text-align: right;\n",
              "    }\n",
              "</style>\n",
              "<table border=\"1\" class=\"dataframe\">\n",
              "  <thead>\n",
              "    <tr style=\"text-align: right;\">\n",
              "      <th></th>\n",
              "      <th>movieId</th>\n",
              "      <th>title</th>\n",
              "      <th>budget</th>\n",
              "      <th>profit</th>\n",
              "      <th>score</th>\n",
              "      <th>release_year</th>\n",
              "      <th>release_day</th>\n",
              "      <th>genres</th>\n",
              "      <th>production_countries</th>\n",
              "      <th>production_companies</th>\n",
              "      <th>original_language</th>\n",
              "      <th>runtime</th>\n",
              "      <th>content</th>\n",
              "      <th>status</th>\n",
              "      <th>cast</th>\n",
              "      <th>director</th>\n",
              "    </tr>\n",
              "  </thead>\n",
              "  <tbody>\n",
              "    <tr>\n",
              "      <th>0</th>\n",
              "      <td>135887</td>\n",
              "      <td>Minions</td>\n",
              "      <td>74000000</td>\n",
              "      <td>1.082731e+09</td>\n",
              "      <td>0.631838</td>\n",
              "      <td>2015</td>\n",
              "      <td>Wednesday</td>\n",
              "      <td>Family|Animation|Adventure|Comedy</td>\n",
              "      <td>United States of America</td>\n",
              "      <td>Universal Pictures|Illumination Entertainment</td>\n",
              "      <td>English</td>\n",
              "      <td>91.0</td>\n",
              "      <td>Minions Stuart, Kevin and Bob are recruited by...</td>\n",
              "      <td>Released</td>\n",
              "      <td>Sandra Bullock|Jon Hamm|Michael Keaton|Allison...</td>\n",
              "      <td>Kyle Balda</td>\n",
              "    </tr>\n",
              "    <tr>\n",
              "      <th>1</th>\n",
              "      <td>143355</td>\n",
              "      <td>Wonder Woman</td>\n",
              "      <td>149000000</td>\n",
              "      <td>6.715804e+08</td>\n",
              "      <td>0.596277</td>\n",
              "      <td>2017</td>\n",
              "      <td>Tuesday</td>\n",
              "      <td>Action|Adventure|Fantasy</td>\n",
              "      <td>United States of America</td>\n",
              "      <td>Dune Entertainment|Atlas Entertainment|Warner ...</td>\n",
              "      <td>English</td>\n",
              "      <td>141.0</td>\n",
              "      <td>An Amazon princess comes to the world of Man t...</td>\n",
              "      <td>Released</td>\n",
              "      <td>Gal Gadot|Chris Pine|Robin Wright|Danny Huston...</td>\n",
              "      <td>Patty Jenkins</td>\n",
              "    </tr>\n",
              "    <tr>\n",
              "      <th>2</th>\n",
              "      <td>58559</td>\n",
              "      <td>The Dark Knight</td>\n",
              "      <td>185000000</td>\n",
              "      <td>8.195584e+08</td>\n",
              "      <td>0.583985</td>\n",
              "      <td>2008</td>\n",
              "      <td>Wednesday</td>\n",
              "      <td>Drama|Action|Crime|Thriller</td>\n",
              "      <td>United Kingdom|United States of America</td>\n",
              "      <td>DC Comics|Legendary Pictures|Warner Bros.|DC E...</td>\n",
              "      <td>English</td>\n",
              "      <td>152.0</td>\n",
              "      <td>Batman raises the stakes in his war on crime. ...</td>\n",
              "      <td>Released</td>\n",
              "      <td>Christian Bale|Michael Caine|Heath Ledger|Aaro...</td>\n",
              "      <td>Christopher Nolan</td>\n",
              "    </tr>\n",
              "    <tr>\n",
              "      <th>3</th>\n",
              "      <td>296</td>\n",
              "      <td>Pulp Fiction</td>\n",
              "      <td>8000000</td>\n",
              "      <td>2.059288e+08</td>\n",
              "      <td>0.581325</td>\n",
              "      <td>1994</td>\n",
              "      <td>Saturday</td>\n",
              "      <td>Thriller|Crime</td>\n",
              "      <td>United States of America</td>\n",
              "      <td>Miramax Films|A Band Apart|Jersey Films</td>\n",
              "      <td>English</td>\n",
              "      <td>154.0</td>\n",
              "      <td>A burger-loving hit man, his philosophical par...</td>\n",
              "      <td>Released</td>\n",
              "      <td>John Travolta|Samuel L. Jackson|Uma Thurman|Br...</td>\n",
              "      <td>Quentin Tarantino</td>\n",
              "    </tr>\n",
              "    <tr>\n",
              "      <th>4</th>\n",
              "      <td>318</td>\n",
              "      <td>The Shawshank Redemption</td>\n",
              "      <td>25000000</td>\n",
              "      <td>3.341469e+06</td>\n",
              "      <td>0.568223</td>\n",
              "      <td>1994</td>\n",
              "      <td>Friday</td>\n",
              "      <td>Drama|Crime</td>\n",
              "      <td>United States of America</td>\n",
              "      <td>Castle Rock Entertainment|Warner Bros.</td>\n",
              "      <td>English</td>\n",
              "      <td>142.0</td>\n",
              "      <td>Framed in the 1940s for the double murder of h...</td>\n",
              "      <td>Released</td>\n",
              "      <td>Tim Robbins|Morgan Freeman|Bob Gunton|Clancy B...</td>\n",
              "      <td>Frank Darabont</td>\n",
              "    </tr>\n",
              "  </tbody>\n",
              "</table>\n",
              "</div>"
            ],
            "text/plain": [
              "   movieId  ...           director\n",
              "0   135887  ...         Kyle Balda\n",
              "1   143355  ...      Patty Jenkins\n",
              "2    58559  ...  Christopher Nolan\n",
              "3      296  ...  Quentin Tarantino\n",
              "4      318  ...     Frank Darabont\n",
              "\n",
              "[5 rows x 16 columns]"
            ]
          },
          "metadata": {
            "tags": []
          },
          "execution_count": 14
        }
      ]
    },
    {
      "cell_type": "markdown",
      "metadata": {
        "id": "2gbLnRHagnIi",
        "colab_type": "text"
      },
      "source": [
        "**IMPORTING USER_RATINGS DATASET:**"
      ]
    },
    {
      "cell_type": "code",
      "metadata": {
        "id": "Xh_Wx1odYYSe",
        "colab_type": "code",
        "colab": {
          "base_uri": "https://localhost:8080/",
          "height": 195
        },
        "outputId": "03f18afc-0d5c-4200-c5a0-0d57e22351d0"
      },
      "source": [
        "#https://drive.google.com/file/d/1nVaAmYBm8xnDR8ynF9eX0qY06_c5ZzqG/view?usp=sharing\n",
        "id='1nVaAmYBm8xnDR8ynF9eX0qY06_c5ZzqG'\n",
        "downloaded = drive.CreateFile({'id':id}) \n",
        "downloaded.GetContentFile('RevisedRatings.csv')  \n",
        "user_ratings = pd.read_csv('RevisedRatings.csv',engine='python',index_col=0)\n",
        "user_ratings.head()"
      ],
      "execution_count": 15,
      "outputs": [
        {
          "output_type": "execute_result",
          "data": {
            "text/html": [
              "<div>\n",
              "<style scoped>\n",
              "    .dataframe tbody tr th:only-of-type {\n",
              "        vertical-align: middle;\n",
              "    }\n",
              "\n",
              "    .dataframe tbody tr th {\n",
              "        vertical-align: top;\n",
              "    }\n",
              "\n",
              "    .dataframe thead th {\n",
              "        text-align: right;\n",
              "    }\n",
              "</style>\n",
              "<table border=\"1\" class=\"dataframe\">\n",
              "  <thead>\n",
              "    <tr style=\"text-align: right;\">\n",
              "      <th></th>\n",
              "      <th>userId</th>\n",
              "      <th>movieId</th>\n",
              "      <th>rating</th>\n",
              "    </tr>\n",
              "  </thead>\n",
              "  <tbody>\n",
              "    <tr>\n",
              "      <th>0</th>\n",
              "      <td>1</td>\n",
              "      <td>110</td>\n",
              "      <td>1.0</td>\n",
              "    </tr>\n",
              "    <tr>\n",
              "      <th>1</th>\n",
              "      <td>1</td>\n",
              "      <td>147</td>\n",
              "      <td>4.5</td>\n",
              "    </tr>\n",
              "    <tr>\n",
              "      <th>2</th>\n",
              "      <td>1</td>\n",
              "      <td>858</td>\n",
              "      <td>5.0</td>\n",
              "    </tr>\n",
              "    <tr>\n",
              "      <th>3</th>\n",
              "      <td>1</td>\n",
              "      <td>1221</td>\n",
              "      <td>5.0</td>\n",
              "    </tr>\n",
              "    <tr>\n",
              "      <th>4</th>\n",
              "      <td>1</td>\n",
              "      <td>1246</td>\n",
              "      <td>5.0</td>\n",
              "    </tr>\n",
              "  </tbody>\n",
              "</table>\n",
              "</div>"
            ],
            "text/plain": [
              "   userId  movieId  rating\n",
              "0       1      110     1.0\n",
              "1       1      147     4.5\n",
              "2       1      858     5.0\n",
              "3       1     1221     5.0\n",
              "4       1     1246     5.0"
            ]
          },
          "metadata": {
            "tags": []
          },
          "execution_count": 15
        }
      ]
    },
    {
      "cell_type": "markdown",
      "metadata": {
        "id": "glx9PxNPgytu",
        "colab_type": "text"
      },
      "source": [
        "**FILTERING USERS BY THE NUMBER OF RATINGS THEY GAVE:**Users who gave less than 60 ratings are discarded."
      ]
    },
    {
      "cell_type": "code",
      "metadata": {
        "id": "LNVjuGmbdtYw",
        "colab_type": "code",
        "colab": {
          "base_uri": "https://localhost:8080/",
          "height": 34
        },
        "outputId": "52c7907b-f1e3-4dd0-be9e-556ac6a5be6e"
      },
      "source": [
        "user_numberOfRatings=pd.DataFrame(user_ratings.groupby('userId')['rating'].count()).rename(columns={'rating':'count_rating'})\n",
        "user_numberOfRatings=user_numberOfRatings[user_numberOfRatings['count_rating']>50]\n",
        "len(user_numberOfRatings)"
      ],
      "execution_count": 16,
      "outputs": [
        {
          "output_type": "execute_result",
          "data": {
            "text/plain": [
              "102379"
            ]
          },
          "metadata": {
            "tags": []
          },
          "execution_count": 16
        }
      ]
    },
    {
      "cell_type": "code",
      "metadata": {
        "id": "fuoDuqaekfH-",
        "colab_type": "code",
        "colab": {
          "base_uri": "https://localhost:8080/",
          "height": 34
        },
        "outputId": "f1c115c1-966b-4b98-d1bd-c10eeda75921"
      },
      "source": [
        "user_ratings.shape"
      ],
      "execution_count": 17,
      "outputs": [
        {
          "output_type": "execute_result",
          "data": {
            "text/plain": [
              "(26024289, 3)"
            ]
          },
          "metadata": {
            "tags": []
          },
          "execution_count": 17
        }
      ]
    },
    {
      "cell_type": "code",
      "metadata": {
        "id": "RbVq6WI_jjGJ",
        "colab_type": "code",
        "colab": {
          "base_uri": "https://localhost:8080/",
          "height": 34
        },
        "outputId": "ebe89324-9080-415a-e6d4-b2a2ee90e9dd"
      },
      "source": [
        "users_movies=pd.merge(user_ratings,popular_movies[['movieId','title']],how='inner',on='movieId')\n",
        "selectedusers=user_numberOfRatings.index.values.tolist()\n",
        "final_ratings=users_movies.query('userId in @selectedusers')\n",
        "final_ratings.shape"
      ],
      "execution_count": 18,
      "outputs": [
        {
          "output_type": "execute_result",
          "data": {
            "text/plain": [
              "(22332746, 4)"
            ]
          },
          "metadata": {
            "tags": []
          },
          "execution_count": 18
        }
      ]
    },
    {
      "cell_type": "code",
      "metadata": {
        "id": "b4NB_kKmbC0S",
        "colab_type": "code",
        "colab": {
          "base_uri": "https://localhost:8080/",
          "height": 195
        },
        "outputId": "c21995ee-9fbd-40d3-a785-f7c35df35fd5"
      },
      "source": [
        "final_ratings.head()"
      ],
      "execution_count": 19,
      "outputs": [
        {
          "output_type": "execute_result",
          "data": {
            "text/html": [
              "<div>\n",
              "<style scoped>\n",
              "    .dataframe tbody tr th:only-of-type {\n",
              "        vertical-align: middle;\n",
              "    }\n",
              "\n",
              "    .dataframe tbody tr th {\n",
              "        vertical-align: top;\n",
              "    }\n",
              "\n",
              "    .dataframe thead th {\n",
              "        text-align: right;\n",
              "    }\n",
              "</style>\n",
              "<table border=\"1\" class=\"dataframe\">\n",
              "  <thead>\n",
              "    <tr style=\"text-align: right;\">\n",
              "      <th></th>\n",
              "      <th>userId</th>\n",
              "      <th>movieId</th>\n",
              "      <th>rating</th>\n",
              "      <th>title</th>\n",
              "    </tr>\n",
              "  </thead>\n",
              "  <tbody>\n",
              "    <tr>\n",
              "      <th>1</th>\n",
              "      <td>11</td>\n",
              "      <td>110</td>\n",
              "      <td>3.5</td>\n",
              "      <td>Braveheart</td>\n",
              "    </tr>\n",
              "    <tr>\n",
              "      <th>3</th>\n",
              "      <td>24</td>\n",
              "      <td>110</td>\n",
              "      <td>5.0</td>\n",
              "      <td>Braveheart</td>\n",
              "    </tr>\n",
              "    <tr>\n",
              "      <th>4</th>\n",
              "      <td>29</td>\n",
              "      <td>110</td>\n",
              "      <td>3.0</td>\n",
              "      <td>Braveheart</td>\n",
              "    </tr>\n",
              "    <tr>\n",
              "      <th>5</th>\n",
              "      <td>30</td>\n",
              "      <td>110</td>\n",
              "      <td>5.0</td>\n",
              "      <td>Braveheart</td>\n",
              "    </tr>\n",
              "    <tr>\n",
              "      <th>7</th>\n",
              "      <td>34</td>\n",
              "      <td>110</td>\n",
              "      <td>5.0</td>\n",
              "      <td>Braveheart</td>\n",
              "    </tr>\n",
              "  </tbody>\n",
              "</table>\n",
              "</div>"
            ],
            "text/plain": [
              "   userId  movieId  rating       title\n",
              "1      11      110     3.5  Braveheart\n",
              "3      24      110     5.0  Braveheart\n",
              "4      29      110     3.0  Braveheart\n",
              "5      30      110     5.0  Braveheart\n",
              "7      34      110     5.0  Braveheart"
            ]
          },
          "metadata": {
            "tags": []
          },
          "execution_count": 19
        }
      ]
    },
    {
      "cell_type": "markdown",
      "metadata": {
        "id": "55N0vDLXcYdG",
        "colab_type": "text"
      },
      "source": [
        "# **CONTENT - BASED RECOMMENDATION SYSTEM ON POPULAR MOVIES**"
      ]
    },
    {
      "cell_type": "code",
      "metadata": {
        "id": "tT8woCk5sUji",
        "colab_type": "code",
        "colab": {}
      },
      "source": [
        "popular_movies['keywords']=popular_movies['cast'].apply(str)+\" \"+popular_movies['production_companies'].apply(str)+\" \"+popular_movies['production_countries'].apply(str)+\" \"+popular_movies['content'].apply(str)+\" \"+popular_movies['genres'].apply(str)+\" \"+popular_movies['director'].apply(str)+\" \"+popular_movies['release_day'].apply(str)+\" \"+popular_movies['release_year'].apply(str)+\" \"+popular_movies['budget'].apply(str)+\" \"+popular_movies['profit'].apply(str)+\" \"+popular_movies['score'].apply(str)+\" \"+popular_movies['runtime'].apply(str)+\" \"+popular_movies['status'].apply(str)+\" \"+popular_movies['original_language'].apply(str)\n",
        "popular_movies['important_words']=\"\"\n",
        "for index,row in popular_movies.iterrows():\n",
        "  keywords=row['keywords']\n",
        "  r=Rake()\n",
        "  r.extract_keywords_from_text(keywords)\n",
        "  keywords_scores=r.get_word_degrees()\n",
        "  popular_movies.at[index,'important_words']=list(keywords_scores.keys())\n"
      ],
      "execution_count": 20,
      "outputs": []
    },
    {
      "cell_type": "code",
      "metadata": {
        "id": "7R5CHnMTSngB",
        "colab_type": "code",
        "colab": {
          "base_uri": "https://localhost:8080/",
          "height": 568
        },
        "outputId": "1d8f71ad-d11d-43f8-b669-ecde97dd884a"
      },
      "source": [
        "popular_movies['important_words']=[','.join(map(str,word)) for word in popular_movies['important_words']]\n",
        "popular_movies.head()"
      ],
      "execution_count": 21,
      "outputs": [
        {
          "output_type": "execute_result",
          "data": {
            "text/html": [
              "<div>\n",
              "<style scoped>\n",
              "    .dataframe tbody tr th:only-of-type {\n",
              "        vertical-align: middle;\n",
              "    }\n",
              "\n",
              "    .dataframe tbody tr th {\n",
              "        vertical-align: top;\n",
              "    }\n",
              "\n",
              "    .dataframe thead th {\n",
              "        text-align: right;\n",
              "    }\n",
              "</style>\n",
              "<table border=\"1\" class=\"dataframe\">\n",
              "  <thead>\n",
              "    <tr style=\"text-align: right;\">\n",
              "      <th></th>\n",
              "      <th>movieId</th>\n",
              "      <th>title</th>\n",
              "      <th>budget</th>\n",
              "      <th>profit</th>\n",
              "      <th>score</th>\n",
              "      <th>release_year</th>\n",
              "      <th>release_day</th>\n",
              "      <th>genres</th>\n",
              "      <th>production_countries</th>\n",
              "      <th>production_companies</th>\n",
              "      <th>original_language</th>\n",
              "      <th>runtime</th>\n",
              "      <th>content</th>\n",
              "      <th>status</th>\n",
              "      <th>cast</th>\n",
              "      <th>director</th>\n",
              "      <th>keywords</th>\n",
              "      <th>important_words</th>\n",
              "    </tr>\n",
              "  </thead>\n",
              "  <tbody>\n",
              "    <tr>\n",
              "      <th>0</th>\n",
              "      <td>135887</td>\n",
              "      <td>Minions</td>\n",
              "      <td>74000000</td>\n",
              "      <td>1.082731e+09</td>\n",
              "      <td>0.631838</td>\n",
              "      <td>2015</td>\n",
              "      <td>Wednesday</td>\n",
              "      <td>Family|Animation|Adventure|Comedy</td>\n",
              "      <td>United States of America</td>\n",
              "      <td>Universal Pictures|Illumination Entertainment</td>\n",
              "      <td>English</td>\n",
              "      <td>91.0</td>\n",
              "      <td>Minions Stuart, Kevin and Bob are recruited by...</td>\n",
              "      <td>Released</td>\n",
              "      <td>Sandra Bullock|Jon Hamm|Michael Keaton|Allison...</td>\n",
              "      <td>Kyle Balda</td>\n",
              "      <td>Sandra Bullock|Jon Hamm|Michael Keaton|Allison...</td>\n",
              "      <td>scarlet,overkill,gru,sandra,bullock,world,dave...</td>\n",
              "    </tr>\n",
              "    <tr>\n",
              "      <th>1</th>\n",
              "      <td>143355</td>\n",
              "      <td>Wonder Woman</td>\n",
              "      <td>149000000</td>\n",
              "      <td>6.715804e+08</td>\n",
              "      <td>0.596277</td>\n",
              "      <td>2017</td>\n",
              "      <td>Tuesday</td>\n",
              "      <td>Action|Adventure|Fantasy</td>\n",
              "      <td>United States of America</td>\n",
              "      <td>Dune Entertainment|Atlas Entertainment|Warner ...</td>\n",
              "      <td>English</td>\n",
              "      <td>141.0</td>\n",
              "      <td>An Amazon princess comes to the world of Man t...</td>\n",
              "      <td>Released</td>\n",
              "      <td>Gal Gadot|Chris Pine|Robin Wright|Danny Huston...</td>\n",
              "      <td>Patty Jenkins</td>\n",
              "      <td>Gal Gadot|Chris Pine|Robin Wright|Danny Huston...</td>\n",
              "      <td>wisdom,betty,adewole,fred,fergus,ooooota,adepo...</td>\n",
              "    </tr>\n",
              "    <tr>\n",
              "      <th>2</th>\n",
              "      <td>58559</td>\n",
              "      <td>The Dark Knight</td>\n",
              "      <td>185000000</td>\n",
              "      <td>8.195584e+08</td>\n",
              "      <td>0.583985</td>\n",
              "      <td>2008</td>\n",
              "      <td>Wednesday</td>\n",
              "      <td>Drama|Action|Crime|Thriller</td>\n",
              "      <td>United Kingdom|United States of America</td>\n",
              "      <td>DC Comics|Legendary Pictures|Warner Bros.|DC E...</td>\n",
              "      <td>English</td>\n",
              "      <td>152.0</td>\n",
              "      <td>Batman raises the stakes in his war on crime. ...</td>\n",
              "      <td>Released</td>\n",
              "      <td>Christian Bale|Michael Caine|Heath Ledger|Aaro...</td>\n",
              "      <td>Christopher Nolan</td>\n",
              "      <td>Christian Bale|Michael Caine|Heath Ledger|Aaro...</td>\n",
              "      <td>daniel,jefferson,lorna,gayle,tommy,campbell,ri...</td>\n",
              "    </tr>\n",
              "    <tr>\n",
              "      <th>3</th>\n",
              "      <td>296</td>\n",
              "      <td>Pulp Fiction</td>\n",
              "      <td>8000000</td>\n",
              "      <td>2.059288e+08</td>\n",
              "      <td>0.581325</td>\n",
              "      <td>1994</td>\n",
              "      <td>Saturday</td>\n",
              "      <td>Thriller|Crime</td>\n",
              "      <td>United States of America</td>\n",
              "      <td>Miramax Films|A Band Apart|Jersey Films</td>\n",
              "      <td>English</td>\n",
              "      <td>154.0</td>\n",
              "      <td>A burger-loving hit man, his philosophical par...</td>\n",
              "      <td>Released</td>\n",
              "      <td>John Travolta|Samuel L. Jackson|Uma Thurman|Br...</td>\n",
              "      <td>Quentin Tarantino</td>\n",
              "      <td>John Travolta|Samuel L. Jackson|Uma Thurman|Br...</td>\n",
              "      <td>forth,moll,frank,whaley,duane,whitaker,burger,...</td>\n",
              "    </tr>\n",
              "    <tr>\n",
              "      <th>4</th>\n",
              "      <td>318</td>\n",
              "      <td>The Shawshank Redemption</td>\n",
              "      <td>25000000</td>\n",
              "      <td>3.341469e+06</td>\n",
              "      <td>0.568223</td>\n",
              "      <td>1994</td>\n",
              "      <td>Friday</td>\n",
              "      <td>Drama|Crime</td>\n",
              "      <td>United States of America</td>\n",
              "      <td>Castle Rock Entertainment|Warner Bros.</td>\n",
              "      <td>English</td>\n",
              "      <td>142.0</td>\n",
              "      <td>Framed in the 1940s for the double murder of h...</td>\n",
              "      <td>Released</td>\n",
              "      <td>Tim Robbins|Morgan Freeman|Bob Gunton|Clancy B...</td>\n",
              "      <td>Frank Darabont</td>\n",
              "      <td>Tim Robbins|Morgan Freeman|Bob Gunton|Clancy B...</td>\n",
              "      <td>hope,jones,clancy,brown,alfonso,freeman,j,doro...</td>\n",
              "    </tr>\n",
              "  </tbody>\n",
              "</table>\n",
              "</div>"
            ],
            "text/plain": [
              "   movieId  ...                                    important_words\n",
              "0   135887  ...  scarlet,overkill,gru,sandra,bullock,world,dave...\n",
              "1   143355  ...  wisdom,betty,adewole,fred,fergus,ooooota,adepo...\n",
              "2    58559  ...  daniel,jefferson,lorna,gayle,tommy,campbell,ri...\n",
              "3      296  ...  forth,moll,frank,whaley,duane,whitaker,burger,...\n",
              "4      318  ...  hope,jones,clancy,brown,alfonso,freeman,j,doro...\n",
              "\n",
              "[5 rows x 18 columns]"
            ]
          },
          "metadata": {
            "tags": []
          },
          "execution_count": 21
        }
      ]
    },
    {
      "cell_type": "code",
      "metadata": {
        "id": "nwR1O0sORqxW",
        "colab_type": "code",
        "colab": {}
      },
      "source": [
        "cv=CountVectorizer()\n",
        "count_matrix=cv.fit_transform(popular_movies[popular_movies['title']!='Minions']['important_words'])\n",
        "cosine_sim=cosine_similarity(count_matrix,count_matrix)\n",
        "cosine_sim"
      ],
      "execution_count": null,
      "outputs": []
    }
  ]
}