{
  "nbformat": 4,
  "nbformat_minor": 0,
  "metadata": {
    "colab": {
      "name": "Overview of the Datasets -- Data Wrangling and Data Cleaning ",
      "provenance": [],
      "collapsed_sections": [],
      "machine_shape": "hm",
      "authorship_tag": "ABX9TyOtZT6UDeT6FgtKygJKpJwZ",
      "include_colab_link": true
    },
    "kernelspec": {
      "name": "python3",
      "display_name": "Python 3"
    }
  },
  "cells": [
    {
      "cell_type": "markdown",
      "metadata": {
        "id": "view-in-github",
        "colab_type": "text"
      },
      "source": [
        "<a href=\"https://colab.research.google.com/github/disha2sinha/Movie-Recommendation-System/blob/master/Overview_of_the_Datasets_Data_Wrangling_and_Data_Cleaning.ipynb\" target=\"_parent\"><img src=\"https://colab.research.google.com/assets/colab-badge.svg\" alt=\"Open In Colab\"/></a>"
      ]
    },
    {
      "cell_type": "markdown",
      "metadata": {
        "id": "8KKs7NwcRp7L",
        "colab_type": "text"
      },
      "source": [
        "**Libraries:**"
      ]
    },
    {
      "cell_type": "code",
      "metadata": {
        "id": "YLH84Eo6yd8w",
        "colab_type": "code",
        "colab": {
          "base_uri": "https://localhost:8080/",
          "height": 73
        },
        "outputId": "235de256-b4fc-4713-f7ff-a7587a0d224e"
      },
      "source": [
        "%matplotlib inline\n",
        "import pandas as pd\n",
        "import numpy as np\n",
        "from ast import literal_eval\n",
        "import matplotlib.pyplot as plt\n",
        "!pip install -U -q googletrans\n",
        "from googletrans import Translator\n",
        "import seaborn as sns\n"
      ],
      "execution_count": 1,
      "outputs": [
        {
          "output_type": "stream",
          "text": [
            "/usr/local/lib/python3.6/dist-packages/statsmodels/tools/_testing.py:19: FutureWarning: pandas.util.testing is deprecated. Use the functions in the public API at pandas.testing instead.\n",
            "  import pandas.util.testing as tm\n"
          ],
          "name": "stderr"
        }
      ]
    },
    {
      "cell_type": "code",
      "metadata": {
        "id": "FPERJZ06ySt0",
        "colab_type": "code",
        "colab": {}
      },
      "source": [
        "!pip install -U -q PyDrive\n",
        "from pydrive.auth import GoogleAuth\n",
        "from pydrive.drive import GoogleDrive\n",
        "from google.colab import auth\n",
        "from oauth2client.client import GoogleCredentials"
      ],
      "execution_count": 2,
      "outputs": []
    },
    {
      "cell_type": "code",
      "metadata": {
        "id": "vTu_Ui-MybLg",
        "colab_type": "code",
        "colab": {}
      },
      "source": [
        "auth.authenticate_user()\n",
        "gauth = GoogleAuth()\n",
        "gauth.credentials = GoogleCredentials.get_application_default()\n",
        "drive = GoogleDrive(gauth)"
      ],
      "execution_count": 3,
      "outputs": []
    },
    {
      "cell_type": "markdown",
      "metadata": {
        "id": "Csiacp9O3Aqa",
        "colab_type": "text"
      },
      "source": [
        "**IMPORTING 'movies_metadata.csv' :**"
      ]
    },
    {
      "cell_type": "code",
      "metadata": {
        "id": "_3pO9maMyv1x",
        "colab_type": "code",
        "colab": {}
      },
      "source": [
        "link1='https://drive.google.com/file/d/1xjASvbR3qrZ_Xx1rwmb2YoTGt081ih0G/view?usp=sharing'"
      ],
      "execution_count": 4,
      "outputs": []
    },
    {
      "cell_type": "code",
      "metadata": {
        "id": "4490zAj1zAyn",
        "colab_type": "code",
        "colab": {
          "base_uri": "https://localhost:8080/",
          "height": 678
        },
        "outputId": "9c43bbbd-5647-47fd-b147-d05e81f92fd5"
      },
      "source": [
        "id='1xjASvbR3qrZ_Xx1rwmb2YoTGt081ih0G'\n",
        "downloaded = drive.CreateFile({'id':id}) \n",
        "downloaded.GetContentFile('movies_metadata.csv')  \n",
        "movies_metadata = pd.read_csv('movies_metadata.csv',engine='python')\n",
        "movies_metadata.head(5)"
      ],
      "execution_count": 5,
      "outputs": [
        {
          "output_type": "execute_result",
          "data": {
            "text/html": [
              "<div>\n",
              "<style scoped>\n",
              "    .dataframe tbody tr th:only-of-type {\n",
              "        vertical-align: middle;\n",
              "    }\n",
              "\n",
              "    .dataframe tbody tr th {\n",
              "        vertical-align: top;\n",
              "    }\n",
              "\n",
              "    .dataframe thead th {\n",
              "        text-align: right;\n",
              "    }\n",
              "</style>\n",
              "<table border=\"1\" class=\"dataframe\">\n",
              "  <thead>\n",
              "    <tr style=\"text-align: right;\">\n",
              "      <th></th>\n",
              "      <th>adult</th>\n",
              "      <th>belongs_to_collection</th>\n",
              "      <th>budget</th>\n",
              "      <th>genres</th>\n",
              "      <th>homepage</th>\n",
              "      <th>id</th>\n",
              "      <th>imdb_id</th>\n",
              "      <th>original_language</th>\n",
              "      <th>original_title</th>\n",
              "      <th>overview</th>\n",
              "      <th>popularity</th>\n",
              "      <th>poster_path</th>\n",
              "      <th>production_companies</th>\n",
              "      <th>production_countries</th>\n",
              "      <th>release_date</th>\n",
              "      <th>revenue</th>\n",
              "      <th>runtime</th>\n",
              "      <th>spoken_languages</th>\n",
              "      <th>status</th>\n",
              "      <th>tagline</th>\n",
              "      <th>title</th>\n",
              "      <th>video</th>\n",
              "      <th>vote_average</th>\n",
              "      <th>vote_count</th>\n",
              "    </tr>\n",
              "  </thead>\n",
              "  <tbody>\n",
              "    <tr>\n",
              "      <th>0</th>\n",
              "      <td>False</td>\n",
              "      <td>{'id': 10194, 'name': 'Toy Story Collection', ...</td>\n",
              "      <td>30000000</td>\n",
              "      <td>[{'id': 16, 'name': 'Animation'}, {'id': 35, '...</td>\n",
              "      <td>http://toystory.disney.com/toy-story</td>\n",
              "      <td>862</td>\n",
              "      <td>tt0114709</td>\n",
              "      <td>en</td>\n",
              "      <td>Toy Story</td>\n",
              "      <td>Led by Woody, Andy's toys live happily in his ...</td>\n",
              "      <td>21.946943</td>\n",
              "      <td>/rhIRbceoE9lR4veEXuwCC2wARtG.jpg</td>\n",
              "      <td>[{'name': 'Pixar Animation Studios', 'id': 3}]</td>\n",
              "      <td>[{'iso_3166_1': 'US', 'name': 'United States o...</td>\n",
              "      <td>1995-10-30</td>\n",
              "      <td>373554033.0</td>\n",
              "      <td>81.0</td>\n",
              "      <td>[{'iso_639_1': 'en', 'name': 'English'}]</td>\n",
              "      <td>Released</td>\n",
              "      <td>NaN</td>\n",
              "      <td>Toy Story</td>\n",
              "      <td>False</td>\n",
              "      <td>7.7</td>\n",
              "      <td>5415.0</td>\n",
              "    </tr>\n",
              "    <tr>\n",
              "      <th>1</th>\n",
              "      <td>False</td>\n",
              "      <td>NaN</td>\n",
              "      <td>65000000</td>\n",
              "      <td>[{'id': 12, 'name': 'Adventure'}, {'id': 14, '...</td>\n",
              "      <td>NaN</td>\n",
              "      <td>8844</td>\n",
              "      <td>tt0113497</td>\n",
              "      <td>en</td>\n",
              "      <td>Jumanji</td>\n",
              "      <td>When siblings Judy and Peter discover an encha...</td>\n",
              "      <td>17.015539</td>\n",
              "      <td>/vzmL6fP7aPKNKPRTFnZmiUfciyV.jpg</td>\n",
              "      <td>[{'name': 'TriStar Pictures', 'id': 559}, {'na...</td>\n",
              "      <td>[{'iso_3166_1': 'US', 'name': 'United States o...</td>\n",
              "      <td>1995-12-15</td>\n",
              "      <td>262797249.0</td>\n",
              "      <td>104.0</td>\n",
              "      <td>[{'iso_639_1': 'en', 'name': 'English'}, {'iso...</td>\n",
              "      <td>Released</td>\n",
              "      <td>Roll the dice and unleash the excitement!</td>\n",
              "      <td>Jumanji</td>\n",
              "      <td>False</td>\n",
              "      <td>6.9</td>\n",
              "      <td>2413.0</td>\n",
              "    </tr>\n",
              "    <tr>\n",
              "      <th>2</th>\n",
              "      <td>False</td>\n",
              "      <td>{'id': 119050, 'name': 'Grumpy Old Men Collect...</td>\n",
              "      <td>0</td>\n",
              "      <td>[{'id': 10749, 'name': 'Romance'}, {'id': 35, ...</td>\n",
              "      <td>NaN</td>\n",
              "      <td>15602</td>\n",
              "      <td>tt0113228</td>\n",
              "      <td>en</td>\n",
              "      <td>Grumpier Old Men</td>\n",
              "      <td>A family wedding reignites the ancient feud be...</td>\n",
              "      <td>11.7129</td>\n",
              "      <td>/6ksm1sjKMFLbO7UY2i6G1ju9SML.jpg</td>\n",
              "      <td>[{'name': 'Warner Bros.', 'id': 6194}, {'name'...</td>\n",
              "      <td>[{'iso_3166_1': 'US', 'name': 'United States o...</td>\n",
              "      <td>1995-12-22</td>\n",
              "      <td>0.0</td>\n",
              "      <td>101.0</td>\n",
              "      <td>[{'iso_639_1': 'en', 'name': 'English'}]</td>\n",
              "      <td>Released</td>\n",
              "      <td>Still Yelling. Still Fighting. Still Ready for...</td>\n",
              "      <td>Grumpier Old Men</td>\n",
              "      <td>False</td>\n",
              "      <td>6.5</td>\n",
              "      <td>92.0</td>\n",
              "    </tr>\n",
              "    <tr>\n",
              "      <th>3</th>\n",
              "      <td>False</td>\n",
              "      <td>NaN</td>\n",
              "      <td>16000000</td>\n",
              "      <td>[{'id': 35, 'name': 'Comedy'}, {'id': 18, 'nam...</td>\n",
              "      <td>NaN</td>\n",
              "      <td>31357</td>\n",
              "      <td>tt0114885</td>\n",
              "      <td>en</td>\n",
              "      <td>Waiting to Exhale</td>\n",
              "      <td>Cheated on, mistreated and stepped on, the wom...</td>\n",
              "      <td>3.859495</td>\n",
              "      <td>/16XOMpEaLWkrcPqSQqhTmeJuqQl.jpg</td>\n",
              "      <td>[{'name': 'Twentieth Century Fox Film Corporat...</td>\n",
              "      <td>[{'iso_3166_1': 'US', 'name': 'United States o...</td>\n",
              "      <td>1995-12-22</td>\n",
              "      <td>81452156.0</td>\n",
              "      <td>127.0</td>\n",
              "      <td>[{'iso_639_1': 'en', 'name': 'English'}]</td>\n",
              "      <td>Released</td>\n",
              "      <td>Friends are the people who let you be yourself...</td>\n",
              "      <td>Waiting to Exhale</td>\n",
              "      <td>False</td>\n",
              "      <td>6.1</td>\n",
              "      <td>34.0</td>\n",
              "    </tr>\n",
              "    <tr>\n",
              "      <th>4</th>\n",
              "      <td>False</td>\n",
              "      <td>{'id': 96871, 'name': 'Father of the Bride Col...</td>\n",
              "      <td>0</td>\n",
              "      <td>[{'id': 35, 'name': 'Comedy'}]</td>\n",
              "      <td>NaN</td>\n",
              "      <td>11862</td>\n",
              "      <td>tt0113041</td>\n",
              "      <td>en</td>\n",
              "      <td>Father of the Bride Part II</td>\n",
              "      <td>Just when George Banks has recovered from his ...</td>\n",
              "      <td>8.387519</td>\n",
              "      <td>/e64sOI48hQXyru7naBFyssKFxVd.jpg</td>\n",
              "      <td>[{'name': 'Sandollar Productions', 'id': 5842}...</td>\n",
              "      <td>[{'iso_3166_1': 'US', 'name': 'United States o...</td>\n",
              "      <td>1995-02-10</td>\n",
              "      <td>76578911.0</td>\n",
              "      <td>106.0</td>\n",
              "      <td>[{'iso_639_1': 'en', 'name': 'English'}]</td>\n",
              "      <td>Released</td>\n",
              "      <td>Just When His World Is Back To Normal... He's ...</td>\n",
              "      <td>Father of the Bride Part II</td>\n",
              "      <td>False</td>\n",
              "      <td>5.7</td>\n",
              "      <td>173.0</td>\n",
              "    </tr>\n",
              "  </tbody>\n",
              "</table>\n",
              "</div>"
            ],
            "text/plain": [
              "   adult  ... vote_count\n",
              "0  False  ...     5415.0\n",
              "1  False  ...     2413.0\n",
              "2  False  ...       92.0\n",
              "3  False  ...       34.0\n",
              "4  False  ...      173.0\n",
              "\n",
              "[5 rows x 24 columns]"
            ]
          },
          "metadata": {
            "tags": []
          },
          "execution_count": 5
        }
      ]
    },
    {
      "cell_type": "markdown",
      "metadata": {
        "id": "bO8tT9H3DZnS",
        "colab_type": "text"
      },
      "source": [
        "**Exploring movies_metadata.csv :** \n",
        "Showing Shape and Column of the **movies_metadata** dataset."
      ]
    },
    {
      "cell_type": "code",
      "metadata": {
        "id": "usdpqKZdGNQz",
        "colab_type": "code",
        "colab": {
          "base_uri": "https://localhost:8080/",
          "height": 35
        },
        "outputId": "8748228c-b9db-4a73-de36-48c088f32daa"
      },
      "source": [
        "movies_metadata.shape"
      ],
      "execution_count": 6,
      "outputs": [
        {
          "output_type": "execute_result",
          "data": {
            "text/plain": [
              "(45466, 24)"
            ]
          },
          "metadata": {
            "tags": []
          },
          "execution_count": 6
        }
      ]
    },
    {
      "cell_type": "code",
      "metadata": {
        "id": "_bmxanNxDQ9R",
        "colab_type": "code",
        "colab": {
          "base_uri": "https://localhost:8080/",
          "height": 144
        },
        "outputId": "def3706c-8327-4770-caa8-7da49e066744"
      },
      "source": [
        "movies_metadata.columns"
      ],
      "execution_count": 7,
      "outputs": [
        {
          "output_type": "execute_result",
          "data": {
            "text/plain": [
              "Index(['adult', 'belongs_to_collection', 'budget', 'genres', 'homepage', 'id',\n",
              "       'imdb_id', 'original_language', 'original_title', 'overview',\n",
              "       'popularity', 'poster_path', 'production_companies',\n",
              "       'production_countries', 'release_date', 'revenue', 'runtime',\n",
              "       'spoken_languages', 'status', 'tagline', 'title', 'video',\n",
              "       'vote_average', 'vote_count'],\n",
              "      dtype='object')"
            ]
          },
          "metadata": {
            "tags": []
          },
          "execution_count": 7
        }
      ]
    },
    {
      "cell_type": "markdown",
      "metadata": {
        "id": "sa8JggCpQUJR",
        "colab_type": "text"
      },
      "source": [
        "**Modifying the columns 'genre' , 'production_companies' , 'production_countries' , 'spoken_languages' :** Keeping only the value of the 'name' key in the list of these columns for ease of understanding and analysis."
      ]
    },
    {
      "cell_type": "code",
      "metadata": {
        "id": "O77_MtMiEKQv",
        "colab_type": "code",
        "colab": {
          "base_uri": "https://localhost:8080/",
          "height": 678
        },
        "outputId": "2114b332-a8b0-4921-9f37-3fe60eedcd3d"
      },
      "source": [
        "movies_metadata['genres'] = movies_metadata['genres'].fillna('[]').apply(literal_eval).apply(lambda x: [i['name'] for i in x] if isinstance(x, list) else [])\n",
        "movies_metadata['production_companies'] = movies_metadata['production_companies'].fillna('[]').apply(literal_eval).apply(lambda x: [i['name'] for i in x] if isinstance(x, list) else [])\n",
        "movies_metadata['production_countries'] = movies_metadata['production_countries'].fillna('[]').apply(literal_eval).apply(lambda x: [i['name'] for i in x] if isinstance(x, list) else [])\n",
        "movies_metadata.head(5)"
      ],
      "execution_count": 8,
      "outputs": [
        {
          "output_type": "execute_result",
          "data": {
            "text/html": [
              "<div>\n",
              "<style scoped>\n",
              "    .dataframe tbody tr th:only-of-type {\n",
              "        vertical-align: middle;\n",
              "    }\n",
              "\n",
              "    .dataframe tbody tr th {\n",
              "        vertical-align: top;\n",
              "    }\n",
              "\n",
              "    .dataframe thead th {\n",
              "        text-align: right;\n",
              "    }\n",
              "</style>\n",
              "<table border=\"1\" class=\"dataframe\">\n",
              "  <thead>\n",
              "    <tr style=\"text-align: right;\">\n",
              "      <th></th>\n",
              "      <th>adult</th>\n",
              "      <th>belongs_to_collection</th>\n",
              "      <th>budget</th>\n",
              "      <th>genres</th>\n",
              "      <th>homepage</th>\n",
              "      <th>id</th>\n",
              "      <th>imdb_id</th>\n",
              "      <th>original_language</th>\n",
              "      <th>original_title</th>\n",
              "      <th>overview</th>\n",
              "      <th>popularity</th>\n",
              "      <th>poster_path</th>\n",
              "      <th>production_companies</th>\n",
              "      <th>production_countries</th>\n",
              "      <th>release_date</th>\n",
              "      <th>revenue</th>\n",
              "      <th>runtime</th>\n",
              "      <th>spoken_languages</th>\n",
              "      <th>status</th>\n",
              "      <th>tagline</th>\n",
              "      <th>title</th>\n",
              "      <th>video</th>\n",
              "      <th>vote_average</th>\n",
              "      <th>vote_count</th>\n",
              "    </tr>\n",
              "  </thead>\n",
              "  <tbody>\n",
              "    <tr>\n",
              "      <th>0</th>\n",
              "      <td>False</td>\n",
              "      <td>{'id': 10194, 'name': 'Toy Story Collection', ...</td>\n",
              "      <td>30000000</td>\n",
              "      <td>[Animation, Comedy, Family]</td>\n",
              "      <td>http://toystory.disney.com/toy-story</td>\n",
              "      <td>862</td>\n",
              "      <td>tt0114709</td>\n",
              "      <td>en</td>\n",
              "      <td>Toy Story</td>\n",
              "      <td>Led by Woody, Andy's toys live happily in his ...</td>\n",
              "      <td>21.946943</td>\n",
              "      <td>/rhIRbceoE9lR4veEXuwCC2wARtG.jpg</td>\n",
              "      <td>[Pixar Animation Studios]</td>\n",
              "      <td>[United States of America]</td>\n",
              "      <td>1995-10-30</td>\n",
              "      <td>373554033.0</td>\n",
              "      <td>81.0</td>\n",
              "      <td>[{'iso_639_1': 'en', 'name': 'English'}]</td>\n",
              "      <td>Released</td>\n",
              "      <td>NaN</td>\n",
              "      <td>Toy Story</td>\n",
              "      <td>False</td>\n",
              "      <td>7.7</td>\n",
              "      <td>5415.0</td>\n",
              "    </tr>\n",
              "    <tr>\n",
              "      <th>1</th>\n",
              "      <td>False</td>\n",
              "      <td>NaN</td>\n",
              "      <td>65000000</td>\n",
              "      <td>[Adventure, Fantasy, Family]</td>\n",
              "      <td>NaN</td>\n",
              "      <td>8844</td>\n",
              "      <td>tt0113497</td>\n",
              "      <td>en</td>\n",
              "      <td>Jumanji</td>\n",
              "      <td>When siblings Judy and Peter discover an encha...</td>\n",
              "      <td>17.015539</td>\n",
              "      <td>/vzmL6fP7aPKNKPRTFnZmiUfciyV.jpg</td>\n",
              "      <td>[TriStar Pictures, Teitler Film, Interscope Co...</td>\n",
              "      <td>[United States of America]</td>\n",
              "      <td>1995-12-15</td>\n",
              "      <td>262797249.0</td>\n",
              "      <td>104.0</td>\n",
              "      <td>[{'iso_639_1': 'en', 'name': 'English'}, {'iso...</td>\n",
              "      <td>Released</td>\n",
              "      <td>Roll the dice and unleash the excitement!</td>\n",
              "      <td>Jumanji</td>\n",
              "      <td>False</td>\n",
              "      <td>6.9</td>\n",
              "      <td>2413.0</td>\n",
              "    </tr>\n",
              "    <tr>\n",
              "      <th>2</th>\n",
              "      <td>False</td>\n",
              "      <td>{'id': 119050, 'name': 'Grumpy Old Men Collect...</td>\n",
              "      <td>0</td>\n",
              "      <td>[Romance, Comedy]</td>\n",
              "      <td>NaN</td>\n",
              "      <td>15602</td>\n",
              "      <td>tt0113228</td>\n",
              "      <td>en</td>\n",
              "      <td>Grumpier Old Men</td>\n",
              "      <td>A family wedding reignites the ancient feud be...</td>\n",
              "      <td>11.7129</td>\n",
              "      <td>/6ksm1sjKMFLbO7UY2i6G1ju9SML.jpg</td>\n",
              "      <td>[Warner Bros., Lancaster Gate]</td>\n",
              "      <td>[United States of America]</td>\n",
              "      <td>1995-12-22</td>\n",
              "      <td>0.0</td>\n",
              "      <td>101.0</td>\n",
              "      <td>[{'iso_639_1': 'en', 'name': 'English'}]</td>\n",
              "      <td>Released</td>\n",
              "      <td>Still Yelling. Still Fighting. Still Ready for...</td>\n",
              "      <td>Grumpier Old Men</td>\n",
              "      <td>False</td>\n",
              "      <td>6.5</td>\n",
              "      <td>92.0</td>\n",
              "    </tr>\n",
              "    <tr>\n",
              "      <th>3</th>\n",
              "      <td>False</td>\n",
              "      <td>NaN</td>\n",
              "      <td>16000000</td>\n",
              "      <td>[Comedy, Drama, Romance]</td>\n",
              "      <td>NaN</td>\n",
              "      <td>31357</td>\n",
              "      <td>tt0114885</td>\n",
              "      <td>en</td>\n",
              "      <td>Waiting to Exhale</td>\n",
              "      <td>Cheated on, mistreated and stepped on, the wom...</td>\n",
              "      <td>3.859495</td>\n",
              "      <td>/16XOMpEaLWkrcPqSQqhTmeJuqQl.jpg</td>\n",
              "      <td>[Twentieth Century Fox Film Corporation]</td>\n",
              "      <td>[United States of America]</td>\n",
              "      <td>1995-12-22</td>\n",
              "      <td>81452156.0</td>\n",
              "      <td>127.0</td>\n",
              "      <td>[{'iso_639_1': 'en', 'name': 'English'}]</td>\n",
              "      <td>Released</td>\n",
              "      <td>Friends are the people who let you be yourself...</td>\n",
              "      <td>Waiting to Exhale</td>\n",
              "      <td>False</td>\n",
              "      <td>6.1</td>\n",
              "      <td>34.0</td>\n",
              "    </tr>\n",
              "    <tr>\n",
              "      <th>4</th>\n",
              "      <td>False</td>\n",
              "      <td>{'id': 96871, 'name': 'Father of the Bride Col...</td>\n",
              "      <td>0</td>\n",
              "      <td>[Comedy]</td>\n",
              "      <td>NaN</td>\n",
              "      <td>11862</td>\n",
              "      <td>tt0113041</td>\n",
              "      <td>en</td>\n",
              "      <td>Father of the Bride Part II</td>\n",
              "      <td>Just when George Banks has recovered from his ...</td>\n",
              "      <td>8.387519</td>\n",
              "      <td>/e64sOI48hQXyru7naBFyssKFxVd.jpg</td>\n",
              "      <td>[Sandollar Productions, Touchstone Pictures]</td>\n",
              "      <td>[United States of America]</td>\n",
              "      <td>1995-02-10</td>\n",
              "      <td>76578911.0</td>\n",
              "      <td>106.0</td>\n",
              "      <td>[{'iso_639_1': 'en', 'name': 'English'}]</td>\n",
              "      <td>Released</td>\n",
              "      <td>Just When His World Is Back To Normal... He's ...</td>\n",
              "      <td>Father of the Bride Part II</td>\n",
              "      <td>False</td>\n",
              "      <td>5.7</td>\n",
              "      <td>173.0</td>\n",
              "    </tr>\n",
              "  </tbody>\n",
              "</table>\n",
              "</div>"
            ],
            "text/plain": [
              "   adult  ... vote_count\n",
              "0  False  ...     5415.0\n",
              "1  False  ...     2413.0\n",
              "2  False  ...       92.0\n",
              "3  False  ...       34.0\n",
              "4  False  ...      173.0\n",
              "\n",
              "[5 rows x 24 columns]"
            ]
          },
          "metadata": {
            "tags": []
          },
          "execution_count": 8
        }
      ]
    },
    {
      "cell_type": "code",
      "metadata": {
        "id": "vetujTa3xK3V",
        "colab_type": "code",
        "colab": {
          "base_uri": "https://localhost:8080/",
          "height": 678
        },
        "outputId": "9002ea9c-e076-4ec0-d02c-10800ddd3c1a"
      },
      "source": [
        "def try_join(l):\n",
        "  try:\n",
        "    return '|'.join(map(str,l))\n",
        "  except TypeError:\n",
        "    return 'Unknown'\n",
        "movies_metadata['genres']=[try_join(l)for l in movies_metadata['genres']]\n",
        "movies_metadata['production_companies']=[try_join(l)for l in movies_metadata['production_companies']]\n",
        "movies_metadata['production_countries']=[try_join(l)for l in movies_metadata['production_countries']]\n",
        "movies_metadata.head()"
      ],
      "execution_count": 9,
      "outputs": [
        {
          "output_type": "execute_result",
          "data": {
            "text/html": [
              "<div>\n",
              "<style scoped>\n",
              "    .dataframe tbody tr th:only-of-type {\n",
              "        vertical-align: middle;\n",
              "    }\n",
              "\n",
              "    .dataframe tbody tr th {\n",
              "        vertical-align: top;\n",
              "    }\n",
              "\n",
              "    .dataframe thead th {\n",
              "        text-align: right;\n",
              "    }\n",
              "</style>\n",
              "<table border=\"1\" class=\"dataframe\">\n",
              "  <thead>\n",
              "    <tr style=\"text-align: right;\">\n",
              "      <th></th>\n",
              "      <th>adult</th>\n",
              "      <th>belongs_to_collection</th>\n",
              "      <th>budget</th>\n",
              "      <th>genres</th>\n",
              "      <th>homepage</th>\n",
              "      <th>id</th>\n",
              "      <th>imdb_id</th>\n",
              "      <th>original_language</th>\n",
              "      <th>original_title</th>\n",
              "      <th>overview</th>\n",
              "      <th>popularity</th>\n",
              "      <th>poster_path</th>\n",
              "      <th>production_companies</th>\n",
              "      <th>production_countries</th>\n",
              "      <th>release_date</th>\n",
              "      <th>revenue</th>\n",
              "      <th>runtime</th>\n",
              "      <th>spoken_languages</th>\n",
              "      <th>status</th>\n",
              "      <th>tagline</th>\n",
              "      <th>title</th>\n",
              "      <th>video</th>\n",
              "      <th>vote_average</th>\n",
              "      <th>vote_count</th>\n",
              "    </tr>\n",
              "  </thead>\n",
              "  <tbody>\n",
              "    <tr>\n",
              "      <th>0</th>\n",
              "      <td>False</td>\n",
              "      <td>{'id': 10194, 'name': 'Toy Story Collection', ...</td>\n",
              "      <td>30000000</td>\n",
              "      <td>Animation|Comedy|Family</td>\n",
              "      <td>http://toystory.disney.com/toy-story</td>\n",
              "      <td>862</td>\n",
              "      <td>tt0114709</td>\n",
              "      <td>en</td>\n",
              "      <td>Toy Story</td>\n",
              "      <td>Led by Woody, Andy's toys live happily in his ...</td>\n",
              "      <td>21.946943</td>\n",
              "      <td>/rhIRbceoE9lR4veEXuwCC2wARtG.jpg</td>\n",
              "      <td>Pixar Animation Studios</td>\n",
              "      <td>United States of America</td>\n",
              "      <td>1995-10-30</td>\n",
              "      <td>373554033.0</td>\n",
              "      <td>81.0</td>\n",
              "      <td>[{'iso_639_1': 'en', 'name': 'English'}]</td>\n",
              "      <td>Released</td>\n",
              "      <td>NaN</td>\n",
              "      <td>Toy Story</td>\n",
              "      <td>False</td>\n",
              "      <td>7.7</td>\n",
              "      <td>5415.0</td>\n",
              "    </tr>\n",
              "    <tr>\n",
              "      <th>1</th>\n",
              "      <td>False</td>\n",
              "      <td>NaN</td>\n",
              "      <td>65000000</td>\n",
              "      <td>Adventure|Fantasy|Family</td>\n",
              "      <td>NaN</td>\n",
              "      <td>8844</td>\n",
              "      <td>tt0113497</td>\n",
              "      <td>en</td>\n",
              "      <td>Jumanji</td>\n",
              "      <td>When siblings Judy and Peter discover an encha...</td>\n",
              "      <td>17.015539</td>\n",
              "      <td>/vzmL6fP7aPKNKPRTFnZmiUfciyV.jpg</td>\n",
              "      <td>TriStar Pictures|Teitler Film|Interscope Commu...</td>\n",
              "      <td>United States of America</td>\n",
              "      <td>1995-12-15</td>\n",
              "      <td>262797249.0</td>\n",
              "      <td>104.0</td>\n",
              "      <td>[{'iso_639_1': 'en', 'name': 'English'}, {'iso...</td>\n",
              "      <td>Released</td>\n",
              "      <td>Roll the dice and unleash the excitement!</td>\n",
              "      <td>Jumanji</td>\n",
              "      <td>False</td>\n",
              "      <td>6.9</td>\n",
              "      <td>2413.0</td>\n",
              "    </tr>\n",
              "    <tr>\n",
              "      <th>2</th>\n",
              "      <td>False</td>\n",
              "      <td>{'id': 119050, 'name': 'Grumpy Old Men Collect...</td>\n",
              "      <td>0</td>\n",
              "      <td>Romance|Comedy</td>\n",
              "      <td>NaN</td>\n",
              "      <td>15602</td>\n",
              "      <td>tt0113228</td>\n",
              "      <td>en</td>\n",
              "      <td>Grumpier Old Men</td>\n",
              "      <td>A family wedding reignites the ancient feud be...</td>\n",
              "      <td>11.7129</td>\n",
              "      <td>/6ksm1sjKMFLbO7UY2i6G1ju9SML.jpg</td>\n",
              "      <td>Warner Bros.|Lancaster Gate</td>\n",
              "      <td>United States of America</td>\n",
              "      <td>1995-12-22</td>\n",
              "      <td>0.0</td>\n",
              "      <td>101.0</td>\n",
              "      <td>[{'iso_639_1': 'en', 'name': 'English'}]</td>\n",
              "      <td>Released</td>\n",
              "      <td>Still Yelling. Still Fighting. Still Ready for...</td>\n",
              "      <td>Grumpier Old Men</td>\n",
              "      <td>False</td>\n",
              "      <td>6.5</td>\n",
              "      <td>92.0</td>\n",
              "    </tr>\n",
              "    <tr>\n",
              "      <th>3</th>\n",
              "      <td>False</td>\n",
              "      <td>NaN</td>\n",
              "      <td>16000000</td>\n",
              "      <td>Comedy|Drama|Romance</td>\n",
              "      <td>NaN</td>\n",
              "      <td>31357</td>\n",
              "      <td>tt0114885</td>\n",
              "      <td>en</td>\n",
              "      <td>Waiting to Exhale</td>\n",
              "      <td>Cheated on, mistreated and stepped on, the wom...</td>\n",
              "      <td>3.859495</td>\n",
              "      <td>/16XOMpEaLWkrcPqSQqhTmeJuqQl.jpg</td>\n",
              "      <td>Twentieth Century Fox Film Corporation</td>\n",
              "      <td>United States of America</td>\n",
              "      <td>1995-12-22</td>\n",
              "      <td>81452156.0</td>\n",
              "      <td>127.0</td>\n",
              "      <td>[{'iso_639_1': 'en', 'name': 'English'}]</td>\n",
              "      <td>Released</td>\n",
              "      <td>Friends are the people who let you be yourself...</td>\n",
              "      <td>Waiting to Exhale</td>\n",
              "      <td>False</td>\n",
              "      <td>6.1</td>\n",
              "      <td>34.0</td>\n",
              "    </tr>\n",
              "    <tr>\n",
              "      <th>4</th>\n",
              "      <td>False</td>\n",
              "      <td>{'id': 96871, 'name': 'Father of the Bride Col...</td>\n",
              "      <td>0</td>\n",
              "      <td>Comedy</td>\n",
              "      <td>NaN</td>\n",
              "      <td>11862</td>\n",
              "      <td>tt0113041</td>\n",
              "      <td>en</td>\n",
              "      <td>Father of the Bride Part II</td>\n",
              "      <td>Just when George Banks has recovered from his ...</td>\n",
              "      <td>8.387519</td>\n",
              "      <td>/e64sOI48hQXyru7naBFyssKFxVd.jpg</td>\n",
              "      <td>Sandollar Productions|Touchstone Pictures</td>\n",
              "      <td>United States of America</td>\n",
              "      <td>1995-02-10</td>\n",
              "      <td>76578911.0</td>\n",
              "      <td>106.0</td>\n",
              "      <td>[{'iso_639_1': 'en', 'name': 'English'}]</td>\n",
              "      <td>Released</td>\n",
              "      <td>Just When His World Is Back To Normal... He's ...</td>\n",
              "      <td>Father of the Bride Part II</td>\n",
              "      <td>False</td>\n",
              "      <td>5.7</td>\n",
              "      <td>173.0</td>\n",
              "    </tr>\n",
              "  </tbody>\n",
              "</table>\n",
              "</div>"
            ],
            "text/plain": [
              "   adult  ... vote_count\n",
              "0  False  ...     5415.0\n",
              "1  False  ...     2413.0\n",
              "2  False  ...       92.0\n",
              "3  False  ...       34.0\n",
              "4  False  ...      173.0\n",
              "\n",
              "[5 rows x 24 columns]"
            ]
          },
          "metadata": {
            "tags": []
          },
          "execution_count": 9
        }
      ]
    },
    {
      "cell_type": "markdown",
      "metadata": {
        "id": "b9xgyPYQRU03",
        "colab_type": "text"
      },
      "source": [
        "**Removing unnecessary columns from the dataset :**  The **'belongs_to_collection'** column contains the movie series in which the movie belongs along with some other irrelevant informations. So let's drop this column. Let's drop the **'poster_path'** , **'video'** , **'imdb_id'** and **'homepage'** column as well because we won't require it in our analysis."
      ]
    },
    {
      "cell_type": "code",
      "metadata": {
        "id": "5mxNss6KSIKl",
        "colab_type": "code",
        "colab": {
          "base_uri": "https://localhost:8080/",
          "height": 678
        },
        "outputId": "3dbc8572-21f4-4528-a203-41cd08e304b0"
      },
      "source": [
        "movies_metadata.drop('belongs_to_collection',inplace=True,axis=1)\n",
        "movies_metadata.drop('poster_path',inplace=True,axis=1)\n",
        "movies_metadata.drop('homepage',inplace=True,axis=1)\n",
        "movies_metadata.drop('video',inplace=True,axis=1)\n",
        "movies_metadata.drop('imdb_id',inplace=True,axis=1)\n",
        "movies_metadata.head(5)"
      ],
      "execution_count": 10,
      "outputs": [
        {
          "output_type": "execute_result",
          "data": {
            "text/html": [
              "<div>\n",
              "<style scoped>\n",
              "    .dataframe tbody tr th:only-of-type {\n",
              "        vertical-align: middle;\n",
              "    }\n",
              "\n",
              "    .dataframe tbody tr th {\n",
              "        vertical-align: top;\n",
              "    }\n",
              "\n",
              "    .dataframe thead th {\n",
              "        text-align: right;\n",
              "    }\n",
              "</style>\n",
              "<table border=\"1\" class=\"dataframe\">\n",
              "  <thead>\n",
              "    <tr style=\"text-align: right;\">\n",
              "      <th></th>\n",
              "      <th>adult</th>\n",
              "      <th>budget</th>\n",
              "      <th>genres</th>\n",
              "      <th>id</th>\n",
              "      <th>original_language</th>\n",
              "      <th>original_title</th>\n",
              "      <th>overview</th>\n",
              "      <th>popularity</th>\n",
              "      <th>production_companies</th>\n",
              "      <th>production_countries</th>\n",
              "      <th>release_date</th>\n",
              "      <th>revenue</th>\n",
              "      <th>runtime</th>\n",
              "      <th>spoken_languages</th>\n",
              "      <th>status</th>\n",
              "      <th>tagline</th>\n",
              "      <th>title</th>\n",
              "      <th>vote_average</th>\n",
              "      <th>vote_count</th>\n",
              "    </tr>\n",
              "  </thead>\n",
              "  <tbody>\n",
              "    <tr>\n",
              "      <th>0</th>\n",
              "      <td>False</td>\n",
              "      <td>30000000</td>\n",
              "      <td>Animation|Comedy|Family</td>\n",
              "      <td>862</td>\n",
              "      <td>en</td>\n",
              "      <td>Toy Story</td>\n",
              "      <td>Led by Woody, Andy's toys live happily in his ...</td>\n",
              "      <td>21.946943</td>\n",
              "      <td>Pixar Animation Studios</td>\n",
              "      <td>United States of America</td>\n",
              "      <td>1995-10-30</td>\n",
              "      <td>373554033.0</td>\n",
              "      <td>81.0</td>\n",
              "      <td>[{'iso_639_1': 'en', 'name': 'English'}]</td>\n",
              "      <td>Released</td>\n",
              "      <td>NaN</td>\n",
              "      <td>Toy Story</td>\n",
              "      <td>7.7</td>\n",
              "      <td>5415.0</td>\n",
              "    </tr>\n",
              "    <tr>\n",
              "      <th>1</th>\n",
              "      <td>False</td>\n",
              "      <td>65000000</td>\n",
              "      <td>Adventure|Fantasy|Family</td>\n",
              "      <td>8844</td>\n",
              "      <td>en</td>\n",
              "      <td>Jumanji</td>\n",
              "      <td>When siblings Judy and Peter discover an encha...</td>\n",
              "      <td>17.015539</td>\n",
              "      <td>TriStar Pictures|Teitler Film|Interscope Commu...</td>\n",
              "      <td>United States of America</td>\n",
              "      <td>1995-12-15</td>\n",
              "      <td>262797249.0</td>\n",
              "      <td>104.0</td>\n",
              "      <td>[{'iso_639_1': 'en', 'name': 'English'}, {'iso...</td>\n",
              "      <td>Released</td>\n",
              "      <td>Roll the dice and unleash the excitement!</td>\n",
              "      <td>Jumanji</td>\n",
              "      <td>6.9</td>\n",
              "      <td>2413.0</td>\n",
              "    </tr>\n",
              "    <tr>\n",
              "      <th>2</th>\n",
              "      <td>False</td>\n",
              "      <td>0</td>\n",
              "      <td>Romance|Comedy</td>\n",
              "      <td>15602</td>\n",
              "      <td>en</td>\n",
              "      <td>Grumpier Old Men</td>\n",
              "      <td>A family wedding reignites the ancient feud be...</td>\n",
              "      <td>11.7129</td>\n",
              "      <td>Warner Bros.|Lancaster Gate</td>\n",
              "      <td>United States of America</td>\n",
              "      <td>1995-12-22</td>\n",
              "      <td>0.0</td>\n",
              "      <td>101.0</td>\n",
              "      <td>[{'iso_639_1': 'en', 'name': 'English'}]</td>\n",
              "      <td>Released</td>\n",
              "      <td>Still Yelling. Still Fighting. Still Ready for...</td>\n",
              "      <td>Grumpier Old Men</td>\n",
              "      <td>6.5</td>\n",
              "      <td>92.0</td>\n",
              "    </tr>\n",
              "    <tr>\n",
              "      <th>3</th>\n",
              "      <td>False</td>\n",
              "      <td>16000000</td>\n",
              "      <td>Comedy|Drama|Romance</td>\n",
              "      <td>31357</td>\n",
              "      <td>en</td>\n",
              "      <td>Waiting to Exhale</td>\n",
              "      <td>Cheated on, mistreated and stepped on, the wom...</td>\n",
              "      <td>3.859495</td>\n",
              "      <td>Twentieth Century Fox Film Corporation</td>\n",
              "      <td>United States of America</td>\n",
              "      <td>1995-12-22</td>\n",
              "      <td>81452156.0</td>\n",
              "      <td>127.0</td>\n",
              "      <td>[{'iso_639_1': 'en', 'name': 'English'}]</td>\n",
              "      <td>Released</td>\n",
              "      <td>Friends are the people who let you be yourself...</td>\n",
              "      <td>Waiting to Exhale</td>\n",
              "      <td>6.1</td>\n",
              "      <td>34.0</td>\n",
              "    </tr>\n",
              "    <tr>\n",
              "      <th>4</th>\n",
              "      <td>False</td>\n",
              "      <td>0</td>\n",
              "      <td>Comedy</td>\n",
              "      <td>11862</td>\n",
              "      <td>en</td>\n",
              "      <td>Father of the Bride Part II</td>\n",
              "      <td>Just when George Banks has recovered from his ...</td>\n",
              "      <td>8.387519</td>\n",
              "      <td>Sandollar Productions|Touchstone Pictures</td>\n",
              "      <td>United States of America</td>\n",
              "      <td>1995-02-10</td>\n",
              "      <td>76578911.0</td>\n",
              "      <td>106.0</td>\n",
              "      <td>[{'iso_639_1': 'en', 'name': 'English'}]</td>\n",
              "      <td>Released</td>\n",
              "      <td>Just When His World Is Back To Normal... He's ...</td>\n",
              "      <td>Father of the Bride Part II</td>\n",
              "      <td>5.7</td>\n",
              "      <td>173.0</td>\n",
              "    </tr>\n",
              "  </tbody>\n",
              "</table>\n",
              "</div>"
            ],
            "text/plain": [
              "   adult    budget  ... vote_average vote_count\n",
              "0  False  30000000  ...          7.7     5415.0\n",
              "1  False  65000000  ...          6.9     2413.0\n",
              "2  False         0  ...          6.5       92.0\n",
              "3  False  16000000  ...          6.1       34.0\n",
              "4  False         0  ...          5.7      173.0\n",
              "\n",
              "[5 rows x 19 columns]"
            ]
          },
          "metadata": {
            "tags": []
          },
          "execution_count": 10
        }
      ]
    },
    {
      "cell_type": "markdown",
      "metadata": {
        "id": "JNX4C3mcbBwJ",
        "colab_type": "text"
      },
      "source": [
        "**Exploring remaining Columns :** "
      ]
    },
    {
      "cell_type": "code",
      "metadata": {
        "id": "CDbu0SXgggZL",
        "colab_type": "code",
        "colab": {
          "base_uri": "https://localhost:8080/",
          "height": 363
        },
        "outputId": "a6317595-1aea-4009-8987-1e5513376693"
      },
      "source": [
        "movies_metadata[movies_metadata['original_title'] != movies_metadata['title']][['title', 'original_title']].head(10)"
      ],
      "execution_count": 11,
      "outputs": [
        {
          "output_type": "execute_result",
          "data": {
            "text/html": [
              "<div>\n",
              "<style scoped>\n",
              "    .dataframe tbody tr th:only-of-type {\n",
              "        vertical-align: middle;\n",
              "    }\n",
              "\n",
              "    .dataframe tbody tr th {\n",
              "        vertical-align: top;\n",
              "    }\n",
              "\n",
              "    .dataframe thead th {\n",
              "        text-align: right;\n",
              "    }\n",
              "</style>\n",
              "<table border=\"1\" class=\"dataframe\">\n",
              "  <thead>\n",
              "    <tr style=\"text-align: right;\">\n",
              "      <th></th>\n",
              "      <th>title</th>\n",
              "      <th>original_title</th>\n",
              "    </tr>\n",
              "  </thead>\n",
              "  <tbody>\n",
              "    <tr>\n",
              "      <th>28</th>\n",
              "      <td>The City of Lost Children</td>\n",
              "      <td>La Cité des Enfants Perdus</td>\n",
              "    </tr>\n",
              "    <tr>\n",
              "      <th>29</th>\n",
              "      <td>Shanghai Triad</td>\n",
              "      <td>摇啊摇，摇到外婆桥</td>\n",
              "    </tr>\n",
              "    <tr>\n",
              "      <th>32</th>\n",
              "      <td>Wings of Courage</td>\n",
              "      <td>Guillaumet, les ailes du courage</td>\n",
              "    </tr>\n",
              "    <tr>\n",
              "      <th>57</th>\n",
              "      <td>The Postman</td>\n",
              "      <td>Il postino</td>\n",
              "    </tr>\n",
              "    <tr>\n",
              "      <th>58</th>\n",
              "      <td>The Confessional</td>\n",
              "      <td>Le confessionnal</td>\n",
              "    </tr>\n",
              "    <tr>\n",
              "      <th>67</th>\n",
              "      <td>French Twist</td>\n",
              "      <td>Gazon maudit</td>\n",
              "    </tr>\n",
              "    <tr>\n",
              "      <th>72</th>\n",
              "      <td>Les Miserables</td>\n",
              "      <td>Les misérables</td>\n",
              "    </tr>\n",
              "    <tr>\n",
              "      <th>79</th>\n",
              "      <td>The White Balloon</td>\n",
              "      <td>بادکنک سفید</td>\n",
              "    </tr>\n",
              "    <tr>\n",
              "      <th>81</th>\n",
              "      <td>Antonia's Line</td>\n",
              "      <td>Antonia</td>\n",
              "    </tr>\n",
              "    <tr>\n",
              "      <th>104</th>\n",
              "      <td>Nobody Loves Me</td>\n",
              "      <td>Keiner liebt mich</td>\n",
              "    </tr>\n",
              "  </tbody>\n",
              "</table>\n",
              "</div>"
            ],
            "text/plain": [
              "                         title                    original_title\n",
              "28   The City of Lost Children        La Cité des Enfants Perdus\n",
              "29              Shanghai Triad                         摇啊摇，摇到外婆桥\n",
              "32            Wings of Courage  Guillaumet, les ailes du courage\n",
              "57                 The Postman                        Il postino\n",
              "58            The Confessional                  Le confessionnal\n",
              "67                French Twist                      Gazon maudit\n",
              "72              Les Miserables                    Les misérables\n",
              "79           The White Balloon                       بادکنک سفید\n",
              "81              Antonia's Line                           Antonia\n",
              "104            Nobody Loves Me                 Keiner liebt mich"
            ]
          },
          "metadata": {
            "tags": []
          },
          "execution_count": 11
        }
      ]
    },
    {
      "cell_type": "markdown",
      "metadata": {
        "id": "w9sP-NS2g9Le",
        "colab_type": "text"
      },
      "source": [
        "The **'original_title'** refers to the title of the movie in the native language in which the movie was shot.So let's drop this column too."
      ]
    },
    {
      "cell_type": "code",
      "metadata": {
        "id": "j_SpZmh9g8Q4",
        "colab_type": "code",
        "colab": {
          "base_uri": "https://localhost:8080/",
          "height": 678
        },
        "outputId": "63449318-5646-46c0-f447-bc7b8d4cf69e"
      },
      "source": [
        "movies_metadata.drop('original_title',inplace=True,axis=1)\n",
        "movies_metadata.head(5)"
      ],
      "execution_count": 12,
      "outputs": [
        {
          "output_type": "execute_result",
          "data": {
            "text/html": [
              "<div>\n",
              "<style scoped>\n",
              "    .dataframe tbody tr th:only-of-type {\n",
              "        vertical-align: middle;\n",
              "    }\n",
              "\n",
              "    .dataframe tbody tr th {\n",
              "        vertical-align: top;\n",
              "    }\n",
              "\n",
              "    .dataframe thead th {\n",
              "        text-align: right;\n",
              "    }\n",
              "</style>\n",
              "<table border=\"1\" class=\"dataframe\">\n",
              "  <thead>\n",
              "    <tr style=\"text-align: right;\">\n",
              "      <th></th>\n",
              "      <th>adult</th>\n",
              "      <th>budget</th>\n",
              "      <th>genres</th>\n",
              "      <th>id</th>\n",
              "      <th>original_language</th>\n",
              "      <th>overview</th>\n",
              "      <th>popularity</th>\n",
              "      <th>production_companies</th>\n",
              "      <th>production_countries</th>\n",
              "      <th>release_date</th>\n",
              "      <th>revenue</th>\n",
              "      <th>runtime</th>\n",
              "      <th>spoken_languages</th>\n",
              "      <th>status</th>\n",
              "      <th>tagline</th>\n",
              "      <th>title</th>\n",
              "      <th>vote_average</th>\n",
              "      <th>vote_count</th>\n",
              "    </tr>\n",
              "  </thead>\n",
              "  <tbody>\n",
              "    <tr>\n",
              "      <th>0</th>\n",
              "      <td>False</td>\n",
              "      <td>30000000</td>\n",
              "      <td>Animation|Comedy|Family</td>\n",
              "      <td>862</td>\n",
              "      <td>en</td>\n",
              "      <td>Led by Woody, Andy's toys live happily in his ...</td>\n",
              "      <td>21.946943</td>\n",
              "      <td>Pixar Animation Studios</td>\n",
              "      <td>United States of America</td>\n",
              "      <td>1995-10-30</td>\n",
              "      <td>373554033.0</td>\n",
              "      <td>81.0</td>\n",
              "      <td>[{'iso_639_1': 'en', 'name': 'English'}]</td>\n",
              "      <td>Released</td>\n",
              "      <td>NaN</td>\n",
              "      <td>Toy Story</td>\n",
              "      <td>7.7</td>\n",
              "      <td>5415.0</td>\n",
              "    </tr>\n",
              "    <tr>\n",
              "      <th>1</th>\n",
              "      <td>False</td>\n",
              "      <td>65000000</td>\n",
              "      <td>Adventure|Fantasy|Family</td>\n",
              "      <td>8844</td>\n",
              "      <td>en</td>\n",
              "      <td>When siblings Judy and Peter discover an encha...</td>\n",
              "      <td>17.015539</td>\n",
              "      <td>TriStar Pictures|Teitler Film|Interscope Commu...</td>\n",
              "      <td>United States of America</td>\n",
              "      <td>1995-12-15</td>\n",
              "      <td>262797249.0</td>\n",
              "      <td>104.0</td>\n",
              "      <td>[{'iso_639_1': 'en', 'name': 'English'}, {'iso...</td>\n",
              "      <td>Released</td>\n",
              "      <td>Roll the dice and unleash the excitement!</td>\n",
              "      <td>Jumanji</td>\n",
              "      <td>6.9</td>\n",
              "      <td>2413.0</td>\n",
              "    </tr>\n",
              "    <tr>\n",
              "      <th>2</th>\n",
              "      <td>False</td>\n",
              "      <td>0</td>\n",
              "      <td>Romance|Comedy</td>\n",
              "      <td>15602</td>\n",
              "      <td>en</td>\n",
              "      <td>A family wedding reignites the ancient feud be...</td>\n",
              "      <td>11.7129</td>\n",
              "      <td>Warner Bros.|Lancaster Gate</td>\n",
              "      <td>United States of America</td>\n",
              "      <td>1995-12-22</td>\n",
              "      <td>0.0</td>\n",
              "      <td>101.0</td>\n",
              "      <td>[{'iso_639_1': 'en', 'name': 'English'}]</td>\n",
              "      <td>Released</td>\n",
              "      <td>Still Yelling. Still Fighting. Still Ready for...</td>\n",
              "      <td>Grumpier Old Men</td>\n",
              "      <td>6.5</td>\n",
              "      <td>92.0</td>\n",
              "    </tr>\n",
              "    <tr>\n",
              "      <th>3</th>\n",
              "      <td>False</td>\n",
              "      <td>16000000</td>\n",
              "      <td>Comedy|Drama|Romance</td>\n",
              "      <td>31357</td>\n",
              "      <td>en</td>\n",
              "      <td>Cheated on, mistreated and stepped on, the wom...</td>\n",
              "      <td>3.859495</td>\n",
              "      <td>Twentieth Century Fox Film Corporation</td>\n",
              "      <td>United States of America</td>\n",
              "      <td>1995-12-22</td>\n",
              "      <td>81452156.0</td>\n",
              "      <td>127.0</td>\n",
              "      <td>[{'iso_639_1': 'en', 'name': 'English'}]</td>\n",
              "      <td>Released</td>\n",
              "      <td>Friends are the people who let you be yourself...</td>\n",
              "      <td>Waiting to Exhale</td>\n",
              "      <td>6.1</td>\n",
              "      <td>34.0</td>\n",
              "    </tr>\n",
              "    <tr>\n",
              "      <th>4</th>\n",
              "      <td>False</td>\n",
              "      <td>0</td>\n",
              "      <td>Comedy</td>\n",
              "      <td>11862</td>\n",
              "      <td>en</td>\n",
              "      <td>Just when George Banks has recovered from his ...</td>\n",
              "      <td>8.387519</td>\n",
              "      <td>Sandollar Productions|Touchstone Pictures</td>\n",
              "      <td>United States of America</td>\n",
              "      <td>1995-02-10</td>\n",
              "      <td>76578911.0</td>\n",
              "      <td>106.0</td>\n",
              "      <td>[{'iso_639_1': 'en', 'name': 'English'}]</td>\n",
              "      <td>Released</td>\n",
              "      <td>Just When His World Is Back To Normal... He's ...</td>\n",
              "      <td>Father of the Bride Part II</td>\n",
              "      <td>5.7</td>\n",
              "      <td>173.0</td>\n",
              "    </tr>\n",
              "  </tbody>\n",
              "</table>\n",
              "</div>"
            ],
            "text/plain": [
              "   adult    budget  ... vote_average vote_count\n",
              "0  False  30000000  ...          7.7     5415.0\n",
              "1  False  65000000  ...          6.9     2413.0\n",
              "2  False         0  ...          6.5       92.0\n",
              "3  False  16000000  ...          6.1       34.0\n",
              "4  False         0  ...          5.7      173.0\n",
              "\n",
              "[5 rows x 18 columns]"
            ]
          },
          "metadata": {
            "tags": []
          },
          "execution_count": 12
        }
      ]
    },
    {
      "cell_type": "code",
      "metadata": {
        "id": "CYapdjXAko_V",
        "colab_type": "code",
        "colab": {
          "base_uri": "https://localhost:8080/",
          "height": 90
        },
        "outputId": "251f0066-d1cd-4e86-8558-a96509446fd0"
      },
      "source": [
        "movies_metadata['adult'].unique()"
      ],
      "execution_count": 13,
      "outputs": [
        {
          "output_type": "execute_result",
          "data": {
            "text/plain": [
              "array(['False', 'True', ' - Written by Ørnås',\n",
              "       ' Rune Balot goes to a casino connected to the October corporation to try to wrap up her case once and for all.',\n",
              "       ' Avalanche Sharks tells the story of a bikini contest that turns into a horrifying affair when it is hit by a shark avalanche.'],\n",
              "      dtype=object)"
            ]
          },
          "metadata": {
            "tags": []
          },
          "execution_count": 13
        }
      ]
    },
    {
      "cell_type": "code",
      "metadata": {
        "id": "BDtrU9MalVjg",
        "colab_type": "code",
        "colab": {
          "base_uri": "https://localhost:8080/",
          "height": 81
        },
        "outputId": "c8a08f39-ecfd-4822-a97b-5943837f14cc"
      },
      "source": [
        "movies_metadata[movies_metadata['adult'] ==' Rune Balot goes to a casino connected to the October corporation to try to wrap up her case once and for all.' ][['title', 'adult']].head()"
      ],
      "execution_count": 14,
      "outputs": [
        {
          "output_type": "execute_result",
          "data": {
            "text/html": [
              "<div>\n",
              "<style scoped>\n",
              "    .dataframe tbody tr th:only-of-type {\n",
              "        vertical-align: middle;\n",
              "    }\n",
              "\n",
              "    .dataframe tbody tr th {\n",
              "        vertical-align: top;\n",
              "    }\n",
              "\n",
              "    .dataframe thead th {\n",
              "        text-align: right;\n",
              "    }\n",
              "</style>\n",
              "<table border=\"1\" class=\"dataframe\">\n",
              "  <thead>\n",
              "    <tr style=\"text-align: right;\">\n",
              "      <th></th>\n",
              "      <th>title</th>\n",
              "      <th>adult</th>\n",
              "    </tr>\n",
              "  </thead>\n",
              "  <tbody>\n",
              "    <tr>\n",
              "      <th>29503</th>\n",
              "      <td>None</td>\n",
              "      <td>Rune Balot goes to a casino connected to the ...</td>\n",
              "    </tr>\n",
              "  </tbody>\n",
              "</table>\n",
              "</div>"
            ],
            "text/plain": [
              "      title                                              adult\n",
              "29503  None   Rune Balot goes to a casino connected to the ..."
            ]
          },
          "metadata": {
            "tags": []
          },
          "execution_count": 14
        }
      ]
    },
    {
      "cell_type": "code",
      "metadata": {
        "id": "ROrlQny2mHdW",
        "colab_type": "code",
        "colab": {
          "base_uri": "https://localhost:8080/",
          "height": 81
        },
        "outputId": "0874bd76-4045-4c0b-83d1-c38dc602bc21"
      },
      "source": [
        "movies_metadata[movies_metadata['adult'] ==' Avalanche Sharks tells the story of a bikini contest that turns into a horrifying affair when it is hit by a shark avalanche.' ][['title', 'adult']].head()\n"
      ],
      "execution_count": 15,
      "outputs": [
        {
          "output_type": "execute_result",
          "data": {
            "text/html": [
              "<div>\n",
              "<style scoped>\n",
              "    .dataframe tbody tr th:only-of-type {\n",
              "        vertical-align: middle;\n",
              "    }\n",
              "\n",
              "    .dataframe tbody tr th {\n",
              "        vertical-align: top;\n",
              "    }\n",
              "\n",
              "    .dataframe thead th {\n",
              "        text-align: right;\n",
              "    }\n",
              "</style>\n",
              "<table border=\"1\" class=\"dataframe\">\n",
              "  <thead>\n",
              "    <tr style=\"text-align: right;\">\n",
              "      <th></th>\n",
              "      <th>title</th>\n",
              "      <th>adult</th>\n",
              "    </tr>\n",
              "  </thead>\n",
              "  <tbody>\n",
              "    <tr>\n",
              "      <th>35587</th>\n",
              "      <td>None</td>\n",
              "      <td>Avalanche Sharks tells the story of a bikini ...</td>\n",
              "    </tr>\n",
              "  </tbody>\n",
              "</table>\n",
              "</div>"
            ],
            "text/plain": [
              "      title                                              adult\n",
              "35587  None   Avalanche Sharks tells the story of a bikini ..."
            ]
          },
          "metadata": {
            "tags": []
          },
          "execution_count": 15
        }
      ]
    },
    {
      "cell_type": "code",
      "metadata": {
        "id": "N6b_VoNGmaWf",
        "colab_type": "code",
        "colab": {
          "base_uri": "https://localhost:8080/",
          "height": 81
        },
        "outputId": "e88157b6-636d-4916-9a19-4c38f9efd82a"
      },
      "source": [
        "movies_metadata[movies_metadata['adult'] ==' - Written by Ørnås' ][['title', 'adult']].head()\n"
      ],
      "execution_count": 16,
      "outputs": [
        {
          "output_type": "execute_result",
          "data": {
            "text/html": [
              "<div>\n",
              "<style scoped>\n",
              "    .dataframe tbody tr th:only-of-type {\n",
              "        vertical-align: middle;\n",
              "    }\n",
              "\n",
              "    .dataframe tbody tr th {\n",
              "        vertical-align: top;\n",
              "    }\n",
              "\n",
              "    .dataframe thead th {\n",
              "        text-align: right;\n",
              "    }\n",
              "</style>\n",
              "<table border=\"1\" class=\"dataframe\">\n",
              "  <thead>\n",
              "    <tr style=\"text-align: right;\">\n",
              "      <th></th>\n",
              "      <th>title</th>\n",
              "      <th>adult</th>\n",
              "    </tr>\n",
              "  </thead>\n",
              "  <tbody>\n",
              "    <tr>\n",
              "      <th>19730</th>\n",
              "      <td>None</td>\n",
              "      <td>- Written by Ørnås</td>\n",
              "    </tr>\n",
              "  </tbody>\n",
              "</table>\n",
              "</div>"
            ],
            "text/plain": [
              "      title                adult\n",
              "19730  None   - Written by Ørnås"
            ]
          },
          "metadata": {
            "tags": []
          },
          "execution_count": 16
        }
      ]
    },
    {
      "cell_type": "code",
      "metadata": {
        "id": "AJMekcI0mrFr",
        "colab_type": "code",
        "colab": {
          "base_uri": "https://localhost:8080/",
          "height": 331
        },
        "outputId": "9001d549-b5e4-4ae2-a6a6-ca13cec86c60"
      },
      "source": [
        "movies_metadata[movies_metadata['adult'] =='True' ][['title', 'adult']].head(20)\n"
      ],
      "execution_count": 17,
      "outputs": [
        {
          "output_type": "execute_result",
          "data": {
            "text/html": [
              "<div>\n",
              "<style scoped>\n",
              "    .dataframe tbody tr th:only-of-type {\n",
              "        vertical-align: middle;\n",
              "    }\n",
              "\n",
              "    .dataframe tbody tr th {\n",
              "        vertical-align: top;\n",
              "    }\n",
              "\n",
              "    .dataframe thead th {\n",
              "        text-align: right;\n",
              "    }\n",
              "</style>\n",
              "<table border=\"1\" class=\"dataframe\">\n",
              "  <thead>\n",
              "    <tr style=\"text-align: right;\">\n",
              "      <th></th>\n",
              "      <th>title</th>\n",
              "      <th>adult</th>\n",
              "    </tr>\n",
              "  </thead>\n",
              "  <tbody>\n",
              "    <tr>\n",
              "      <th>19489</th>\n",
              "      <td>Erotic Nights of the Living Dead</td>\n",
              "      <td>True</td>\n",
              "    </tr>\n",
              "    <tr>\n",
              "      <th>28701</th>\n",
              "      <td>Standoff</td>\n",
              "      <td>True</td>\n",
              "    </tr>\n",
              "    <tr>\n",
              "      <th>31934</th>\n",
              "      <td>Electrical Girl</td>\n",
              "      <td>True</td>\n",
              "    </tr>\n",
              "    <tr>\n",
              "      <th>32113</th>\n",
              "      <td>Diet of Sex</td>\n",
              "      <td>True</td>\n",
              "    </tr>\n",
              "    <tr>\n",
              "      <th>39901</th>\n",
              "      <td>Amateur Porn Star Killer 2</td>\n",
              "      <td>True</td>\n",
              "    </tr>\n",
              "    <tr>\n",
              "      <th>39902</th>\n",
              "      <td>The Band</td>\n",
              "      <td>True</td>\n",
              "    </tr>\n",
              "    <tr>\n",
              "      <th>40574</th>\n",
              "      <td>The Sinful Dwarf</td>\n",
              "      <td>True</td>\n",
              "    </tr>\n",
              "    <tr>\n",
              "      <th>41009</th>\n",
              "      <td>Adulterers</td>\n",
              "      <td>True</td>\n",
              "    </tr>\n",
              "    <tr>\n",
              "      <th>43090</th>\n",
              "      <td>Half -Life</td>\n",
              "      <td>True</td>\n",
              "    </tr>\n",
              "  </tbody>\n",
              "</table>\n",
              "</div>"
            ],
            "text/plain": [
              "                                  title adult\n",
              "19489  Erotic Nights of the Living Dead  True\n",
              "28701                          Standoff  True\n",
              "31934                   Electrical Girl  True\n",
              "32113                       Diet of Sex  True\n",
              "39901        Amateur Porn Star Killer 2  True\n",
              "39902                          The Band  True\n",
              "40574                  The Sinful Dwarf  True\n",
              "41009                        Adulterers  True\n",
              "43090                        Half -Life  True"
            ]
          },
          "metadata": {
            "tags": []
          },
          "execution_count": 17
        }
      ]
    },
    {
      "cell_type": "markdown",
      "metadata": {
        "id": "qEu93jLcnQST",
        "colab_type": "text"
      },
      "source": [
        "There are negligible number of adult movies in this dataset. The adult feature therefore is not of much use to us and can be safely dropped."
      ]
    },
    {
      "cell_type": "code",
      "metadata": {
        "id": "ct5xsgKvnpdJ",
        "colab_type": "code",
        "colab": {
          "base_uri": "https://localhost:8080/",
          "height": 678
        },
        "outputId": "da6c39b5-7449-4586-b997-1a50e0462d34"
      },
      "source": [
        "movies_metadata.drop('adult',inplace=True,axis=1)\n",
        "movies_metadata.head()"
      ],
      "execution_count": 18,
      "outputs": [
        {
          "output_type": "execute_result",
          "data": {
            "text/html": [
              "<div>\n",
              "<style scoped>\n",
              "    .dataframe tbody tr th:only-of-type {\n",
              "        vertical-align: middle;\n",
              "    }\n",
              "\n",
              "    .dataframe tbody tr th {\n",
              "        vertical-align: top;\n",
              "    }\n",
              "\n",
              "    .dataframe thead th {\n",
              "        text-align: right;\n",
              "    }\n",
              "</style>\n",
              "<table border=\"1\" class=\"dataframe\">\n",
              "  <thead>\n",
              "    <tr style=\"text-align: right;\">\n",
              "      <th></th>\n",
              "      <th>budget</th>\n",
              "      <th>genres</th>\n",
              "      <th>id</th>\n",
              "      <th>original_language</th>\n",
              "      <th>overview</th>\n",
              "      <th>popularity</th>\n",
              "      <th>production_companies</th>\n",
              "      <th>production_countries</th>\n",
              "      <th>release_date</th>\n",
              "      <th>revenue</th>\n",
              "      <th>runtime</th>\n",
              "      <th>spoken_languages</th>\n",
              "      <th>status</th>\n",
              "      <th>tagline</th>\n",
              "      <th>title</th>\n",
              "      <th>vote_average</th>\n",
              "      <th>vote_count</th>\n",
              "    </tr>\n",
              "  </thead>\n",
              "  <tbody>\n",
              "    <tr>\n",
              "      <th>0</th>\n",
              "      <td>30000000</td>\n",
              "      <td>Animation|Comedy|Family</td>\n",
              "      <td>862</td>\n",
              "      <td>en</td>\n",
              "      <td>Led by Woody, Andy's toys live happily in his ...</td>\n",
              "      <td>21.946943</td>\n",
              "      <td>Pixar Animation Studios</td>\n",
              "      <td>United States of America</td>\n",
              "      <td>1995-10-30</td>\n",
              "      <td>373554033.0</td>\n",
              "      <td>81.0</td>\n",
              "      <td>[{'iso_639_1': 'en', 'name': 'English'}]</td>\n",
              "      <td>Released</td>\n",
              "      <td>NaN</td>\n",
              "      <td>Toy Story</td>\n",
              "      <td>7.7</td>\n",
              "      <td>5415.0</td>\n",
              "    </tr>\n",
              "    <tr>\n",
              "      <th>1</th>\n",
              "      <td>65000000</td>\n",
              "      <td>Adventure|Fantasy|Family</td>\n",
              "      <td>8844</td>\n",
              "      <td>en</td>\n",
              "      <td>When siblings Judy and Peter discover an encha...</td>\n",
              "      <td>17.015539</td>\n",
              "      <td>TriStar Pictures|Teitler Film|Interscope Commu...</td>\n",
              "      <td>United States of America</td>\n",
              "      <td>1995-12-15</td>\n",
              "      <td>262797249.0</td>\n",
              "      <td>104.0</td>\n",
              "      <td>[{'iso_639_1': 'en', 'name': 'English'}, {'iso...</td>\n",
              "      <td>Released</td>\n",
              "      <td>Roll the dice and unleash the excitement!</td>\n",
              "      <td>Jumanji</td>\n",
              "      <td>6.9</td>\n",
              "      <td>2413.0</td>\n",
              "    </tr>\n",
              "    <tr>\n",
              "      <th>2</th>\n",
              "      <td>0</td>\n",
              "      <td>Romance|Comedy</td>\n",
              "      <td>15602</td>\n",
              "      <td>en</td>\n",
              "      <td>A family wedding reignites the ancient feud be...</td>\n",
              "      <td>11.7129</td>\n",
              "      <td>Warner Bros.|Lancaster Gate</td>\n",
              "      <td>United States of America</td>\n",
              "      <td>1995-12-22</td>\n",
              "      <td>0.0</td>\n",
              "      <td>101.0</td>\n",
              "      <td>[{'iso_639_1': 'en', 'name': 'English'}]</td>\n",
              "      <td>Released</td>\n",
              "      <td>Still Yelling. Still Fighting. Still Ready for...</td>\n",
              "      <td>Grumpier Old Men</td>\n",
              "      <td>6.5</td>\n",
              "      <td>92.0</td>\n",
              "    </tr>\n",
              "    <tr>\n",
              "      <th>3</th>\n",
              "      <td>16000000</td>\n",
              "      <td>Comedy|Drama|Romance</td>\n",
              "      <td>31357</td>\n",
              "      <td>en</td>\n",
              "      <td>Cheated on, mistreated and stepped on, the wom...</td>\n",
              "      <td>3.859495</td>\n",
              "      <td>Twentieth Century Fox Film Corporation</td>\n",
              "      <td>United States of America</td>\n",
              "      <td>1995-12-22</td>\n",
              "      <td>81452156.0</td>\n",
              "      <td>127.0</td>\n",
              "      <td>[{'iso_639_1': 'en', 'name': 'English'}]</td>\n",
              "      <td>Released</td>\n",
              "      <td>Friends are the people who let you be yourself...</td>\n",
              "      <td>Waiting to Exhale</td>\n",
              "      <td>6.1</td>\n",
              "      <td>34.0</td>\n",
              "    </tr>\n",
              "    <tr>\n",
              "      <th>4</th>\n",
              "      <td>0</td>\n",
              "      <td>Comedy</td>\n",
              "      <td>11862</td>\n",
              "      <td>en</td>\n",
              "      <td>Just when George Banks has recovered from his ...</td>\n",
              "      <td>8.387519</td>\n",
              "      <td>Sandollar Productions|Touchstone Pictures</td>\n",
              "      <td>United States of America</td>\n",
              "      <td>1995-02-10</td>\n",
              "      <td>76578911.0</td>\n",
              "      <td>106.0</td>\n",
              "      <td>[{'iso_639_1': 'en', 'name': 'English'}]</td>\n",
              "      <td>Released</td>\n",
              "      <td>Just When His World Is Back To Normal... He's ...</td>\n",
              "      <td>Father of the Bride Part II</td>\n",
              "      <td>5.7</td>\n",
              "      <td>173.0</td>\n",
              "    </tr>\n",
              "  </tbody>\n",
              "</table>\n",
              "</div>"
            ],
            "text/plain": [
              "     budget                    genres  ... vote_average vote_count\n",
              "0  30000000   Animation|Comedy|Family  ...          7.7     5415.0\n",
              "1  65000000  Adventure|Fantasy|Family  ...          6.9     2413.0\n",
              "2         0            Romance|Comedy  ...          6.5       92.0\n",
              "3  16000000      Comedy|Drama|Romance  ...          6.1       34.0\n",
              "4         0                    Comedy  ...          5.7      173.0\n",
              "\n",
              "[5 rows x 17 columns]"
            ]
          },
          "metadata": {
            "tags": []
          },
          "execution_count": 18
        }
      ]
    },
    {
      "cell_type": "markdown",
      "metadata": {
        "id": "D41Ytyk66aOG",
        "colab_type": "text"
      },
      "source": [
        "Let's explore the dataset a bit more."
      ]
    },
    {
      "cell_type": "code",
      "metadata": {
        "id": "EfmLa7Tjoou1",
        "colab_type": "code",
        "colab": {
          "base_uri": "https://localhost:8080/",
          "height": 144
        },
        "outputId": "d839a396-2d32-43a2-ee11-553b031facb3"
      },
      "source": [
        "movies_metadata['status'].value_counts()\n"
      ],
      "execution_count": 19,
      "outputs": [
        {
          "output_type": "execute_result",
          "data": {
            "text/plain": [
              "Released           45014\n",
              "Rumored              230\n",
              "Post Production       98\n",
              "In Production         20\n",
              "Planned               15\n",
              "Canceled               2\n",
              "Name: status, dtype: int64"
            ]
          },
          "metadata": {
            "tags": []
          },
          "execution_count": 19
        }
      ]
    },
    {
      "cell_type": "code",
      "metadata": {
        "id": "SZ9JdEtQ1Cka",
        "colab_type": "code",
        "colab": {
          "base_uri": "https://localhost:8080/",
          "height": 453
        },
        "outputId": "38f4bc63-dc26-4e5a-89ab-349c43e74eb1"
      },
      "source": [
        "movies_metadata.info()"
      ],
      "execution_count": 20,
      "outputs": [
        {
          "output_type": "stream",
          "text": [
            "<class 'pandas.core.frame.DataFrame'>\n",
            "RangeIndex: 45466 entries, 0 to 45465\n",
            "Data columns (total 17 columns):\n",
            " #   Column                Non-Null Count  Dtype  \n",
            "---  ------                --------------  -----  \n",
            " 0   budget                45466 non-null  object \n",
            " 1   genres                45466 non-null  object \n",
            " 2   id                    45466 non-null  object \n",
            " 3   original_language     45455 non-null  object \n",
            " 4   overview              44512 non-null  object \n",
            " 5   popularity            45461 non-null  object \n",
            " 6   production_companies  45466 non-null  object \n",
            " 7   production_countries  45466 non-null  object \n",
            " 8   release_date          45379 non-null  object \n",
            " 9   revenue               45460 non-null  float64\n",
            " 10  runtime               45203 non-null  float64\n",
            " 11  spoken_languages      45460 non-null  object \n",
            " 12  status                45379 non-null  object \n",
            " 13  tagline               20412 non-null  object \n",
            " 14  title                 45460 non-null  object \n",
            " 15  vote_average          45460 non-null  float64\n",
            " 16  vote_count            45460 non-null  float64\n",
            "dtypes: float64(4), object(13)\n",
            "memory usage: 5.9+ MB\n"
          ],
          "name": "stdout"
        }
      ]
    },
    {
      "cell_type": "markdown",
      "metadata": {
        "id": "Cx-vMb_c7Fdl",
        "colab_type": "text"
      },
      "source": [
        "Since both the columns **'overview'** and **'tagline'** contains description of the movie...let's combine these two column and form a single column **'content'** ."
      ]
    },
    {
      "cell_type": "code",
      "metadata": {
        "id": "SwdrdQCI7wvK",
        "colab_type": "code",
        "colab": {
          "base_uri": "https://localhost:8080/",
          "height": 678
        },
        "outputId": "4ebdb21e-bcbd-4650-aff0-ef4d05ab5c34"
      },
      "source": [
        "movies_metadata['overview'] = movies_metadata['overview'].fillna('')\n",
        "movies_metadata['tagline'] = movies_metadata['tagline'].fillna('')\n",
        "movies_metadata['content'] = movies_metadata['overview']+movies_metadata['tagline']\n",
        "movies_metadata.drop('overview',inplace=True,axis=1)\n",
        "movies_metadata.drop('tagline',inplace=True,axis=1)\n",
        "movies_metadata.head(5)"
      ],
      "execution_count": 21,
      "outputs": [
        {
          "output_type": "execute_result",
          "data": {
            "text/html": [
              "<div>\n",
              "<style scoped>\n",
              "    .dataframe tbody tr th:only-of-type {\n",
              "        vertical-align: middle;\n",
              "    }\n",
              "\n",
              "    .dataframe tbody tr th {\n",
              "        vertical-align: top;\n",
              "    }\n",
              "\n",
              "    .dataframe thead th {\n",
              "        text-align: right;\n",
              "    }\n",
              "</style>\n",
              "<table border=\"1\" class=\"dataframe\">\n",
              "  <thead>\n",
              "    <tr style=\"text-align: right;\">\n",
              "      <th></th>\n",
              "      <th>budget</th>\n",
              "      <th>genres</th>\n",
              "      <th>id</th>\n",
              "      <th>original_language</th>\n",
              "      <th>popularity</th>\n",
              "      <th>production_companies</th>\n",
              "      <th>production_countries</th>\n",
              "      <th>release_date</th>\n",
              "      <th>revenue</th>\n",
              "      <th>runtime</th>\n",
              "      <th>spoken_languages</th>\n",
              "      <th>status</th>\n",
              "      <th>title</th>\n",
              "      <th>vote_average</th>\n",
              "      <th>vote_count</th>\n",
              "      <th>content</th>\n",
              "    </tr>\n",
              "  </thead>\n",
              "  <tbody>\n",
              "    <tr>\n",
              "      <th>0</th>\n",
              "      <td>30000000</td>\n",
              "      <td>Animation|Comedy|Family</td>\n",
              "      <td>862</td>\n",
              "      <td>en</td>\n",
              "      <td>21.946943</td>\n",
              "      <td>Pixar Animation Studios</td>\n",
              "      <td>United States of America</td>\n",
              "      <td>1995-10-30</td>\n",
              "      <td>373554033.0</td>\n",
              "      <td>81.0</td>\n",
              "      <td>[{'iso_639_1': 'en', 'name': 'English'}]</td>\n",
              "      <td>Released</td>\n",
              "      <td>Toy Story</td>\n",
              "      <td>7.7</td>\n",
              "      <td>5415.0</td>\n",
              "      <td>Led by Woody, Andy's toys live happily in his ...</td>\n",
              "    </tr>\n",
              "    <tr>\n",
              "      <th>1</th>\n",
              "      <td>65000000</td>\n",
              "      <td>Adventure|Fantasy|Family</td>\n",
              "      <td>8844</td>\n",
              "      <td>en</td>\n",
              "      <td>17.015539</td>\n",
              "      <td>TriStar Pictures|Teitler Film|Interscope Commu...</td>\n",
              "      <td>United States of America</td>\n",
              "      <td>1995-12-15</td>\n",
              "      <td>262797249.0</td>\n",
              "      <td>104.0</td>\n",
              "      <td>[{'iso_639_1': 'en', 'name': 'English'}, {'iso...</td>\n",
              "      <td>Released</td>\n",
              "      <td>Jumanji</td>\n",
              "      <td>6.9</td>\n",
              "      <td>2413.0</td>\n",
              "      <td>When siblings Judy and Peter discover an encha...</td>\n",
              "    </tr>\n",
              "    <tr>\n",
              "      <th>2</th>\n",
              "      <td>0</td>\n",
              "      <td>Romance|Comedy</td>\n",
              "      <td>15602</td>\n",
              "      <td>en</td>\n",
              "      <td>11.7129</td>\n",
              "      <td>Warner Bros.|Lancaster Gate</td>\n",
              "      <td>United States of America</td>\n",
              "      <td>1995-12-22</td>\n",
              "      <td>0.0</td>\n",
              "      <td>101.0</td>\n",
              "      <td>[{'iso_639_1': 'en', 'name': 'English'}]</td>\n",
              "      <td>Released</td>\n",
              "      <td>Grumpier Old Men</td>\n",
              "      <td>6.5</td>\n",
              "      <td>92.0</td>\n",
              "      <td>A family wedding reignites the ancient feud be...</td>\n",
              "    </tr>\n",
              "    <tr>\n",
              "      <th>3</th>\n",
              "      <td>16000000</td>\n",
              "      <td>Comedy|Drama|Romance</td>\n",
              "      <td>31357</td>\n",
              "      <td>en</td>\n",
              "      <td>3.859495</td>\n",
              "      <td>Twentieth Century Fox Film Corporation</td>\n",
              "      <td>United States of America</td>\n",
              "      <td>1995-12-22</td>\n",
              "      <td>81452156.0</td>\n",
              "      <td>127.0</td>\n",
              "      <td>[{'iso_639_1': 'en', 'name': 'English'}]</td>\n",
              "      <td>Released</td>\n",
              "      <td>Waiting to Exhale</td>\n",
              "      <td>6.1</td>\n",
              "      <td>34.0</td>\n",
              "      <td>Cheated on, mistreated and stepped on, the wom...</td>\n",
              "    </tr>\n",
              "    <tr>\n",
              "      <th>4</th>\n",
              "      <td>0</td>\n",
              "      <td>Comedy</td>\n",
              "      <td>11862</td>\n",
              "      <td>en</td>\n",
              "      <td>8.387519</td>\n",
              "      <td>Sandollar Productions|Touchstone Pictures</td>\n",
              "      <td>United States of America</td>\n",
              "      <td>1995-02-10</td>\n",
              "      <td>76578911.0</td>\n",
              "      <td>106.0</td>\n",
              "      <td>[{'iso_639_1': 'en', 'name': 'English'}]</td>\n",
              "      <td>Released</td>\n",
              "      <td>Father of the Bride Part II</td>\n",
              "      <td>5.7</td>\n",
              "      <td>173.0</td>\n",
              "      <td>Just when George Banks has recovered from his ...</td>\n",
              "    </tr>\n",
              "  </tbody>\n",
              "</table>\n",
              "</div>"
            ],
            "text/plain": [
              "     budget  ...                                            content\n",
              "0  30000000  ...  Led by Woody, Andy's toys live happily in his ...\n",
              "1  65000000  ...  When siblings Judy and Peter discover an encha...\n",
              "2         0  ...  A family wedding reignites the ancient feud be...\n",
              "3  16000000  ...  Cheated on, mistreated and stepped on, the wom...\n",
              "4         0  ...  Just when George Banks has recovered from his ...\n",
              "\n",
              "[5 rows x 16 columns]"
            ]
          },
          "metadata": {
            "tags": []
          },
          "execution_count": 21
        }
      ]
    },
    {
      "cell_type": "markdown",
      "metadata": {
        "id": "gKk-Vle_Boxl",
        "colab_type": "text"
      },
      "source": [
        "Now let's count the number of movies with the **'content'** column empty.We may require this data while creating **Content-based Recommendation System**"
      ]
    },
    {
      "cell_type": "code",
      "metadata": {
        "id": "CoaqqixvBRQs",
        "colab_type": "code",
        "colab": {
          "base_uri": "https://localhost:8080/",
          "height": 35
        },
        "outputId": "db000732-8bf9-4f8d-fb2c-3bac5880283e"
      },
      "source": [
        "movies_metadata[movies_metadata['content']==''].id.count()"
      ],
      "execution_count": 22,
      "outputs": [
        {
          "output_type": "execute_result",
          "data": {
            "text/plain": [
              "946"
            ]
          },
          "metadata": {
            "tags": []
          },
          "execution_count": 22
        }
      ]
    },
    {
      "cell_type": "markdown",
      "metadata": {
        "id": "tc8jzTTgXOHo",
        "colab_type": "text"
      },
      "source": [
        "We are provided with the **release_date** of the movies but we really don't require the date as such but the **year** and **dayofweek** of release might be useful. So we extract them and store them in two new columns **'release_day'** and **'release_year'**"
      ]
    },
    {
      "cell_type": "code",
      "metadata": {
        "id": "PRCpid2mN_UW",
        "colab_type": "code",
        "colab": {
          "base_uri": "https://localhost:8080/",
          "height": 678
        },
        "outputId": "dd8481e0-a90a-400a-9971-83a3519e147b"
      },
      "source": [
        "\n",
        "\n",
        "movies_metadata['release_year'] = pd.to_datetime(movies_metadata['release_date'], errors='coerce').apply(lambda x: str(x).split('-')[0] if x != np.nan else np.nan)\n",
        "movies_metadata['release_day'] = pd.to_datetime(movies_metadata['release_date'], errors='coerce').dt.day_name()\n",
        "movies_metadata.drop('release_date',inplace=True,axis=1)\n",
        "movies_metadata.head()\n",
        "\n"
      ],
      "execution_count": 23,
      "outputs": [
        {
          "output_type": "execute_result",
          "data": {
            "text/html": [
              "<div>\n",
              "<style scoped>\n",
              "    .dataframe tbody tr th:only-of-type {\n",
              "        vertical-align: middle;\n",
              "    }\n",
              "\n",
              "    .dataframe tbody tr th {\n",
              "        vertical-align: top;\n",
              "    }\n",
              "\n",
              "    .dataframe thead th {\n",
              "        text-align: right;\n",
              "    }\n",
              "</style>\n",
              "<table border=\"1\" class=\"dataframe\">\n",
              "  <thead>\n",
              "    <tr style=\"text-align: right;\">\n",
              "      <th></th>\n",
              "      <th>budget</th>\n",
              "      <th>genres</th>\n",
              "      <th>id</th>\n",
              "      <th>original_language</th>\n",
              "      <th>popularity</th>\n",
              "      <th>production_companies</th>\n",
              "      <th>production_countries</th>\n",
              "      <th>revenue</th>\n",
              "      <th>runtime</th>\n",
              "      <th>spoken_languages</th>\n",
              "      <th>status</th>\n",
              "      <th>title</th>\n",
              "      <th>vote_average</th>\n",
              "      <th>vote_count</th>\n",
              "      <th>content</th>\n",
              "      <th>release_year</th>\n",
              "      <th>release_day</th>\n",
              "    </tr>\n",
              "  </thead>\n",
              "  <tbody>\n",
              "    <tr>\n",
              "      <th>0</th>\n",
              "      <td>30000000</td>\n",
              "      <td>Animation|Comedy|Family</td>\n",
              "      <td>862</td>\n",
              "      <td>en</td>\n",
              "      <td>21.946943</td>\n",
              "      <td>Pixar Animation Studios</td>\n",
              "      <td>United States of America</td>\n",
              "      <td>373554033.0</td>\n",
              "      <td>81.0</td>\n",
              "      <td>[{'iso_639_1': 'en', 'name': 'English'}]</td>\n",
              "      <td>Released</td>\n",
              "      <td>Toy Story</td>\n",
              "      <td>7.7</td>\n",
              "      <td>5415.0</td>\n",
              "      <td>Led by Woody, Andy's toys live happily in his ...</td>\n",
              "      <td>1995</td>\n",
              "      <td>Monday</td>\n",
              "    </tr>\n",
              "    <tr>\n",
              "      <th>1</th>\n",
              "      <td>65000000</td>\n",
              "      <td>Adventure|Fantasy|Family</td>\n",
              "      <td>8844</td>\n",
              "      <td>en</td>\n",
              "      <td>17.015539</td>\n",
              "      <td>TriStar Pictures|Teitler Film|Interscope Commu...</td>\n",
              "      <td>United States of America</td>\n",
              "      <td>262797249.0</td>\n",
              "      <td>104.0</td>\n",
              "      <td>[{'iso_639_1': 'en', 'name': 'English'}, {'iso...</td>\n",
              "      <td>Released</td>\n",
              "      <td>Jumanji</td>\n",
              "      <td>6.9</td>\n",
              "      <td>2413.0</td>\n",
              "      <td>When siblings Judy and Peter discover an encha...</td>\n",
              "      <td>1995</td>\n",
              "      <td>Friday</td>\n",
              "    </tr>\n",
              "    <tr>\n",
              "      <th>2</th>\n",
              "      <td>0</td>\n",
              "      <td>Romance|Comedy</td>\n",
              "      <td>15602</td>\n",
              "      <td>en</td>\n",
              "      <td>11.7129</td>\n",
              "      <td>Warner Bros.|Lancaster Gate</td>\n",
              "      <td>United States of America</td>\n",
              "      <td>0.0</td>\n",
              "      <td>101.0</td>\n",
              "      <td>[{'iso_639_1': 'en', 'name': 'English'}]</td>\n",
              "      <td>Released</td>\n",
              "      <td>Grumpier Old Men</td>\n",
              "      <td>6.5</td>\n",
              "      <td>92.0</td>\n",
              "      <td>A family wedding reignites the ancient feud be...</td>\n",
              "      <td>1995</td>\n",
              "      <td>Friday</td>\n",
              "    </tr>\n",
              "    <tr>\n",
              "      <th>3</th>\n",
              "      <td>16000000</td>\n",
              "      <td>Comedy|Drama|Romance</td>\n",
              "      <td>31357</td>\n",
              "      <td>en</td>\n",
              "      <td>3.859495</td>\n",
              "      <td>Twentieth Century Fox Film Corporation</td>\n",
              "      <td>United States of America</td>\n",
              "      <td>81452156.0</td>\n",
              "      <td>127.0</td>\n",
              "      <td>[{'iso_639_1': 'en', 'name': 'English'}]</td>\n",
              "      <td>Released</td>\n",
              "      <td>Waiting to Exhale</td>\n",
              "      <td>6.1</td>\n",
              "      <td>34.0</td>\n",
              "      <td>Cheated on, mistreated and stepped on, the wom...</td>\n",
              "      <td>1995</td>\n",
              "      <td>Friday</td>\n",
              "    </tr>\n",
              "    <tr>\n",
              "      <th>4</th>\n",
              "      <td>0</td>\n",
              "      <td>Comedy</td>\n",
              "      <td>11862</td>\n",
              "      <td>en</td>\n",
              "      <td>8.387519</td>\n",
              "      <td>Sandollar Productions|Touchstone Pictures</td>\n",
              "      <td>United States of America</td>\n",
              "      <td>76578911.0</td>\n",
              "      <td>106.0</td>\n",
              "      <td>[{'iso_639_1': 'en', 'name': 'English'}]</td>\n",
              "      <td>Released</td>\n",
              "      <td>Father of the Bride Part II</td>\n",
              "      <td>5.7</td>\n",
              "      <td>173.0</td>\n",
              "      <td>Just when George Banks has recovered from his ...</td>\n",
              "      <td>1995</td>\n",
              "      <td>Friday</td>\n",
              "    </tr>\n",
              "  </tbody>\n",
              "</table>\n",
              "</div>"
            ],
            "text/plain": [
              "     budget                    genres  ... release_year release_day\n",
              "0  30000000   Animation|Comedy|Family  ...         1995      Monday\n",
              "1  65000000  Adventure|Fantasy|Family  ...         1995      Friday\n",
              "2         0            Romance|Comedy  ...         1995      Friday\n",
              "3  16000000      Comedy|Drama|Romance  ...         1995      Friday\n",
              "4         0                    Comedy  ...         1995      Friday\n",
              "\n",
              "[5 rows x 17 columns]"
            ]
          },
          "metadata": {
            "tags": []
          },
          "execution_count": 23
        }
      ]
    },
    {
      "cell_type": "markdown",
      "metadata": {
        "id": "LYkfiaKoVEoC",
        "colab_type": "text"
      },
      "source": [
        "Let's now focus on the three columns of the dataset : **'popularity','vote_average','vote_count'** "
      ]
    },
    {
      "cell_type": "code",
      "metadata": {
        "id": "efeFxx5TNL9d",
        "colab_type": "code",
        "colab": {
          "base_uri": "https://localhost:8080/",
          "height": 108
        },
        "outputId": "c32bfff6-3306-47b2-e870-51d579fabb4d"
      },
      "source": [
        "movies_metadata['popularity'].describe()"
      ],
      "execution_count": 24,
      "outputs": [
        {
          "output_type": "execute_result",
          "data": {
            "text/plain": [
              "count     45461\n",
              "unique    43758\n",
              "top         0.0\n",
              "freq         66\n",
              "Name: popularity, dtype: object"
            ]
          },
          "metadata": {
            "tags": []
          },
          "execution_count": 24
        }
      ]
    },
    {
      "cell_type": "markdown",
      "metadata": {
        "id": "4nuOkWzFW0nE",
        "colab_type": "text"
      },
      "source": [
        "On trying to convert the dtype of **'popularity'** column from object to float.it was found that there is a faulty row.So the row is filtered and then the conversion was made successfully"
      ]
    },
    {
      "cell_type": "code",
      "metadata": {
        "id": "5NNXRwosPZj8",
        "colab_type": "code",
        "colab": {
          "base_uri": "https://localhost:8080/",
          "height": 678
        },
        "outputId": "0f6ddfce-465b-451e-9663-19b67b42bc87"
      },
      "source": [
        "movies_metadata=movies_metadata[movies_metadata['popularity']!='Beware Of Frost Bites']\n",
        "movies_metadata['popularity']=movies_metadata['popularity'].astype(float)\n",
        "movies_metadata.head()\n"
      ],
      "execution_count": 25,
      "outputs": [
        {
          "output_type": "execute_result",
          "data": {
            "text/html": [
              "<div>\n",
              "<style scoped>\n",
              "    .dataframe tbody tr th:only-of-type {\n",
              "        vertical-align: middle;\n",
              "    }\n",
              "\n",
              "    .dataframe tbody tr th {\n",
              "        vertical-align: top;\n",
              "    }\n",
              "\n",
              "    .dataframe thead th {\n",
              "        text-align: right;\n",
              "    }\n",
              "</style>\n",
              "<table border=\"1\" class=\"dataframe\">\n",
              "  <thead>\n",
              "    <tr style=\"text-align: right;\">\n",
              "      <th></th>\n",
              "      <th>budget</th>\n",
              "      <th>genres</th>\n",
              "      <th>id</th>\n",
              "      <th>original_language</th>\n",
              "      <th>popularity</th>\n",
              "      <th>production_companies</th>\n",
              "      <th>production_countries</th>\n",
              "      <th>revenue</th>\n",
              "      <th>runtime</th>\n",
              "      <th>spoken_languages</th>\n",
              "      <th>status</th>\n",
              "      <th>title</th>\n",
              "      <th>vote_average</th>\n",
              "      <th>vote_count</th>\n",
              "      <th>content</th>\n",
              "      <th>release_year</th>\n",
              "      <th>release_day</th>\n",
              "    </tr>\n",
              "  </thead>\n",
              "  <tbody>\n",
              "    <tr>\n",
              "      <th>0</th>\n",
              "      <td>30000000</td>\n",
              "      <td>Animation|Comedy|Family</td>\n",
              "      <td>862</td>\n",
              "      <td>en</td>\n",
              "      <td>21.946943</td>\n",
              "      <td>Pixar Animation Studios</td>\n",
              "      <td>United States of America</td>\n",
              "      <td>373554033.0</td>\n",
              "      <td>81.0</td>\n",
              "      <td>[{'iso_639_1': 'en', 'name': 'English'}]</td>\n",
              "      <td>Released</td>\n",
              "      <td>Toy Story</td>\n",
              "      <td>7.7</td>\n",
              "      <td>5415.0</td>\n",
              "      <td>Led by Woody, Andy's toys live happily in his ...</td>\n",
              "      <td>1995</td>\n",
              "      <td>Monday</td>\n",
              "    </tr>\n",
              "    <tr>\n",
              "      <th>1</th>\n",
              "      <td>65000000</td>\n",
              "      <td>Adventure|Fantasy|Family</td>\n",
              "      <td>8844</td>\n",
              "      <td>en</td>\n",
              "      <td>17.015539</td>\n",
              "      <td>TriStar Pictures|Teitler Film|Interscope Commu...</td>\n",
              "      <td>United States of America</td>\n",
              "      <td>262797249.0</td>\n",
              "      <td>104.0</td>\n",
              "      <td>[{'iso_639_1': 'en', 'name': 'English'}, {'iso...</td>\n",
              "      <td>Released</td>\n",
              "      <td>Jumanji</td>\n",
              "      <td>6.9</td>\n",
              "      <td>2413.0</td>\n",
              "      <td>When siblings Judy and Peter discover an encha...</td>\n",
              "      <td>1995</td>\n",
              "      <td>Friday</td>\n",
              "    </tr>\n",
              "    <tr>\n",
              "      <th>2</th>\n",
              "      <td>0</td>\n",
              "      <td>Romance|Comedy</td>\n",
              "      <td>15602</td>\n",
              "      <td>en</td>\n",
              "      <td>11.712900</td>\n",
              "      <td>Warner Bros.|Lancaster Gate</td>\n",
              "      <td>United States of America</td>\n",
              "      <td>0.0</td>\n",
              "      <td>101.0</td>\n",
              "      <td>[{'iso_639_1': 'en', 'name': 'English'}]</td>\n",
              "      <td>Released</td>\n",
              "      <td>Grumpier Old Men</td>\n",
              "      <td>6.5</td>\n",
              "      <td>92.0</td>\n",
              "      <td>A family wedding reignites the ancient feud be...</td>\n",
              "      <td>1995</td>\n",
              "      <td>Friday</td>\n",
              "    </tr>\n",
              "    <tr>\n",
              "      <th>3</th>\n",
              "      <td>16000000</td>\n",
              "      <td>Comedy|Drama|Romance</td>\n",
              "      <td>31357</td>\n",
              "      <td>en</td>\n",
              "      <td>3.859495</td>\n",
              "      <td>Twentieth Century Fox Film Corporation</td>\n",
              "      <td>United States of America</td>\n",
              "      <td>81452156.0</td>\n",
              "      <td>127.0</td>\n",
              "      <td>[{'iso_639_1': 'en', 'name': 'English'}]</td>\n",
              "      <td>Released</td>\n",
              "      <td>Waiting to Exhale</td>\n",
              "      <td>6.1</td>\n",
              "      <td>34.0</td>\n",
              "      <td>Cheated on, mistreated and stepped on, the wom...</td>\n",
              "      <td>1995</td>\n",
              "      <td>Friday</td>\n",
              "    </tr>\n",
              "    <tr>\n",
              "      <th>4</th>\n",
              "      <td>0</td>\n",
              "      <td>Comedy</td>\n",
              "      <td>11862</td>\n",
              "      <td>en</td>\n",
              "      <td>8.387519</td>\n",
              "      <td>Sandollar Productions|Touchstone Pictures</td>\n",
              "      <td>United States of America</td>\n",
              "      <td>76578911.0</td>\n",
              "      <td>106.0</td>\n",
              "      <td>[{'iso_639_1': 'en', 'name': 'English'}]</td>\n",
              "      <td>Released</td>\n",
              "      <td>Father of the Bride Part II</td>\n",
              "      <td>5.7</td>\n",
              "      <td>173.0</td>\n",
              "      <td>Just when George Banks has recovered from his ...</td>\n",
              "      <td>1995</td>\n",
              "      <td>Friday</td>\n",
              "    </tr>\n",
              "  </tbody>\n",
              "</table>\n",
              "</div>"
            ],
            "text/plain": [
              "     budget                    genres  ... release_year release_day\n",
              "0  30000000   Animation|Comedy|Family  ...         1995      Monday\n",
              "1  65000000  Adventure|Fantasy|Family  ...         1995      Friday\n",
              "2         0            Romance|Comedy  ...         1995      Friday\n",
              "3  16000000      Comedy|Drama|Romance  ...         1995      Friday\n",
              "4         0                    Comedy  ...         1995      Friday\n",
              "\n",
              "[5 rows x 17 columns]"
            ]
          },
          "metadata": {
            "tags": []
          },
          "execution_count": 25
        }
      ]
    },
    {
      "cell_type": "markdown",
      "metadata": {
        "id": "zBsSdoEFcqqr",
        "colab_type": "text"
      },
      "source": [
        "Now we replace the Nan values of **'popularity' , 'vote_average' and 'vote_count'** with the median of the available values and then sort the entire dataset in descending order of the three columns."
      ]
    },
    {
      "cell_type": "code",
      "metadata": {
        "id": "06R_b9mSHTW5",
        "colab_type": "code",
        "colab": {}
      },
      "source": [
        "popularity_list = movies_metadata[movies_metadata['popularity']!=np.nan]['popularity']\n",
        "movies_metadata['popularity']=movies_metadata['popularity'].replace(np.nan,popularity_list.median())\n",
        "voteavg_list = movies_metadata[movies_metadata['vote_average']!=np.nan]['vote_average']\n",
        "movies_metadata['vote_average']=movies_metadata['vote_average'].replace(np.nan,voteavg_list.median())\n",
        "votecnt_list = movies_metadata[movies_metadata['vote_count']!=np.nan]['vote_count']\n",
        "movies_metadata['vote_count']=movies_metadata['vote_count'].replace(np.nan,votecnt_list.median())\n",
        "movies_metadata.sort_values(by=['popularity','vote_average','vote_count'],inplace=True,axis=0,ascending=False)"
      ],
      "execution_count": 26,
      "outputs": []
    },
    {
      "cell_type": "code",
      "metadata": {
        "id": "bqD79g17Ufh8",
        "colab_type": "code",
        "colab": {
          "base_uri": "https://localhost:8080/",
          "height": 1000
        },
        "outputId": "c1886297-d014-4e80-ae05-94cd2301e75e"
      },
      "source": [
        "movies_metadata.head(20)"
      ],
      "execution_count": 27,
      "outputs": [
        {
          "output_type": "execute_result",
          "data": {
            "text/html": [
              "<div>\n",
              "<style scoped>\n",
              "    .dataframe tbody tr th:only-of-type {\n",
              "        vertical-align: middle;\n",
              "    }\n",
              "\n",
              "    .dataframe tbody tr th {\n",
              "        vertical-align: top;\n",
              "    }\n",
              "\n",
              "    .dataframe thead th {\n",
              "        text-align: right;\n",
              "    }\n",
              "</style>\n",
              "<table border=\"1\" class=\"dataframe\">\n",
              "  <thead>\n",
              "    <tr style=\"text-align: right;\">\n",
              "      <th></th>\n",
              "      <th>budget</th>\n",
              "      <th>genres</th>\n",
              "      <th>id</th>\n",
              "      <th>original_language</th>\n",
              "      <th>popularity</th>\n",
              "      <th>production_companies</th>\n",
              "      <th>production_countries</th>\n",
              "      <th>revenue</th>\n",
              "      <th>runtime</th>\n",
              "      <th>spoken_languages</th>\n",
              "      <th>status</th>\n",
              "      <th>title</th>\n",
              "      <th>vote_average</th>\n",
              "      <th>vote_count</th>\n",
              "      <th>content</th>\n",
              "      <th>release_year</th>\n",
              "      <th>release_day</th>\n",
              "    </tr>\n",
              "  </thead>\n",
              "  <tbody>\n",
              "    <tr>\n",
              "      <th>30700</th>\n",
              "      <td>74000000</td>\n",
              "      <td>Family|Animation|Adventure|Comedy</td>\n",
              "      <td>211672</td>\n",
              "      <td>en</td>\n",
              "      <td>547.488298</td>\n",
              "      <td>Universal Pictures|Illumination Entertainment</td>\n",
              "      <td>United States of America</td>\n",
              "      <td>1.156731e+09</td>\n",
              "      <td>91.0</td>\n",
              "      <td>[{'iso_639_1': 'en', 'name': 'English'}]</td>\n",
              "      <td>Released</td>\n",
              "      <td>Minions</td>\n",
              "      <td>6.4</td>\n",
              "      <td>4729.0</td>\n",
              "      <td>Minions Stuart, Kevin and Bob are recruited by...</td>\n",
              "      <td>2015</td>\n",
              "      <td>Wednesday</td>\n",
              "    </tr>\n",
              "    <tr>\n",
              "      <th>33356</th>\n",
              "      <td>149000000</td>\n",
              "      <td>Action|Adventure|Fantasy</td>\n",
              "      <td>297762</td>\n",
              "      <td>en</td>\n",
              "      <td>294.337037</td>\n",
              "      <td>Dune Entertainment|Atlas Entertainment|Warner ...</td>\n",
              "      <td>United States of America</td>\n",
              "      <td>8.205804e+08</td>\n",
              "      <td>141.0</td>\n",
              "      <td>[{'iso_639_1': 'de', 'name': 'Deutsch'}, {'iso...</td>\n",
              "      <td>Released</td>\n",
              "      <td>Wonder Woman</td>\n",
              "      <td>7.2</td>\n",
              "      <td>5025.0</td>\n",
              "      <td>An Amazon princess comes to the world of Man t...</td>\n",
              "      <td>2017</td>\n",
              "      <td>Tuesday</td>\n",
              "    </tr>\n",
              "    <tr>\n",
              "      <th>42222</th>\n",
              "      <td>160000000</td>\n",
              "      <td>Family|Fantasy|Romance</td>\n",
              "      <td>321612</td>\n",
              "      <td>en</td>\n",
              "      <td>287.253654</td>\n",
              "      <td>Walt Disney Pictures|Mandeville Films</td>\n",
              "      <td>United Kingdom|United States of America</td>\n",
              "      <td>1.262886e+09</td>\n",
              "      <td>129.0</td>\n",
              "      <td>[{'iso_639_1': 'en', 'name': 'English'}]</td>\n",
              "      <td>Released</td>\n",
              "      <td>Beauty and the Beast</td>\n",
              "      <td>6.8</td>\n",
              "      <td>5530.0</td>\n",
              "      <td>A live-action adaptation of Disney's version o...</td>\n",
              "      <td>2017</td>\n",
              "      <td>Thursday</td>\n",
              "    </tr>\n",
              "    <tr>\n",
              "      <th>43644</th>\n",
              "      <td>34000000</td>\n",
              "      <td>Action|Crime</td>\n",
              "      <td>339403</td>\n",
              "      <td>en</td>\n",
              "      <td>228.032744</td>\n",
              "      <td>Big Talk Productions|TriStar Pictures|Media Ri...</td>\n",
              "      <td>United Kingdom|United States of America</td>\n",
              "      <td>2.245113e+08</td>\n",
              "      <td>113.0</td>\n",
              "      <td>[{'iso_639_1': 'en', 'name': 'English'}]</td>\n",
              "      <td>Released</td>\n",
              "      <td>Baby Driver</td>\n",
              "      <td>7.2</td>\n",
              "      <td>2083.0</td>\n",
              "      <td>After being coerced into working for a crime b...</td>\n",
              "      <td>2017</td>\n",
              "      <td>Wednesday</td>\n",
              "    </tr>\n",
              "    <tr>\n",
              "      <th>24455</th>\n",
              "      <td>165000000</td>\n",
              "      <td>Adventure|Family|Animation|Action|Comedy</td>\n",
              "      <td>177572</td>\n",
              "      <td>en</td>\n",
              "      <td>213.849907</td>\n",
              "      <td>Walt Disney Pictures|Walt Disney Animation Stu...</td>\n",
              "      <td>United States of America</td>\n",
              "      <td>6.521054e+08</td>\n",
              "      <td>102.0</td>\n",
              "      <td>[{'iso_639_1': 'en', 'name': 'English'}]</td>\n",
              "      <td>Released</td>\n",
              "      <td>Big Hero 6</td>\n",
              "      <td>7.8</td>\n",
              "      <td>6289.0</td>\n",
              "      <td>The special bond that develops between plus-si...</td>\n",
              "      <td>2014</td>\n",
              "      <td>Friday</td>\n",
              "    </tr>\n",
              "    <tr>\n",
              "      <th>26564</th>\n",
              "      <td>58000000</td>\n",
              "      <td>Action|Adventure|Comedy</td>\n",
              "      <td>293660</td>\n",
              "      <td>en</td>\n",
              "      <td>187.860492</td>\n",
              "      <td>Twentieth Century Fox Film Corporation|Marvel ...</td>\n",
              "      <td>United States of America</td>\n",
              "      <td>7.831130e+08</td>\n",
              "      <td>108.0</td>\n",
              "      <td>[{'iso_639_1': 'en', 'name': 'English'}]</td>\n",
              "      <td>Released</td>\n",
              "      <td>Deadpool</td>\n",
              "      <td>7.4</td>\n",
              "      <td>11444.0</td>\n",
              "      <td>Deadpool tells the origin story of former Spec...</td>\n",
              "      <td>2016</td>\n",
              "      <td>Tuesday</td>\n",
              "    </tr>\n",
              "    <tr>\n",
              "      <th>26566</th>\n",
              "      <td>200000000</td>\n",
              "      <td>Action|Adventure|Comedy|Science Fiction</td>\n",
              "      <td>283995</td>\n",
              "      <td>en</td>\n",
              "      <td>185.330992</td>\n",
              "      <td>Walt Disney Pictures|Marvel Studios</td>\n",
              "      <td>United States of America</td>\n",
              "      <td>8.634161e+08</td>\n",
              "      <td>137.0</td>\n",
              "      <td>[{'iso_639_1': 'en', 'name': 'English'}]</td>\n",
              "      <td>Released</td>\n",
              "      <td>Guardians of the Galaxy Vol. 2</td>\n",
              "      <td>7.6</td>\n",
              "      <td>4858.0</td>\n",
              "      <td>The Guardians must fight to keep their newfoun...</td>\n",
              "      <td>2017</td>\n",
              "      <td>Wednesday</td>\n",
              "    </tr>\n",
              "    <tr>\n",
              "      <th>14551</th>\n",
              "      <td>237000000</td>\n",
              "      <td>Action|Adventure|Fantasy|Science Fiction</td>\n",
              "      <td>19995</td>\n",
              "      <td>en</td>\n",
              "      <td>185.070892</td>\n",
              "      <td>Ingenious Film Partners|Twentieth Century Fox ...</td>\n",
              "      <td>United States of America|United Kingdom</td>\n",
              "      <td>2.787965e+09</td>\n",
              "      <td>162.0</td>\n",
              "      <td>[{'iso_639_1': 'en', 'name': 'English'}, {'iso...</td>\n",
              "      <td>Released</td>\n",
              "      <td>Avatar</td>\n",
              "      <td>7.2</td>\n",
              "      <td>12114.0</td>\n",
              "      <td>In the 22nd century, a paraplegic Marine is di...</td>\n",
              "      <td>2009</td>\n",
              "      <td>Thursday</td>\n",
              "    </tr>\n",
              "    <tr>\n",
              "      <th>24351</th>\n",
              "      <td>20000000</td>\n",
              "      <td>Action|Thriller</td>\n",
              "      <td>245891</td>\n",
              "      <td>en</td>\n",
              "      <td>183.870374</td>\n",
              "      <td>Summit Entertainment|Warner Bros.|87Eleven|Def...</td>\n",
              "      <td>Canada|China|United States of America</td>\n",
              "      <td>8.876166e+07</td>\n",
              "      <td>101.0</td>\n",
              "      <td>[{'iso_639_1': 'hu', 'name': 'Magyar'}, {'iso_...</td>\n",
              "      <td>Released</td>\n",
              "      <td>John Wick</td>\n",
              "      <td>7.0</td>\n",
              "      <td>5499.0</td>\n",
              "      <td>Ex-lunatic John Wick comes off his meds to tra...</td>\n",
              "      <td>2014</td>\n",
              "      <td>Wednesday</td>\n",
              "    </tr>\n",
              "    <tr>\n",
              "      <th>23675</th>\n",
              "      <td>61000000</td>\n",
              "      <td>Mystery|Thriller|Drama</td>\n",
              "      <td>210577</td>\n",
              "      <td>en</td>\n",
              "      <td>154.801009</td>\n",
              "      <td>Twentieth Century Fox Film Corporation|Regency...</td>\n",
              "      <td>United States of America</td>\n",
              "      <td>3.693304e+08</td>\n",
              "      <td>145.0</td>\n",
              "      <td>[{'iso_639_1': 'en', 'name': 'English'}]</td>\n",
              "      <td>Released</td>\n",
              "      <td>Gone Girl</td>\n",
              "      <td>7.9</td>\n",
              "      <td>6023.0</td>\n",
              "      <td>With his wife's disappearance having become th...</td>\n",
              "      <td>2014</td>\n",
              "      <td>Wednesday</td>\n",
              "    </tr>\n",
              "    <tr>\n",
              "      <th>24873</th>\n",
              "      <td>125000000</td>\n",
              "      <td>Science Fiction|Adventure|Thriller</td>\n",
              "      <td>131631</td>\n",
              "      <td>en</td>\n",
              "      <td>147.098006</td>\n",
              "      <td>Lionsgate|Color Force</td>\n",
              "      <td>United States of America</td>\n",
              "      <td>7.521002e+08</td>\n",
              "      <td>123.0</td>\n",
              "      <td>[{'iso_639_1': 'en', 'name': 'English'}]</td>\n",
              "      <td>Released</td>\n",
              "      <td>The Hunger Games: Mockingjay - Part 1</td>\n",
              "      <td>6.6</td>\n",
              "      <td>5767.0</td>\n",
              "      <td>Katniss Everdeen reluctantly becomes the symbo...</td>\n",
              "      <td>2014</td>\n",
              "      <td>Tuesday</td>\n",
              "    </tr>\n",
              "    <tr>\n",
              "      <th>44274</th>\n",
              "      <td>152000000</td>\n",
              "      <td>Drama|Science Fiction|War</td>\n",
              "      <td>281338</td>\n",
              "      <td>en</td>\n",
              "      <td>146.161786</td>\n",
              "      <td>Chernin Entertainment</td>\n",
              "      <td>Canada|United States of America</td>\n",
              "      <td>3.699080e+08</td>\n",
              "      <td>140.0</td>\n",
              "      <td>[{'iso_639_1': 'en', 'name': 'English'}]</td>\n",
              "      <td>Released</td>\n",
              "      <td>War for the Planet of the Apes</td>\n",
              "      <td>6.7</td>\n",
              "      <td>1675.0</td>\n",
              "      <td>Caesar and his apes are forced into a deadly c...</td>\n",
              "      <td>2017</td>\n",
              "      <td>Tuesday</td>\n",
              "    </tr>\n",
              "    <tr>\n",
              "      <th>26567</th>\n",
              "      <td>250000000</td>\n",
              "      <td>Adventure|Action|Science Fiction</td>\n",
              "      <td>271110</td>\n",
              "      <td>en</td>\n",
              "      <td>145.882135</td>\n",
              "      <td>Studio Babelsberg|Marvel Studios|Walt Disney S...</td>\n",
              "      <td>United States of America</td>\n",
              "      <td>1.153304e+09</td>\n",
              "      <td>147.0</td>\n",
              "      <td>[{'iso_639_1': 'ro', 'name': 'Română'}, {'iso_...</td>\n",
              "      <td>Released</td>\n",
              "      <td>Captain America: Civil War</td>\n",
              "      <td>7.1</td>\n",
              "      <td>7462.0</td>\n",
              "      <td>Following the events of Age of Ultron, the col...</td>\n",
              "      <td>2016</td>\n",
              "      <td>Wednesday</td>\n",
              "    </tr>\n",
              "    <tr>\n",
              "      <th>292</th>\n",
              "      <td>8000000</td>\n",
              "      <td>Thriller|Crime</td>\n",
              "      <td>680</td>\n",
              "      <td>en</td>\n",
              "      <td>140.950236</td>\n",
              "      <td>Miramax Films|A Band Apart|Jersey Films</td>\n",
              "      <td>United States of America</td>\n",
              "      <td>2.139288e+08</td>\n",
              "      <td>154.0</td>\n",
              "      <td>[{'iso_639_1': 'en', 'name': 'English'}, {'iso...</td>\n",
              "      <td>Released</td>\n",
              "      <td>Pulp Fiction</td>\n",
              "      <td>8.3</td>\n",
              "      <td>8670.0</td>\n",
              "      <td>A burger-loving hit man, his philosophical par...</td>\n",
              "      <td>1994</td>\n",
              "      <td>Saturday</td>\n",
              "    </tr>\n",
              "    <tr>\n",
              "      <th>26560</th>\n",
              "      <td>230000000</td>\n",
              "      <td>Adventure|Action|Fantasy|Comedy</td>\n",
              "      <td>166426</td>\n",
              "      <td>en</td>\n",
              "      <td>133.827820</td>\n",
              "      <td>Walt Disney Pictures|Jerry Bruckheimer Films|I...</td>\n",
              "      <td>United States of America</td>\n",
              "      <td>7.941920e+08</td>\n",
              "      <td>129.0</td>\n",
              "      <td>[{'iso_639_1': 'en', 'name': 'English'}]</td>\n",
              "      <td>Released</td>\n",
              "      <td>Pirates of the Caribbean: Dead Men Tell No Tales</td>\n",
              "      <td>6.6</td>\n",
              "      <td>2814.0</td>\n",
              "      <td>Thrust into an all-new paycheck, a down-on-his...</td>\n",
              "      <td>2017</td>\n",
              "      <td>Tuesday</td>\n",
              "    </tr>\n",
              "    <tr>\n",
              "      <th>12481</th>\n",
              "      <td>185000000</td>\n",
              "      <td>Drama|Action|Crime|Thriller</td>\n",
              "      <td>155</td>\n",
              "      <td>en</td>\n",
              "      <td>123.167259</td>\n",
              "      <td>DC Comics|Legendary Pictures|Warner Bros.|DC E...</td>\n",
              "      <td>United Kingdom|United States of America</td>\n",
              "      <td>1.004558e+09</td>\n",
              "      <td>152.0</td>\n",
              "      <td>[{'iso_639_1': 'en', 'name': 'English'}, {'iso...</td>\n",
              "      <td>Released</td>\n",
              "      <td>The Dark Knight</td>\n",
              "      <td>8.3</td>\n",
              "      <td>12269.0</td>\n",
              "      <td>Batman raises the stakes in his war on crime. ...</td>\n",
              "      <td>2008</td>\n",
              "      <td>Wednesday</td>\n",
              "    </tr>\n",
              "    <tr>\n",
              "      <th>536</th>\n",
              "      <td>28000000</td>\n",
              "      <td>Science Fiction|Drama|Thriller</td>\n",
              "      <td>78</td>\n",
              "      <td>en</td>\n",
              "      <td>96.272374</td>\n",
              "      <td>Shaw Brothers|Warner Bros.|The Ladd Company</td>\n",
              "      <td>United States of America|Hong Kong|United Kingdom</td>\n",
              "      <td>3.313962e+07</td>\n",
              "      <td>117.0</td>\n",
              "      <td>[{'iso_639_1': 'en', 'name': 'English'}, {'iso...</td>\n",
              "      <td>Released</td>\n",
              "      <td>Blade Runner</td>\n",
              "      <td>7.9</td>\n",
              "      <td>3833.0</td>\n",
              "      <td>In the smog-choked dystopian Los Angeles of 20...</td>\n",
              "      <td>1982</td>\n",
              "      <td>Friday</td>\n",
              "    </tr>\n",
              "    <tr>\n",
              "      <th>17818</th>\n",
              "      <td>220000000</td>\n",
              "      <td>Science Fiction|Action|Adventure</td>\n",
              "      <td>24428</td>\n",
              "      <td>en</td>\n",
              "      <td>89.887648</td>\n",
              "      <td>Paramount Pictures|Marvel Studios</td>\n",
              "      <td>United States of America</td>\n",
              "      <td>1.519558e+09</td>\n",
              "      <td>143.0</td>\n",
              "      <td>[{'iso_639_1': 'en', 'name': 'English'}]</td>\n",
              "      <td>Released</td>\n",
              "      <td>The Avengers</td>\n",
              "      <td>7.4</td>\n",
              "      <td>12000.0</td>\n",
              "      <td>When an unexpected enemy emerges and threatens...</td>\n",
              "      <td>2012</td>\n",
              "      <td>Wednesday</td>\n",
              "    </tr>\n",
              "    <tr>\n",
              "      <th>43286</th>\n",
              "      <td>38000000</td>\n",
              "      <td>Action|Animation|Comedy|Family</td>\n",
              "      <td>268531</td>\n",
              "      <td>en</td>\n",
              "      <td>88.561239</td>\n",
              "      <td>DreamWorks Animation|Scholastic Entertainment</td>\n",
              "      <td>United States of America</td>\n",
              "      <td>1.108244e+08</td>\n",
              "      <td>89.0</td>\n",
              "      <td>[{'iso_639_1': 'nl', 'name': 'Nederlands'}, {'...</td>\n",
              "      <td>Released</td>\n",
              "      <td>Captain Underpants: The First Epic Movie</td>\n",
              "      <td>6.5</td>\n",
              "      <td>159.0</td>\n",
              "      <td>Two mischievous kids hypnotize their mean elem...</td>\n",
              "      <td>2017</td>\n",
              "      <td>Thursday</td>\n",
              "    </tr>\n",
              "    <tr>\n",
              "      <th>33361</th>\n",
              "      <td>18000000</td>\n",
              "      <td>Drama|Thriller|Science Fiction</td>\n",
              "      <td>339988</td>\n",
              "      <td>en</td>\n",
              "      <td>88.439243</td>\n",
              "      <td>Likely Story|Playtone|Image Nation</td>\n",
              "      <td>United States of America</td>\n",
              "      <td>2.049784e+07</td>\n",
              "      <td>110.0</td>\n",
              "      <td>[{'iso_639_1': 'en', 'name': 'English'}]</td>\n",
              "      <td>Released</td>\n",
              "      <td>The Circle</td>\n",
              "      <td>5.4</td>\n",
              "      <td>1015.0</td>\n",
              "      <td>A young tech worker takes a job at a greedy In...</td>\n",
              "      <td>2017</td>\n",
              "      <td>Thursday</td>\n",
              "    </tr>\n",
              "  </tbody>\n",
              "</table>\n",
              "</div>"
            ],
            "text/plain": [
              "          budget  ... release_day\n",
              "30700   74000000  ...   Wednesday\n",
              "33356  149000000  ...     Tuesday\n",
              "42222  160000000  ...    Thursday\n",
              "43644   34000000  ...   Wednesday\n",
              "24455  165000000  ...      Friday\n",
              "26564   58000000  ...     Tuesday\n",
              "26566  200000000  ...   Wednesday\n",
              "14551  237000000  ...    Thursday\n",
              "24351   20000000  ...   Wednesday\n",
              "23675   61000000  ...   Wednesday\n",
              "24873  125000000  ...     Tuesday\n",
              "44274  152000000  ...     Tuesday\n",
              "26567  250000000  ...   Wednesday\n",
              "292      8000000  ...    Saturday\n",
              "26560  230000000  ...     Tuesday\n",
              "12481  185000000  ...   Wednesday\n",
              "536     28000000  ...      Friday\n",
              "17818  220000000  ...   Wednesday\n",
              "43286   38000000  ...    Thursday\n",
              "33361   18000000  ...    Thursday\n",
              "\n",
              "[20 rows x 17 columns]"
            ]
          },
          "metadata": {
            "tags": []
          },
          "execution_count": 27
        }
      ]
    },
    {
      "cell_type": "markdown",
      "metadata": {
        "id": "tleRn5YKeFDn",
        "colab_type": "text"
      },
      "source": [
        "**Resetting Index post Sorting**"
      ]
    },
    {
      "cell_type": "code",
      "metadata": {
        "id": "kpRucm0VeM9N",
        "colab_type": "code",
        "colab": {
          "base_uri": "https://localhost:8080/",
          "height": 695
        },
        "outputId": "9260ba31-e830-42ec-c670-3b0673fc2638"
      },
      "source": [
        "movies_metadata=movies_metadata.reset_index(drop=True)\n",
        "movies_metadata.head()"
      ],
      "execution_count": 28,
      "outputs": [
        {
          "output_type": "execute_result",
          "data": {
            "text/html": [
              "<div>\n",
              "<style scoped>\n",
              "    .dataframe tbody tr th:only-of-type {\n",
              "        vertical-align: middle;\n",
              "    }\n",
              "\n",
              "    .dataframe tbody tr th {\n",
              "        vertical-align: top;\n",
              "    }\n",
              "\n",
              "    .dataframe thead th {\n",
              "        text-align: right;\n",
              "    }\n",
              "</style>\n",
              "<table border=\"1\" class=\"dataframe\">\n",
              "  <thead>\n",
              "    <tr style=\"text-align: right;\">\n",
              "      <th></th>\n",
              "      <th>budget</th>\n",
              "      <th>genres</th>\n",
              "      <th>id</th>\n",
              "      <th>original_language</th>\n",
              "      <th>popularity</th>\n",
              "      <th>production_companies</th>\n",
              "      <th>production_countries</th>\n",
              "      <th>revenue</th>\n",
              "      <th>runtime</th>\n",
              "      <th>spoken_languages</th>\n",
              "      <th>status</th>\n",
              "      <th>title</th>\n",
              "      <th>vote_average</th>\n",
              "      <th>vote_count</th>\n",
              "      <th>content</th>\n",
              "      <th>release_year</th>\n",
              "      <th>release_day</th>\n",
              "    </tr>\n",
              "  </thead>\n",
              "  <tbody>\n",
              "    <tr>\n",
              "      <th>0</th>\n",
              "      <td>74000000</td>\n",
              "      <td>Family|Animation|Adventure|Comedy</td>\n",
              "      <td>211672</td>\n",
              "      <td>en</td>\n",
              "      <td>547.488298</td>\n",
              "      <td>Universal Pictures|Illumination Entertainment</td>\n",
              "      <td>United States of America</td>\n",
              "      <td>1.156731e+09</td>\n",
              "      <td>91.0</td>\n",
              "      <td>[{'iso_639_1': 'en', 'name': 'English'}]</td>\n",
              "      <td>Released</td>\n",
              "      <td>Minions</td>\n",
              "      <td>6.4</td>\n",
              "      <td>4729.0</td>\n",
              "      <td>Minions Stuart, Kevin and Bob are recruited by...</td>\n",
              "      <td>2015</td>\n",
              "      <td>Wednesday</td>\n",
              "    </tr>\n",
              "    <tr>\n",
              "      <th>1</th>\n",
              "      <td>149000000</td>\n",
              "      <td>Action|Adventure|Fantasy</td>\n",
              "      <td>297762</td>\n",
              "      <td>en</td>\n",
              "      <td>294.337037</td>\n",
              "      <td>Dune Entertainment|Atlas Entertainment|Warner ...</td>\n",
              "      <td>United States of America</td>\n",
              "      <td>8.205804e+08</td>\n",
              "      <td>141.0</td>\n",
              "      <td>[{'iso_639_1': 'de', 'name': 'Deutsch'}, {'iso...</td>\n",
              "      <td>Released</td>\n",
              "      <td>Wonder Woman</td>\n",
              "      <td>7.2</td>\n",
              "      <td>5025.0</td>\n",
              "      <td>An Amazon princess comes to the world of Man t...</td>\n",
              "      <td>2017</td>\n",
              "      <td>Tuesday</td>\n",
              "    </tr>\n",
              "    <tr>\n",
              "      <th>2</th>\n",
              "      <td>160000000</td>\n",
              "      <td>Family|Fantasy|Romance</td>\n",
              "      <td>321612</td>\n",
              "      <td>en</td>\n",
              "      <td>287.253654</td>\n",
              "      <td>Walt Disney Pictures|Mandeville Films</td>\n",
              "      <td>United Kingdom|United States of America</td>\n",
              "      <td>1.262886e+09</td>\n",
              "      <td>129.0</td>\n",
              "      <td>[{'iso_639_1': 'en', 'name': 'English'}]</td>\n",
              "      <td>Released</td>\n",
              "      <td>Beauty and the Beast</td>\n",
              "      <td>6.8</td>\n",
              "      <td>5530.0</td>\n",
              "      <td>A live-action adaptation of Disney's version o...</td>\n",
              "      <td>2017</td>\n",
              "      <td>Thursday</td>\n",
              "    </tr>\n",
              "    <tr>\n",
              "      <th>3</th>\n",
              "      <td>34000000</td>\n",
              "      <td>Action|Crime</td>\n",
              "      <td>339403</td>\n",
              "      <td>en</td>\n",
              "      <td>228.032744</td>\n",
              "      <td>Big Talk Productions|TriStar Pictures|Media Ri...</td>\n",
              "      <td>United Kingdom|United States of America</td>\n",
              "      <td>2.245113e+08</td>\n",
              "      <td>113.0</td>\n",
              "      <td>[{'iso_639_1': 'en', 'name': 'English'}]</td>\n",
              "      <td>Released</td>\n",
              "      <td>Baby Driver</td>\n",
              "      <td>7.2</td>\n",
              "      <td>2083.0</td>\n",
              "      <td>After being coerced into working for a crime b...</td>\n",
              "      <td>2017</td>\n",
              "      <td>Wednesday</td>\n",
              "    </tr>\n",
              "    <tr>\n",
              "      <th>4</th>\n",
              "      <td>165000000</td>\n",
              "      <td>Adventure|Family|Animation|Action|Comedy</td>\n",
              "      <td>177572</td>\n",
              "      <td>en</td>\n",
              "      <td>213.849907</td>\n",
              "      <td>Walt Disney Pictures|Walt Disney Animation Stu...</td>\n",
              "      <td>United States of America</td>\n",
              "      <td>6.521054e+08</td>\n",
              "      <td>102.0</td>\n",
              "      <td>[{'iso_639_1': 'en', 'name': 'English'}]</td>\n",
              "      <td>Released</td>\n",
              "      <td>Big Hero 6</td>\n",
              "      <td>7.8</td>\n",
              "      <td>6289.0</td>\n",
              "      <td>The special bond that develops between plus-si...</td>\n",
              "      <td>2014</td>\n",
              "      <td>Friday</td>\n",
              "    </tr>\n",
              "  </tbody>\n",
              "</table>\n",
              "</div>"
            ],
            "text/plain": [
              "      budget                                    genres  ... release_year release_day\n",
              "0   74000000         Family|Animation|Adventure|Comedy  ...         2015   Wednesday\n",
              "1  149000000                  Action|Adventure|Fantasy  ...         2017     Tuesday\n",
              "2  160000000                    Family|Fantasy|Romance  ...         2017    Thursday\n",
              "3   34000000                              Action|Crime  ...         2017   Wednesday\n",
              "4  165000000  Adventure|Family|Animation|Action|Comedy  ...         2014      Friday\n",
              "\n",
              "[5 rows x 17 columns]"
            ]
          },
          "metadata": {
            "tags": []
          },
          "execution_count": 28
        }
      ]
    },
    {
      "cell_type": "markdown",
      "metadata": {
        "id": "lmLiwAFteUoh",
        "colab_type": "text"
      },
      "source": [
        "**Budget Column:** There are too many 0s in the 'budget' column which is absurd. Hence  the 0 values are replaced with median of the non-zero values of 'budget' column. Two rows with absurd value of budget is removed completely"
      ]
    },
    {
      "cell_type": "code",
      "metadata": {
        "id": "ic8Psgpnl9CG",
        "colab_type": "code",
        "colab": {}
      },
      "source": [
        "movies_metadata=movies_metadata[movies_metadata['budget']!='/ff9qCepilowshEtG2GYWwzt2bs4.jpg']\n",
        "movies_metadata=movies_metadata[movies_metadata['budget']!='/zV8bHuSL6WXoD6FWogP9j4x80bL.jpg']\n",
        "movies_metadata['budget']=movies_metadata['budget'].astype(int)\n",
        "budget_list = movies_metadata[movies_metadata['budget']!=0]['budget']\n",
        "movies_metadata['budget']=movies_metadata['budget'].replace(0,budget_list.median())"
      ],
      "execution_count": 29,
      "outputs": []
    },
    {
      "cell_type": "code",
      "metadata": {
        "id": "1GwCf5VaqgRx",
        "colab_type": "code",
        "colab": {
          "base_uri": "https://localhost:8080/",
          "height": 453
        },
        "outputId": "19fde182-1091-4aef-f7e7-17e1d7f78f6d"
      },
      "source": [
        "movies_metadata.info()"
      ],
      "execution_count": 30,
      "outputs": [
        {
          "output_type": "stream",
          "text": [
            "<class 'pandas.core.frame.DataFrame'>\n",
            "Int64Index: 45463 entries, 0 to 45464\n",
            "Data columns (total 17 columns):\n",
            " #   Column                Non-Null Count  Dtype  \n",
            "---  ------                --------------  -----  \n",
            " 0   budget                45463 non-null  int64  \n",
            " 1   genres                45463 non-null  object \n",
            " 2   id                    45463 non-null  object \n",
            " 3   original_language     45452 non-null  object \n",
            " 4   popularity            45463 non-null  float64\n",
            " 5   production_companies  45463 non-null  object \n",
            " 6   production_countries  45463 non-null  object \n",
            " 7   revenue               45460 non-null  float64\n",
            " 8   runtime               45203 non-null  float64\n",
            " 9   spoken_languages      45460 non-null  object \n",
            " 10  status                45379 non-null  object \n",
            " 11  title                 45460 non-null  object \n",
            " 12  vote_average          45463 non-null  float64\n",
            " 13  vote_count            45463 non-null  float64\n",
            " 14  content               45463 non-null  object \n",
            " 15  release_year          45463 non-null  object \n",
            " 16  release_day           45376 non-null  object \n",
            "dtypes: float64(5), int64(1), object(11)\n",
            "memory usage: 6.2+ MB\n"
          ],
          "name": "stdout"
        }
      ]
    },
    {
      "cell_type": "markdown",
      "metadata": {
        "id": "rWjdvXYFfF6L",
        "colab_type": "text"
      },
      "source": [
        "**Original_language column:**  The **'original_language'** column has language code as its value. The **'spoken_languages'** column has both language code and language name as values. Hence the language codes are replaced with language name in the **'original_language'** column with the help of the **'spoken_languages'** column. Then the **'spoken_languages'** column is dropped."
      ]
    },
    {
      "cell_type": "code",
      "metadata": {
        "id": "EHSQTYLYdrdd",
        "colab_type": "code",
        "colab": {
          "base_uri": "https://localhost:8080/",
          "height": 695
        },
        "outputId": "812bf4df-6b38-48c3-9f29-8496652b1e67"
      },
      "source": [
        "movies_metadata['spoken_languages'] = movies_metadata['spoken_languages'].fillna('[]').apply(literal_eval).apply(lambda x: [(i['iso_639_1'],i['name']) for i in x] if isinstance(x, list) else [])\n",
        "movies_metadata.head()"
      ],
      "execution_count": 31,
      "outputs": [
        {
          "output_type": "execute_result",
          "data": {
            "text/html": [
              "<div>\n",
              "<style scoped>\n",
              "    .dataframe tbody tr th:only-of-type {\n",
              "        vertical-align: middle;\n",
              "    }\n",
              "\n",
              "    .dataframe tbody tr th {\n",
              "        vertical-align: top;\n",
              "    }\n",
              "\n",
              "    .dataframe thead th {\n",
              "        text-align: right;\n",
              "    }\n",
              "</style>\n",
              "<table border=\"1\" class=\"dataframe\">\n",
              "  <thead>\n",
              "    <tr style=\"text-align: right;\">\n",
              "      <th></th>\n",
              "      <th>budget</th>\n",
              "      <th>genres</th>\n",
              "      <th>id</th>\n",
              "      <th>original_language</th>\n",
              "      <th>popularity</th>\n",
              "      <th>production_companies</th>\n",
              "      <th>production_countries</th>\n",
              "      <th>revenue</th>\n",
              "      <th>runtime</th>\n",
              "      <th>spoken_languages</th>\n",
              "      <th>status</th>\n",
              "      <th>title</th>\n",
              "      <th>vote_average</th>\n",
              "      <th>vote_count</th>\n",
              "      <th>content</th>\n",
              "      <th>release_year</th>\n",
              "      <th>release_day</th>\n",
              "    </tr>\n",
              "  </thead>\n",
              "  <tbody>\n",
              "    <tr>\n",
              "      <th>0</th>\n",
              "      <td>74000000</td>\n",
              "      <td>Family|Animation|Adventure|Comedy</td>\n",
              "      <td>211672</td>\n",
              "      <td>en</td>\n",
              "      <td>547.488298</td>\n",
              "      <td>Universal Pictures|Illumination Entertainment</td>\n",
              "      <td>United States of America</td>\n",
              "      <td>1.156731e+09</td>\n",
              "      <td>91.0</td>\n",
              "      <td>[(en, English)]</td>\n",
              "      <td>Released</td>\n",
              "      <td>Minions</td>\n",
              "      <td>6.4</td>\n",
              "      <td>4729.0</td>\n",
              "      <td>Minions Stuart, Kevin and Bob are recruited by...</td>\n",
              "      <td>2015</td>\n",
              "      <td>Wednesday</td>\n",
              "    </tr>\n",
              "    <tr>\n",
              "      <th>1</th>\n",
              "      <td>149000000</td>\n",
              "      <td>Action|Adventure|Fantasy</td>\n",
              "      <td>297762</td>\n",
              "      <td>en</td>\n",
              "      <td>294.337037</td>\n",
              "      <td>Dune Entertainment|Atlas Entertainment|Warner ...</td>\n",
              "      <td>United States of America</td>\n",
              "      <td>8.205804e+08</td>\n",
              "      <td>141.0</td>\n",
              "      <td>[(de, Deutsch), (en, English)]</td>\n",
              "      <td>Released</td>\n",
              "      <td>Wonder Woman</td>\n",
              "      <td>7.2</td>\n",
              "      <td>5025.0</td>\n",
              "      <td>An Amazon princess comes to the world of Man t...</td>\n",
              "      <td>2017</td>\n",
              "      <td>Tuesday</td>\n",
              "    </tr>\n",
              "    <tr>\n",
              "      <th>2</th>\n",
              "      <td>160000000</td>\n",
              "      <td>Family|Fantasy|Romance</td>\n",
              "      <td>321612</td>\n",
              "      <td>en</td>\n",
              "      <td>287.253654</td>\n",
              "      <td>Walt Disney Pictures|Mandeville Films</td>\n",
              "      <td>United Kingdom|United States of America</td>\n",
              "      <td>1.262886e+09</td>\n",
              "      <td>129.0</td>\n",
              "      <td>[(en, English)]</td>\n",
              "      <td>Released</td>\n",
              "      <td>Beauty and the Beast</td>\n",
              "      <td>6.8</td>\n",
              "      <td>5530.0</td>\n",
              "      <td>A live-action adaptation of Disney's version o...</td>\n",
              "      <td>2017</td>\n",
              "      <td>Thursday</td>\n",
              "    </tr>\n",
              "    <tr>\n",
              "      <th>3</th>\n",
              "      <td>34000000</td>\n",
              "      <td>Action|Crime</td>\n",
              "      <td>339403</td>\n",
              "      <td>en</td>\n",
              "      <td>228.032744</td>\n",
              "      <td>Big Talk Productions|TriStar Pictures|Media Ri...</td>\n",
              "      <td>United Kingdom|United States of America</td>\n",
              "      <td>2.245113e+08</td>\n",
              "      <td>113.0</td>\n",
              "      <td>[(en, English)]</td>\n",
              "      <td>Released</td>\n",
              "      <td>Baby Driver</td>\n",
              "      <td>7.2</td>\n",
              "      <td>2083.0</td>\n",
              "      <td>After being coerced into working for a crime b...</td>\n",
              "      <td>2017</td>\n",
              "      <td>Wednesday</td>\n",
              "    </tr>\n",
              "    <tr>\n",
              "      <th>4</th>\n",
              "      <td>165000000</td>\n",
              "      <td>Adventure|Family|Animation|Action|Comedy</td>\n",
              "      <td>177572</td>\n",
              "      <td>en</td>\n",
              "      <td>213.849907</td>\n",
              "      <td>Walt Disney Pictures|Walt Disney Animation Stu...</td>\n",
              "      <td>United States of America</td>\n",
              "      <td>6.521054e+08</td>\n",
              "      <td>102.0</td>\n",
              "      <td>[(en, English)]</td>\n",
              "      <td>Released</td>\n",
              "      <td>Big Hero 6</td>\n",
              "      <td>7.8</td>\n",
              "      <td>6289.0</td>\n",
              "      <td>The special bond that develops between plus-si...</td>\n",
              "      <td>2014</td>\n",
              "      <td>Friday</td>\n",
              "    </tr>\n",
              "  </tbody>\n",
              "</table>\n",
              "</div>"
            ],
            "text/plain": [
              "      budget                                    genres  ... release_year release_day\n",
              "0   74000000         Family|Animation|Adventure|Comedy  ...         2015   Wednesday\n",
              "1  149000000                  Action|Adventure|Fantasy  ...         2017     Tuesday\n",
              "2  160000000                    Family|Fantasy|Romance  ...         2017    Thursday\n",
              "3   34000000                              Action|Crime  ...         2017   Wednesday\n",
              "4  165000000  Adventure|Family|Animation|Action|Comedy  ...         2014      Friday\n",
              "\n",
              "[5 rows x 17 columns]"
            ]
          },
          "metadata": {
            "tags": []
          },
          "execution_count": 31
        }
      ]
    },
    {
      "cell_type": "code",
      "metadata": {
        "id": "1_Jp4RQtexdP",
        "colab_type": "code",
        "colab": {
          "base_uri": "https://localhost:8080/",
          "height": 1000
        },
        "outputId": "e7a3c6a0-e69a-4ea6-9f7f-7ecfef72648a"
      },
      "source": [
        "languages={}\n",
        "for index in movies_metadata.index:\n",
        "  for item in movies_metadata.loc[index,'spoken_languages']:\n",
        "    languages[item[0]]=item[1]\n",
        "languages"
      ],
      "execution_count": 32,
      "outputs": [
        {
          "output_type": "execute_result",
          "data": {
            "text/plain": [
              "{'ab': '',\n",
              " 'af': 'Afrikaans',\n",
              " 'am': '',\n",
              " 'ar': 'العربية',\n",
              " 'as': '',\n",
              " 'ay': '',\n",
              " 'az': 'Azərbaycan',\n",
              " 'be': 'беларуская мова',\n",
              " 'bg': 'български език',\n",
              " 'bi': '',\n",
              " 'bm': 'Bamanankan',\n",
              " 'bn': 'বাংলা',\n",
              " 'bo': '',\n",
              " 'br': '',\n",
              " 'bs': 'Bosanski',\n",
              " 'ca': 'Català',\n",
              " 'ce': '',\n",
              " 'cn': '广州话 / 廣州話',\n",
              " 'co': '',\n",
              " 'cr': '',\n",
              " 'cs': 'Český',\n",
              " 'cy': 'Cymraeg',\n",
              " 'da': 'Dansk',\n",
              " 'de': 'Deutsch',\n",
              " 'dz': '',\n",
              " 'el': 'ελληνικά',\n",
              " 'en': 'English',\n",
              " 'eo': 'Esperanto',\n",
              " 'es': 'Español',\n",
              " 'et': 'Eesti',\n",
              " 'eu': 'euskera',\n",
              " 'fa': 'فارسی',\n",
              " 'ff': 'Fulfulde',\n",
              " 'fi': 'suomi',\n",
              " 'fo': '',\n",
              " 'fr': 'Français',\n",
              " 'fy': '',\n",
              " 'ga': 'Gaeilge',\n",
              " 'gd': '',\n",
              " 'gl': 'Galego',\n",
              " 'gn': '',\n",
              " 'gu': '',\n",
              " 'ha': 'Hausa',\n",
              " 'he': 'עִבְרִית',\n",
              " 'hi': 'हिन्दी',\n",
              " 'hr': 'Hrvatski',\n",
              " 'ht': '',\n",
              " 'hu': 'Magyar',\n",
              " 'hy': '',\n",
              " 'id': 'Bahasa indonesia',\n",
              " 'ig': '',\n",
              " 'is': 'Íslenska',\n",
              " 'it': 'Italiano',\n",
              " 'iu': '',\n",
              " 'ja': '日本語',\n",
              " 'jv': '',\n",
              " 'ka': 'ქართული',\n",
              " 'ki': '',\n",
              " 'kk': 'қазақ',\n",
              " 'km': '',\n",
              " 'kn': '?????',\n",
              " 'ko': '한국어/조선말',\n",
              " 'ku': '',\n",
              " 'kw': '',\n",
              " 'ky': '??????',\n",
              " 'la': 'Latin',\n",
              " 'lb': '',\n",
              " 'ln': '',\n",
              " 'lo': '',\n",
              " 'lt': 'Lietuvi\\x9akai',\n",
              " 'lv': 'Latviešu',\n",
              " 'mh': '',\n",
              " 'mi': '',\n",
              " 'mk': '',\n",
              " 'ml': '',\n",
              " 'mn': '',\n",
              " 'mr': '',\n",
              " 'ms': 'Bahasa melayu',\n",
              " 'mt': 'Malti',\n",
              " 'my': '',\n",
              " 'nb': 'Bokmål',\n",
              " 'ne': '',\n",
              " 'nl': 'Nederlands',\n",
              " 'no': 'Norsk',\n",
              " 'nv': '',\n",
              " 'ny': '',\n",
              " 'oc': '',\n",
              " 'pa': 'ਪੰਜਾਬੀ',\n",
              " 'pl': 'Polski',\n",
              " 'ps': 'پښتو',\n",
              " 'pt': 'Português',\n",
              " 'qu': '',\n",
              " 'ro': 'Română',\n",
              " 'ru': 'Pусский',\n",
              " 'rw': 'Kinyarwanda',\n",
              " 'sa': '',\n",
              " 'sc': '',\n",
              " 'se': '',\n",
              " 'sg': '',\n",
              " 'sh': '',\n",
              " 'si': '',\n",
              " 'sk': 'Slovenčina',\n",
              " 'sl': 'Slovenščina',\n",
              " 'sm': '',\n",
              " 'sn': '',\n",
              " 'so': 'Somali',\n",
              " 'sq': 'shqip',\n",
              " 'sr': 'Srpski',\n",
              " 'st': '',\n",
              " 'sv': 'svenska',\n",
              " 'sw': 'Kiswahili',\n",
              " 'ta': 'தமிழ்',\n",
              " 'te': 'తెలుగు',\n",
              " 'tg': '',\n",
              " 'th': 'ภาษาไทย',\n",
              " 'tk': '',\n",
              " 'tl': '',\n",
              " 'tn': '',\n",
              " 'to': '',\n",
              " 'tr': 'Türkçe',\n",
              " 'tt': '',\n",
              " 'ty': '',\n",
              " 'ug': '',\n",
              " 'uk': 'Український',\n",
              " 'ur': 'اردو',\n",
              " 'uz': 'ozbek',\n",
              " 'vi': 'Tiếng Việt',\n",
              " 'wo': 'Wolof',\n",
              " 'xh': '',\n",
              " 'xx': 'No Language',\n",
              " 'yi': '',\n",
              " 'zh': '普通话',\n",
              " 'zu': 'isiZulu'}"
            ]
          },
          "metadata": {
            "tags": []
          },
          "execution_count": 32
        }
      ]
    },
    {
      "cell_type": "code",
      "metadata": {
        "id": "Ph1ueAF_iHfY",
        "colab_type": "code",
        "colab": {}
      },
      "source": [
        "for key in languages.keys():\n",
        "  translator=Translator()\n",
        "  eng=translator.translate(languages[key],dest='en').text\n",
        "  languages[key]=eng"
      ],
      "execution_count": 33,
      "outputs": []
    },
    {
      "cell_type": "code",
      "metadata": {
        "id": "3MnAIfnDhM4f",
        "colab_type": "code",
        "colab": {
          "base_uri": "https://localhost:8080/",
          "height": 235
        },
        "outputId": "279af919-7170-4831-c21a-022328c6d2a0"
      },
      "source": [
        "for index in movies_metadata.index:\n",
        "  if movies_metadata.loc[index,'original_language'] in languages.keys():\n",
        "    movies_metadata.loc[index,'original_language']=languages[movies_metadata.loc[index,'original_language']]\n",
        "movies_metadata['original_language'].fillna('Unknown',inplace=True)\n",
        "movies_metadata['original_language'].value_counts()"
      ],
      "execution_count": 34,
      "outputs": [
        {
          "output_type": "execute_result",
          "data": {
            "text/plain": [
              "English      32269\n",
              "French        2438\n",
              "Italiano      1529\n",
              "Japanese      1350\n",
              "Deutsch       1080\n",
              "             ...  \n",
              "ozbek            1\n",
              "isiZulu          1\n",
              "Welsh            1\n",
              "Latin            1\n",
              "Esperanto        1\n",
              "Name: original_language, Length: 69, dtype: int64"
            ]
          },
          "metadata": {
            "tags": []
          },
          "execution_count": 34
        }
      ]
    },
    {
      "cell_type": "markdown",
      "metadata": {
        "id": "iPIudEN2huVc",
        "colab_type": "text"
      },
      "source": [
        "**Filling Null Values Using Various Methods**"
      ]
    },
    {
      "cell_type": "code",
      "metadata": {
        "id": "v_wbBwxOqTRl",
        "colab_type": "code",
        "colab": {}
      },
      "source": [
        "movies_metadata.info()"
      ],
      "execution_count": null,
      "outputs": []
    },
    {
      "cell_type": "code",
      "metadata": {
        "id": "jNhCvbU6Wdgx",
        "colab_type": "code",
        "colab": {}
      },
      "source": [
        "movies_metadata['status'].fillna('Unknown',inplace=True)\n",
        "movies_metadata['title'].fillna('Unknown',inplace=True)\n",
        "movies_metadata['release_day'].fillna('Unknown',inplace=True)\n",
        "movies_metadata['revenue'].fillna(movies_metadata['revenue'].median(),inplace=True)\n",
        "movies_metadata['runtime'].fillna(movies_metadata['runtime'].mean(),inplace=True)"
      ],
      "execution_count": null,
      "outputs": []
    },
    {
      "cell_type": "code",
      "metadata": {
        "id": "FrFMz5rUUqUO",
        "colab_type": "code",
        "colab": {}
      },
      "source": [
        "movies_metadata=movies_metadata.reset_index(drop=True)\n",
        "movies_metadata.info()"
      ],
      "execution_count": null,
      "outputs": []
    },
    {
      "cell_type": "markdown",
      "metadata": {
        "id": "EG-FmoE-iIxZ",
        "colab_type": "text"
      },
      "source": [
        "**Rearranging Column Names :**"
      ]
    },
    {
      "cell_type": "code",
      "metadata": {
        "id": "I_YObcDWKP4J",
        "colab_type": "code",
        "colab": {}
      },
      "source": [
        "movies_metadata=movies_metadata[['id','title','release_year','release_day','genres','original_language','runtime','content','production_companies','budget','revenue','production_countries','status','popularity','vote_average','vote_count']]"
      ],
      "execution_count": null,
      "outputs": []
    },
    {
      "cell_type": "markdown",
      "metadata": {
        "id": "aVQI0m9iiSW5",
        "colab_type": "text"
      },
      "source": [
        "**Top 5 Bengali Movies According to Popularity, Vote Counts And Vote Average :**"
      ]
    },
    {
      "cell_type": "code",
      "metadata": {
        "id": "Y-ODkupxqgnD",
        "colab_type": "code",
        "colab": {}
      },
      "source": [
        "movies_metadata[movies_metadata['original_language']=='Bengali'].head()"
      ],
      "execution_count": null,
      "outputs": []
    },
    {
      "cell_type": "markdown",
      "metadata": {
        "id": "Bdyy_4WljjRm",
        "colab_type": "text"
      },
      "source": [
        "**Top 5 Hindi Movies According to Popularity, Vote Counts And Vote Average :**"
      ]
    },
    {
      "cell_type": "code",
      "metadata": {
        "id": "cJRPuoTsjhFI",
        "colab_type": "code",
        "colab": {}
      },
      "source": [
        "movies_metadata[movies_metadata['original_language']=='Hindi'].head()"
      ],
      "execution_count": null,
      "outputs": []
    },
    {
      "cell_type": "markdown",
      "metadata": {
        "id": "0T7QeK2wTYPP",
        "colab_type": "text"
      },
      "source": [
        "**IMPORTING links.csv :** This dataset contains the TMDB and IMDB ids of the movies in **'movies_metadata.csv'** ."
      ]
    },
    {
      "cell_type": "code",
      "metadata": {
        "id": "tzmGyAEUkNhC",
        "colab_type": "code",
        "colab": {}
      },
      "source": [
        "link2='https://drive.google.com/file/d/1ZSyxmhiBnJNT7zEng7ak6_SCms9Y6RPp/view?usp=sharing'"
      ],
      "execution_count": null,
      "outputs": []
    },
    {
      "cell_type": "code",
      "metadata": {
        "id": "IRBYIa0_k-7z",
        "colab_type": "code",
        "colab": {}
      },
      "source": [
        "id='1ZSyxmhiBnJNT7zEng7ak6_SCms9Y6RPp'\n",
        "downloaded = drive.CreateFile({'id':id}) \n",
        "downloaded.GetContentFile('links.csv')  \n",
        "links = pd.read_csv('links.csv',engine='python')\n",
        "links.head(5)"
      ],
      "execution_count": null,
      "outputs": []
    },
    {
      "cell_type": "code",
      "metadata": {
        "id": "F9QtZtqllQM3",
        "colab_type": "code",
        "colab": {}
      },
      "source": [
        "links.info()"
      ],
      "execution_count": null,
      "outputs": []
    },
    {
      "cell_type": "markdown",
      "metadata": {
        "id": "tOUVnMoAUuYy",
        "colab_type": "text"
      },
      "source": [
        "**MERGING THE 'movies_metadata' DATAFRAME WITH THE 'links.csv'**"
      ]
    },
    {
      "cell_type": "code",
      "metadata": {
        "id": "5xZq_dsBlmtO",
        "colab_type": "code",
        "colab": {}
      },
      "source": [
        "movies_metadata['id'] = pd.to_numeric(movies_metadata['id'])\n",
        "movies_metadata.info()"
      ],
      "execution_count": null,
      "outputs": []
    },
    {
      "cell_type": "code",
      "metadata": {
        "id": "PAIidtzsl9nD",
        "colab_type": "code",
        "colab": {}
      },
      "source": [
        "links['tmdbId']=np.array(links['tmdbId'], np.int64)\n",
        "links.info()"
      ],
      "execution_count": null,
      "outputs": []
    },
    {
      "cell_type": "code",
      "metadata": {
        "id": "jQaThxWbnQbI",
        "colab_type": "code",
        "colab": {}
      },
      "source": [
        "movies_metadata.rename(columns={'id':'tmdbId'}, inplace=True)\n",
        "movies_data = pd.merge(movies_metadata,links,on='tmdbId')\n",
        "movies_data.head()"
      ],
      "execution_count": null,
      "outputs": []
    },
    {
      "cell_type": "code",
      "metadata": {
        "id": "vooScahLoBqn",
        "colab_type": "code",
        "colab": {}
      },
      "source": [
        "movies_data.info()"
      ],
      "execution_count": null,
      "outputs": []
    },
    {
      "cell_type": "markdown",
      "metadata": {
        "id": "fYG_JRMQVXRs",
        "colab_type": "text"
      },
      "source": [
        "**REMOVING ROWS WITH UNKNOWN TITLE (MOVIE NAME):**"
      ]
    },
    {
      "cell_type": "code",
      "metadata": {
        "id": "nGYwUOd_oRST",
        "colab_type": "code",
        "colab": {}
      },
      "source": [
        "movies_data[movies_data['title']==\"Unknown\"].tmdbId.count()"
      ],
      "execution_count": null,
      "outputs": []
    },
    {
      "cell_type": "code",
      "metadata": {
        "id": "H6YDblUMoxrW",
        "colab_type": "code",
        "colab": {}
      },
      "source": [
        "movies_data=movies_data[movies_data['title']!=\"Unknown\"]\n",
        "movies_data.reset_index(drop=True)\n",
        "movies_data.info()"
      ],
      "execution_count": null,
      "outputs": []
    },
    {
      "cell_type": "markdown",
      "metadata": {
        "id": "su95yeIx3TBF",
        "colab_type": "text"
      },
      "source": [
        "**IMPORTING 'credits.csv'**"
      ]
    },
    {
      "cell_type": "code",
      "metadata": {
        "id": "ohuyu2544Uvj",
        "colab_type": "code",
        "colab": {}
      },
      "source": [
        "link3='https://drive.google.com/file/d/1zucIWQqlWHXxwyfO1lc_hleV76RbYwGa/view?usp=sharing'"
      ],
      "execution_count": null,
      "outputs": []
    },
    {
      "cell_type": "code",
      "metadata": {
        "id": "1pYGN3WZ4Ycf",
        "colab_type": "code",
        "colab": {}
      },
      "source": [
        "id='1zucIWQqlWHXxwyfO1lc_hleV76RbYwGa'\n",
        "downloaded = drive.CreateFile({'id':id}) \n",
        "downloaded.GetContentFile('credits.csv')  \n",
        "credits = pd.read_csv('credits.csv',engine='python')\n",
        "credits.head(5)"
      ],
      "execution_count": null,
      "outputs": []
    },
    {
      "cell_type": "markdown",
      "metadata": {
        "id": "pXcog3RXVpZl",
        "colab_type": "text"
      },
      "source": [
        "**EXTRACTING RELEVANT INFORMATION :** The actors' names from the 'cast' column and the director's name from the crew is extracted."
      ]
    },
    {
      "cell_type": "code",
      "metadata": {
        "id": "0Z9JhNJ4deAi",
        "colab_type": "code",
        "colab": {}
      },
      "source": [
        "credits['cast'] = credits['cast'].fillna('[]').apply(literal_eval).apply(lambda x: [i['name'] for i in x] if isinstance(x, list) else [])\n",
        "credits['cast']=[try_join(l)for l in credits['cast']]"
      ],
      "execution_count": null,
      "outputs": []
    },
    {
      "cell_type": "code",
      "metadata": {
        "id": "CLmk3oyjfRkg",
        "colab_type": "code",
        "colab": {}
      },
      "source": [
        "credits.head(10)"
      ],
      "execution_count": null,
      "outputs": []
    },
    {
      "cell_type": "code",
      "metadata": {
        "id": "g9mZhJc_g5ao",
        "colab_type": "code",
        "colab": {}
      },
      "source": [
        "def get_director(x):\n",
        "    for i in x:\n",
        "        if i['job'] == 'Director':\n",
        "            return i['name']\n",
        "    return 'Unknown'\n",
        "\n",
        "credits['director'] =credits['crew'].apply(literal_eval).apply(get_director)\n",
        "credits.drop('crew',axis=1,inplace=True)\n",
        "credits.head()"
      ],
      "execution_count": null,
      "outputs": []
    },
    {
      "cell_type": "code",
      "metadata": {
        "id": "21I75S3un5iE",
        "colab_type": "code",
        "colab": {}
      },
      "source": [
        "credits.info()"
      ],
      "execution_count": null,
      "outputs": []
    },
    {
      "cell_type": "markdown",
      "metadata": {
        "id": "p_hxExWqWQnn",
        "colab_type": "text"
      },
      "source": [
        "**MERGING THE DATAFRAMES 'movies_data' and 'credits' :**"
      ]
    },
    {
      "cell_type": "code",
      "metadata": {
        "id": "3nr-bA-YrDjZ",
        "colab_type": "code",
        "colab": {}
      },
      "source": [
        "credits.rename(columns={'id':'tmdbId'}, inplace=True)\n",
        "movies_data = pd.merge(movies_data,credits,on='tmdbId')\n",
        "movies_data.head()"
      ],
      "execution_count": null,
      "outputs": []
    },
    {
      "cell_type": "code",
      "metadata": {
        "id": "91gqXWLmrjl_",
        "colab_type": "code",
        "colab": {}
      },
      "source": [
        "movies_data.info()"
      ],
      "execution_count": null,
      "outputs": []
    },
    {
      "cell_type": "markdown",
      "metadata": {
        "id": "pqyZBopHs3sw",
        "colab_type": "text"
      },
      "source": [
        "**Top 5 Hrithik Roshan Movies Based on Popularity, vote counts and vote average:**"
      ]
    },
    {
      "cell_type": "code",
      "metadata": {
        "id": "rkfcfsbHr1vA",
        "colab_type": "code",
        "colab": {}
      },
      "source": [
        "HRmovie = movies_data['cast'].str.contains('Hrithik Roshan')\n",
        "movies_data[HRmovie].head()\t"
      ],
      "execution_count": null,
      "outputs": []
    },
    {
      "cell_type": "markdown",
      "metadata": {
        "id": "VAuPsOMqJerz",
        "colab_type": "text"
      },
      "source": [
        "**IMPORTING Ratings.csv**"
      ]
    },
    {
      "cell_type": "code",
      "metadata": {
        "id": "nu0nHVw6Zn6h",
        "colab_type": "code",
        "colab": {}
      },
      "source": [
        "link4='https://drive.google.com/file/d/1ZkhkhHnDsy3v-9RhMAAJdLo1y7flVwe1/view?usp=sharing'"
      ],
      "execution_count": null,
      "outputs": []
    },
    {
      "cell_type": "code",
      "metadata": {
        "id": "59io6ol5Z7TT",
        "colab_type": "code",
        "colab": {}
      },
      "source": [
        "id=\"1ZkhkhHnDsy3v-9RhMAAJdLo1y7flVwe1\"\n",
        "downloaded = drive.CreateFile({'id':id}) \n",
        "downloaded.GetContentFile('ratings.csv')  \n",
        "ratings = pd.read_csv('ratings.csv',engine='python')\n",
        "ratings.head(5)"
      ],
      "execution_count": null,
      "outputs": []
    },
    {
      "cell_type": "markdown",
      "metadata": {
        "id": "Vn1lP5H7JmLF",
        "colab_type": "text"
      },
      "source": [
        "The **'timestamp'** column seems irrelevant. So it is dropped"
      ]
    },
    {
      "cell_type": "code",
      "metadata": {
        "id": "jT4CB7jzbTyE",
        "colab_type": "code",
        "colab": {}
      },
      "source": [
        "ratings.drop('timestamp',axis=1,inplace=True)\n",
        "ratings.head()"
      ],
      "execution_count": null,
      "outputs": []
    },
    {
      "cell_type": "code",
      "metadata": {
        "id": "7Uf7tfTTc0eA",
        "colab_type": "code",
        "colab": {}
      },
      "source": [
        "avg_ratings=ratings.groupby('movieId',as_index=False)['rating'].mean()\n",
        "avg_ratings.head()"
      ],
      "execution_count": null,
      "outputs": []
    },
    {
      "cell_type": "code",
      "metadata": {
        "id": "y3NQfVmTg1rD",
        "colab_type": "code",
        "colab": {}
      },
      "source": [
        "avg_ratings.isna().sum()"
      ],
      "execution_count": null,
      "outputs": []
    },
    {
      "cell_type": "code",
      "metadata": {
        "id": "K-55fFTbqTpm",
        "colab_type": "code",
        "colab": {}
      },
      "source": [
        "movies_data = pd.merge(movies_data,avg_ratings,on='movieId')\n",
        "movies_data.head()"
      ],
      "execution_count": null,
      "outputs": []
    },
    {
      "cell_type": "code",
      "metadata": {
        "id": "Y4cahOKBq3OI",
        "colab_type": "code",
        "colab": {}
      },
      "source": [
        "movies_data=movies_data.rename(columns={\"rating\":\"mean_rating\"})\n",
        "movies_data.info()"
      ],
      "execution_count": null,
      "outputs": []
    },
    {
      "cell_type": "code",
      "metadata": {
        "id": "bne2ne4PYqho",
        "colab_type": "code",
        "colab": {}
      },
      "source": [
        "movie_user_ratings_data=movies_data.merge(ratings,on = 'movieId',how = 'inner')\n",
        "movie_user_ratings_data.head(40)"
      ],
      "execution_count": null,
      "outputs": []
    },
    {
      "cell_type": "code",
      "metadata": {
        "id": "uEu_wymVcYAf",
        "colab_type": "code",
        "colab": {}
      },
      "source": [
        "movie_user_ratings_data.info()"
      ],
      "execution_count": null,
      "outputs": []
    },
    {
      "cell_type": "code",
      "metadata": {
        "id": "6pGCfiXvYqYL",
        "colab_type": "code",
        "colab": {}
      },
      "source": [
        "movie_user_ratings_data.isna().sum()"
      ],
      "execution_count": null,
      "outputs": []
    },
    {
      "cell_type": "code",
      "metadata": {
        "id": "NtlLYZG6arxR",
        "colab_type": "code",
        "colab": {}
      },
      "source": [
        "movie_user_ratings_data.groupby('userId').movieId.count()"
      ],
      "execution_count": null,
      "outputs": []
    }
  ]
}