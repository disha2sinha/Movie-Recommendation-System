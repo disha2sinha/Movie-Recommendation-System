{
  "nbformat": 4,
  "nbformat_minor": 0,
  "metadata": {
    "colab": {
      "name": "Popularity-Based Recommendation System.ipynb",
      "provenance": [],
      "authorship_tag": "ABX9TyNDNQlDOrQLlJ1avg/Fym/u",
      "include_colab_link": true
    },
    "kernelspec": {
      "name": "python3",
      "display_name": "Python 3"
    },
    "accelerator": "GPU"
  },
  "cells": [
    {
      "cell_type": "markdown",
      "metadata": {
        "id": "view-in-github",
        "colab_type": "text"
      },
      "source": [
        "<a href=\"https://colab.research.google.com/github/disha2sinha/Movie-Recommendation-System/blob/master/Popularity_Based_Recommendation_System.ipynb\" target=\"_parent\"><img src=\"https://colab.research.google.com/assets/colab-badge.svg\" alt=\"Open In Colab\"/></a>"
      ]
    },
    {
      "cell_type": "markdown",
      "metadata": {
        "id": "vYXuZ57oEdGG"
      },
      "source": [
        "**IMPORTING LIBRARIES:**"
      ]
    },
    {
      "cell_type": "code",
      "metadata": {
        "id": "zsj7g3JfAitV"
      },
      "source": [
        "!pip install -U -q PyDrive\n",
        "from pydrive.auth import GoogleAuth\n",
        "from pydrive.drive import GoogleDrive\n",
        "from google.colab import auth\n",
        "from oauth2client.client import GoogleCredentials\n",
        "import pandas as pd\n",
        "import math\n",
        "import numpy as np\n",
        "import matplotlib.pyplot as plt\n",
        "import seaborn as sns\n",
        "from sklearn.preprocessing import MinMaxScaler"
      ],
      "execution_count": 1,
      "outputs": []
    },
    {
      "cell_type": "code",
      "metadata": {
        "id": "R9gJZ2TKEwIa"
      },
      "source": [
        "auth.authenticate_user()\n",
        "gauth = GoogleAuth()\n",
        "gauth.credentials = GoogleCredentials.get_application_default()\n",
        "drive = GoogleDrive(gauth)\n",
        "#https://drive.google.com/file/d/1HcaON_5Qz-bfqlRyDgVWfdS4bD0hQ0Z3/view?usp=sharing"
      ],
      "execution_count": 2,
      "outputs": []
    },
    {
      "cell_type": "code",
      "metadata": {
        "id": "9LEjNWemFE9G",
        "colab": {
          "base_uri": "https://localhost:8080/",
          "height": 719
        },
        "outputId": "eee15329-9f02-4bb1-992c-a9801f081649"
      },
      "source": [
        "id='1QV_0o-7HQG75hCDyjrgJ2iII0_FdO2wa'\n",
        "downloaded = drive.CreateFile({'id':id}) \n",
        "downloaded.GetContentFile('MoviesData.csv')  \n",
        "movies_data = pd.read_csv('MoviesData.csv',engine='python',index_col=0)\n",
        "movies_data.head()"
      ],
      "execution_count": 3,
      "outputs": [
        {
          "output_type": "execute_result",
          "data": {
            "text/html": [
              "<div>\n",
              "<style scoped>\n",
              "    .dataframe tbody tr th:only-of-type {\n",
              "        vertical-align: middle;\n",
              "    }\n",
              "\n",
              "    .dataframe tbody tr th {\n",
              "        vertical-align: top;\n",
              "    }\n",
              "\n",
              "    .dataframe thead th {\n",
              "        text-align: right;\n",
              "    }\n",
              "</style>\n",
              "<table border=\"1\" class=\"dataframe\">\n",
              "  <thead>\n",
              "    <tr style=\"text-align: right;\">\n",
              "      <th></th>\n",
              "      <th>index</th>\n",
              "      <th>tmdbId</th>\n",
              "      <th>title</th>\n",
              "      <th>release_year</th>\n",
              "      <th>release_day</th>\n",
              "      <th>genres</th>\n",
              "      <th>original_language</th>\n",
              "      <th>runtime</th>\n",
              "      <th>content</th>\n",
              "      <th>production_companies</th>\n",
              "      <th>budget</th>\n",
              "      <th>revenue</th>\n",
              "      <th>production_countries</th>\n",
              "      <th>status</th>\n",
              "      <th>popularity</th>\n",
              "      <th>vote_average</th>\n",
              "      <th>vote_count</th>\n",
              "      <th>keywords</th>\n",
              "      <th>cast</th>\n",
              "      <th>director</th>\n",
              "      <th>rating_count</th>\n",
              "      <th>mean_rating</th>\n",
              "    </tr>\n",
              "  </thead>\n",
              "  <tbody>\n",
              "    <tr>\n",
              "      <th>0</th>\n",
              "      <td>0</td>\n",
              "      <td>41439</td>\n",
              "      <td>Saw: The Final Chapter</td>\n",
              "      <td>2010</td>\n",
              "      <td>Thursday</td>\n",
              "      <td>Horror|Crime</td>\n",
              "      <td>English</td>\n",
              "      <td>90.0</td>\n",
              "      <td>As a deadly battle rages over Jigsaw's brutal ...</td>\n",
              "      <td>Lionsgate|Twisted Pictures|Serendipity Product...</td>\n",
              "      <td>20000000</td>\n",
              "      <td>136150434.0</td>\n",
              "      <td>Canada|United States of America</td>\n",
              "      <td>Released</td>\n",
              "      <td>16.626655</td>\n",
              "      <td>5.8</td>\n",
              "      <td>758.0</td>\n",
              "      <td>['survivor', 'violence', 'self help guru', 'tr...</td>\n",
              "      <td>Tobin Bell|Costas Mandylor|Betsy Russell|Cary ...</td>\n",
              "      <td>Kevin Greutert</td>\n",
              "      <td>341.0</td>\n",
              "      <td>4.054252</td>\n",
              "    </tr>\n",
              "    <tr>\n",
              "      <th>1</th>\n",
              "      <td>1</td>\n",
              "      <td>11185</td>\n",
              "      <td>See No Evil, Hear No Evil</td>\n",
              "      <td>1989</td>\n",
              "      <td>Friday</td>\n",
              "      <td>Crime|Comedy</td>\n",
              "      <td>English</td>\n",
              "      <td>103.0</td>\n",
              "      <td>A murder takes place in the shop of David Lyon...</td>\n",
              "      <td>TriStar Pictures</td>\n",
              "      <td>18000000</td>\n",
              "      <td>46908987.0</td>\n",
              "      <td>United States of America</td>\n",
              "      <td>Released</td>\n",
              "      <td>17.367336</td>\n",
              "      <td>6.4</td>\n",
              "      <td>220.0</td>\n",
              "      <td>['deafness', 'blindness and impaired vision', ...</td>\n",
              "      <td>Richard Pryor|Gene Wilder|Joan Severance|Kevin...</td>\n",
              "      <td>Arthur Hiller</td>\n",
              "      <td>324.0</td>\n",
              "      <td>4.256173</td>\n",
              "    </tr>\n",
              "    <tr>\n",
              "      <th>2</th>\n",
              "      <td>2</td>\n",
              "      <td>321258</td>\n",
              "      <td>The Boy</td>\n",
              "      <td>2016</td>\n",
              "      <td>Friday</td>\n",
              "      <td>Horror|Mystery|Thriller</td>\n",
              "      <td>English</td>\n",
              "      <td>97.0</td>\n",
              "      <td>A nanny, working for a family whose son has ju...</td>\n",
              "      <td>Lakeshore Entertainment|Vertigo Entertainment|...</td>\n",
              "      <td>10000000</td>\n",
              "      <td>64188367.0</td>\n",
              "      <td>United States of America|China|Canada</td>\n",
              "      <td>Released</td>\n",
              "      <td>17.028854</td>\n",
              "      <td>5.8</td>\n",
              "      <td>1133.0</td>\n",
              "      <td>['suicide', 'england', 'fire', 'country house'...</td>\n",
              "      <td>Lauren Cohan|Rupert Evans|James Russell|Jim No...</td>\n",
              "      <td>William Brent Bell</td>\n",
              "      <td>311.0</td>\n",
              "      <td>4.487138</td>\n",
              "    </tr>\n",
              "    <tr>\n",
              "      <th>3</th>\n",
              "      <td>3</td>\n",
              "      <td>13342</td>\n",
              "      <td>Fast Times at Ridgemont High</td>\n",
              "      <td>1982</td>\n",
              "      <td>Friday</td>\n",
              "      <td>Comedy</td>\n",
              "      <td>English</td>\n",
              "      <td>90.0</td>\n",
              "      <td>Follows a group of high school students growin...</td>\n",
              "      <td>Universal Pictures|Refugee Films</td>\n",
              "      <td>4500000</td>\n",
              "      <td>27092880.0</td>\n",
              "      <td>United States of America</td>\n",
              "      <td>Released</td>\n",
              "      <td>14.658885</td>\n",
              "      <td>7.0</td>\n",
              "      <td>330.0</td>\n",
              "      <td>['sex', 'based on novel', 'nudity', 'friendshi...</td>\n",
              "      <td>Sean Penn|Jennifer Jason Leigh|Judge Reinhold|...</td>\n",
              "      <td>Amy Heckerling</td>\n",
              "      <td>304.0</td>\n",
              "      <td>4.138158</td>\n",
              "    </tr>\n",
              "    <tr>\n",
              "      <th>4</th>\n",
              "      <td>4</td>\n",
              "      <td>2503</td>\n",
              "      <td>The Bourne Ultimatum</td>\n",
              "      <td>2007</td>\n",
              "      <td>Friday</td>\n",
              "      <td>Action|Drama|Mystery|Thriller</td>\n",
              "      <td>English</td>\n",
              "      <td>115.0</td>\n",
              "      <td>Bourne is brought out of hiding once again by ...</td>\n",
              "      <td>Universal Pictures|The Kennedy/Marshall Compan...</td>\n",
              "      <td>70000000</td>\n",
              "      <td>442824138.0</td>\n",
              "      <td>Germany|United States of America</td>\n",
              "      <td>Released</td>\n",
              "      <td>18.173269</td>\n",
              "      <td>7.3</td>\n",
              "      <td>2938.0</td>\n",
              "      <td>['paris', 'corruption', 'madrid', 'assassin', ...</td>\n",
              "      <td>Matt Damon|Julia Stiles|David Strathairn|Scott...</td>\n",
              "      <td>Paul Greengrass</td>\n",
              "      <td>291.0</td>\n",
              "      <td>4.221649</td>\n",
              "    </tr>\n",
              "  </tbody>\n",
              "</table>\n",
              "</div>"
            ],
            "text/plain": [
              "   index  tmdbId  ... rating_count  mean_rating\n",
              "0      0   41439  ...        341.0     4.054252\n",
              "1      1   11185  ...        324.0     4.256173\n",
              "2      2  321258  ...        311.0     4.487138\n",
              "3      3   13342  ...        304.0     4.138158\n",
              "4      4    2503  ...        291.0     4.221649\n",
              "\n",
              "[5 rows x 22 columns]"
            ]
          },
          "metadata": {
            "tags": []
          },
          "execution_count": 3
        }
      ]
    },
    {
      "cell_type": "code",
      "metadata": {
        "id": "ZXyN_gt8Ynh_"
      },
      "source": [
        "movies_data.drop('index',axis=1,inplace=True)"
      ],
      "execution_count": 4,
      "outputs": []
    },
    {
      "cell_type": "code",
      "metadata": {
        "id": "RGeAXaAJbBs3",
        "colab": {
          "base_uri": "https://localhost:8080/"
        },
        "outputId": "141fcaaa-11c3-4eae-97ba-5fa6b6367d4b"
      },
      "source": [
        "movies_data.info()"
      ],
      "execution_count": 5,
      "outputs": [
        {
          "output_type": "stream",
          "text": [
            "<class 'pandas.core.frame.DataFrame'>\n",
            "Int64Index: 9081 entries, 0 to 9080\n",
            "Data columns (total 21 columns):\n",
            " #   Column                Non-Null Count  Dtype  \n",
            "---  ------                --------------  -----  \n",
            " 0   tmdbId                9081 non-null   int64  \n",
            " 1   title                 9081 non-null   object \n",
            " 2   release_year          9081 non-null   int64  \n",
            " 3   release_day           9081 non-null   object \n",
            " 4   genres                9046 non-null   object \n",
            " 5   original_language     9079 non-null   object \n",
            " 6   runtime               9081 non-null   float64\n",
            " 7   content               9069 non-null   object \n",
            " 8   production_companies  8417 non-null   object \n",
            " 9   budget                9081 non-null   int64  \n",
            " 10  revenue               9081 non-null   float64\n",
            " 11  production_countries  8787 non-null   object \n",
            " 12  status                9081 non-null   object \n",
            " 13  popularity            9081 non-null   float64\n",
            " 14  vote_average          9081 non-null   float64\n",
            " 15  vote_count            9081 non-null   float64\n",
            " 16  keywords              9081 non-null   object \n",
            " 17  cast                  8991 non-null   object \n",
            " 18  director              9081 non-null   object \n",
            " 19  rating_count          9081 non-null   float64\n",
            " 20  mean_rating           9081 non-null   float64\n",
            "dtypes: float64(7), int64(3), object(11)\n",
            "memory usage: 1.5+ MB\n"
          ],
          "name": "stdout"
        }
      ]
    },
    {
      "cell_type": "markdown",
      "metadata": {
        "id": "O7cyXup7Ar9i"
      },
      "source": [
        "# **POPULARITY BASED RECOMMENDATION SYSTEM :**"
      ]
    },
    {
      "cell_type": "code",
      "metadata": {
        "id": "UmVOCDMfTOXG",
        "colab": {
          "base_uri": "https://localhost:8080/",
          "height": 284
        },
        "outputId": "a1b2678a-b300-45fc-c47d-327bf07109f0"
      },
      "source": [
        "movies_data[['vote_count','vote_average','rating_count','mean_rating','popularity']].describe()"
      ],
      "execution_count": 6,
      "outputs": [
        {
          "output_type": "execute_result",
          "data": {
            "text/html": [
              "<div>\n",
              "<style scoped>\n",
              "    .dataframe tbody tr th:only-of-type {\n",
              "        vertical-align: middle;\n",
              "    }\n",
              "\n",
              "    .dataframe tbody tr th {\n",
              "        vertical-align: top;\n",
              "    }\n",
              "\n",
              "    .dataframe thead th {\n",
              "        text-align: right;\n",
              "    }\n",
              "</style>\n",
              "<table border=\"1\" class=\"dataframe\">\n",
              "  <thead>\n",
              "    <tr style=\"text-align: right;\">\n",
              "      <th></th>\n",
              "      <th>vote_count</th>\n",
              "      <th>vote_average</th>\n",
              "      <th>rating_count</th>\n",
              "      <th>mean_rating</th>\n",
              "      <th>popularity</th>\n",
              "    </tr>\n",
              "  </thead>\n",
              "  <tbody>\n",
              "    <tr>\n",
              "      <th>count</th>\n",
              "      <td>9081.000000</td>\n",
              "      <td>9081.000000</td>\n",
              "      <td>9081.000000</td>\n",
              "      <td>9081.000000</td>\n",
              "      <td>9081.000000</td>\n",
              "    </tr>\n",
              "    <tr>\n",
              "      <th>mean</th>\n",
              "      <td>438.957494</td>\n",
              "      <td>6.362163</td>\n",
              "      <td>9.246999</td>\n",
              "      <td>2.025622</td>\n",
              "      <td>7.267953</td>\n",
              "    </tr>\n",
              "    <tr>\n",
              "      <th>std</th>\n",
              "      <td>996.171464</td>\n",
              "      <td>1.038804</td>\n",
              "      <td>23.946565</td>\n",
              "      <td>1.731353</td>\n",
              "      <td>9.372549</td>\n",
              "    </tr>\n",
              "    <tr>\n",
              "      <th>min</th>\n",
              "      <td>0.000000</td>\n",
              "      <td>0.000000</td>\n",
              "      <td>0.000000</td>\n",
              "      <td>0.000000</td>\n",
              "      <td>0.000004</td>\n",
              "    </tr>\n",
              "    <tr>\n",
              "      <th>25%</th>\n",
              "      <td>29.000000</td>\n",
              "      <td>5.800000</td>\n",
              "      <td>0.000000</td>\n",
              "      <td>0.000000</td>\n",
              "      <td>2.954184</td>\n",
              "    </tr>\n",
              "    <tr>\n",
              "      <th>50%</th>\n",
              "      <td>96.000000</td>\n",
              "      <td>6.500000</td>\n",
              "      <td>1.000000</td>\n",
              "      <td>2.666667</td>\n",
              "      <td>6.417420</td>\n",
              "    </tr>\n",
              "    <tr>\n",
              "      <th>75%</th>\n",
              "      <td>365.000000</td>\n",
              "      <td>7.000000</td>\n",
              "      <td>6.000000</td>\n",
              "      <td>3.555556</td>\n",
              "      <td>9.861672</td>\n",
              "    </tr>\n",
              "    <tr>\n",
              "      <th>max</th>\n",
              "      <td>14075.000000</td>\n",
              "      <td>10.000000</td>\n",
              "      <td>341.000000</td>\n",
              "      <td>5.000000</td>\n",
              "      <td>547.488298</td>\n",
              "    </tr>\n",
              "  </tbody>\n",
              "</table>\n",
              "</div>"
            ],
            "text/plain": [
              "         vote_count  vote_average  rating_count  mean_rating   popularity\n",
              "count   9081.000000   9081.000000   9081.000000  9081.000000  9081.000000\n",
              "mean     438.957494      6.362163      9.246999     2.025622     7.267953\n",
              "std      996.171464      1.038804     23.946565     1.731353     9.372549\n",
              "min        0.000000      0.000000      0.000000     0.000000     0.000004\n",
              "25%       29.000000      5.800000      0.000000     0.000000     2.954184\n",
              "50%       96.000000      6.500000      1.000000     2.666667     6.417420\n",
              "75%      365.000000      7.000000      6.000000     3.555556     9.861672\n",
              "max    14075.000000     10.000000    341.000000     5.000000   547.488298"
            ]
          },
          "metadata": {
            "tags": []
          },
          "execution_count": 6
        }
      ]
    },
    {
      "cell_type": "markdown",
      "metadata": {
        "id": "6Bg4rk09RaRs"
      },
      "source": [
        "**WEIGHTED AVERAGE FOR EACH MOVIES AVERAGE RATINGS :**"
      ]
    },
    {
      "cell_type": "markdown",
      "metadata": {
        "id": "vyASuE9fGSea"
      },
      "source": [
        "Weighted Ratings: \n",
        ">              W =   Rv + Cm\n",
        ">                   ---------\n",
        "                     v+m\n",
        "\n",
        "R= average rating for the movie as a number from 0 to 10\n",
        "\n",
        "v= number of votes for the movie\n",
        "\n",
        "m= minimum votes required to be listed in Top(here 2000)\n",
        "\n",
        "C=the mean vote across whole report\n"
      ]
    },
    {
      "cell_type": "code",
      "metadata": {
        "id": "QttoY9X0GNmJ"
      },
      "source": [
        "R=movies_data['vote_average']\n",
        "v=movies_data['vote_count']\n",
        "C=movies_data['vote_average'].mean()\n",
        "m=2000"
      ],
      "execution_count": 7,
      "outputs": []
    },
    {
      "cell_type": "code",
      "metadata": {
        "id": "fWlX75ybVldx",
        "colab": {
          "base_uri": "https://localhost:8080/",
          "height": 639
        },
        "outputId": "f00a55b5-9dae-4adf-aa9e-cc0deaafc2af"
      },
      "source": [
        "movies_data['weighted_votes']=(R*v+C*m)/(v+m)\n",
        "movies_data[['title','weighted_votes']].sort_values('weighted_votes',ascending=False).head(20)"
      ],
      "execution_count": 8,
      "outputs": [
        {
          "output_type": "execute_result",
          "data": {
            "text/html": [
              "<div>\n",
              "<style scoped>\n",
              "    .dataframe tbody tr th:only-of-type {\n",
              "        vertical-align: middle;\n",
              "    }\n",
              "\n",
              "    .dataframe tbody tr th {\n",
              "        vertical-align: top;\n",
              "    }\n",
              "\n",
              "    .dataframe thead th {\n",
              "        text-align: right;\n",
              "    }\n",
              "</style>\n",
              "<table border=\"1\" class=\"dataframe\">\n",
              "  <thead>\n",
              "    <tr style=\"text-align: right;\">\n",
              "      <th></th>\n",
              "      <th>title</th>\n",
              "      <th>weighted_votes</th>\n",
              "    </tr>\n",
              "  </thead>\n",
              "  <tbody>\n",
              "    <tr>\n",
              "      <th>186</th>\n",
              "      <td>The Shawshank Redemption</td>\n",
              "      <td>8.087210</td>\n",
              "    </tr>\n",
              "    <tr>\n",
              "      <th>1108</th>\n",
              "      <td>The Dark Knight</td>\n",
              "      <td>8.028385</td>\n",
              "    </tr>\n",
              "    <tr>\n",
              "      <th>1708</th>\n",
              "      <td>Fight Club</td>\n",
              "      <td>7.968122</td>\n",
              "    </tr>\n",
              "    <tr>\n",
              "      <th>2135</th>\n",
              "      <td>The Godfather</td>\n",
              "      <td>7.967139</td>\n",
              "    </tr>\n",
              "    <tr>\n",
              "      <th>2639</th>\n",
              "      <td>Pulp Fiction</td>\n",
              "      <td>7.936769</td>\n",
              "    </tr>\n",
              "    <tr>\n",
              "      <th>996</th>\n",
              "      <td>Inception</td>\n",
              "      <td>7.883784</td>\n",
              "    </tr>\n",
              "    <tr>\n",
              "      <th>867</th>\n",
              "      <td>Forrest Gump</td>\n",
              "      <td>7.837758</td>\n",
              "    </tr>\n",
              "    <tr>\n",
              "      <th>22</th>\n",
              "      <td>Interstellar</td>\n",
              "      <td>7.836432</td>\n",
              "    </tr>\n",
              "    <tr>\n",
              "      <th>7678</th>\n",
              "      <td>The Lord of the Rings: The Return of the King</td>\n",
              "      <td>7.760114</td>\n",
              "    </tr>\n",
              "    <tr>\n",
              "      <th>3104</th>\n",
              "      <td>The Empire Strikes Back</td>\n",
              "      <td>7.740426</td>\n",
              "    </tr>\n",
              "    <tr>\n",
              "      <th>584</th>\n",
              "      <td>Star Wars</td>\n",
              "      <td>7.704047</td>\n",
              "    </tr>\n",
              "    <tr>\n",
              "      <th>7655</th>\n",
              "      <td>The Intouchables</td>\n",
              "      <td>7.703958</td>\n",
              "    </tr>\n",
              "    <tr>\n",
              "      <th>4070</th>\n",
              "      <td>The Lord of the Rings: The Fellowship of the Ring</td>\n",
              "      <td>7.699259</td>\n",
              "    </tr>\n",
              "    <tr>\n",
              "      <th>658</th>\n",
              "      <td>Schindler's List</td>\n",
              "      <td>7.697813</td>\n",
              "    </tr>\n",
              "    <tr>\n",
              "      <th>716</th>\n",
              "      <td>Whiplash</td>\n",
              "      <td>7.692146</td>\n",
              "    </tr>\n",
              "    <tr>\n",
              "      <th>5501</th>\n",
              "      <td>Se7en</td>\n",
              "      <td>7.660875</td>\n",
              "    </tr>\n",
              "    <tr>\n",
              "      <th>1796</th>\n",
              "      <td>The Lord of the Rings: The Two Towers</td>\n",
              "      <td>7.660235</td>\n",
              "    </tr>\n",
              "    <tr>\n",
              "      <th>1221</th>\n",
              "      <td>Spirited Away</td>\n",
              "      <td>7.650591</td>\n",
              "    </tr>\n",
              "    <tr>\n",
              "      <th>180</th>\n",
              "      <td>Guardians of the Galaxy</td>\n",
              "      <td>7.643992</td>\n",
              "    </tr>\n",
              "    <tr>\n",
              "      <th>581</th>\n",
              "      <td>The Matrix</td>\n",
              "      <td>7.622387</td>\n",
              "    </tr>\n",
              "  </tbody>\n",
              "</table>\n",
              "</div>"
            ],
            "text/plain": [
              "                                                  title  weighted_votes\n",
              "186                            The Shawshank Redemption        8.087210\n",
              "1108                                    The Dark Knight        8.028385\n",
              "1708                                         Fight Club        7.968122\n",
              "2135                                      The Godfather        7.967139\n",
              "2639                                       Pulp Fiction        7.936769\n",
              "996                                           Inception        7.883784\n",
              "867                                        Forrest Gump        7.837758\n",
              "22                                         Interstellar        7.836432\n",
              "7678      The Lord of the Rings: The Return of the King        7.760114\n",
              "3104                            The Empire Strikes Back        7.740426\n",
              "584                                           Star Wars        7.704047\n",
              "7655                                   The Intouchables        7.703958\n",
              "4070  The Lord of the Rings: The Fellowship of the Ring        7.699259\n",
              "658                                    Schindler's List        7.697813\n",
              "716                                            Whiplash        7.692146\n",
              "5501                                              Se7en        7.660875\n",
              "1796              The Lord of the Rings: The Two Towers        7.660235\n",
              "1221                                      Spirited Away        7.650591\n",
              "180                             Guardians of the Galaxy        7.643992\n",
              "581                                          The Matrix        7.622387"
            ]
          },
          "metadata": {
            "tags": []
          },
          "execution_count": 8
        }
      ]
    },
    {
      "cell_type": "code",
      "metadata": {
        "id": "7k6aDmB6_gx5",
        "colab": {
          "base_uri": "https://localhost:8080/"
        },
        "outputId": "8df4ca8b-b2a0-4190-bb15-fd04a451a3ef"
      },
      "source": [
        "R1=movies_data['mean_rating']\n",
        "v1=movies_data['rating_count']\n",
        "C1=movies_data['mean_rating'].mean()\n",
        "m1=movies_data['rating_count'].quantile(0.95)\n",
        "m1"
      ],
      "execution_count": 9,
      "outputs": [
        {
          "output_type": "execute_result",
          "data": {
            "text/plain": [
              "47.0"
            ]
          },
          "metadata": {
            "tags": []
          },
          "execution_count": 9
        }
      ]
    },
    {
      "cell_type": "code",
      "metadata": {
        "id": "_UVJlVGD_wF4",
        "colab": {
          "base_uri": "https://localhost:8080/",
          "height": 639
        },
        "outputId": "a7762552-d0f1-4a9e-9771-70af8d4e9faf"
      },
      "source": [
        "movies_data['weighted_ratings']=(R1*v1+C1*m1)/(v1+m1)\n",
        "movies_data[['title','weighted_ratings']].sort_values('weighted_ratings',ascending=False).head(20)"
      ],
      "execution_count": 10,
      "outputs": [
        {
          "output_type": "execute_result",
          "data": {
            "text/html": [
              "<div>\n",
              "<style scoped>\n",
              "    .dataframe tbody tr th:only-of-type {\n",
              "        vertical-align: middle;\n",
              "    }\n",
              "\n",
              "    .dataframe tbody tr th {\n",
              "        vertical-align: top;\n",
              "    }\n",
              "\n",
              "    .dataframe thead th {\n",
              "        text-align: right;\n",
              "    }\n",
              "</style>\n",
              "<table border=\"1\" class=\"dataframe\">\n",
              "  <thead>\n",
              "    <tr style=\"text-align: right;\">\n",
              "      <th></th>\n",
              "      <th>title</th>\n",
              "      <th>weighted_ratings</th>\n",
              "    </tr>\n",
              "  </thead>\n",
              "  <tbody>\n",
              "    <tr>\n",
              "      <th>2</th>\n",
              "      <td>The Boy</td>\n",
              "      <td>4.163978</td>\n",
              "    </tr>\n",
              "    <tr>\n",
              "      <th>26</th>\n",
              "      <td>Philadelphia</td>\n",
              "      <td>4.019045</td>\n",
              "    </tr>\n",
              "    <tr>\n",
              "      <th>1</th>\n",
              "      <td>See No Evil, Hear No Evil</td>\n",
              "      <td>3.973596</td>\n",
              "    </tr>\n",
              "    <tr>\n",
              "      <th>8</th>\n",
              "      <td>Sin City</td>\n",
              "      <td>3.935410</td>\n",
              "    </tr>\n",
              "    <tr>\n",
              "      <th>23</th>\n",
              "      <td>Edge of Tomorrow</td>\n",
              "      <td>3.926227</td>\n",
              "    </tr>\n",
              "    <tr>\n",
              "      <th>4</th>\n",
              "      <td>The Bourne Ultimatum</td>\n",
              "      <td>3.916285</td>\n",
              "    </tr>\n",
              "    <tr>\n",
              "      <th>13</th>\n",
              "      <td>Return of the Jedi</td>\n",
              "      <td>3.869757</td>\n",
              "    </tr>\n",
              "    <tr>\n",
              "      <th>10</th>\n",
              "      <td>Twelve Monkeys</td>\n",
              "      <td>3.863716</td>\n",
              "    </tr>\n",
              "    <tr>\n",
              "      <th>3</th>\n",
              "      <td>Fast Times at Ridgemont High</td>\n",
              "      <td>3.855283</td>\n",
              "    </tr>\n",
              "    <tr>\n",
              "      <th>6</th>\n",
              "      <td>The Proposition</td>\n",
              "      <td>3.851975</td>\n",
              "    </tr>\n",
              "    <tr>\n",
              "      <th>15</th>\n",
              "      <td>Evil</td>\n",
              "      <td>3.847207</td>\n",
              "    </tr>\n",
              "    <tr>\n",
              "      <th>14</th>\n",
              "      <td>Chinatown</td>\n",
              "      <td>3.811626</td>\n",
              "    </tr>\n",
              "    <tr>\n",
              "      <th>0</th>\n",
              "      <td>Saw: The Final Chapter</td>\n",
              "      <td>3.808516</td>\n",
              "    </tr>\n",
              "    <tr>\n",
              "      <th>67</th>\n",
              "      <td>The Fan</td>\n",
              "      <td>3.775847</td>\n",
              "    </tr>\n",
              "    <tr>\n",
              "      <th>24</th>\n",
              "      <td>Romy and Michele's High School Reunion</td>\n",
              "      <td>3.772082</td>\n",
              "    </tr>\n",
              "    <tr>\n",
              "      <th>20</th>\n",
              "      <td>Johnny English</td>\n",
              "      <td>3.771905</td>\n",
              "    </tr>\n",
              "    <tr>\n",
              "      <th>43</th>\n",
              "      <td>Sex, Lies, and Videotape</td>\n",
              "      <td>3.720020</td>\n",
              "    </tr>\n",
              "    <tr>\n",
              "      <th>61</th>\n",
              "      <td>Brother Bear</td>\n",
              "      <td>3.707876</td>\n",
              "    </tr>\n",
              "    <tr>\n",
              "      <th>17</th>\n",
              "      <td>Les Misérables</td>\n",
              "      <td>3.697743</td>\n",
              "    </tr>\n",
              "    <tr>\n",
              "      <th>59</th>\n",
              "      <td>Chronicle</td>\n",
              "      <td>3.685960</td>\n",
              "    </tr>\n",
              "  </tbody>\n",
              "</table>\n",
              "</div>"
            ],
            "text/plain": [
              "                                     title  weighted_ratings\n",
              "2                                  The Boy          4.163978\n",
              "26                            Philadelphia          4.019045\n",
              "1                See No Evil, Hear No Evil          3.973596\n",
              "8                                 Sin City          3.935410\n",
              "23                        Edge of Tomorrow          3.926227\n",
              "4                     The Bourne Ultimatum          3.916285\n",
              "13                      Return of the Jedi          3.869757\n",
              "10                          Twelve Monkeys          3.863716\n",
              "3             Fast Times at Ridgemont High          3.855283\n",
              "6                          The Proposition          3.851975\n",
              "15                                    Evil          3.847207\n",
              "14                               Chinatown          3.811626\n",
              "0                   Saw: The Final Chapter          3.808516\n",
              "67                                 The Fan          3.775847\n",
              "24  Romy and Michele's High School Reunion          3.772082\n",
              "20                          Johnny English          3.771905\n",
              "43                Sex, Lies, and Videotape          3.720020\n",
              "61                            Brother Bear          3.707876\n",
              "17                          Les Misérables          3.697743\n",
              "59                               Chronicle          3.685960"
            ]
          },
          "metadata": {
            "tags": []
          },
          "execution_count": 10
        }
      ]
    },
    {
      "cell_type": "markdown",
      "metadata": {
        "id": "vK-7k_U-DzA-"
      },
      "source": [
        "**ASSIGNING SCORES TO THE MOVIES BY GIVING 45% IMPORTANCE TO WEIGHTED AVERAGE OF VOTES + 45% IMPORTANCE TO POPULARITY + 10% TO WEIGHTED AVERAGE OF RATINGS**"
      ]
    },
    {
      "cell_type": "code",
      "metadata": {
        "id": "IH1d9-OoHjax",
        "colab": {
          "base_uri": "https://localhost:8080/",
          "height": 343
        },
        "outputId": "faef1c53-ce6c-4edc-be61-f73281424190"
      },
      "source": [
        "scaler=MinMaxScaler()\n",
        "movies_data[['weighted_votes','weighted_ratings','popularity']]=scaler.fit_transform(movies_data[['weighted_votes','weighted_ratings','popularity']])\n",
        "movies_data['score']=movies_data['weighted_votes']*0.45 + movies_data['weighted_ratings']*0.1+movies_data['popularity']*0.45\n",
        "movies_data[['title','weighted_votes','weighted_ratings','popularity','score']].sort_values('score',ascending=False).head(10)"
      ],
      "execution_count": 11,
      "outputs": [
        {
          "output_type": "execute_result",
          "data": {
            "text/html": [
              "<div>\n",
              "<style scoped>\n",
              "    .dataframe tbody tr th:only-of-type {\n",
              "        vertical-align: middle;\n",
              "    }\n",
              "\n",
              "    .dataframe tbody tr th {\n",
              "        vertical-align: top;\n",
              "    }\n",
              "\n",
              "    .dataframe thead th {\n",
              "        text-align: right;\n",
              "    }\n",
              "</style>\n",
              "<table border=\"1\" class=\"dataframe\">\n",
              "  <thead>\n",
              "    <tr style=\"text-align: right;\">\n",
              "      <th></th>\n",
              "      <th>title</th>\n",
              "      <th>weighted_votes</th>\n",
              "      <th>weighted_ratings</th>\n",
              "      <th>popularity</th>\n",
              "      <th>score</th>\n",
              "    </tr>\n",
              "  </thead>\n",
              "  <tbody>\n",
              "    <tr>\n",
              "      <th>5899</th>\n",
              "      <td>Minions</td>\n",
              "      <td>0.388873</td>\n",
              "      <td>0.098883</td>\n",
              "      <td>1.000000</td>\n",
              "      <td>0.634881</td>\n",
              "    </tr>\n",
              "    <tr>\n",
              "      <th>7</th>\n",
              "      <td>Big Hero 6</td>\n",
              "      <td>0.771829</td>\n",
              "      <td>0.752738</td>\n",
              "      <td>0.390602</td>\n",
              "      <td>0.598368</td>\n",
              "    </tr>\n",
              "    <tr>\n",
              "      <th>1108</th>\n",
              "      <td>The Dark Knight</td>\n",
              "      <td>0.978834</td>\n",
              "      <td>0.240321</td>\n",
              "      <td>0.224968</td>\n",
              "      <td>0.565743</td>\n",
              "    </tr>\n",
              "    <tr>\n",
              "      <th>2639</th>\n",
              "      <td>Pulp Fiction</td>\n",
              "      <td>0.945869</td>\n",
              "      <td>0.170780</td>\n",
              "      <td>0.257449</td>\n",
              "      <td>0.558571</td>\n",
              "    </tr>\n",
              "    <tr>\n",
              "      <th>186</th>\n",
              "      <td>The Shawshank Redemption</td>\n",
              "      <td>1.000000</td>\n",
              "      <td>0.616283</td>\n",
              "      <td>0.094332</td>\n",
              "      <td>0.554077</td>\n",
              "    </tr>\n",
              "    <tr>\n",
              "      <th>356</th>\n",
              "      <td>Gone Girl</td>\n",
              "      <td>0.794702</td>\n",
              "      <td>0.383496</td>\n",
              "      <td>0.282748</td>\n",
              "      <td>0.523202</td>\n",
              "    </tr>\n",
              "    <tr>\n",
              "      <th>121</th>\n",
              "      <td>Deadpool</td>\n",
              "      <td>0.697180</td>\n",
              "      <td>0.501842</td>\n",
              "      <td>0.343132</td>\n",
              "      <td>0.518324</td>\n",
              "    </tr>\n",
              "    <tr>\n",
              "      <th>22</th>\n",
              "      <td>Interstellar</td>\n",
              "      <td>0.909767</td>\n",
              "      <td>0.785113</td>\n",
              "      <td>0.058839</td>\n",
              "      <td>0.514384</td>\n",
              "    </tr>\n",
              "    <tr>\n",
              "      <th>1708</th>\n",
              "      <td>Fight Club</td>\n",
              "      <td>0.957150</td>\n",
              "      <td>0.122264</td>\n",
              "      <td>0.116659</td>\n",
              "      <td>0.495441</td>\n",
              "    </tr>\n",
              "    <tr>\n",
              "      <th>180</th>\n",
              "      <td>Guardians of the Galaxy</td>\n",
              "      <td>0.840524</td>\n",
              "      <td>0.627187</td>\n",
              "      <td>0.097338</td>\n",
              "      <td>0.484757</td>\n",
              "    </tr>\n",
              "  </tbody>\n",
              "</table>\n",
              "</div>"
            ],
            "text/plain": [
              "                         title  weighted_votes  ...  popularity     score\n",
              "5899                   Minions        0.388873  ...    1.000000  0.634881\n",
              "7                   Big Hero 6        0.771829  ...    0.390602  0.598368\n",
              "1108           The Dark Knight        0.978834  ...    0.224968  0.565743\n",
              "2639              Pulp Fiction        0.945869  ...    0.257449  0.558571\n",
              "186   The Shawshank Redemption        1.000000  ...    0.094332  0.554077\n",
              "356                  Gone Girl        0.794702  ...    0.282748  0.523202\n",
              "121                   Deadpool        0.697180  ...    0.343132  0.518324\n",
              "22                Interstellar        0.909767  ...    0.058839  0.514384\n",
              "1708                Fight Club        0.957150  ...    0.116659  0.495441\n",
              "180    Guardians of the Galaxy        0.840524  ...    0.097338  0.484757\n",
              "\n",
              "[10 rows x 5 columns]"
            ]
          },
          "metadata": {
            "tags": []
          },
          "execution_count": 11
        }
      ]
    },
    {
      "cell_type": "markdown",
      "metadata": {
        "id": "A8WhluFOUWK3"
      },
      "source": [
        "**ONLY MOVIES HAVING SCORE ABOVE A THRESHOLD VALUE CONSIDERED POPULAR :**"
      ]
    },
    {
      "cell_type": "code",
      "metadata": {
        "id": "iTtTDUXsQSC8",
        "colab": {
          "base_uri": "https://localhost:8080/"
        },
        "outputId": "920de219-55ad-41fa-a765-20a03c59ea2c"
      },
      "source": [
        "movies_data.score.describe()"
      ],
      "execution_count": 12,
      "outputs": [
        {
          "output_type": "execute_result",
          "data": {
            "text/plain": [
              "count    9081.000000\n",
              "mean        0.198219\n",
              "std         0.036777\n",
              "min         0.030272\n",
              "25%         0.181857\n",
              "50%         0.187246\n",
              "75%         0.201982\n",
              "max         0.634881\n",
              "Name: score, dtype: float64"
            ]
          },
          "metadata": {
            "tags": []
          },
          "execution_count": 12
        }
      ]
    },
    {
      "cell_type": "code",
      "metadata": {
        "id": "jmSDwLUVELrN",
        "colab": {
          "base_uri": "https://localhost:8080/",
          "height": 478
        },
        "outputId": "c6a61fb2-dee1-4dbe-a3c8-eea2902babed"
      },
      "source": [
        "movies_data['profit']=movies_data['budget']-movies_data['revenue']\n",
        "popular_movies=movies_data[['tmdbId','title','budget','profit','score','release_year','release_day','genres','production_countries','production_companies','original_language','runtime','content','status','cast','director']].sort_values('score',ascending=False).reset_index(drop=True)\n",
        "plt.figure(figsize=(30,10))\n",
        "axis=sns.barplot(x=popular_movies['score'].head(20),y=popular_movies['title'].head(20))\n",
        "plt.title('Top 20 Most popular movies: ',weight='bold')\n",
        "plt.xlabel('score',weight='bold')\n",
        "plt.ylabel('Movies',weight='bold')\n",
        "plt.savefig('PopularMovies.jpg')"
      ],
      "execution_count": 13,
      "outputs": [
        {
          "output_type": "display_data",
          "data": {
            "image/png": "[encoded data removed]",
            "text/plain": [
              "<Figure size 2160x720 with 1 Axes>"
            ]
          },
          "metadata": {
            "tags": [],
            "needs_background": "light"
          }
        }
      ]
    },
    {
      "cell_type": "code",
      "metadata": {
        "id": "Fu7TG_LgVq1y",
        "colab": {
          "base_uri": "https://localhost:8080/"
        },
        "outputId": "63f9fbe6-1914-4273-c0a6-f9ab033999ba"
      },
      "source": [
        "popular_movies.shape"
      ],
      "execution_count": 14,
      "outputs": [
        {
          "output_type": "execute_result",
          "data": {
            "text/plain": [
              "(9081, 16)"
            ]
          },
          "metadata": {
            "tags": []
          },
          "execution_count": 14
        }
      ]
    },
    {
      "cell_type": "code",
      "metadata": {
        "id": "O9fkQtS7MFw_",
        "colab": {
          "base_uri": "https://localhost:8080/",
          "height": 639
        },
        "outputId": "97e639fd-cb9f-4c0c-a5a7-d7d3adfecae2"
      },
      "source": [
        "popular_movies[['title','genres','score']].head(20)"
      ],
      "execution_count": 15,
      "outputs": [
        {
          "output_type": "execute_result",
          "data": {
            "text/html": [
              "<div>\n",
              "<style scoped>\n",
              "    .dataframe tbody tr th:only-of-type {\n",
              "        vertical-align: middle;\n",
              "    }\n",
              "\n",
              "    .dataframe tbody tr th {\n",
              "        vertical-align: top;\n",
              "    }\n",
              "\n",
              "    .dataframe thead th {\n",
              "        text-align: right;\n",
              "    }\n",
              "</style>\n",
              "<table border=\"1\" class=\"dataframe\">\n",
              "  <thead>\n",
              "    <tr style=\"text-align: right;\">\n",
              "      <th></th>\n",
              "      <th>title</th>\n",
              "      <th>genres</th>\n",
              "      <th>score</th>\n",
              "    </tr>\n",
              "  </thead>\n",
              "  <tbody>\n",
              "    <tr>\n",
              "      <th>0</th>\n",
              "      <td>Minions</td>\n",
              "      <td>Family|Animation|Adventure|Comedy</td>\n",
              "      <td>0.634881</td>\n",
              "    </tr>\n",
              "    <tr>\n",
              "      <th>1</th>\n",
              "      <td>Big Hero 6</td>\n",
              "      <td>Adventure|Family|Animation|Action|Comedy</td>\n",
              "      <td>0.598368</td>\n",
              "    </tr>\n",
              "    <tr>\n",
              "      <th>2</th>\n",
              "      <td>The Dark Knight</td>\n",
              "      <td>Drama|Action|Crime|Thriller</td>\n",
              "      <td>0.565743</td>\n",
              "    </tr>\n",
              "    <tr>\n",
              "      <th>3</th>\n",
              "      <td>Pulp Fiction</td>\n",
              "      <td>Thriller|Crime</td>\n",
              "      <td>0.558571</td>\n",
              "    </tr>\n",
              "    <tr>\n",
              "      <th>4</th>\n",
              "      <td>The Shawshank Redemption</td>\n",
              "      <td>Drama|Crime</td>\n",
              "      <td>0.554077</td>\n",
              "    </tr>\n",
              "    <tr>\n",
              "      <th>5</th>\n",
              "      <td>Gone Girl</td>\n",
              "      <td>Mystery|Thriller|Drama</td>\n",
              "      <td>0.523202</td>\n",
              "    </tr>\n",
              "    <tr>\n",
              "      <th>6</th>\n",
              "      <td>Deadpool</td>\n",
              "      <td>Action|Adventure|Comedy</td>\n",
              "      <td>0.518324</td>\n",
              "    </tr>\n",
              "    <tr>\n",
              "      <th>7</th>\n",
              "      <td>Interstellar</td>\n",
              "      <td>Adventure|Drama|Science Fiction</td>\n",
              "      <td>0.514384</td>\n",
              "    </tr>\n",
              "    <tr>\n",
              "      <th>8</th>\n",
              "      <td>Fight Club</td>\n",
              "      <td>Drama</td>\n",
              "      <td>0.495441</td>\n",
              "    </tr>\n",
              "    <tr>\n",
              "      <th>9</th>\n",
              "      <td>Guardians of the Galaxy</td>\n",
              "      <td>Action|Science Fiction|Adventure</td>\n",
              "      <td>0.484757</td>\n",
              "    </tr>\n",
              "    <tr>\n",
              "      <th>10</th>\n",
              "      <td>The Godfather</td>\n",
              "      <td>Drama|Crime</td>\n",
              "      <td>0.480339</td>\n",
              "    </tr>\n",
              "    <tr>\n",
              "      <th>11</th>\n",
              "      <td>Forrest Gump</td>\n",
              "      <td>Comedy|Drama|Romance</td>\n",
              "      <td>0.478157</td>\n",
              "    </tr>\n",
              "    <tr>\n",
              "      <th>12</th>\n",
              "      <td>Avatar</td>\n",
              "      <td>Action|Adventure|Fantasy|Science Fiction</td>\n",
              "      <td>0.475759</td>\n",
              "    </tr>\n",
              "    <tr>\n",
              "      <th>13</th>\n",
              "      <td>Inception</td>\n",
              "      <td>Action|Thriller|Science Fiction|Mystery|Adventure</td>\n",
              "      <td>0.474960</td>\n",
              "    </tr>\n",
              "    <tr>\n",
              "      <th>14</th>\n",
              "      <td>Whiplash</td>\n",
              "      <td>Drama</td>\n",
              "      <td>0.472654</td>\n",
              "    </tr>\n",
              "    <tr>\n",
              "      <th>15</th>\n",
              "      <td>Blade Runner</td>\n",
              "      <td>Science Fiction|Drama|Thriller</td>\n",
              "      <td>0.466685</td>\n",
              "    </tr>\n",
              "    <tr>\n",
              "      <th>16</th>\n",
              "      <td>Star Wars</td>\n",
              "      <td>Adventure|Action|Science Fiction</td>\n",
              "      <td>0.457542</td>\n",
              "    </tr>\n",
              "    <tr>\n",
              "      <th>17</th>\n",
              "      <td>Schindler's List</td>\n",
              "      <td>Drama|History|War</td>\n",
              "      <td>0.449150</td>\n",
              "    </tr>\n",
              "    <tr>\n",
              "      <th>18</th>\n",
              "      <td>Spirited Away</td>\n",
              "      <td>Fantasy|Adventure|Animation|Family</td>\n",
              "      <td>0.446945</td>\n",
              "    </tr>\n",
              "    <tr>\n",
              "      <th>19</th>\n",
              "      <td>Return of the Jedi</td>\n",
              "      <td>Adventure|Action|Science Fiction</td>\n",
              "      <td>0.445642</td>\n",
              "    </tr>\n",
              "  </tbody>\n",
              "</table>\n",
              "</div>"
            ],
            "text/plain": [
              "                       title  ...     score\n",
              "0                    Minions  ...  0.634881\n",
              "1                 Big Hero 6  ...  0.598368\n",
              "2            The Dark Knight  ...  0.565743\n",
              "3               Pulp Fiction  ...  0.558571\n",
              "4   The Shawshank Redemption  ...  0.554077\n",
              "5                  Gone Girl  ...  0.523202\n",
              "6                   Deadpool  ...  0.518324\n",
              "7               Interstellar  ...  0.514384\n",
              "8                 Fight Club  ...  0.495441\n",
              "9    Guardians of the Galaxy  ...  0.484757\n",
              "10             The Godfather  ...  0.480339\n",
              "11              Forrest Gump  ...  0.478157\n",
              "12                    Avatar  ...  0.475759\n",
              "13                 Inception  ...  0.474960\n",
              "14                  Whiplash  ...  0.472654\n",
              "15              Blade Runner  ...  0.466685\n",
              "16                 Star Wars  ...  0.457542\n",
              "17          Schindler's List  ...  0.449150\n",
              "18             Spirited Away  ...  0.446945\n",
              "19        Return of the Jedi  ...  0.445642\n",
              "\n",
              "[20 rows x 3 columns]"
            ]
          },
          "metadata": {
            "tags": []
          },
          "execution_count": 15
        }
      ]
    },
    {
      "cell_type": "code",
      "metadata": {
        "id": "PZ00CzOOed2D",
        "colab": {
          "base_uri": "https://localhost:8080/"
        },
        "outputId": "c7ac9210-a1de-4105-977b-d602c494da75"
      },
      "source": [
        "popular_movies.info()"
      ],
      "execution_count": 16,
      "outputs": [
        {
          "output_type": "stream",
          "text": [
            "<class 'pandas.core.frame.DataFrame'>\n",
            "RangeIndex: 9081 entries, 0 to 9080\n",
            "Data columns (total 16 columns):\n",
            " #   Column                Non-Null Count  Dtype  \n",
            "---  ------                --------------  -----  \n",
            " 0   tmdbId                9081 non-null   int64  \n",
            " 1   title                 9081 non-null   object \n",
            " 2   budget                9081 non-null   int64  \n",
            " 3   profit                9081 non-null   float64\n",
            " 4   score                 9081 non-null   float64\n",
            " 5   release_year          9081 non-null   int64  \n",
            " 6   release_day           9081 non-null   object \n",
            " 7   genres                9046 non-null   object \n",
            " 8   production_countries  8787 non-null   object \n",
            " 9   production_companies  8417 non-null   object \n",
            " 10  original_language     9079 non-null   object \n",
            " 11  runtime               9081 non-null   float64\n",
            " 12  content               9069 non-null   object \n",
            " 13  status                9081 non-null   object \n",
            " 14  cast                  8991 non-null   object \n",
            " 15  director              9081 non-null   object \n",
            "dtypes: float64(3), int64(3), object(10)\n",
            "memory usage: 1.1+ MB\n"
          ],
          "name": "stdout"
        }
      ]
    },
    {
      "cell_type": "code",
      "metadata": {
        "id": "ixyILcxJZWKQ"
      },
      "source": [
        "#popular_movies.to_csv('PopularMovies.csv')\r\n",
        "#file = drive.CreateFile({'parents':[{u'id': '1LxtvFIt9kDw8caxwrYh26MfK2ZcCiJaf'}]}) \r\n",
        "#file.SetContentFile(\"PopularMovies.csv\")\r\n",
        "#file.Upload()"
      ],
      "execution_count": 17,
      "outputs": []
    }
  ]
}