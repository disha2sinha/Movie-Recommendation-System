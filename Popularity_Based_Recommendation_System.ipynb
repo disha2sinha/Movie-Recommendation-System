{
  "nbformat": 4,
  "nbformat_minor": 0,
  "metadata": {
    "colab": {
      "name": "Popularity-Based Recommendation System.ipynb",
      "provenance": [],
      "authorship_tag": "ABX9TyPv1teDB78gKFyNESoUt4yh",
      "include_colab_link": true
    },
    "kernelspec": {
      "name": "python3",
      "display_name": "Python 3"
    },
    "accelerator": "GPU"
  },
  "cells": [
    {
      "cell_type": "markdown",
      "metadata": {
        "id": "view-in-github",
        "colab_type": "text"
      },
      "source": [
        "<a href=\"https://colab.research.google.com/github/disha2sinha/Movie-Recommendation-System/blob/master/Popularity_Based_Recommendation_System.ipynb\" target=\"_parent\"><img src=\"https://colab.research.google.com/assets/colab-badge.svg\" alt=\"Open In Colab\"/></a>"
      ]
    },
    {
      "cell_type": "markdown",
      "metadata": {
        "id": "vYXuZ57oEdGG"
      },
      "source": [
        "**IMPORTING LIBRARIES:**"
      ]
    },
    {
      "cell_type": "code",
      "metadata": {
        "id": "zsj7g3JfAitV"
      },
      "source": [
        "!pip install -U -q PyDrive\n",
        "from pydrive.auth import GoogleAuth\n",
        "from pydrive.drive import GoogleDrive\n",
        "from google.colab import auth\n",
        "from oauth2client.client import GoogleCredentials\n",
        "import pandas as pd\n",
        "import math\n",
        "import numpy as np\n",
        "import matplotlib.pyplot as plt\n",
        "import seaborn as sns\n",
        "from sklearn.preprocessing import MinMaxScaler"
      ],
      "execution_count": 16,
      "outputs": []
    },
    {
      "cell_type": "code",
      "metadata": {
        "id": "R9gJZ2TKEwIa"
      },
      "source": [
        "auth.authenticate_user()\n",
        "gauth = GoogleAuth()\n",
        "gauth.credentials = GoogleCredentials.get_application_default()\n",
        "drive = GoogleDrive(gauth)\n",
        "#https://drive.google.com/file/d/1HcaON_5Qz-bfqlRyDgVWfdS4bD0hQ0Z3/view?usp=sharing"
      ],
      "execution_count": 17,
      "outputs": []
    },
    {
      "cell_type": "code",
      "metadata": {
        "id": "9LEjNWemFE9G",
        "colab": {
          "base_uri": "https://localhost:8080/",
          "height": 618
        },
        "outputId": "63d5b498-2a50-40ca-9f70-81390f274af0"
      },
      "source": [
        "id='17YchkBH43sA_JyKYju74syUjcUnBQuJO'\n",
        "downloaded = drive.CreateFile({'id':id}) \n",
        "downloaded.GetContentFile('MoviesData.csv')  \n",
        "movies_data = pd.read_csv('MoviesData.csv',engine='python',index_col=0)\n",
        "movies_data.head()"
      ],
      "execution_count": 18,
      "outputs": [
        {
          "output_type": "execute_result",
          "data": {
            "text/html": [
              "<div>\n",
              "<style scoped>\n",
              "    .dataframe tbody tr th:only-of-type {\n",
              "        vertical-align: middle;\n",
              "    }\n",
              "\n",
              "    .dataframe tbody tr th {\n",
              "        vertical-align: top;\n",
              "    }\n",
              "\n",
              "    .dataframe thead th {\n",
              "        text-align: right;\n",
              "    }\n",
              "</style>\n",
              "<table border=\"1\" class=\"dataframe\">\n",
              "  <thead>\n",
              "    <tr style=\"text-align: right;\">\n",
              "      <th></th>\n",
              "      <th>title</th>\n",
              "      <th>release_year</th>\n",
              "      <th>release_day</th>\n",
              "      <th>genres</th>\n",
              "      <th>original_language</th>\n",
              "      <th>runtime</th>\n",
              "      <th>content</th>\n",
              "      <th>production_companies</th>\n",
              "      <th>budget</th>\n",
              "      <th>revenue</th>\n",
              "      <th>profit</th>\n",
              "      <th>production_countries</th>\n",
              "      <th>status</th>\n",
              "      <th>popularity</th>\n",
              "      <th>vote_average</th>\n",
              "      <th>vote_count</th>\n",
              "      <th>movieId</th>\n",
              "      <th>keywords</th>\n",
              "      <th>cast</th>\n",
              "      <th>director</th>\n",
              "      <th>rating_count</th>\n",
              "      <th>mean_rating</th>\n",
              "    </tr>\n",
              "  </thead>\n",
              "  <tbody>\n",
              "    <tr>\n",
              "      <th>0</th>\n",
              "      <td>Lilo &amp; Stitch</td>\n",
              "      <td>2002</td>\n",
              "      <td>Friday</td>\n",
              "      <td>Animation|Family</td>\n",
              "      <td>English</td>\n",
              "      <td>85.0</td>\n",
              "      <td>A lonely Hawaiian girl named Lilo is being rai...</td>\n",
              "      <td>Walt Disney Pictures|Walt Disney Feature Anima...</td>\n",
              "      <td>80000000</td>\n",
              "      <td>145771527.0</td>\n",
              "      <td>65771527.0</td>\n",
              "      <td>United States of America</td>\n",
              "      <td>Released</td>\n",
              "      <td>18.469238</td>\n",
              "      <td>7.1</td>\n",
              "      <td>1371.0</td>\n",
              "      <td>5444</td>\n",
              "      <td>['sister sister relationship', 'extraterrestri...</td>\n",
              "      <td>Chris Sanders|Daveigh Chase|Tia Carrere|David ...</td>\n",
              "      <td>Dean DeBlois</td>\n",
              "      <td>341.0</td>\n",
              "      <td>4.054252</td>\n",
              "    </tr>\n",
              "    <tr>\n",
              "      <th>1</th>\n",
              "      <td>The Emerald Forest</td>\n",
              "      <td>1985</td>\n",
              "      <td>Wednesday</td>\n",
              "      <td>Action|Adventure|Drama</td>\n",
              "      <td>English</td>\n",
              "      <td>114.0</td>\n",
              "      <td>For ten years, engineer Bill Markham has searc...</td>\n",
              "      <td>Embassy Pictures Corporation|Christel Films</td>\n",
              "      <td>8000000</td>\n",
              "      <td>24467000.0</td>\n",
              "      <td>16467000.0</td>\n",
              "      <td>United Kingdom</td>\n",
              "      <td>Released</td>\n",
              "      <td>19.520733</td>\n",
              "      <td>7.0</td>\n",
              "      <td>64.0</td>\n",
              "      <td>2370</td>\n",
              "      <td>['father son relationship', 'brazil', 'amazon'...</td>\n",
              "      <td>Powers Boothe|Charley Boorman|Meg Foster|Yara ...</td>\n",
              "      <td>John Boorman</td>\n",
              "      <td>324.0</td>\n",
              "      <td>4.256173</td>\n",
              "    </tr>\n",
              "    <tr>\n",
              "      <th>2</th>\n",
              "      <td>Jason Bourne</td>\n",
              "      <td>2016</td>\n",
              "      <td>Wednesday</td>\n",
              "      <td>Action|Thriller</td>\n",
              "      <td>English</td>\n",
              "      <td>123.0</td>\n",
              "      <td>The most dangerous former operative of the CIA...</td>\n",
              "      <td>The Kennedy/Marshall Company|Captivate Enterta...</td>\n",
              "      <td>120000000</td>\n",
              "      <td>415484914.0</td>\n",
              "      <td>295484914.0</td>\n",
              "      <td>United Kingdom|United States of America|China</td>\n",
              "      <td>Released</td>\n",
              "      <td>19.133256</td>\n",
              "      <td>5.9</td>\n",
              "      <td>2386.0</td>\n",
              "      <td>160438</td>\n",
              "      <td>['assassin', 'amnesia', 'flashback']</td>\n",
              "      <td>Matt Damon|Alicia Vikander|Tommy Lee Jones|Vin...</td>\n",
              "      <td>Paul Greengrass</td>\n",
              "      <td>311.0</td>\n",
              "      <td>4.487138</td>\n",
              "    </tr>\n",
              "    <tr>\n",
              "      <th>3</th>\n",
              "      <td>Lara Croft: Tomb Raider</td>\n",
              "      <td>2001</td>\n",
              "      <td>Monday</td>\n",
              "      <td>Adventure|Fantasy|Action|Thriller</td>\n",
              "      <td>English</td>\n",
              "      <td>100.0</td>\n",
              "      <td>English aristocrat Lara Croft is skilled in ha...</td>\n",
              "      <td>Paramount Pictures|Toho-Towa|Mutual Film Compa...</td>\n",
              "      <td>115000000</td>\n",
              "      <td>274703340.0</td>\n",
              "      <td>159703340.0</td>\n",
              "      <td>United States of America</td>\n",
              "      <td>Released</td>\n",
              "      <td>15.851722</td>\n",
              "      <td>5.7</td>\n",
              "      <td>2235.0</td>\n",
              "      <td>4367</td>\n",
              "      <td>['treasure', 'buddhist monk', 'planetary confi...</td>\n",
              "      <td>Angelina Jolie|Jon Voight|Iain Glen|Noah Taylo...</td>\n",
              "      <td>Simon West</td>\n",
              "      <td>304.0</td>\n",
              "      <td>4.138158</td>\n",
              "    </tr>\n",
              "    <tr>\n",
              "      <th>4</th>\n",
              "      <td>Top Gun</td>\n",
              "      <td>1986</td>\n",
              "      <td>Friday</td>\n",
              "      <td>Action|Romance|War</td>\n",
              "      <td>English</td>\n",
              "      <td>110.0</td>\n",
              "      <td>For Lieutenant Pete 'Maverick' Mitchell and hi...</td>\n",
              "      <td>Paramount Pictures</td>\n",
              "      <td>15000000</td>\n",
              "      <td>356830601.0</td>\n",
              "      <td>341830601.0</td>\n",
              "      <td>United States of America</td>\n",
              "      <td>Released</td>\n",
              "      <td>20.301019</td>\n",
              "      <td>6.7</td>\n",
              "      <td>1736.0</td>\n",
              "      <td>1101</td>\n",
              "      <td>['lovesickness', 'loss of lover', 'fighter pil...</td>\n",
              "      <td>Tom Cruise|Kelly McGillis|Val Kilmer|Anthony E...</td>\n",
              "      <td>Tony Scott</td>\n",
              "      <td>291.0</td>\n",
              "      <td>4.221649</td>\n",
              "    </tr>\n",
              "  </tbody>\n",
              "</table>\n",
              "</div>"
            ],
            "text/plain": [
              "                     title release_year  ... rating_count mean_rating\n",
              "0            Lilo & Stitch         2002  ...        341.0    4.054252\n",
              "1       The Emerald Forest         1985  ...        324.0    4.256173\n",
              "2             Jason Bourne         2016  ...        311.0    4.487138\n",
              "3  Lara Croft: Tomb Raider         2001  ...        304.0    4.138158\n",
              "4                  Top Gun         1986  ...        291.0    4.221649\n",
              "\n",
              "[5 rows x 22 columns]"
            ]
          },
          "metadata": {
            "tags": []
          },
          "execution_count": 18
        }
      ]
    },
    {
      "cell_type": "code",
      "metadata": {
        "id": "RGeAXaAJbBs3",
        "outputId": "098288ce-6e1d-4974-f850-64a8cffc78d8",
        "colab": {
          "base_uri": "https://localhost:8080/"
        }
      },
      "source": [
        "movies_data.info()"
      ],
      "execution_count": 19,
      "outputs": [
        {
          "output_type": "stream",
          "text": [
            "<class 'pandas.core.frame.DataFrame'>\n",
            "Int64Index: 46904 entries, 0 to 46903\n",
            "Data columns (total 22 columns):\n",
            " #   Column                Non-Null Count  Dtype  \n",
            "---  ------                --------------  -----  \n",
            " 0   title                 46904 non-null  object \n",
            " 1   release_year          46904 non-null  object \n",
            " 2   release_day           46904 non-null  object \n",
            " 3   genres                44380 non-null  object \n",
            " 4   original_language     46774 non-null  object \n",
            " 5   runtime               46904 non-null  float64\n",
            " 6   content               45918 non-null  object \n",
            " 7   production_companies  34566 non-null  object \n",
            " 8   budget                46904 non-null  int64  \n",
            " 9   revenue               46904 non-null  float64\n",
            " 10  profit                46904 non-null  float64\n",
            " 11  production_countries  40388 non-null  object \n",
            " 12  status                46904 non-null  object \n",
            " 13  popularity            46904 non-null  float64\n",
            " 14  vote_average          46904 non-null  float64\n",
            " 15  vote_count            46904 non-null  float64\n",
            " 16  movieId               46904 non-null  int64  \n",
            " 17  keywords              46904 non-null  object \n",
            " 18  cast                  44405 non-null  object \n",
            " 19  director              46904 non-null  object \n",
            " 20  rating_count          46904 non-null  float64\n",
            " 21  mean_rating           46904 non-null  float64\n",
            "dtypes: float64(8), int64(2), object(12)\n",
            "memory usage: 8.2+ MB\n"
          ],
          "name": "stdout"
        }
      ]
    },
    {
      "cell_type": "markdown",
      "metadata": {
        "id": "O7cyXup7Ar9i"
      },
      "source": [
        "# **POPULARITY BASED RECOMMENDATION SYSTEM :**"
      ]
    },
    {
      "cell_type": "code",
      "metadata": {
        "id": "UmVOCDMfTOXG",
        "colab": {
          "base_uri": "https://localhost:8080/",
          "height": 284
        },
        "outputId": "d056c2ac-f812-4d99-d439-f132a84f2ca5"
      },
      "source": [
        "movies_data[['vote_count','vote_average','rating_count','mean_rating','popularity']].describe()"
      ],
      "execution_count": 20,
      "outputs": [
        {
          "output_type": "execute_result",
          "data": {
            "text/html": [
              "<div>\n",
              "<style scoped>\n",
              "    .dataframe tbody tr th:only-of-type {\n",
              "        vertical-align: middle;\n",
              "    }\n",
              "\n",
              "    .dataframe tbody tr th {\n",
              "        vertical-align: top;\n",
              "    }\n",
              "\n",
              "    .dataframe thead th {\n",
              "        text-align: right;\n",
              "    }\n",
              "</style>\n",
              "<table border=\"1\" class=\"dataframe\">\n",
              "  <thead>\n",
              "    <tr style=\"text-align: right;\">\n",
              "      <th></th>\n",
              "      <th>vote_count</th>\n",
              "      <th>vote_average</th>\n",
              "      <th>rating_count</th>\n",
              "      <th>mean_rating</th>\n",
              "      <th>popularity</th>\n",
              "    </tr>\n",
              "  </thead>\n",
              "  <tbody>\n",
              "    <tr>\n",
              "      <th>count</th>\n",
              "      <td>46904.000000</td>\n",
              "      <td>46904.000000</td>\n",
              "      <td>46904.000000</td>\n",
              "      <td>46904.000000</td>\n",
              "      <td>46904.000000</td>\n",
              "    </tr>\n",
              "    <tr>\n",
              "      <th>mean</th>\n",
              "      <td>107.759232</td>\n",
              "      <td>5.611609</td>\n",
              "      <td>1.890052</td>\n",
              "      <td>0.455537</td>\n",
              "      <td>2.894728</td>\n",
              "    </tr>\n",
              "    <tr>\n",
              "      <th>std</th>\n",
              "      <td>485.002581</td>\n",
              "      <td>1.932131</td>\n",
              "      <td>11.258909</td>\n",
              "      <td>1.181715</td>\n",
              "      <td>5.939121</td>\n",
              "    </tr>\n",
              "    <tr>\n",
              "      <th>min</th>\n",
              "      <td>0.000000</td>\n",
              "      <td>0.000000</td>\n",
              "      <td>0.000000</td>\n",
              "      <td>0.000000</td>\n",
              "      <td>0.000000</td>\n",
              "    </tr>\n",
              "    <tr>\n",
              "      <th>25%</th>\n",
              "      <td>3.000000</td>\n",
              "      <td>5.000000</td>\n",
              "      <td>0.000000</td>\n",
              "      <td>0.000000</td>\n",
              "      <td>0.383559</td>\n",
              "    </tr>\n",
              "    <tr>\n",
              "      <th>50%</th>\n",
              "      <td>10.000000</td>\n",
              "      <td>6.000000</td>\n",
              "      <td>0.000000</td>\n",
              "      <td>0.000000</td>\n",
              "      <td>1.115852</td>\n",
              "    </tr>\n",
              "    <tr>\n",
              "      <th>75%</th>\n",
              "      <td>34.000000</td>\n",
              "      <td>6.800000</td>\n",
              "      <td>0.000000</td>\n",
              "      <td>0.000000</td>\n",
              "      <td>3.614261</td>\n",
              "    </tr>\n",
              "    <tr>\n",
              "      <th>max</th>\n",
              "      <td>14075.000000</td>\n",
              "      <td>10.000000</td>\n",
              "      <td>341.000000</td>\n",
              "      <td>5.000000</td>\n",
              "      <td>547.488298</td>\n",
              "    </tr>\n",
              "  </tbody>\n",
              "</table>\n",
              "</div>"
            ],
            "text/plain": [
              "         vote_count  vote_average  rating_count   mean_rating    popularity\n",
              "count  46904.000000  46904.000000  46904.000000  46904.000000  46904.000000\n",
              "mean     107.759232      5.611609      1.890052      0.455537      2.894728\n",
              "std      485.002581      1.932131     11.258909      1.181715      5.939121\n",
              "min        0.000000      0.000000      0.000000      0.000000      0.000000\n",
              "25%        3.000000      5.000000      0.000000      0.000000      0.383559\n",
              "50%       10.000000      6.000000      0.000000      0.000000      1.115852\n",
              "75%       34.000000      6.800000      0.000000      0.000000      3.614261\n",
              "max    14075.000000     10.000000    341.000000      5.000000    547.488298"
            ]
          },
          "metadata": {
            "tags": []
          },
          "execution_count": 20
        }
      ]
    },
    {
      "cell_type": "markdown",
      "metadata": {
        "id": "6Bg4rk09RaRs"
      },
      "source": [
        "**WEIGHTED AVERAGE FOR EACH MOVIES AVERAGE RATINGS :**"
      ]
    },
    {
      "cell_type": "markdown",
      "metadata": {
        "id": "vyASuE9fGSea"
      },
      "source": [
        "Weighted Ratings: \n",
        ">              W =   Rv + Cm\n",
        ">                   ---------\n",
        "                     v+m\n",
        "\n",
        "R= average rating for the movie as a number from 0 to 10\n",
        "\n",
        "v= number of votes for the movie\n",
        "\n",
        "m= minimum votes required to be listed in Top(here 2000)\n",
        "\n",
        "C=the mean vote across whole report\n"
      ]
    },
    {
      "cell_type": "code",
      "metadata": {
        "id": "QttoY9X0GNmJ"
      },
      "source": [
        "R=movies_data['vote_average']\n",
        "v=movies_data['vote_count']\n",
        "C=movies_data['vote_average'].mean()\n",
        "m=2000"
      ],
      "execution_count": 21,
      "outputs": []
    },
    {
      "cell_type": "code",
      "metadata": {
        "id": "fWlX75ybVldx",
        "colab": {
          "base_uri": "https://localhost:8080/",
          "height": 639
        },
        "outputId": "75d08f23-dd95-4b7e-a146-85b682beb8ba"
      },
      "source": [
        "movies_data['weighted_votes']=(R*v+C*m)/(v+m)\n",
        "movies_data[['title','weighted_votes']].sort_values('weighted_votes',ascending=False).head(20)"
      ],
      "execution_count": 22,
      "outputs": [
        {
          "output_type": "execute_result",
          "data": {
            "text/html": [
              "<div>\n",
              "<style scoped>\n",
              "    .dataframe tbody tr th:only-of-type {\n",
              "        vertical-align: middle;\n",
              "    }\n",
              "\n",
              "    .dataframe tbody tr th {\n",
              "        vertical-align: top;\n",
              "    }\n",
              "\n",
              "    .dataframe thead th {\n",
              "        text-align: right;\n",
              "    }\n",
              "</style>\n",
              "<table border=\"1\" class=\"dataframe\">\n",
              "  <thead>\n",
              "    <tr style=\"text-align: right;\">\n",
              "      <th></th>\n",
              "      <th>title</th>\n",
              "      <th>weighted_votes</th>\n",
              "    </tr>\n",
              "  </thead>\n",
              "  <tbody>\n",
              "    <tr>\n",
              "      <th>54</th>\n",
              "      <td>The Shawshank Redemption</td>\n",
              "      <td>7.942288</td>\n",
              "    </tr>\n",
              "    <tr>\n",
              "      <th>1748</th>\n",
              "      <td>The Dark Knight</td>\n",
              "      <td>7.923184</td>\n",
              "    </tr>\n",
              "    <tr>\n",
              "      <th>2400</th>\n",
              "      <td>Fight Club</td>\n",
              "      <td>7.839580</td>\n",
              "    </tr>\n",
              "    <tr>\n",
              "      <th>2219</th>\n",
              "      <td>Pulp Fiction</td>\n",
              "      <td>7.796084</td>\n",
              "    </tr>\n",
              "    <tr>\n",
              "      <th>2879</th>\n",
              "      <td>Inception</td>\n",
              "      <td>7.790402</td>\n",
              "    </tr>\n",
              "    <tr>\n",
              "      <th>33189</th>\n",
              "      <td>The Godfather</td>\n",
              "      <td>7.780062</td>\n",
              "    </tr>\n",
              "    <tr>\n",
              "      <th>1691</th>\n",
              "      <td>Interstellar</td>\n",
              "      <td>7.722599</td>\n",
              "    </tr>\n",
              "    <tr>\n",
              "      <th>98</th>\n",
              "      <td>Forrest Gump</td>\n",
              "      <td>7.689821</td>\n",
              "    </tr>\n",
              "    <tr>\n",
              "      <th>2880</th>\n",
              "      <td>The Lord of the Rings: The Return of the King</td>\n",
              "      <td>7.613321</td>\n",
              "    </tr>\n",
              "    <tr>\n",
              "      <th>1030</th>\n",
              "      <td>The Lord of the Rings: The Fellowship of the Ring</td>\n",
              "      <td>7.561441</td>\n",
              "    </tr>\n",
              "    <tr>\n",
              "      <th>33178</th>\n",
              "      <td>The Empire Strikes Back</td>\n",
              "      <td>7.552740</td>\n",
              "    </tr>\n",
              "    <tr>\n",
              "      <th>1661</th>\n",
              "      <td>Star Wars</td>\n",
              "      <td>7.533039</td>\n",
              "    </tr>\n",
              "    <tr>\n",
              "      <th>29</th>\n",
              "      <td>Guardians of the Galaxy</td>\n",
              "      <td>7.519046</td>\n",
              "    </tr>\n",
              "    <tr>\n",
              "      <th>33197</th>\n",
              "      <td>The Lord of the Rings: The Two Towers</td>\n",
              "      <td>7.504535</td>\n",
              "    </tr>\n",
              "    <tr>\n",
              "      <th>6237</th>\n",
              "      <td>The Intouchables</td>\n",
              "      <td>7.501379</td>\n",
              "    </tr>\n",
              "    <tr>\n",
              "      <th>1327</th>\n",
              "      <td>The Matrix</td>\n",
              "      <td>7.486896</td>\n",
              "    </tr>\n",
              "    <tr>\n",
              "      <th>2271</th>\n",
              "      <td>Se7en</td>\n",
              "      <td>7.471221</td>\n",
              "    </tr>\n",
              "    <tr>\n",
              "      <th>324</th>\n",
              "      <td>Schindler's List</td>\n",
              "      <td>7.464577</td>\n",
              "    </tr>\n",
              "    <tr>\n",
              "      <th>2874</th>\n",
              "      <td>Whiplash</td>\n",
              "      <td>7.456715</td>\n",
              "    </tr>\n",
              "    <tr>\n",
              "      <th>521</th>\n",
              "      <td>Django Unchained</td>\n",
              "      <td>7.444077</td>\n",
              "    </tr>\n",
              "  </tbody>\n",
              "</table>\n",
              "</div>"
            ],
            "text/plain": [
              "                                                   title  weighted_votes\n",
              "54                              The Shawshank Redemption        7.942288\n",
              "1748                                     The Dark Knight        7.923184\n",
              "2400                                          Fight Club        7.839580\n",
              "2219                                        Pulp Fiction        7.796084\n",
              "2879                                           Inception        7.790402\n",
              "33189                                      The Godfather        7.780062\n",
              "1691                                        Interstellar        7.722599\n",
              "98                                          Forrest Gump        7.689821\n",
              "2880       The Lord of the Rings: The Return of the King        7.613321\n",
              "1030   The Lord of the Rings: The Fellowship of the Ring        7.561441\n",
              "33178                            The Empire Strikes Back        7.552740\n",
              "1661                                           Star Wars        7.533039\n",
              "29                               Guardians of the Galaxy        7.519046\n",
              "33197              The Lord of the Rings: The Two Towers        7.504535\n",
              "6237                                    The Intouchables        7.501379\n",
              "1327                                          The Matrix        7.486896\n",
              "2271                                               Se7en        7.471221\n",
              "324                                     Schindler's List        7.464577\n",
              "2874                                            Whiplash        7.456715\n",
              "521                                     Django Unchained        7.444077"
            ]
          },
          "metadata": {
            "tags": []
          },
          "execution_count": 22
        }
      ]
    },
    {
      "cell_type": "code",
      "metadata": {
        "id": "7k6aDmB6_gx5",
        "colab": {
          "base_uri": "https://localhost:8080/"
        },
        "outputId": "f6b2751e-1ef0-4907-86cc-b0ac79d15bd3"
      },
      "source": [
        "R1=movies_data['mean_rating']\n",
        "v1=movies_data['rating_count']\n",
        "C1=movies_data['mean_rating'].mean()\n",
        "m1=movies_data['rating_count'].quantile(0.95)\n",
        "m1"
      ],
      "execution_count": 23,
      "outputs": [
        {
          "output_type": "execute_result",
          "data": {
            "text/plain": [
              "7.0"
            ]
          },
          "metadata": {
            "tags": []
          },
          "execution_count": 23
        }
      ]
    },
    {
      "cell_type": "code",
      "metadata": {
        "id": "_UVJlVGD_wF4",
        "colab": {
          "base_uri": "https://localhost:8080/",
          "height": 639
        },
        "outputId": "ece295c3-02c2-44c9-d6e1-74a706b6f5c9"
      },
      "source": [
        "movies_data['weighted_ratings']=(R1*v1+C1*m1)/(v1+m1)\n",
        "movies_data[['title','weighted_ratings']].sort_values('weighted_ratings',ascending=False).head(20)"
      ],
      "execution_count": 24,
      "outputs": [
        {
          "output_type": "execute_result",
          "data": {
            "text/html": [
              "<div>\n",
              "<style scoped>\n",
              "    .dataframe tbody tr th:only-of-type {\n",
              "        vertical-align: middle;\n",
              "    }\n",
              "\n",
              "    .dataframe tbody tr th {\n",
              "        vertical-align: top;\n",
              "    }\n",
              "\n",
              "    .dataframe thead th {\n",
              "        text-align: right;\n",
              "    }\n",
              "</style>\n",
              "<table border=\"1\" class=\"dataframe\">\n",
              "  <thead>\n",
              "    <tr style=\"text-align: right;\">\n",
              "      <th></th>\n",
              "      <th>title</th>\n",
              "      <th>weighted_ratings</th>\n",
              "    </tr>\n",
              "  </thead>\n",
              "  <tbody>\n",
              "    <tr>\n",
              "      <th>2</th>\n",
              "      <td>Jason Bourne</td>\n",
              "      <td>4.398392</td>\n",
              "    </tr>\n",
              "    <tr>\n",
              "      <th>27</th>\n",
              "      <td>Anaconda</td>\n",
              "      <td>4.351153</td>\n",
              "    </tr>\n",
              "    <tr>\n",
              "      <th>23</th>\n",
              "      <td>Maze Runner: The Scorch Trials</td>\n",
              "      <td>4.238888</td>\n",
              "    </tr>\n",
              "    <tr>\n",
              "      <th>8</th>\n",
              "      <td>Taken</td>\n",
              "      <td>4.195971</td>\n",
              "    </tr>\n",
              "    <tr>\n",
              "      <th>66</th>\n",
              "      <td>Awakenings</td>\n",
              "      <td>4.191470</td>\n",
              "    </tr>\n",
              "    <tr>\n",
              "      <th>1</th>\n",
              "      <td>The Emerald Forest</td>\n",
              "      <td>4.175797</td>\n",
              "    </tr>\n",
              "    <tr>\n",
              "      <th>13</th>\n",
              "      <td>Tremors</td>\n",
              "      <td>4.141510</td>\n",
              "    </tr>\n",
              "    <tr>\n",
              "      <th>4</th>\n",
              "      <td>Top Gun</td>\n",
              "      <td>4.133184</td>\n",
              "    </tr>\n",
              "    <tr>\n",
              "      <th>10</th>\n",
              "      <td>Eyes Wide Shut</td>\n",
              "      <td>4.123190</td>\n",
              "    </tr>\n",
              "    <tr>\n",
              "      <th>14</th>\n",
              "      <td>Love Happens</td>\n",
              "      <td>4.119774</td>\n",
              "    </tr>\n",
              "    <tr>\n",
              "      <th>6</th>\n",
              "      <td>Army of Darkness</td>\n",
              "      <td>4.085296</td>\n",
              "    </tr>\n",
              "    <tr>\n",
              "      <th>61</th>\n",
              "      <td>Annie</td>\n",
              "      <td>4.080720</td>\n",
              "    </tr>\n",
              "    <tr>\n",
              "      <th>15</th>\n",
              "      <td>Kung Fu Cult Master</td>\n",
              "      <td>4.077924</td>\n",
              "    </tr>\n",
              "    <tr>\n",
              "      <th>24</th>\n",
              "      <td>Cheerful Weather for the Wedding</td>\n",
              "      <td>4.056467</td>\n",
              "    </tr>\n",
              "    <tr>\n",
              "      <th>3</th>\n",
              "      <td>Lara Croft: Tomb Raider</td>\n",
              "      <td>4.055269</td>\n",
              "    </tr>\n",
              "    <tr>\n",
              "      <th>43</th>\n",
              "      <td>It's a Mad, Mad, Mad, Mad World</td>\n",
              "      <td>4.054052</td>\n",
              "    </tr>\n",
              "    <tr>\n",
              "      <th>21</th>\n",
              "      <td>A Funny Thing Happened on the Way to the Forum</td>\n",
              "      <td>4.053535</td>\n",
              "    </tr>\n",
              "    <tr>\n",
              "      <th>60</th>\n",
              "      <td>Inside Man</td>\n",
              "      <td>4.050584</td>\n",
              "    </tr>\n",
              "    <tr>\n",
              "      <th>169</th>\n",
              "      <td>Shooter</td>\n",
              "      <td>4.042311</td>\n",
              "    </tr>\n",
              "    <tr>\n",
              "      <th>70</th>\n",
              "      <td>Twin Peaks: Fire Walk with Me</td>\n",
              "      <td>4.037329</td>\n",
              "    </tr>\n",
              "  </tbody>\n",
              "</table>\n",
              "</div>"
            ],
            "text/plain": [
              "                                              title  weighted_ratings\n",
              "2                                      Jason Bourne          4.398392\n",
              "27                                         Anaconda          4.351153\n",
              "23                   Maze Runner: The Scorch Trials          4.238888\n",
              "8                                             Taken          4.195971\n",
              "66                                       Awakenings          4.191470\n",
              "1                                The Emerald Forest          4.175797\n",
              "13                                          Tremors          4.141510\n",
              "4                                           Top Gun          4.133184\n",
              "10                                   Eyes Wide Shut          4.123190\n",
              "14                                     Love Happens          4.119774\n",
              "6                                  Army of Darkness          4.085296\n",
              "61                                            Annie          4.080720\n",
              "15                              Kung Fu Cult Master          4.077924\n",
              "24                 Cheerful Weather for the Wedding          4.056467\n",
              "3                           Lara Croft: Tomb Raider          4.055269\n",
              "43                  It's a Mad, Mad, Mad, Mad World          4.054052\n",
              "21   A Funny Thing Happened on the Way to the Forum          4.053535\n",
              "60                                       Inside Man          4.050584\n",
              "169                                         Shooter          4.042311\n",
              "70                    Twin Peaks: Fire Walk with Me          4.037329"
            ]
          },
          "metadata": {
            "tags": []
          },
          "execution_count": 24
        }
      ]
    },
    {
      "cell_type": "markdown",
      "metadata": {
        "id": "vK-7k_U-DzA-"
      },
      "source": [
        "**ASSIGNING SCORES TO THE MOVIES BY GIVING 45% IMPORTANCE TO WEIGHTED AVERAGE OF VOTES + 45% IMPORTANCE TO POPULARITY + 10% TO WEIGHTED AVERAGE OF RATINGS**"
      ]
    },
    {
      "cell_type": "code",
      "metadata": {
        "id": "IH1d9-OoHjax",
        "colab": {
          "base_uri": "https://localhost:8080/",
          "height": 343
        },
        "outputId": "4dc0f814-2293-4921-f4c5-1ef4f55949fd"
      },
      "source": [
        "scaler=MinMaxScaler()\n",
        "movies_data[['weighted_votes','weighted_ratings','popularity']]=scaler.fit_transform(movies_data[['weighted_votes','weighted_ratings','popularity']])\n",
        "movies_data['score']=movies_data['weighted_votes']*0.45 + movies_data['weighted_ratings']*0.1+movies_data['popularity']*0.45\n",
        "movies_data[['title','weighted_votes','weighted_ratings','popularity','score']].sort_values('score',ascending=False).head(10)"
      ],
      "execution_count": 25,
      "outputs": [
        {
          "output_type": "execute_result",
          "data": {
            "text/html": [
              "<div>\n",
              "<style scoped>\n",
              "    .dataframe tbody tr th:only-of-type {\n",
              "        vertical-align: middle;\n",
              "    }\n",
              "\n",
              "    .dataframe tbody tr th {\n",
              "        vertical-align: top;\n",
              "    }\n",
              "\n",
              "    .dataframe thead th {\n",
              "        text-align: right;\n",
              "    }\n",
              "</style>\n",
              "<table border=\"1\" class=\"dataframe\">\n",
              "  <thead>\n",
              "    <tr style=\"text-align: right;\">\n",
              "      <th></th>\n",
              "      <th>title</th>\n",
              "      <th>weighted_votes</th>\n",
              "      <th>weighted_ratings</th>\n",
              "      <th>popularity</th>\n",
              "      <th>score</th>\n",
              "    </tr>\n",
              "  </thead>\n",
              "  <tbody>\n",
              "    <tr>\n",
              "      <th>11152</th>\n",
              "      <td>Minions</td>\n",
              "      <td>0.404144</td>\n",
              "      <td>0.000000</td>\n",
              "      <td>1.000000</td>\n",
              "      <td>0.631865</td>\n",
              "    </tr>\n",
              "    <tr>\n",
              "      <th>7</th>\n",
              "      <td>Wonder Woman</td>\n",
              "      <td>0.599379</td>\n",
              "      <td>0.842731</td>\n",
              "      <td>0.537613</td>\n",
              "      <td>0.595920</td>\n",
              "    </tr>\n",
              "    <tr>\n",
              "      <th>2219</th>\n",
              "      <td>Pulp Fiction</td>\n",
              "      <td>0.950965</td>\n",
              "      <td>0.470990</td>\n",
              "      <td>0.257449</td>\n",
              "      <td>0.590885</td>\n",
              "    </tr>\n",
              "    <tr>\n",
              "      <th>1748</th>\n",
              "      <td>The Dark Knight</td>\n",
              "      <td>0.993593</td>\n",
              "      <td>0.288695</td>\n",
              "      <td>0.224968</td>\n",
              "      <td>0.577222</td>\n",
              "    </tr>\n",
              "    <tr>\n",
              "      <th>54</th>\n",
              "      <td>The Shawshank Redemption</td>\n",
              "      <td>1.000000</td>\n",
              "      <td>0.761820</td>\n",
              "      <td>0.094332</td>\n",
              "      <td>0.568631</td>\n",
              "    </tr>\n",
              "    <tr>\n",
              "      <th>1587</th>\n",
              "      <td>Big Hero 6</td>\n",
              "      <td>0.775186</td>\n",
              "      <td>0.318018</td>\n",
              "      <td>0.390602</td>\n",
              "      <td>0.556406</td>\n",
              "    </tr>\n",
              "    <tr>\n",
              "      <th>367</th>\n",
              "      <td>Deadpool</td>\n",
              "      <td>0.728893</td>\n",
              "      <td>0.634018</td>\n",
              "      <td>0.343132</td>\n",
              "      <td>0.545813</td>\n",
              "    </tr>\n",
              "    <tr>\n",
              "      <th>137</th>\n",
              "      <td>Guardians of the Galaxy Vol. 2</td>\n",
              "      <td>0.690717</td>\n",
              "      <td>0.814849</td>\n",
              "      <td>0.338511</td>\n",
              "      <td>0.544638</td>\n",
              "    </tr>\n",
              "    <tr>\n",
              "      <th>122</th>\n",
              "      <td>Beauty and the Beast</td>\n",
              "      <td>0.511027</td>\n",
              "      <td>0.701374</td>\n",
              "      <td>0.524675</td>\n",
              "      <td>0.536204</td>\n",
              "    </tr>\n",
              "    <tr>\n",
              "      <th>1140</th>\n",
              "      <td>Gone Girl</td>\n",
              "      <td>0.794492</td>\n",
              "      <td>0.506206</td>\n",
              "      <td>0.282748</td>\n",
              "      <td>0.535379</td>\n",
              "    </tr>\n",
              "  </tbody>\n",
              "</table>\n",
              "</div>"
            ],
            "text/plain": [
              "                                title  weighted_votes  ...  popularity     score\n",
              "11152                         Minions        0.404144  ...    1.000000  0.631865\n",
              "7                        Wonder Woman        0.599379  ...    0.537613  0.595920\n",
              "2219                     Pulp Fiction        0.950965  ...    0.257449  0.590885\n",
              "1748                  The Dark Knight        0.993593  ...    0.224968  0.577222\n",
              "54           The Shawshank Redemption        1.000000  ...    0.094332  0.568631\n",
              "1587                       Big Hero 6        0.775186  ...    0.390602  0.556406\n",
              "367                          Deadpool        0.728893  ...    0.343132  0.545813\n",
              "137    Guardians of the Galaxy Vol. 2        0.690717  ...    0.338511  0.544638\n",
              "122              Beauty and the Beast        0.511027  ...    0.524675  0.536204\n",
              "1140                        Gone Girl        0.794492  ...    0.282748  0.535379\n",
              "\n",
              "[10 rows x 5 columns]"
            ]
          },
          "metadata": {
            "tags": []
          },
          "execution_count": 25
        }
      ]
    },
    {
      "cell_type": "markdown",
      "metadata": {
        "id": "A8WhluFOUWK3"
      },
      "source": [
        "**ONLY MOVIES HAVING SCORE ABOVE A THRESHOLD VALUE CONSIDERED POPULAR :**"
      ]
    },
    {
      "cell_type": "code",
      "metadata": {
        "id": "iTtTDUXsQSC8",
        "colab": {
          "base_uri": "https://localhost:8080/"
        },
        "outputId": "226e3a71-3e02-4cfa-cef3-958e75af015a"
      },
      "source": [
        "movies_data.score.describe()"
      ],
      "execution_count": 26,
      "outputs": [
        {
          "output_type": "execute_result",
          "data": {
            "text/plain": [
              "count    46904.000000\n",
              "mean         0.109260\n",
              "std          0.030854\n",
              "min          0.043362\n",
              "25%          0.098521\n",
              "50%          0.099412\n",
              "75%          0.103262\n",
              "max          0.631865\n",
              "Name: score, dtype: float64"
            ]
          },
          "metadata": {
            "tags": []
          },
          "execution_count": 26
        }
      ]
    },
    {
      "cell_type": "code",
      "metadata": {
        "id": "jmSDwLUVELrN",
        "colab": {
          "base_uri": "https://localhost:8080/",
          "height": 454
        },
        "outputId": "8c08c0a3-ff20-497a-d39e-2180a2a492f0"
      },
      "source": [
        "popular_movies=movies_data[['movieId','title','budget','profit','score','release_year','release_day','genres','production_countries','production_companies','original_language','runtime','content','status','cast','director']].sort_values('score',ascending=False).reset_index(drop=True)\n",
        "plt.figure(figsize=(30,10))\n",
        "axis=sns.barplot(x=popular_movies['score'].head(20),y=popular_movies['title'].head(20))\n",
        "plt.title('Top 20 Most popular movies: ',weight='bold')\n",
        "plt.xlabel('score',weight='bold')\n",
        "plt.ylabel('Movies',weight='bold')\n",
        "plt.savefig('PopularMovies.jpg')"
      ],
      "execution_count": 27,
      "outputs": [
        {
          "output_type": "display_data",
          "data": {
            "image/png": "[encoded data removed]",
            "text/plain": [
              "<Figure size 2160x720 with 1 Axes>"
            ]
          },
          "metadata": {
            "tags": [],
            "needs_background": "light"
          }
        }
      ]
    },
    {
      "cell_type": "code",
      "metadata": {
        "id": "Fu7TG_LgVq1y",
        "colab": {
          "base_uri": "https://localhost:8080/"
        },
        "outputId": "108b6768-5777-4468-94f0-885ea48edfaf"
      },
      "source": [
        "popular_movies.shape"
      ],
      "execution_count": 28,
      "outputs": [
        {
          "output_type": "execute_result",
          "data": {
            "text/plain": [
              "(46904, 16)"
            ]
          },
          "metadata": {
            "tags": []
          },
          "execution_count": 28
        }
      ]
    },
    {
      "cell_type": "code",
      "metadata": {
        "id": "O9fkQtS7MFw_",
        "colab": {
          "base_uri": "https://localhost:8080/",
          "height": 639
        },
        "outputId": "57eee89a-7ed6-4464-fdf6-ab8ada4bf3f9"
      },
      "source": [
        "popular_movies[['title','genres','score']].head(20)"
      ],
      "execution_count": 29,
      "outputs": [
        {
          "output_type": "execute_result",
          "data": {
            "text/html": [
              "<div>\n",
              "<style scoped>\n",
              "    .dataframe tbody tr th:only-of-type {\n",
              "        vertical-align: middle;\n",
              "    }\n",
              "\n",
              "    .dataframe tbody tr th {\n",
              "        vertical-align: top;\n",
              "    }\n",
              "\n",
              "    .dataframe thead th {\n",
              "        text-align: right;\n",
              "    }\n",
              "</style>\n",
              "<table border=\"1\" class=\"dataframe\">\n",
              "  <thead>\n",
              "    <tr style=\"text-align: right;\">\n",
              "      <th></th>\n",
              "      <th>title</th>\n",
              "      <th>genres</th>\n",
              "      <th>score</th>\n",
              "    </tr>\n",
              "  </thead>\n",
              "  <tbody>\n",
              "    <tr>\n",
              "      <th>0</th>\n",
              "      <td>Minions</td>\n",
              "      <td>Family|Animation|Adventure|Comedy</td>\n",
              "      <td>0.631865</td>\n",
              "    </tr>\n",
              "    <tr>\n",
              "      <th>1</th>\n",
              "      <td>Wonder Woman</td>\n",
              "      <td>Action|Adventure|Fantasy</td>\n",
              "      <td>0.595920</td>\n",
              "    </tr>\n",
              "    <tr>\n",
              "      <th>2</th>\n",
              "      <td>Pulp Fiction</td>\n",
              "      <td>Thriller|Crime</td>\n",
              "      <td>0.590885</td>\n",
              "    </tr>\n",
              "    <tr>\n",
              "      <th>3</th>\n",
              "      <td>The Dark Knight</td>\n",
              "      <td>Drama|Action|Crime|Thriller</td>\n",
              "      <td>0.577222</td>\n",
              "    </tr>\n",
              "    <tr>\n",
              "      <th>4</th>\n",
              "      <td>The Shawshank Redemption</td>\n",
              "      <td>Drama|Crime</td>\n",
              "      <td>0.568631</td>\n",
              "    </tr>\n",
              "    <tr>\n",
              "      <th>5</th>\n",
              "      <td>Big Hero 6</td>\n",
              "      <td>Adventure|Family|Animation|Action|Comedy</td>\n",
              "      <td>0.556406</td>\n",
              "    </tr>\n",
              "    <tr>\n",
              "      <th>6</th>\n",
              "      <td>Deadpool</td>\n",
              "      <td>Action|Adventure|Comedy</td>\n",
              "      <td>0.545813</td>\n",
              "    </tr>\n",
              "    <tr>\n",
              "      <th>7</th>\n",
              "      <td>Guardians of the Galaxy Vol. 2</td>\n",
              "      <td>Action|Adventure|Comedy|Science Fiction</td>\n",
              "      <td>0.544638</td>\n",
              "    </tr>\n",
              "    <tr>\n",
              "      <th>8</th>\n",
              "      <td>Beauty and the Beast</td>\n",
              "      <td>Family|Fantasy|Romance</td>\n",
              "      <td>0.536204</td>\n",
              "    </tr>\n",
              "    <tr>\n",
              "      <th>9</th>\n",
              "      <td>Gone Girl</td>\n",
              "      <td>Mystery|Thriller|Drama</td>\n",
              "      <td>0.535379</td>\n",
              "    </tr>\n",
              "    <tr>\n",
              "      <th>10</th>\n",
              "      <td>Forrest Gump</td>\n",
              "      <td>Comedy|Drama|Romance</td>\n",
              "      <td>0.525759</td>\n",
              "    </tr>\n",
              "    <tr>\n",
              "      <th>11</th>\n",
              "      <td>Fight Club</td>\n",
              "      <td>Drama</td>\n",
              "      <td>0.521074</td>\n",
              "    </tr>\n",
              "    <tr>\n",
              "      <th>12</th>\n",
              "      <td>Avatar</td>\n",
              "      <td>Action|Adventure|Fantasy|Science Fiction</td>\n",
              "      <td>0.519462</td>\n",
              "    </tr>\n",
              "    <tr>\n",
              "      <th>13</th>\n",
              "      <td>Guardians of the Galaxy</td>\n",
              "      <td>Action|Science Fiction|Adventure</td>\n",
              "      <td>0.514846</td>\n",
              "    </tr>\n",
              "    <tr>\n",
              "      <th>14</th>\n",
              "      <td>Interstellar</td>\n",
              "      <td>Adventure|Drama|Science Fiction</td>\n",
              "      <td>0.492756</td>\n",
              "    </tr>\n",
              "    <tr>\n",
              "      <th>15</th>\n",
              "      <td>Blade Runner</td>\n",
              "      <td>Science Fiction|Drama|Thriller</td>\n",
              "      <td>0.486397</td>\n",
              "    </tr>\n",
              "    <tr>\n",
              "      <th>16</th>\n",
              "      <td>Inception</td>\n",
              "      <td>Action|Thriller|Science Fiction|Mystery|Adventure</td>\n",
              "      <td>0.486345</td>\n",
              "    </tr>\n",
              "    <tr>\n",
              "      <th>17</th>\n",
              "      <td>The Avengers</td>\n",
              "      <td>Science Fiction|Action|Adventure</td>\n",
              "      <td>0.484835</td>\n",
              "    </tr>\n",
              "    <tr>\n",
              "      <th>18</th>\n",
              "      <td>The Lord of the Rings: The Fellowship of the Ring</td>\n",
              "      <td>Adventure|Fantasy|Action</td>\n",
              "      <td>0.478769</td>\n",
              "    </tr>\n",
              "    <tr>\n",
              "      <th>19</th>\n",
              "      <td>Baby Driver</td>\n",
              "      <td>Action|Crime</td>\n",
              "      <td>0.469311</td>\n",
              "    </tr>\n",
              "  </tbody>\n",
              "</table>\n",
              "</div>"
            ],
            "text/plain": [
              "                                                title  ...     score\n",
              "0                                             Minions  ...  0.631865\n",
              "1                                        Wonder Woman  ...  0.595920\n",
              "2                                        Pulp Fiction  ...  0.590885\n",
              "3                                     The Dark Knight  ...  0.577222\n",
              "4                            The Shawshank Redemption  ...  0.568631\n",
              "5                                          Big Hero 6  ...  0.556406\n",
              "6                                            Deadpool  ...  0.545813\n",
              "7                      Guardians of the Galaxy Vol. 2  ...  0.544638\n",
              "8                                Beauty and the Beast  ...  0.536204\n",
              "9                                           Gone Girl  ...  0.535379\n",
              "10                                       Forrest Gump  ...  0.525759\n",
              "11                                         Fight Club  ...  0.521074\n",
              "12                                             Avatar  ...  0.519462\n",
              "13                            Guardians of the Galaxy  ...  0.514846\n",
              "14                                       Interstellar  ...  0.492756\n",
              "15                                       Blade Runner  ...  0.486397\n",
              "16                                          Inception  ...  0.486345\n",
              "17                                       The Avengers  ...  0.484835\n",
              "18  The Lord of the Rings: The Fellowship of the Ring  ...  0.478769\n",
              "19                                        Baby Driver  ...  0.469311\n",
              "\n",
              "[20 rows x 3 columns]"
            ]
          },
          "metadata": {
            "tags": []
          },
          "execution_count": 29
        }
      ]
    },
    {
      "cell_type": "code",
      "metadata": {
        "id": "PZ00CzOOed2D",
        "outputId": "f4e72b19-8f9d-4bab-b95d-77198eb7ee46",
        "colab": {
          "base_uri": "https://localhost:8080/"
        }
      },
      "source": [
        "popular_movies.info()"
      ],
      "execution_count": 31,
      "outputs": [
        {
          "output_type": "stream",
          "text": [
            "<class 'pandas.core.frame.DataFrame'>\n",
            "RangeIndex: 46904 entries, 0 to 46903\n",
            "Data columns (total 16 columns):\n",
            " #   Column                Non-Null Count  Dtype  \n",
            "---  ------                --------------  -----  \n",
            " 0   movieId               46904 non-null  int64  \n",
            " 1   title                 46904 non-null  object \n",
            " 2   budget                46904 non-null  int64  \n",
            " 3   profit                46904 non-null  float64\n",
            " 4   score                 46904 non-null  float64\n",
            " 5   release_year          46904 non-null  object \n",
            " 6   release_day           46904 non-null  object \n",
            " 7   genres                44380 non-null  object \n",
            " 8   production_countries  40388 non-null  object \n",
            " 9   production_companies  34566 non-null  object \n",
            " 10  original_language     46774 non-null  object \n",
            " 11  runtime               46904 non-null  float64\n",
            " 12  content               45918 non-null  object \n",
            " 13  status                46904 non-null  object \n",
            " 14  cast                  44405 non-null  object \n",
            " 15  director              46904 non-null  object \n",
            "dtypes: float64(3), int64(2), object(11)\n",
            "memory usage: 5.7+ MB\n"
          ],
          "name": "stdout"
        }
      ]
    },
    {
      "cell_type": "code",
      "metadata": {
        "id": "ixyILcxJZWKQ"
      },
      "source": [
        "#popular_movies.to_csv('PopularMovies.csv')\r\n",
        "#file = drive.CreateFile({'parents':[{u'id': '1LxtvFIt9kDw8caxwrYh26MfK2ZcCiJaf'}]}) \r\n",
        "#file.SetContentFile(\"PopularMovies.csv\")\r\n",
        "#file.Upload()"
      ],
      "execution_count": 30,
      "outputs": []
    }
  ]
}