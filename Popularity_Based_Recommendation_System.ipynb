{
  "nbformat": 4,
  "nbformat_minor": 0,
  "metadata": {
    "colab": {
      "name": "Popularity-Based Recommendation System.ipynb",
      "provenance": [],
      "authorship_tag": "ABX9TyPXi9Jt94gS0+L/3Q2ztarL",
      "include_colab_link": true
    },
    "kernelspec": {
      "name": "python3",
      "display_name": "Python 3"
    },
    "accelerator": "GPU"
  },
  "cells": [
    {
      "cell_type": "markdown",
      "metadata": {
        "id": "view-in-github",
        "colab_type": "text"
      },
      "source": [
        "<a href=\"https://colab.research.google.com/github/disha2sinha/Movie-Recommendation-System/blob/master/Popularity_Based_Recommendation_System.ipynb\" target=\"_parent\"><img src=\"https://colab.research.google.com/assets/colab-badge.svg\" alt=\"Open In Colab\"/></a>"
      ]
    },
    {
      "cell_type": "markdown",
      "metadata": {
        "id": "vYXuZ57oEdGG"
      },
      "source": [
        "**IMPORTING LIBRARIES:**"
      ]
    },
    {
      "cell_type": "code",
      "metadata": {
        "id": "zsj7g3JfAitV"
      },
      "source": [
        "import pandas as pd\n",
        "import math\n",
        "import numpy as np\n",
        "import matplotlib.pyplot as plt\n",
        "import seaborn as sns\n",
        "from sklearn.preprocessing import MinMaxScaler"
      ],
      "execution_count": null,
      "outputs": []
    },
    {
      "cell_type": "code",
      "metadata": {
        "id": "9LEjNWemFE9G",
        "colab": {
          "base_uri": "https://localhost:8080/",
          "height": 564
        },
        "outputId": "df7431e8-b918-47eb-9f4e-ecc35fa11864"
      },
      "source": [
        "movies_data = pd.read_csv('https://raw.githubusercontent.com/disha2sinha/Movie-Recommendation-System/master/Revised%20Datasets/MoviesData.csv?token=AKDEMFJGJGYK3CWGGTMI3CLABWC5M',engine='python',index_col=0)\n",
        "movies_data.head()"
      ],
      "execution_count": null,
      "outputs": [
        {
          "output_type": "execute_result",
          "data": {
            "text/html": [
              "<div>\n",
              "<style scoped>\n",
              "    .dataframe tbody tr th:only-of-type {\n",
              "        vertical-align: middle;\n",
              "    }\n",
              "\n",
              "    .dataframe tbody tr th {\n",
              "        vertical-align: top;\n",
              "    }\n",
              "\n",
              "    .dataframe thead th {\n",
              "        text-align: right;\n",
              "    }\n",
              "</style>\n",
              "<table border=\"1\" class=\"dataframe\">\n",
              "  <thead>\n",
              "    <tr style=\"text-align: right;\">\n",
              "      <th></th>\n",
              "      <th>tmdbId</th>\n",
              "      <th>title</th>\n",
              "      <th>release_year</th>\n",
              "      <th>release_day</th>\n",
              "      <th>genres</th>\n",
              "      <th>original_language</th>\n",
              "      <th>runtime</th>\n",
              "      <th>content</th>\n",
              "      <th>production_companies</th>\n",
              "      <th>budget</th>\n",
              "      <th>revenue</th>\n",
              "      <th>production_countries</th>\n",
              "      <th>status</th>\n",
              "      <th>popularity</th>\n",
              "      <th>vote_average</th>\n",
              "      <th>vote_count</th>\n",
              "      <th>keywords</th>\n",
              "      <th>cast</th>\n",
              "      <th>director</th>\n",
              "      <th>rating_count</th>\n",
              "      <th>mean_rating</th>\n",
              "    </tr>\n",
              "    <tr>\n",
              "      <th>index</th>\n",
              "      <th></th>\n",
              "      <th></th>\n",
              "      <th></th>\n",
              "      <th></th>\n",
              "      <th></th>\n",
              "      <th></th>\n",
              "      <th></th>\n",
              "      <th></th>\n",
              "      <th></th>\n",
              "      <th></th>\n",
              "      <th></th>\n",
              "      <th></th>\n",
              "      <th></th>\n",
              "      <th></th>\n",
              "      <th></th>\n",
              "      <th></th>\n",
              "      <th></th>\n",
              "      <th></th>\n",
              "      <th></th>\n",
              "      <th></th>\n",
              "      <th></th>\n",
              "    </tr>\n",
              "  </thead>\n",
              "  <tbody>\n",
              "    <tr>\n",
              "      <th>0</th>\n",
              "      <td>119450</td>\n",
              "      <td>Dawn of the Planet of the Apes</td>\n",
              "      <td>2014</td>\n",
              "      <td>Thursday</td>\n",
              "      <td>Science Fiction|Action|Drama|Thriller</td>\n",
              "      <td>English</td>\n",
              "      <td>130.0</td>\n",
              "      <td>A group of scientists in San Francisco struggl...</td>\n",
              "      <td>Ingenious Media|Chernin Entertainment|TSG Ente...</td>\n",
              "      <td>170000000</td>\n",
              "      <td>7.106446e+08</td>\n",
              "      <td>United States of America</td>\n",
              "      <td>Released</td>\n",
              "      <td>75.385211</td>\n",
              "      <td>7.3</td>\n",
              "      <td>4511.0</td>\n",
              "      <td>['leader', 'colony', 'post-apocalyptic', 'dyst...</td>\n",
              "      <td>Andy Serkis|Jason Clarke|Gary Oldman|Keri Russ...</td>\n",
              "      <td>Matt Reeves</td>\n",
              "      <td>341.0</td>\n",
              "      <td>4.054252</td>\n",
              "    </tr>\n",
              "    <tr>\n",
              "      <th>1</th>\n",
              "      <td>2124</td>\n",
              "      <td>Color of Night</td>\n",
              "      <td>1994</td>\n",
              "      <td>Friday</td>\n",
              "      <td>Drama|Mystery|Romance|Thriller</td>\n",
              "      <td>English</td>\n",
              "      <td>121.0</td>\n",
              "      <td>When New York psychiatrist Bill Capa visits Lo...</td>\n",
              "      <td>Hollywood Pictures|Cinergi Pictures Entertainment</td>\n",
              "      <td>40000000</td>\n",
              "      <td>1.972605e+07</td>\n",
              "      <td>United States of America</td>\n",
              "      <td>Released</td>\n",
              "      <td>14.228963</td>\n",
              "      <td>5.4</td>\n",
              "      <td>117.0</td>\n",
              "      <td>['suicide', 'california', 'sex', 'secret ident...</td>\n",
              "      <td>Bruce Willis|Jane March|Rubén Blades|Lesley An...</td>\n",
              "      <td>Richard Rush</td>\n",
              "      <td>324.0</td>\n",
              "      <td>4.256173</td>\n",
              "    </tr>\n",
              "    <tr>\n",
              "      <th>2</th>\n",
              "      <td>75656</td>\n",
              "      <td>Now You See Me</td>\n",
              "      <td>2013</td>\n",
              "      <td>Wednesday</td>\n",
              "      <td>Thriller|Crime</td>\n",
              "      <td>English</td>\n",
              "      <td>115.0</td>\n",
              "      <td>An FBI agent and an Interpol detective track a...</td>\n",
              "      <td>Summit Entertainment|K/O Paper Products|SOIXAN...</td>\n",
              "      <td>75000000</td>\n",
              "      <td>1.176989e+08</td>\n",
              "      <td>United States of America|France</td>\n",
              "      <td>Released</td>\n",
              "      <td>17.852022</td>\n",
              "      <td>7.3</td>\n",
              "      <td>5635.0</td>\n",
              "      <td>['paris', 'bank', 'secret', 'fbi', 'vault', 'm...</td>\n",
              "      <td>Jesse Eisenberg|Mark Ruffalo|Woody Harrelson|M...</td>\n",
              "      <td>Louis Leterrier</td>\n",
              "      <td>311.0</td>\n",
              "      <td>4.487138</td>\n",
              "    </tr>\n",
              "    <tr>\n",
              "      <th>3</th>\n",
              "      <td>567</td>\n",
              "      <td>Rear Window</td>\n",
              "      <td>1954</td>\n",
              "      <td>Sunday</td>\n",
              "      <td>Drama|Mystery|Thriller</td>\n",
              "      <td>English</td>\n",
              "      <td>112.0</td>\n",
              "      <td>Professional photographer L.B. \"Jeff\" Jeffries...</td>\n",
              "      <td>Paramount Pictures</td>\n",
              "      <td>1000000</td>\n",
              "      <td>3.676431e+07</td>\n",
              "      <td>United States of America</td>\n",
              "      <td>Released</td>\n",
              "      <td>17.911314</td>\n",
              "      <td>8.2</td>\n",
              "      <td>1531.0</td>\n",
              "      <td>['nurse', 'photographer', 'suspicion of murder...</td>\n",
              "      <td>James Stewart|Grace Kelly|Wendell Corey|Thelma...</td>\n",
              "      <td>Alfred Hitchcock</td>\n",
              "      <td>304.0</td>\n",
              "      <td>4.138158</td>\n",
              "    </tr>\n",
              "    <tr>\n",
              "      <th>4</th>\n",
              "      <td>24428</td>\n",
              "      <td>The Avengers</td>\n",
              "      <td>2012</td>\n",
              "      <td>Wednesday</td>\n",
              "      <td>Science Fiction|Action|Adventure</td>\n",
              "      <td>English</td>\n",
              "      <td>143.0</td>\n",
              "      <td>When an unexpected enemy emerges and threatens...</td>\n",
              "      <td>Paramount Pictures|Marvel Studios</td>\n",
              "      <td>220000000</td>\n",
              "      <td>1.519558e+09</td>\n",
              "      <td>United States of America</td>\n",
              "      <td>Released</td>\n",
              "      <td>89.887648</td>\n",
              "      <td>7.4</td>\n",
              "      <td>12000.0</td>\n",
              "      <td>['new york', 'shield', 'marvel comic', 'superh...</td>\n",
              "      <td>Robert Downey Jr.|Chris Evans|Mark Ruffalo|Chr...</td>\n",
              "      <td>Joss Whedon</td>\n",
              "      <td>291.0</td>\n",
              "      <td>4.221649</td>\n",
              "    </tr>\n",
              "  </tbody>\n",
              "</table>\n",
              "</div>"
            ],
            "text/plain": [
              "       tmdbId                           title  ...  rating_count mean_rating\n",
              "index                                          ...                          \n",
              "0      119450  Dawn of the Planet of the Apes  ...         341.0    4.054252\n",
              "1        2124                  Color of Night  ...         324.0    4.256173\n",
              "2       75656                  Now You See Me  ...         311.0    4.487138\n",
              "3         567                     Rear Window  ...         304.0    4.138158\n",
              "4       24428                    The Avengers  ...         291.0    4.221649\n",
              "\n",
              "[5 rows x 21 columns]"
            ]
          },
          "metadata": {
            "tags": []
          },
          "execution_count": 2
        }
      ]
    },
    {
      "cell_type": "code",
      "metadata": {
        "id": "RGeAXaAJbBs3",
        "colab": {
          "base_uri": "https://localhost:8080/"
        },
        "outputId": "0c4103cb-9b15-4bf4-c601-90a4a86d0595"
      },
      "source": [
        "movies_data.info()"
      ],
      "execution_count": null,
      "outputs": [
        {
          "output_type": "stream",
          "text": [
            "<class 'pandas.core.frame.DataFrame'>\n",
            "Int64Index: 9081 entries, 0 to 9217\n",
            "Data columns (total 21 columns):\n",
            " #   Column                Non-Null Count  Dtype  \n",
            "---  ------                --------------  -----  \n",
            " 0   tmdbId                9081 non-null   int64  \n",
            " 1   title                 9081 non-null   object \n",
            " 2   release_year          9081 non-null   int64  \n",
            " 3   release_day           9081 non-null   object \n",
            " 4   genres                9046 non-null   object \n",
            " 5   original_language     9079 non-null   object \n",
            " 6   runtime               9081 non-null   float64\n",
            " 7   content               9069 non-null   object \n",
            " 8   production_companies  8417 non-null   object \n",
            " 9   budget                9081 non-null   int64  \n",
            " 10  revenue               9081 non-null   float64\n",
            " 11  production_countries  8787 non-null   object \n",
            " 12  status                9081 non-null   object \n",
            " 13  popularity            9081 non-null   float64\n",
            " 14  vote_average          9081 non-null   float64\n",
            " 15  vote_count            9081 non-null   float64\n",
            " 16  keywords              9081 non-null   object \n",
            " 17  cast                  8991 non-null   object \n",
            " 18  director              9081 non-null   object \n",
            " 19  rating_count          9081 non-null   float64\n",
            " 20  mean_rating           9081 non-null   float64\n",
            "dtypes: float64(7), int64(3), object(11)\n",
            "memory usage: 1.5+ MB\n"
          ],
          "name": "stdout"
        }
      ]
    },
    {
      "cell_type": "markdown",
      "metadata": {
        "id": "O7cyXup7Ar9i"
      },
      "source": [
        "# **POPULARITY BASED RECOMMENDATION SYSTEM :**"
      ]
    },
    {
      "cell_type": "code",
      "metadata": {
        "id": "UmVOCDMfTOXG",
        "colab": {
          "base_uri": "https://localhost:8080/",
          "height": 284
        },
        "outputId": "bb0e659d-c05b-480c-f0fe-390658ab6b9d"
      },
      "source": [
        "movies_data[['vote_count','vote_average','rating_count','mean_rating','popularity']].describe()"
      ],
      "execution_count": null,
      "outputs": [
        {
          "output_type": "execute_result",
          "data": {
            "text/html": [
              "<div>\n",
              "<style scoped>\n",
              "    .dataframe tbody tr th:only-of-type {\n",
              "        vertical-align: middle;\n",
              "    }\n",
              "\n",
              "    .dataframe tbody tr th {\n",
              "        vertical-align: top;\n",
              "    }\n",
              "\n",
              "    .dataframe thead th {\n",
              "        text-align: right;\n",
              "    }\n",
              "</style>\n",
              "<table border=\"1\" class=\"dataframe\">\n",
              "  <thead>\n",
              "    <tr style=\"text-align: right;\">\n",
              "      <th></th>\n",
              "      <th>vote_count</th>\n",
              "      <th>vote_average</th>\n",
              "      <th>rating_count</th>\n",
              "      <th>mean_rating</th>\n",
              "      <th>popularity</th>\n",
              "    </tr>\n",
              "  </thead>\n",
              "  <tbody>\n",
              "    <tr>\n",
              "      <th>count</th>\n",
              "      <td>9081.000000</td>\n",
              "      <td>9081.000000</td>\n",
              "      <td>9081.000000</td>\n",
              "      <td>9081.000000</td>\n",
              "      <td>9081.000000</td>\n",
              "    </tr>\n",
              "    <tr>\n",
              "      <th>mean</th>\n",
              "      <td>438.957384</td>\n",
              "      <td>6.362163</td>\n",
              "      <td>6.280476</td>\n",
              "      <td>0.788264</td>\n",
              "      <td>7.268057</td>\n",
              "    </tr>\n",
              "    <tr>\n",
              "      <th>std</th>\n",
              "      <td>996.171502</td>\n",
              "      <td>1.038804</td>\n",
              "      <td>22.874443</td>\n",
              "      <td>1.484708</td>\n",
              "      <td>9.372508</td>\n",
              "    </tr>\n",
              "    <tr>\n",
              "      <th>min</th>\n",
              "      <td>0.000000</td>\n",
              "      <td>0.000000</td>\n",
              "      <td>0.000000</td>\n",
              "      <td>0.000000</td>\n",
              "      <td>0.000004</td>\n",
              "    </tr>\n",
              "    <tr>\n",
              "      <th>25%</th>\n",
              "      <td>29.000000</td>\n",
              "      <td>5.800000</td>\n",
              "      <td>0.000000</td>\n",
              "      <td>0.000000</td>\n",
              "      <td>2.954184</td>\n",
              "    </tr>\n",
              "    <tr>\n",
              "      <th>50%</th>\n",
              "      <td>96.000000</td>\n",
              "      <td>6.500000</td>\n",
              "      <td>0.000000</td>\n",
              "      <td>0.000000</td>\n",
              "      <td>6.417420</td>\n",
              "    </tr>\n",
              "    <tr>\n",
              "      <th>75%</th>\n",
              "      <td>365.000000</td>\n",
              "      <td>7.000000</td>\n",
              "      <td>0.000000</td>\n",
              "      <td>0.000000</td>\n",
              "      <td>9.861672</td>\n",
              "    </tr>\n",
              "    <tr>\n",
              "      <th>max</th>\n",
              "      <td>14075.000000</td>\n",
              "      <td>10.000000</td>\n",
              "      <td>341.000000</td>\n",
              "      <td>5.000000</td>\n",
              "      <td>547.488298</td>\n",
              "    </tr>\n",
              "  </tbody>\n",
              "</table>\n",
              "</div>"
            ],
            "text/plain": [
              "         vote_count  vote_average  rating_count  mean_rating   popularity\n",
              "count   9081.000000   9081.000000   9081.000000  9081.000000  9081.000000\n",
              "mean     438.957384      6.362163      6.280476     0.788264     7.268057\n",
              "std      996.171502      1.038804     22.874443     1.484708     9.372508\n",
              "min        0.000000      0.000000      0.000000     0.000000     0.000004\n",
              "25%       29.000000      5.800000      0.000000     0.000000     2.954184\n",
              "50%       96.000000      6.500000      0.000000     0.000000     6.417420\n",
              "75%      365.000000      7.000000      0.000000     0.000000     9.861672\n",
              "max    14075.000000     10.000000    341.000000     5.000000   547.488298"
            ]
          },
          "metadata": {
            "tags": []
          },
          "execution_count": 4
        }
      ]
    },
    {
      "cell_type": "markdown",
      "metadata": {
        "id": "6Bg4rk09RaRs"
      },
      "source": [
        "**WEIGHTED AVERAGE FOR EACH MOVIES AVERAGE RATINGS :**"
      ]
    },
    {
      "cell_type": "markdown",
      "metadata": {
        "id": "vyASuE9fGSea"
      },
      "source": [
        "Weighted votes: \n",
        ">              W =   Rv + Cm\n",
        ">                   ---------\n",
        "                     v+m\n",
        "\n",
        "R= average rating for the movie as a number from 0 to 10\n",
        "\n",
        "v= number of votes for the movie\n",
        "\n",
        "m= minimum votes required to be listed in Top(here 2000)\n",
        "\n",
        "C=the mean vote across whole report\n"
      ]
    },
    {
      "cell_type": "code",
      "metadata": {
        "id": "QttoY9X0GNmJ"
      },
      "source": [
        "R=movies_data['vote_average']\n",
        "v=movies_data['vote_count']\n",
        "C=movies_data['vote_average'].mean()\n",
        "m=2000"
      ],
      "execution_count": null,
      "outputs": []
    },
    {
      "cell_type": "code",
      "metadata": {
        "id": "fWlX75ybVldx",
        "colab": {
          "base_uri": "https://localhost:8080/",
          "height": 669
        },
        "outputId": "8e76db88-a536-484b-98a3-509c2aee38cf"
      },
      "source": [
        "movies_data['weighted_votes']=(R*v+C*m)/(v+m)\n",
        "movies_data[['title','weighted_votes']].sort_values('weighted_votes',ascending=False).head(20)"
      ],
      "execution_count": null,
      "outputs": [
        {
          "output_type": "execute_result",
          "data": {
            "text/html": [
              "<div>\n",
              "<style scoped>\n",
              "    .dataframe tbody tr th:only-of-type {\n",
              "        vertical-align: middle;\n",
              "    }\n",
              "\n",
              "    .dataframe tbody tr th {\n",
              "        vertical-align: top;\n",
              "    }\n",
              "\n",
              "    .dataframe thead th {\n",
              "        text-align: right;\n",
              "    }\n",
              "</style>\n",
              "<table border=\"1\" class=\"dataframe\">\n",
              "  <thead>\n",
              "    <tr style=\"text-align: right;\">\n",
              "      <th></th>\n",
              "      <th>title</th>\n",
              "      <th>weighted_votes</th>\n",
              "    </tr>\n",
              "    <tr>\n",
              "      <th>index</th>\n",
              "      <th></th>\n",
              "      <th></th>\n",
              "    </tr>\n",
              "  </thead>\n",
              "  <tbody>\n",
              "    <tr>\n",
              "      <th>6678</th>\n",
              "      <td>The Shawshank Redemption</td>\n",
              "      <td>8.087210</td>\n",
              "    </tr>\n",
              "    <tr>\n",
              "      <th>6680</th>\n",
              "      <td>The Dark Knight</td>\n",
              "      <td>8.028385</td>\n",
              "    </tr>\n",
              "    <tr>\n",
              "      <th>168</th>\n",
              "      <td>Fight Club</td>\n",
              "      <td>7.968122</td>\n",
              "    </tr>\n",
              "    <tr>\n",
              "      <th>6676</th>\n",
              "      <td>The Godfather</td>\n",
              "      <td>7.967139</td>\n",
              "    </tr>\n",
              "    <tr>\n",
              "      <th>6681</th>\n",
              "      <td>Pulp Fiction</td>\n",
              "      <td>7.936769</td>\n",
              "    </tr>\n",
              "    <tr>\n",
              "      <th>423</th>\n",
              "      <td>Inception</td>\n",
              "      <td>7.883784</td>\n",
              "    </tr>\n",
              "    <tr>\n",
              "      <th>93</th>\n",
              "      <td>Forrest Gump</td>\n",
              "      <td>7.837758</td>\n",
              "    </tr>\n",
              "    <tr>\n",
              "      <th>6660</th>\n",
              "      <td>Interstellar</td>\n",
              "      <td>7.836432</td>\n",
              "    </tr>\n",
              "    <tr>\n",
              "      <th>1621</th>\n",
              "      <td>The Lord of the Rings: The Return of the King</td>\n",
              "      <td>7.760114</td>\n",
              "    </tr>\n",
              "    <tr>\n",
              "      <th>177</th>\n",
              "      <td>The Empire Strikes Back</td>\n",
              "      <td>7.740426</td>\n",
              "    </tr>\n",
              "    <tr>\n",
              "      <th>60</th>\n",
              "      <td>Star Wars</td>\n",
              "      <td>7.704047</td>\n",
              "    </tr>\n",
              "    <tr>\n",
              "      <th>826</th>\n",
              "      <td>The Intouchables</td>\n",
              "      <td>7.703958</td>\n",
              "    </tr>\n",
              "    <tr>\n",
              "      <th>6685</th>\n",
              "      <td>The Lord of the Rings: The Fellowship of the Ring</td>\n",
              "      <td>7.699259</td>\n",
              "    </tr>\n",
              "    <tr>\n",
              "      <th>105</th>\n",
              "      <td>Schindler's List</td>\n",
              "      <td>7.697813</td>\n",
              "    </tr>\n",
              "    <tr>\n",
              "      <th>15</th>\n",
              "      <td>Whiplash</td>\n",
              "      <td>7.692146</td>\n",
              "    </tr>\n",
              "    <tr>\n",
              "      <th>318</th>\n",
              "      <td>Se7en</td>\n",
              "      <td>7.660875</td>\n",
              "    </tr>\n",
              "    <tr>\n",
              "      <th>922</th>\n",
              "      <td>The Lord of the Rings: The Two Towers</td>\n",
              "      <td>7.660235</td>\n",
              "    </tr>\n",
              "    <tr>\n",
              "      <th>103</th>\n",
              "      <td>Spirited Away</td>\n",
              "      <td>7.650591</td>\n",
              "    </tr>\n",
              "    <tr>\n",
              "      <th>701</th>\n",
              "      <td>Guardians of the Galaxy</td>\n",
              "      <td>7.643992</td>\n",
              "    </tr>\n",
              "    <tr>\n",
              "      <th>6663</th>\n",
              "      <td>The Matrix</td>\n",
              "      <td>7.622387</td>\n",
              "    </tr>\n",
              "  </tbody>\n",
              "</table>\n",
              "</div>"
            ],
            "text/plain": [
              "                                                   title  weighted_votes\n",
              "index                                                                   \n",
              "6678                            The Shawshank Redemption        8.087210\n",
              "6680                                     The Dark Knight        8.028385\n",
              "168                                           Fight Club        7.968122\n",
              "6676                                       The Godfather        7.967139\n",
              "6681                                        Pulp Fiction        7.936769\n",
              "423                                            Inception        7.883784\n",
              "93                                          Forrest Gump        7.837758\n",
              "6660                                        Interstellar        7.836432\n",
              "1621       The Lord of the Rings: The Return of the King        7.760114\n",
              "177                              The Empire Strikes Back        7.740426\n",
              "60                                             Star Wars        7.704047\n",
              "826                                     The Intouchables        7.703958\n",
              "6685   The Lord of the Rings: The Fellowship of the Ring        7.699259\n",
              "105                                     Schindler's List        7.697813\n",
              "15                                              Whiplash        7.692146\n",
              "318                                                Se7en        7.660875\n",
              "922                The Lord of the Rings: The Two Towers        7.660235\n",
              "103                                        Spirited Away        7.650591\n",
              "701                              Guardians of the Galaxy        7.643992\n",
              "6663                                          The Matrix        7.622387"
            ]
          },
          "metadata": {
            "tags": []
          },
          "execution_count": 6
        }
      ]
    },
    {
      "cell_type": "markdown",
      "metadata": {
        "id": "v8loYe3APBju"
      },
      "source": [
        "Weighted Ratings: \n",
        ">              W =   R1v1 + C1m1\n",
        ">                     ---------\n",
        "                      v1+m1\n",
        "\n",
        "R1= average rating given to the movie as a number from 0 to 5 (obtained from the ratings_small.csv)\n",
        "\n",
        "v1= number of users who rated for the movie as available in the ratings_small.csv\n",
        "\n",
        "m1= minimum ratings required to be listed in Top(here 38)\n",
        "\n",
        "C1=the mean ratings across whole report\n"
      ]
    },
    {
      "cell_type": "code",
      "metadata": {
        "id": "7k6aDmB6_gx5",
        "colab": {
          "base_uri": "https://localhost:8080/"
        },
        "outputId": "4c3bb5a9-e5b8-4384-d5da-8bfabdc9d15b"
      },
      "source": [
        "R1=movies_data['mean_rating']\n",
        "v1=movies_data['rating_count']\n",
        "C1=movies_data['mean_rating'].mean()\n",
        "m1=movies_data['rating_count'].quantile(0.95)\n",
        "m1"
      ],
      "execution_count": null,
      "outputs": [
        {
          "output_type": "execute_result",
          "data": {
            "text/plain": [
              "38.0"
            ]
          },
          "metadata": {
            "tags": []
          },
          "execution_count": 7
        }
      ]
    },
    {
      "cell_type": "code",
      "metadata": {
        "id": "_UVJlVGD_wF4",
        "colab": {
          "base_uri": "https://localhost:8080/",
          "height": 669
        },
        "outputId": "4479d096-c318-45e4-b758-3b09430f2f91"
      },
      "source": [
        "movies_data['weighted_ratings']=(R1*v1+C1*m1)/(v1+m1)\n",
        "movies_data[['title','weighted_ratings']].sort_values('weighted_ratings',ascending=False).head(20)"
      ],
      "execution_count": null,
      "outputs": [
        {
          "output_type": "execute_result",
          "data": {
            "text/html": [
              "<div>\n",
              "<style scoped>\n",
              "    .dataframe tbody tr th:only-of-type {\n",
              "        vertical-align: middle;\n",
              "    }\n",
              "\n",
              "    .dataframe tbody tr th {\n",
              "        vertical-align: top;\n",
              "    }\n",
              "\n",
              "    .dataframe thead th {\n",
              "        text-align: right;\n",
              "    }\n",
              "</style>\n",
              "<table border=\"1\" class=\"dataframe\">\n",
              "  <thead>\n",
              "    <tr style=\"text-align: right;\">\n",
              "      <th></th>\n",
              "      <th>title</th>\n",
              "      <th>weighted_ratings</th>\n",
              "    </tr>\n",
              "    <tr>\n",
              "      <th>index</th>\n",
              "      <th></th>\n",
              "      <th></th>\n",
              "    </tr>\n",
              "  </thead>\n",
              "  <tbody>\n",
              "    <tr>\n",
              "      <th>2</th>\n",
              "      <td>Now You See Me</td>\n",
              "      <td>4.084396</td>\n",
              "    </tr>\n",
              "    <tr>\n",
              "      <th>26</th>\n",
              "      <td>9</td>\n",
              "      <td>3.896866</td>\n",
              "    </tr>\n",
              "    <tr>\n",
              "      <th>1</th>\n",
              "      <td>Color of Night</td>\n",
              "      <td>3.892138</td>\n",
              "    </tr>\n",
              "    <tr>\n",
              "      <th>8</th>\n",
              "      <td>Pitch Perfect 2</td>\n",
              "      <td>3.829624</td>\n",
              "    </tr>\n",
              "    <tr>\n",
              "      <th>4</th>\n",
              "      <td>The Avengers</td>\n",
              "      <td>3.825088</td>\n",
              "    </tr>\n",
              "    <tr>\n",
              "      <th>22</th>\n",
              "      <td>Cinderella</td>\n",
              "      <td>3.801063</td>\n",
              "    </tr>\n",
              "    <tr>\n",
              "      <th>3</th>\n",
              "      <td>Rear Window</td>\n",
              "      <td>3.765947</td>\n",
              "    </tr>\n",
              "    <tr>\n",
              "      <th>13</th>\n",
              "      <td>The Judge</td>\n",
              "      <td>3.753641</td>\n",
              "    </tr>\n",
              "    <tr>\n",
              "      <th>10</th>\n",
              "      <td>Sense and Sensibility</td>\n",
              "      <td>3.751669</td>\n",
              "    </tr>\n",
              "    <tr>\n",
              "      <th>6</th>\n",
              "      <td>Last Knights</td>\n",
              "      <td>3.749003</td>\n",
              "    </tr>\n",
              "    <tr>\n",
              "      <th>15</th>\n",
              "      <td>Whiplash</td>\n",
              "      <td>3.728504</td>\n",
              "    </tr>\n",
              "    <tr>\n",
              "      <th>0</th>\n",
              "      <td>Dawn of the Planet of the Apes</td>\n",
              "      <td>3.726792</td>\n",
              "    </tr>\n",
              "    <tr>\n",
              "      <th>14</th>\n",
              "      <td>The Amazing Spider-Man 2</td>\n",
              "      <td>3.691682</td>\n",
              "    </tr>\n",
              "    <tr>\n",
              "      <th>21</th>\n",
              "      <td>The Right Stuff</td>\n",
              "      <td>3.641475</td>\n",
              "    </tr>\n",
              "    <tr>\n",
              "      <th>24</th>\n",
              "      <td>The Jungle Book</td>\n",
              "      <td>3.640563</td>\n",
              "    </tr>\n",
              "    <tr>\n",
              "      <th>62</th>\n",
              "      <td>Predator</td>\n",
              "      <td>3.595110</td>\n",
              "    </tr>\n",
              "    <tr>\n",
              "      <th>17</th>\n",
              "      <td>Sing Street</td>\n",
              "      <td>3.572369</td>\n",
              "    </tr>\n",
              "    <tr>\n",
              "      <th>41</th>\n",
              "      <td>Proof of Life</td>\n",
              "      <td>3.561960</td>\n",
              "    </tr>\n",
              "    <tr>\n",
              "      <th>9</th>\n",
              "      <td>Planet of the Apes</td>\n",
              "      <td>3.561651</td>\n",
              "    </tr>\n",
              "    <tr>\n",
              "      <th>12</th>\n",
              "      <td>Inside Out</td>\n",
              "      <td>3.550962</td>\n",
              "    </tr>\n",
              "  </tbody>\n",
              "</table>\n",
              "</div>"
            ],
            "text/plain": [
              "                                title  weighted_ratings\n",
              "index                                                  \n",
              "2                      Now You See Me          4.084396\n",
              "26                                  9          3.896866\n",
              "1                      Color of Night          3.892138\n",
              "8                     Pitch Perfect 2          3.829624\n",
              "4                        The Avengers          3.825088\n",
              "22                         Cinderella          3.801063\n",
              "3                         Rear Window          3.765947\n",
              "13                          The Judge          3.753641\n",
              "10              Sense and Sensibility          3.751669\n",
              "6                        Last Knights          3.749003\n",
              "15                           Whiplash          3.728504\n",
              "0      Dawn of the Planet of the Apes          3.726792\n",
              "14           The Amazing Spider-Man 2          3.691682\n",
              "21                    The Right Stuff          3.641475\n",
              "24                    The Jungle Book          3.640563\n",
              "62                           Predator          3.595110\n",
              "17                        Sing Street          3.572369\n",
              "41                      Proof of Life          3.561960\n",
              "9                  Planet of the Apes          3.561651\n",
              "12                         Inside Out          3.550962"
            ]
          },
          "metadata": {
            "tags": []
          },
          "execution_count": 8
        }
      ]
    },
    {
      "cell_type": "markdown",
      "metadata": {
        "id": "vK-7k_U-DzA-"
      },
      "source": [
        "**ASSIGNING SCORES TO THE MOVIES BY GIVING 45% IMPORTANCE TO WEIGHTED AVERAGE OF VOTES + 45% IMPORTANCE TO POPULARITY + 10% TO WEIGHTED AVERAGE OF RATINGS**"
      ]
    },
    {
      "cell_type": "code",
      "metadata": {
        "id": "IH1d9-OoHjax",
        "colab": {
          "base_uri": "https://localhost:8080/",
          "height": 373
        },
        "outputId": "3437a0d9-1ce1-4daa-bcff-05cddedb7f0c"
      },
      "source": [
        "scaler=MinMaxScaler()\n",
        "movies_data[['weighted_votes','weighted_ratings','popularity']]=scaler.fit_transform(movies_data[['weighted_votes','weighted_ratings','popularity']])\n",
        "movies_data['score']=movies_data['weighted_votes']*0.45 + movies_data['weighted_ratings']*0.1+movies_data['popularity']*0.45\n",
        "movies_data[['title','weighted_votes','weighted_ratings','popularity','score']].sort_values('score',ascending=False).head(10)"
      ],
      "execution_count": null,
      "outputs": [
        {
          "output_type": "execute_result",
          "data": {
            "text/html": [
              "<div>\n",
              "<style scoped>\n",
              "    .dataframe tbody tr th:only-of-type {\n",
              "        vertical-align: middle;\n",
              "    }\n",
              "\n",
              "    .dataframe tbody tr th {\n",
              "        vertical-align: top;\n",
              "    }\n",
              "\n",
              "    .dataframe thead th {\n",
              "        text-align: right;\n",
              "    }\n",
              "</style>\n",
              "<table border=\"1\" class=\"dataframe\">\n",
              "  <thead>\n",
              "    <tr style=\"text-align: right;\">\n",
              "      <th></th>\n",
              "      <th>title</th>\n",
              "      <th>weighted_votes</th>\n",
              "      <th>weighted_ratings</th>\n",
              "      <th>popularity</th>\n",
              "      <th>score</th>\n",
              "    </tr>\n",
              "    <tr>\n",
              "      <th>index</th>\n",
              "      <th></th>\n",
              "      <th></th>\n",
              "      <th></th>\n",
              "      <th></th>\n",
              "      <th></th>\n",
              "    </tr>\n",
              "  </thead>\n",
              "  <tbody>\n",
              "    <tr>\n",
              "      <th>2694</th>\n",
              "      <td>Minions</td>\n",
              "      <td>0.388873</td>\n",
              "      <td>0.002237</td>\n",
              "      <td>1.000000</td>\n",
              "      <td>0.625217</td>\n",
              "    </tr>\n",
              "    <tr>\n",
              "      <th>168</th>\n",
              "      <td>Fight Club</td>\n",
              "      <td>0.957150</td>\n",
              "      <td>0.715931</td>\n",
              "      <td>0.116659</td>\n",
              "      <td>0.554807</td>\n",
              "    </tr>\n",
              "    <tr>\n",
              "      <th>6680</th>\n",
              "      <td>The Dark Knight</td>\n",
              "      <td>0.978834</td>\n",
              "      <td>0.002237</td>\n",
              "      <td>0.224968</td>\n",
              "      <td>0.541935</td>\n",
              "    </tr>\n",
              "    <tr>\n",
              "      <th>6681</th>\n",
              "      <td>Pulp Fiction</td>\n",
              "      <td>0.945869</td>\n",
              "      <td>0.002237</td>\n",
              "      <td>0.257449</td>\n",
              "      <td>0.541717</td>\n",
              "    </tr>\n",
              "    <tr>\n",
              "      <th>15</th>\n",
              "      <td>Whiplash</td>\n",
              "      <td>0.857851</td>\n",
              "      <td>0.892269</td>\n",
              "      <td>0.117445</td>\n",
              "      <td>0.528110</td>\n",
              "    </tr>\n",
              "    <tr>\n",
              "      <th>7388</th>\n",
              "      <td>Big Hero 6</td>\n",
              "      <td>0.771829</td>\n",
              "      <td>0.002237</td>\n",
              "      <td>0.390602</td>\n",
              "      <td>0.523318</td>\n",
              "    </tr>\n",
              "    <tr>\n",
              "      <th>661</th>\n",
              "      <td>Gone Girl</td>\n",
              "      <td>0.794702</td>\n",
              "      <td>0.309699</td>\n",
              "      <td>0.282748</td>\n",
              "      <td>0.515822</td>\n",
              "    </tr>\n",
              "    <tr>\n",
              "      <th>93</th>\n",
              "      <td>Forrest Gump</td>\n",
              "      <td>0.910244</td>\n",
              "      <td>0.663895</td>\n",
              "      <td>0.088234</td>\n",
              "      <td>0.515705</td>\n",
              "    </tr>\n",
              "    <tr>\n",
              "      <th>60</th>\n",
              "      <td>Star Wars</td>\n",
              "      <td>0.862133</td>\n",
              "      <td>0.733393</td>\n",
              "      <td>0.076987</td>\n",
              "      <td>0.495943</td>\n",
              "    </tr>\n",
              "    <tr>\n",
              "      <th>6678</th>\n",
              "      <td>The Shawshank Redemption</td>\n",
              "      <td>1.000000</td>\n",
              "      <td>0.002237</td>\n",
              "      <td>0.094332</td>\n",
              "      <td>0.492673</td>\n",
              "    </tr>\n",
              "  </tbody>\n",
              "</table>\n",
              "</div>"
            ],
            "text/plain": [
              "                          title  weighted_votes  ...  popularity     score\n",
              "index                                            ...                      \n",
              "2694                    Minions        0.388873  ...    1.000000  0.625217\n",
              "168                  Fight Club        0.957150  ...    0.116659  0.554807\n",
              "6680            The Dark Knight        0.978834  ...    0.224968  0.541935\n",
              "6681               Pulp Fiction        0.945869  ...    0.257449  0.541717\n",
              "15                     Whiplash        0.857851  ...    0.117445  0.528110\n",
              "7388                 Big Hero 6        0.771829  ...    0.390602  0.523318\n",
              "661                   Gone Girl        0.794702  ...    0.282748  0.515822\n",
              "93                 Forrest Gump        0.910244  ...    0.088234  0.515705\n",
              "60                    Star Wars        0.862133  ...    0.076987  0.495943\n",
              "6678   The Shawshank Redemption        1.000000  ...    0.094332  0.492673\n",
              "\n",
              "[10 rows x 5 columns]"
            ]
          },
          "metadata": {
            "tags": []
          },
          "execution_count": 9
        }
      ]
    },
    {
      "cell_type": "markdown",
      "metadata": {
        "id": "A8WhluFOUWK3"
      },
      "source": [
        "**ONLY MOVIES HAVING SCORE ABOVE A THRESHOLD VALUE CONSIDERED POPULAR :**"
      ]
    },
    {
      "cell_type": "code",
      "metadata": {
        "id": "iTtTDUXsQSC8",
        "colab": {
          "base_uri": "https://localhost:8080/"
        },
        "outputId": "738326db-3e7a-427f-c1ef-9298c156d012"
      },
      "source": [
        "movies_data.score.describe()"
      ],
      "execution_count": null,
      "outputs": [
        {
          "output_type": "execute_result",
          "data": {
            "text/plain": [
              "count    9081.000000\n",
              "mean        0.187960\n",
              "std         0.039238\n",
              "min         0.014399\n",
              "25%         0.171799\n",
              "50%         0.176159\n",
              "75%         0.189428\n",
              "max         0.625217\n",
              "Name: score, dtype: float64"
            ]
          },
          "metadata": {
            "tags": []
          },
          "execution_count": 10
        }
      ]
    },
    {
      "cell_type": "code",
      "metadata": {
        "id": "jmSDwLUVELrN",
        "colab": {
          "base_uri": "https://localhost:8080/",
          "height": 459
        },
        "outputId": "8a10bf21-b638-4f27-c870-4c98e4239ecd"
      },
      "source": [
        "movies_data['profit']=movies_data['revenue']-movies_data['budget']\n",
        "popular_movies=movies_data[['tmdbId','title','budget','profit','score','release_year','release_day','keywords','genres','production_countries','production_companies','original_language','runtime','content','status','cast','director']].sort_values('score',ascending=False).reset_index(drop=True)\n",
        "plt.figure(figsize=(30,10))\n",
        "axis=sns.barplot(x=popular_movies['score'].head(20),y=popular_movies['title'].head(20))\n",
        "plt.title('Top 20 Most popular movies: ',weight='bold')\n",
        "plt.xlabel('score',weight='bold')\n",
        "plt.ylabel('Movies',weight='bold')\n",
        "plt.savefig('PopularMovies.jpg')"
      ],
      "execution_count": null,
      "outputs": [
        {
          "output_type": "display_data",
          "data": {
            "image/png": "[encoded data removed]",
            "text/plain": [
              "<Figure size 2160x720 with 1 Axes>"
            ]
          },
          "metadata": {
            "tags": [],
            "needs_background": "light"
          }
        }
      ]
    },
    {
      "cell_type": "code",
      "metadata": {
        "id": "Fu7TG_LgVq1y",
        "colab": {
          "base_uri": "https://localhost:8080/"
        },
        "outputId": "6b71e127-20ea-4e2e-c554-6dcabf93520d"
      },
      "source": [
        "popular_movies.shape"
      ],
      "execution_count": null,
      "outputs": [
        {
          "output_type": "execute_result",
          "data": {
            "text/plain": [
              "(9081, 17)"
            ]
          },
          "metadata": {
            "tags": []
          },
          "execution_count": 12
        }
      ]
    },
    {
      "cell_type": "code",
      "metadata": {
        "id": "O9fkQtS7MFw_",
        "colab": {
          "base_uri": "https://localhost:8080/",
          "height": 639
        },
        "outputId": "c0cf749e-ff1c-4c73-8044-46b85258ac0c"
      },
      "source": [
        "popular_movies[['title','genres','score']].head(20)"
      ],
      "execution_count": null,
      "outputs": [
        {
          "output_type": "execute_result",
          "data": {
            "text/html": [
              "<div>\n",
              "<style scoped>\n",
              "    .dataframe tbody tr th:only-of-type {\n",
              "        vertical-align: middle;\n",
              "    }\n",
              "\n",
              "    .dataframe tbody tr th {\n",
              "        vertical-align: top;\n",
              "    }\n",
              "\n",
              "    .dataframe thead th {\n",
              "        text-align: right;\n",
              "    }\n",
              "</style>\n",
              "<table border=\"1\" class=\"dataframe\">\n",
              "  <thead>\n",
              "    <tr style=\"text-align: right;\">\n",
              "      <th></th>\n",
              "      <th>title</th>\n",
              "      <th>genres</th>\n",
              "      <th>score</th>\n",
              "    </tr>\n",
              "  </thead>\n",
              "  <tbody>\n",
              "    <tr>\n",
              "      <th>0</th>\n",
              "      <td>Minions</td>\n",
              "      <td>Family|Animation|Adventure|Comedy</td>\n",
              "      <td>0.625217</td>\n",
              "    </tr>\n",
              "    <tr>\n",
              "      <th>1</th>\n",
              "      <td>Fight Club</td>\n",
              "      <td>Drama</td>\n",
              "      <td>0.554807</td>\n",
              "    </tr>\n",
              "    <tr>\n",
              "      <th>2</th>\n",
              "      <td>The Dark Knight</td>\n",
              "      <td>Drama|Action|Crime|Thriller</td>\n",
              "      <td>0.541935</td>\n",
              "    </tr>\n",
              "    <tr>\n",
              "      <th>3</th>\n",
              "      <td>Pulp Fiction</td>\n",
              "      <td>Thriller|Crime</td>\n",
              "      <td>0.541717</td>\n",
              "    </tr>\n",
              "    <tr>\n",
              "      <th>4</th>\n",
              "      <td>Whiplash</td>\n",
              "      <td>Drama</td>\n",
              "      <td>0.528110</td>\n",
              "    </tr>\n",
              "    <tr>\n",
              "      <th>5</th>\n",
              "      <td>Big Hero 6</td>\n",
              "      <td>Adventure|Family|Animation|Action|Comedy</td>\n",
              "      <td>0.523318</td>\n",
              "    </tr>\n",
              "    <tr>\n",
              "      <th>6</th>\n",
              "      <td>Gone Girl</td>\n",
              "      <td>Mystery|Thriller|Drama</td>\n",
              "      <td>0.515822</td>\n",
              "    </tr>\n",
              "    <tr>\n",
              "      <th>7</th>\n",
              "      <td>Forrest Gump</td>\n",
              "      <td>Comedy|Drama|Romance</td>\n",
              "      <td>0.515705</td>\n",
              "    </tr>\n",
              "    <tr>\n",
              "      <th>8</th>\n",
              "      <td>Star Wars</td>\n",
              "      <td>Adventure|Action|Science Fiction</td>\n",
              "      <td>0.495943</td>\n",
              "    </tr>\n",
              "    <tr>\n",
              "      <th>9</th>\n",
              "      <td>The Shawshank Redemption</td>\n",
              "      <td>Drama|Crime</td>\n",
              "      <td>0.492673</td>\n",
              "    </tr>\n",
              "    <tr>\n",
              "      <th>10</th>\n",
              "      <td>Inception</td>\n",
              "      <td>Action|Thriller|Science Fiction|Mystery|Adventure</td>\n",
              "      <td>0.490360</td>\n",
              "    </tr>\n",
              "    <tr>\n",
              "      <th>11</th>\n",
              "      <td>Schindler's List</td>\n",
              "      <td>Drama|History|War</td>\n",
              "      <td>0.489833</td>\n",
              "    </tr>\n",
              "    <tr>\n",
              "      <th>12</th>\n",
              "      <td>Spirited Away</td>\n",
              "      <td>Fantasy|Adventure|Animation|Family</td>\n",
              "      <td>0.488988</td>\n",
              "    </tr>\n",
              "    <tr>\n",
              "      <th>13</th>\n",
              "      <td>The Avengers</td>\n",
              "      <td>Science Fiction|Action|Adventure</td>\n",
              "      <td>0.480756</td>\n",
              "    </tr>\n",
              "    <tr>\n",
              "      <th>14</th>\n",
              "      <td>The Empire Strikes Back</td>\n",
              "      <td>Adventure|Action|Science Fiction</td>\n",
              "      <td>0.473990</td>\n",
              "    </tr>\n",
              "    <tr>\n",
              "      <th>15</th>\n",
              "      <td>Deadpool</td>\n",
              "      <td>Action|Adventure|Comedy</td>\n",
              "      <td>0.471245</td>\n",
              "    </tr>\n",
              "    <tr>\n",
              "      <th>16</th>\n",
              "      <td>Inside Out</td>\n",
              "      <td>Drama|Comedy|Animation|Family</td>\n",
              "      <td>0.466256</td>\n",
              "    </tr>\n",
              "    <tr>\n",
              "      <th>17</th>\n",
              "      <td>The Godfather</td>\n",
              "      <td>Drama|Crime</td>\n",
              "      <td>0.464571</td>\n",
              "    </tr>\n",
              "    <tr>\n",
              "      <th>18</th>\n",
              "      <td>Harry Potter and the Deathly Hallows: Part 2</td>\n",
              "      <td>Family|Fantasy|Adventure</td>\n",
              "      <td>0.457100</td>\n",
              "    </tr>\n",
              "    <tr>\n",
              "      <th>19</th>\n",
              "      <td>Guardians of the Galaxy</td>\n",
              "      <td>Action|Science Fiction|Adventure</td>\n",
              "      <td>0.456686</td>\n",
              "    </tr>\n",
              "  </tbody>\n",
              "</table>\n",
              "</div>"
            ],
            "text/plain": [
              "                                           title  ...     score\n",
              "0                                        Minions  ...  0.625217\n",
              "1                                     Fight Club  ...  0.554807\n",
              "2                                The Dark Knight  ...  0.541935\n",
              "3                                   Pulp Fiction  ...  0.541717\n",
              "4                                       Whiplash  ...  0.528110\n",
              "5                                     Big Hero 6  ...  0.523318\n",
              "6                                      Gone Girl  ...  0.515822\n",
              "7                                   Forrest Gump  ...  0.515705\n",
              "8                                      Star Wars  ...  0.495943\n",
              "9                       The Shawshank Redemption  ...  0.492673\n",
              "10                                     Inception  ...  0.490360\n",
              "11                              Schindler's List  ...  0.489833\n",
              "12                                 Spirited Away  ...  0.488988\n",
              "13                                  The Avengers  ...  0.480756\n",
              "14                       The Empire Strikes Back  ...  0.473990\n",
              "15                                      Deadpool  ...  0.471245\n",
              "16                                    Inside Out  ...  0.466256\n",
              "17                                 The Godfather  ...  0.464571\n",
              "18  Harry Potter and the Deathly Hallows: Part 2  ...  0.457100\n",
              "19                       Guardians of the Galaxy  ...  0.456686\n",
              "\n",
              "[20 rows x 3 columns]"
            ]
          },
          "metadata": {
            "tags": []
          },
          "execution_count": 13
        }
      ]
    },
    {
      "cell_type": "code",
      "metadata": {
        "id": "PZ00CzOOed2D",
        "colab": {
          "base_uri": "https://localhost:8080/"
        },
        "outputId": "bed364c7-de51-4d02-994f-c15fa0d4d2ea"
      },
      "source": [
        "popular_movies.info()"
      ],
      "execution_count": null,
      "outputs": [
        {
          "output_type": "stream",
          "text": [
            "<class 'pandas.core.frame.DataFrame'>\n",
            "RangeIndex: 9081 entries, 0 to 9080\n",
            "Data columns (total 17 columns):\n",
            " #   Column                Non-Null Count  Dtype  \n",
            "---  ------                --------------  -----  \n",
            " 0   tmdbId                9081 non-null   int64  \n",
            " 1   title                 9081 non-null   object \n",
            " 2   budget                9081 non-null   int64  \n",
            " 3   profit                9081 non-null   float64\n",
            " 4   score                 9081 non-null   float64\n",
            " 5   release_year          9081 non-null   int64  \n",
            " 6   release_day           9081 non-null   object \n",
            " 7   keywords              9081 non-null   object \n",
            " 8   genres                9046 non-null   object \n",
            " 9   production_countries  8787 non-null   object \n",
            " 10  production_companies  8417 non-null   object \n",
            " 11  original_language     9079 non-null   object \n",
            " 12  runtime               9081 non-null   float64\n",
            " 13  content               9069 non-null   object \n",
            " 14  status                9081 non-null   object \n",
            " 15  cast                  8991 non-null   object \n",
            " 16  director              9081 non-null   object \n",
            "dtypes: float64(3), int64(3), object(11)\n",
            "memory usage: 1.2+ MB\n"
          ],
          "name": "stdout"
        }
      ]
    },
    {
      "cell_type": "code",
      "metadata": {
        "id": "ixyILcxJZWKQ",
        "colab": {
          "base_uri": "https://localhost:8080/",
          "height": 17
        },
        "outputId": "3bb8b6ca-c055-4d5b-f36b-68340abce163"
      },
      "source": [
        "#popular_movies.to_csv('PopularMovies.csv')\r\n",
        "#from google.colab import files\r\n",
        "#files.download(\"PopularMovies.csv\")"
      ],
      "execution_count": null,
      "outputs": [
        {
          "output_type": "display_data",
          "data": {
            "application/javascript": [
              "\n",
              "    async function download(id, filename, size) {\n",
              "      if (!google.colab.kernel.accessAllowed) {\n",
              "        return;\n",
              "      }\n",
              "      const div = document.createElement('div');\n",
              "      const label = document.createElement('label');\n",
              "      label.textContent = `Downloading \"${filename}\": `;\n",
              "      div.appendChild(label);\n",
              "      const progress = document.createElement('progress');\n",
              "      progress.max = size;\n",
              "      div.appendChild(progress);\n",
              "      document.body.appendChild(div);\n",
              "\n",
              "      const buffers = [];\n",
              "      let downloaded = 0;\n",
              "\n",
              "      const channel = await google.colab.kernel.comms.open(id);\n",
              "      // Send a message to notify the kernel that we're ready.\n",
              "      channel.send({})\n",
              "\n",
              "      for await (const message of channel.messages) {\n",
              "        // Send a message to notify the kernel that we're ready.\n",
              "        channel.send({})\n",
              "        if (message.buffers) {\n",
              "          for (const buffer of message.buffers) {\n",
              "            buffers.push(buffer);\n",
              "            downloaded += buffer.byteLength;\n",
              "            progress.value = downloaded;\n",
              "          }\n",
              "        }\n",
              "      }\n",
              "      const blob = new Blob(buffers, {type: 'application/binary'});\n",
              "      const a = document.createElement('a');\n",
              "      a.href = window.URL.createObjectURL(blob);\n",
              "      a.download = filename;\n",
              "      div.appendChild(a);\n",
              "      a.click();\n",
              "      div.remove();\n",
              "    }\n",
              "  "
            ],
            "text/plain": [
              "<IPython.core.display.Javascript object>"
            ]
          },
          "metadata": {
            "tags": []
          }
        },
        {
          "output_type": "display_data",
          "data": {
            "application/javascript": [
              "download(\"download_9478d651-6c5b-4d04-8dcf-2ffacac2403a\", \"PopularMovies.csv\", 8485932)"
            ],
            "text/plain": [
              "<IPython.core.display.Javascript object>"
            ]
          },
          "metadata": {
            "tags": []
          }
        }
      ]
    }
  ]
}