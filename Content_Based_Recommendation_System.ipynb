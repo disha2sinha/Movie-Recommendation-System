{
  "nbformat": 4,
  "nbformat_minor": 0,
  "metadata": {
    "colab": {
      "name": "Content-Based Recommendation System.ipynb",
      "provenance": [],
      "authorship_tag": "ABX9TyPOU7HaHnp9F31dS001aX1l",
      "include_colab_link": true
    },
    "kernelspec": {
      "name": "python3",
      "display_name": "Python 3"
    }
  },
  "cells": [
    {
      "cell_type": "markdown",
      "metadata": {
        "id": "view-in-github",
        "colab_type": "text"
      },
      "source": [
        "<a href=\"https://colab.research.google.com/github/disha2sinha/Movie-Recommendation-System/blob/master/Content_Based_Recommendation_System.ipynb\" target=\"_parent\"><img src=\"https://colab.research.google.com/assets/colab-badge.svg\" alt=\"Open In Colab\"/></a>"
      ]
    },
    {
      "cell_type": "code",
      "metadata": {
        "id": "1UpMiIb8OKeD"
      },
      "source": [
        "!pip install -U -q PyDrive\r\n",
        "from pydrive.auth import GoogleAuth\r\n",
        "from pydrive.drive import GoogleDrive\r\n",
        "from google.colab import auth\r\n",
        "from oauth2client.client import GoogleCredentials\r\n",
        "from ast import literal_eval\r\n",
        "import pandas as pd\r\n",
        "import math\r\n",
        "import numpy as np"
      ],
      "execution_count": 1,
      "outputs": []
    },
    {
      "cell_type": "code",
      "metadata": {
        "id": "sP-02Pu0Uu1u"
      },
      "source": [
        "auth.authenticate_user()\r\n",
        "gauth = GoogleAuth()\r\n",
        "gauth.credentials = GoogleCredentials.get_application_default()\r\n",
        "drive = GoogleDrive(gauth)"
      ],
      "execution_count": 2,
      "outputs": []
    },
    {
      "cell_type": "code",
      "metadata": {
        "colab": {
          "base_uri": "https://localhost:8080/",
          "height": 568
        },
        "id": "S-oIdxVkU142",
        "outputId": "9c93b9c3-5e93-4a21-80f8-25585f1288df"
      },
      "source": [
        "id='1P24X15eU7o234y_66hUYV9IDT5BqMVnG'\r\n",
        "downloaded = drive.CreateFile({'id':id}) \r\n",
        "downloaded.GetContentFile('PopularMovies.csv') \r\n",
        "movies_data = pd.read_csv('PopularMovies.csv',engine='python',index_col=0)\r\n",
        "movies_data.head()"
      ],
      "execution_count": 3,
      "outputs": [
        {
          "output_type": "execute_result",
          "data": {
            "text/html": [
              "<div>\n",
              "<style scoped>\n",
              "    .dataframe tbody tr th:only-of-type {\n",
              "        vertical-align: middle;\n",
              "    }\n",
              "\n",
              "    .dataframe tbody tr th {\n",
              "        vertical-align: top;\n",
              "    }\n",
              "\n",
              "    .dataframe thead th {\n",
              "        text-align: right;\n",
              "    }\n",
              "</style>\n",
              "<table border=\"1\" class=\"dataframe\">\n",
              "  <thead>\n",
              "    <tr style=\"text-align: right;\">\n",
              "      <th></th>\n",
              "      <th>movieId</th>\n",
              "      <th>title</th>\n",
              "      <th>budget</th>\n",
              "      <th>profit</th>\n",
              "      <th>score</th>\n",
              "      <th>release_year</th>\n",
              "      <th>release_day</th>\n",
              "      <th>genres</th>\n",
              "      <th>keywords</th>\n",
              "      <th>production_countries</th>\n",
              "      <th>production_companies</th>\n",
              "      <th>original_language</th>\n",
              "      <th>runtime</th>\n",
              "      <th>content</th>\n",
              "      <th>status</th>\n",
              "      <th>cast</th>\n",
              "      <th>director</th>\n",
              "    </tr>\n",
              "  </thead>\n",
              "  <tbody>\n",
              "    <tr>\n",
              "      <th>0</th>\n",
              "      <td>135887</td>\n",
              "      <td>Minions</td>\n",
              "      <td>74000000</td>\n",
              "      <td>1.082731e+09</td>\n",
              "      <td>0.631865</td>\n",
              "      <td>2015</td>\n",
              "      <td>Wednesday</td>\n",
              "      <td>Family|Animation|Adventure|Comedy</td>\n",
              "      <td>['assistant', 'aftercreditsstinger', 'duringcr...</td>\n",
              "      <td>United States of America</td>\n",
              "      <td>Universal Pictures|Illumination Entertainment</td>\n",
              "      <td>English</td>\n",
              "      <td>91.0</td>\n",
              "      <td>Minions Stuart, Kevin and Bob are recruited by...</td>\n",
              "      <td>Released</td>\n",
              "      <td>Sandra Bullock|Jon Hamm|Michael Keaton|Allison...</td>\n",
              "      <td>Kyle Balda</td>\n",
              "    </tr>\n",
              "    <tr>\n",
              "      <th>1</th>\n",
              "      <td>143355</td>\n",
              "      <td>Wonder Woman</td>\n",
              "      <td>149000000</td>\n",
              "      <td>6.715804e+08</td>\n",
              "      <td>0.595920</td>\n",
              "      <td>2017</td>\n",
              "      <td>Tuesday</td>\n",
              "      <td>Action|Adventure|Fantasy</td>\n",
              "      <td>['dc comics', 'hero', 'greek mythology', 'isla...</td>\n",
              "      <td>United States of America</td>\n",
              "      <td>Dune Entertainment|Atlas Entertainment|Warner ...</td>\n",
              "      <td>English</td>\n",
              "      <td>141.0</td>\n",
              "      <td>An Amazon princess comes to the world of Man t...</td>\n",
              "      <td>Released</td>\n",
              "      <td>Gal Gadot|Chris Pine|Robin Wright|Danny Huston...</td>\n",
              "      <td>Patty Jenkins</td>\n",
              "    </tr>\n",
              "    <tr>\n",
              "      <th>2</th>\n",
              "      <td>296</td>\n",
              "      <td>Pulp Fiction</td>\n",
              "      <td>8000000</td>\n",
              "      <td>2.059288e+08</td>\n",
              "      <td>0.590885</td>\n",
              "      <td>1994</td>\n",
              "      <td>Saturday</td>\n",
              "      <td>Thriller|Crime</td>\n",
              "      <td>['transporter', 'brothel', 'drug dealer', 'box...</td>\n",
              "      <td>United States of America</td>\n",
              "      <td>Miramax Films|A Band Apart|Jersey Films</td>\n",
              "      <td>English</td>\n",
              "      <td>154.0</td>\n",
              "      <td>A burger-loving hit man, his philosophical par...</td>\n",
              "      <td>Released</td>\n",
              "      <td>John Travolta|Samuel L. Jackson|Uma Thurman|Br...</td>\n",
              "      <td>Quentin Tarantino</td>\n",
              "    </tr>\n",
              "    <tr>\n",
              "      <th>3</th>\n",
              "      <td>58559</td>\n",
              "      <td>The Dark Knight</td>\n",
              "      <td>185000000</td>\n",
              "      <td>8.195584e+08</td>\n",
              "      <td>0.577222</td>\n",
              "      <td>2008</td>\n",
              "      <td>Wednesday</td>\n",
              "      <td>Drama|Action|Crime|Thriller</td>\n",
              "      <td>['dc comics', 'crime fighter', 'secret identit...</td>\n",
              "      <td>United Kingdom|United States of America</td>\n",
              "      <td>DC Comics|Legendary Pictures|Warner Bros.|DC E...</td>\n",
              "      <td>English</td>\n",
              "      <td>152.0</td>\n",
              "      <td>Batman raises the stakes in his war on crime. ...</td>\n",
              "      <td>Released</td>\n",
              "      <td>Christian Bale|Michael Caine|Heath Ledger|Aaro...</td>\n",
              "      <td>Christopher Nolan</td>\n",
              "    </tr>\n",
              "    <tr>\n",
              "      <th>4</th>\n",
              "      <td>318</td>\n",
              "      <td>The Shawshank Redemption</td>\n",
              "      <td>25000000</td>\n",
              "      <td>3.341469e+06</td>\n",
              "      <td>0.568631</td>\n",
              "      <td>1994</td>\n",
              "      <td>Friday</td>\n",
              "      <td>Drama|Crime</td>\n",
              "      <td>['prison', 'corruption', 'police brutality', '...</td>\n",
              "      <td>United States of America</td>\n",
              "      <td>Castle Rock Entertainment|Warner Bros.</td>\n",
              "      <td>English</td>\n",
              "      <td>142.0</td>\n",
              "      <td>Framed in the 1940s for the double murder of h...</td>\n",
              "      <td>Released</td>\n",
              "      <td>Tim Robbins|Morgan Freeman|Bob Gunton|Clancy B...</td>\n",
              "      <td>Frank Darabont</td>\n",
              "    </tr>\n",
              "  </tbody>\n",
              "</table>\n",
              "</div>"
            ],
            "text/plain": [
              "   movieId  ...           director\n",
              "0   135887  ...         Kyle Balda\n",
              "1   143355  ...      Patty Jenkins\n",
              "2      296  ...  Quentin Tarantino\n",
              "3    58559  ...  Christopher Nolan\n",
              "4      318  ...     Frank Darabont\n",
              "\n",
              "[5 rows x 17 columns]"
            ]
          },
          "metadata": {
            "tags": []
          },
          "execution_count": 3
        }
      ]
    },
    {
      "cell_type": "code",
      "metadata": {
        "id": "fY3pMCPHZAfB",
        "colab": {
          "base_uri": "https://localhost:8080/"
        },
        "outputId": "013dc236-bae8-468a-c767-fd3bc25d8999"
      },
      "source": [
        "movies_data.shape"
      ],
      "execution_count": 4,
      "outputs": [
        {
          "output_type": "execute_result",
          "data": {
            "text/plain": [
              "(46904, 17)"
            ]
          },
          "metadata": {
            "tags": []
          },
          "execution_count": 4
        }
      ]
    },
    {
      "cell_type": "code",
      "metadata": {
        "id": "47UHvtkIWFc5",
        "outputId": "ccc31c79-9220-41c8-a915-4177f2707cc6",
        "colab": {
          "base_uri": "https://localhost:8080/"
        }
      },
      "source": [
        "movies_data.info()"
      ],
      "execution_count": 5,
      "outputs": [
        {
          "output_type": "stream",
          "text": [
            "<class 'pandas.core.frame.DataFrame'>\n",
            "Int64Index: 46904 entries, 0 to 46903\n",
            "Data columns (total 17 columns):\n",
            " #   Column                Non-Null Count  Dtype  \n",
            "---  ------                --------------  -----  \n",
            " 0   movieId               46904 non-null  int64  \n",
            " 1   title                 46904 non-null  object \n",
            " 2   budget                46904 non-null  int64  \n",
            " 3   profit                46904 non-null  float64\n",
            " 4   score                 46904 non-null  float64\n",
            " 5   release_year          46904 non-null  object \n",
            " 6   release_day           46904 non-null  object \n",
            " 7   genres                44380 non-null  object \n",
            " 8   keywords              46904 non-null  object \n",
            " 9   production_countries  40388 non-null  object \n",
            " 10  production_companies  34566 non-null  object \n",
            " 11  original_language     46774 non-null  object \n",
            " 12  runtime               46904 non-null  float64\n",
            " 13  content               45918 non-null  object \n",
            " 14  status                46904 non-null  object \n",
            " 15  cast                  44405 non-null  object \n",
            " 16  director              46904 non-null  object \n",
            "dtypes: float64(3), int64(2), object(12)\n",
            "memory usage: 6.4+ MB\n"
          ],
          "name": "stdout"
        }
      ]
    },
    {
      "cell_type": "code",
      "metadata": {
        "id": "DuSdwhKOjg3X"
      },
      "source": [
        "movies_data=movies_data.replace(np.nan,'Unknown',regex=True)\r\n",
        "movies_data['release_year']=movies_data['release_year'].replace('NaT','1874',regex=True)"
      ],
      "execution_count": 6,
      "outputs": []
    },
    {
      "cell_type": "code",
      "metadata": {
        "id": "StSU8TuMjjPd",
        "outputId": "47327c22-2ebc-46ab-f707-e29c62db7e28",
        "colab": {
          "base_uri": "https://localhost:8080/"
        }
      },
      "source": [
        "movies_data.info()"
      ],
      "execution_count": 7,
      "outputs": [
        {
          "output_type": "stream",
          "text": [
            "<class 'pandas.core.frame.DataFrame'>\n",
            "Int64Index: 46904 entries, 0 to 46903\n",
            "Data columns (total 17 columns):\n",
            " #   Column                Non-Null Count  Dtype  \n",
            "---  ------                --------------  -----  \n",
            " 0   movieId               46904 non-null  int64  \n",
            " 1   title                 46904 non-null  object \n",
            " 2   budget                46904 non-null  int64  \n",
            " 3   profit                46904 non-null  float64\n",
            " 4   score                 46904 non-null  float64\n",
            " 5   release_year          46904 non-null  object \n",
            " 6   release_day           46904 non-null  object \n",
            " 7   genres                46904 non-null  object \n",
            " 8   keywords              46904 non-null  object \n",
            " 9   production_countries  46904 non-null  object \n",
            " 10  production_companies  46904 non-null  object \n",
            " 11  original_language     46904 non-null  object \n",
            " 12  runtime               46904 non-null  float64\n",
            " 13  content               46904 non-null  object \n",
            " 14  status                46904 non-null  object \n",
            " 15  cast                  46904 non-null  object \n",
            " 16  director              46904 non-null  object \n",
            "dtypes: float64(3), int64(2), object(12)\n",
            "memory usage: 6.4+ MB\n"
          ],
          "name": "stdout"
        }
      ]
    },
    {
      "cell_type": "code",
      "metadata": {
        "id": "FFBYhqRJSPSq"
      },
      "source": [
        "def remove_spaces(column_name):\r\n",
        "  for index in movies_data.index:\r\n",
        "    column_list=movies_data.loc[index,column_name]\r\n",
        "    column_list=str(column_list).replace(\" \",\"\")\r\n",
        "    movies_data.loc[index,column_name]=column_list\r\n",
        "  movies_data[column_name]=movies_data[column_name].str.split('|')\r\n",
        "remove_spaces('production_countries')\r\n",
        "remove_spaces('production_companies')\r\n",
        "remove_spaces('cast')\r\n",
        "movies_data['genres']=movies_data['genres'].str.split('|')\r\n",
        "movies_data.head(10)"
      ],
      "execution_count": null,
      "outputs": []
    },
    {
      "cell_type": "code",
      "metadata": {
        "id": "ABV4jPnFqcyy"
      },
      "source": [
        "movies_data['keywords']=\" \".join(movies_data['keywords'])+\" \".join(movies_data['cast'])+\" \".join(movies_data['production_companies'])+\" \".join(movies_data['production_countries'])+\" \".join(movies_data['genres'])+movies_data['original_language']+movies_data['release_day']+movies_data['content'] +movies_data['director'].replace(\" \",\"\")+movies_data['']\r\n",
        "movies_data[['title','keywords']].head(10)"
      ],
      "execution_count": null,
      "outputs": []
    }
  ]
}