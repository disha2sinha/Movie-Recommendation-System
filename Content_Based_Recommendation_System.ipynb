{
  "nbformat": 4,
  "nbformat_minor": 0,
  "metadata": {
    "colab": {
      "name": "Content-Based Recommendation System.ipynb",
      "provenance": [],
      "authorship_tag": "ABX9TyPG1+Cb/AzPCBl/Gam/Omhu",
      "include_colab_link": true
    },
    "kernelspec": {
      "name": "python3",
      "display_name": "Python 3"
    }
  },
  "cells": [
    {
      "cell_type": "markdown",
      "metadata": {
        "id": "view-in-github",
        "colab_type": "text"
      },
      "source": [
        "<a href=\"https://colab.research.google.com/github/disha2sinha/Movie-Recommendation-System/blob/master/Content_Based_Recommendation_System.ipynb\" target=\"_parent\"><img src=\"https://colab.research.google.com/assets/colab-badge.svg\" alt=\"Open In Colab\"/></a>"
      ]
    },
    {
      "cell_type": "code",
      "metadata": {
        "id": "1UpMiIb8OKeD"
      },
      "source": [
        "!pip install -U -q PyDrive\r\n",
        "from pydrive.auth import GoogleAuth\r\n",
        "from pydrive.drive import GoogleDrive\r\n",
        "from google.colab import auth\r\n",
        "from oauth2client.client import GoogleCredentials\r\n",
        "from ast import literal_eval\r\n",
        "import pandas as pd\r\n",
        "import math\r\n",
        "import numpy as np\r\n",
        "from sklearn.cluster import KMeans\r\n",
        "from sklearn import metrics\r\n",
        "from sklearn.feature_extraction.text import TfidfVectorizer\r\n",
        "import re\r\n",
        "import scipy.sparse\r\n",
        "from sklearn.metrics.pairwise import cosine_similarity"
      ],
      "execution_count": 1,
      "outputs": []
    },
    {
      "cell_type": "code",
      "metadata": {
        "id": "sP-02Pu0Uu1u"
      },
      "source": [
        "auth.authenticate_user()\r\n",
        "gauth = GoogleAuth()\r\n",
        "gauth.credentials = GoogleCredentials.get_application_default()\r\n",
        "drive = GoogleDrive(gauth)"
      ],
      "execution_count": 2,
      "outputs": []
    },
    {
      "cell_type": "code",
      "metadata": {
        "colab": {
          "base_uri": "https://localhost:8080/",
          "height": 568
        },
        "id": "S-oIdxVkU142",
        "outputId": "19b28c50-789e-4f30-c767-ea8ca8db3b9b"
      },
      "source": [
        "id='1P24X15eU7o234y_66hUYV9IDT5BqMVnG'\r\n",
        "downloaded = drive.CreateFile({'id':id}) \r\n",
        "downloaded.GetContentFile('PopularMovies.csv') \r\n",
        "movies_data = pd.read_csv('PopularMovies.csv',engine='python',index_col=0)\r\n",
        "movies_data.head()"
      ],
      "execution_count": 3,
      "outputs": [
        {
          "output_type": "execute_result",
          "data": {
            "text/html": [
              "<div>\n",
              "<style scoped>\n",
              "    .dataframe tbody tr th:only-of-type {\n",
              "        vertical-align: middle;\n",
              "    }\n",
              "\n",
              "    .dataframe tbody tr th {\n",
              "        vertical-align: top;\n",
              "    }\n",
              "\n",
              "    .dataframe thead th {\n",
              "        text-align: right;\n",
              "    }\n",
              "</style>\n",
              "<table border=\"1\" class=\"dataframe\">\n",
              "  <thead>\n",
              "    <tr style=\"text-align: right;\">\n",
              "      <th></th>\n",
              "      <th>movieId</th>\n",
              "      <th>title</th>\n",
              "      <th>budget</th>\n",
              "      <th>profit</th>\n",
              "      <th>score</th>\n",
              "      <th>release_year</th>\n",
              "      <th>release_day</th>\n",
              "      <th>genres</th>\n",
              "      <th>keywords</th>\n",
              "      <th>production_countries</th>\n",
              "      <th>production_companies</th>\n",
              "      <th>original_language</th>\n",
              "      <th>runtime</th>\n",
              "      <th>content</th>\n",
              "      <th>status</th>\n",
              "      <th>cast</th>\n",
              "      <th>director</th>\n",
              "    </tr>\n",
              "  </thead>\n",
              "  <tbody>\n",
              "    <tr>\n",
              "      <th>0</th>\n",
              "      <td>135887</td>\n",
              "      <td>Minions</td>\n",
              "      <td>74000000</td>\n",
              "      <td>1.082731e+09</td>\n",
              "      <td>0.631865</td>\n",
              "      <td>2015</td>\n",
              "      <td>Wednesday</td>\n",
              "      <td>Family|Animation|Adventure|Comedy</td>\n",
              "      <td>['assistant', 'aftercreditsstinger', 'duringcr...</td>\n",
              "      <td>United States of America</td>\n",
              "      <td>Universal Pictures|Illumination Entertainment</td>\n",
              "      <td>English</td>\n",
              "      <td>91.0</td>\n",
              "      <td>Minions Stuart, Kevin and Bob are recruited by...</td>\n",
              "      <td>Released</td>\n",
              "      <td>Sandra Bullock|Jon Hamm|Michael Keaton|Allison...</td>\n",
              "      <td>Kyle Balda</td>\n",
              "    </tr>\n",
              "    <tr>\n",
              "      <th>1</th>\n",
              "      <td>143355</td>\n",
              "      <td>Wonder Woman</td>\n",
              "      <td>149000000</td>\n",
              "      <td>6.715804e+08</td>\n",
              "      <td>0.595920</td>\n",
              "      <td>2017</td>\n",
              "      <td>Tuesday</td>\n",
              "      <td>Action|Adventure|Fantasy</td>\n",
              "      <td>['dc comics', 'hero', 'greek mythology', 'isla...</td>\n",
              "      <td>United States of America</td>\n",
              "      <td>Dune Entertainment|Atlas Entertainment|Warner ...</td>\n",
              "      <td>English</td>\n",
              "      <td>141.0</td>\n",
              "      <td>An Amazon princess comes to the world of Man t...</td>\n",
              "      <td>Released</td>\n",
              "      <td>Gal Gadot|Chris Pine|Robin Wright|Danny Huston...</td>\n",
              "      <td>Patty Jenkins</td>\n",
              "    </tr>\n",
              "    <tr>\n",
              "      <th>2</th>\n",
              "      <td>296</td>\n",
              "      <td>Pulp Fiction</td>\n",
              "      <td>8000000</td>\n",
              "      <td>2.059288e+08</td>\n",
              "      <td>0.590885</td>\n",
              "      <td>1994</td>\n",
              "      <td>Saturday</td>\n",
              "      <td>Thriller|Crime</td>\n",
              "      <td>['transporter', 'brothel', 'drug dealer', 'box...</td>\n",
              "      <td>United States of America</td>\n",
              "      <td>Miramax Films|A Band Apart|Jersey Films</td>\n",
              "      <td>English</td>\n",
              "      <td>154.0</td>\n",
              "      <td>A burger-loving hit man, his philosophical par...</td>\n",
              "      <td>Released</td>\n",
              "      <td>John Travolta|Samuel L. Jackson|Uma Thurman|Br...</td>\n",
              "      <td>Quentin Tarantino</td>\n",
              "    </tr>\n",
              "    <tr>\n",
              "      <th>3</th>\n",
              "      <td>58559</td>\n",
              "      <td>The Dark Knight</td>\n",
              "      <td>185000000</td>\n",
              "      <td>8.195584e+08</td>\n",
              "      <td>0.577222</td>\n",
              "      <td>2008</td>\n",
              "      <td>Wednesday</td>\n",
              "      <td>Drama|Action|Crime|Thriller</td>\n",
              "      <td>['dc comics', 'crime fighter', 'secret identit...</td>\n",
              "      <td>United Kingdom|United States of America</td>\n",
              "      <td>DC Comics|Legendary Pictures|Warner Bros.|DC E...</td>\n",
              "      <td>English</td>\n",
              "      <td>152.0</td>\n",
              "      <td>Batman raises the stakes in his war on crime. ...</td>\n",
              "      <td>Released</td>\n",
              "      <td>Christian Bale|Michael Caine|Heath Ledger|Aaro...</td>\n",
              "      <td>Christopher Nolan</td>\n",
              "    </tr>\n",
              "    <tr>\n",
              "      <th>4</th>\n",
              "      <td>318</td>\n",
              "      <td>The Shawshank Redemption</td>\n",
              "      <td>25000000</td>\n",
              "      <td>3.341469e+06</td>\n",
              "      <td>0.568631</td>\n",
              "      <td>1994</td>\n",
              "      <td>Friday</td>\n",
              "      <td>Drama|Crime</td>\n",
              "      <td>['prison', 'corruption', 'police brutality', '...</td>\n",
              "      <td>United States of America</td>\n",
              "      <td>Castle Rock Entertainment|Warner Bros.</td>\n",
              "      <td>English</td>\n",
              "      <td>142.0</td>\n",
              "      <td>Framed in the 1940s for the double murder of h...</td>\n",
              "      <td>Released</td>\n",
              "      <td>Tim Robbins|Morgan Freeman|Bob Gunton|Clancy B...</td>\n",
              "      <td>Frank Darabont</td>\n",
              "    </tr>\n",
              "  </tbody>\n",
              "</table>\n",
              "</div>"
            ],
            "text/plain": [
              "   movieId  ...           director\n",
              "0   135887  ...         Kyle Balda\n",
              "1   143355  ...      Patty Jenkins\n",
              "2      296  ...  Quentin Tarantino\n",
              "3    58559  ...  Christopher Nolan\n",
              "4      318  ...     Frank Darabont\n",
              "\n",
              "[5 rows x 17 columns]"
            ]
          },
          "metadata": {
            "tags": []
          },
          "execution_count": 3
        }
      ]
    },
    {
      "cell_type": "code",
      "metadata": {
        "id": "fY3pMCPHZAfB",
        "colab": {
          "base_uri": "https://localhost:8080/"
        },
        "outputId": "de42afa1-dee1-4ff4-d553-269829fdd079"
      },
      "source": [
        "movies_data.shape"
      ],
      "execution_count": 4,
      "outputs": [
        {
          "output_type": "execute_result",
          "data": {
            "text/plain": [
              "(46904, 17)"
            ]
          },
          "metadata": {
            "tags": []
          },
          "execution_count": 4
        }
      ]
    },
    {
      "cell_type": "code",
      "metadata": {
        "id": "47UHvtkIWFc5",
        "colab": {
          "base_uri": "https://localhost:8080/"
        },
        "outputId": "2aae2793-ae7b-45be-c714-9febd81921ca"
      },
      "source": [
        "movies_data.info()"
      ],
      "execution_count": 5,
      "outputs": [
        {
          "output_type": "stream",
          "text": [
            "<class 'pandas.core.frame.DataFrame'>\n",
            "Int64Index: 46904 entries, 0 to 46903\n",
            "Data columns (total 17 columns):\n",
            " #   Column                Non-Null Count  Dtype  \n",
            "---  ------                --------------  -----  \n",
            " 0   movieId               46904 non-null  int64  \n",
            " 1   title                 46904 non-null  object \n",
            " 2   budget                46904 non-null  int64  \n",
            " 3   profit                46904 non-null  float64\n",
            " 4   score                 46904 non-null  float64\n",
            " 5   release_year          46904 non-null  object \n",
            " 6   release_day           46904 non-null  object \n",
            " 7   genres                44380 non-null  object \n",
            " 8   keywords              46904 non-null  object \n",
            " 9   production_countries  40388 non-null  object \n",
            " 10  production_companies  34566 non-null  object \n",
            " 11  original_language     46774 non-null  object \n",
            " 12  runtime               46904 non-null  float64\n",
            " 13  content               45918 non-null  object \n",
            " 14  status                46904 non-null  object \n",
            " 15  cast                  44405 non-null  object \n",
            " 16  director              46904 non-null  object \n",
            "dtypes: float64(3), int64(2), object(12)\n",
            "memory usage: 6.4+ MB\n"
          ],
          "name": "stdout"
        }
      ]
    },
    {
      "cell_type": "code",
      "metadata": {
        "id": "DuSdwhKOjg3X"
      },
      "source": [
        "movies_data=movies_data.replace(np.nan,'Unknown',regex=True)\r\n",
        "movies_data['release_year']=movies_data['release_year'].replace('NaT','1874',regex=True)"
      ],
      "execution_count": 6,
      "outputs": []
    },
    {
      "cell_type": "code",
      "metadata": {
        "id": "StSU8TuMjjPd",
        "colab": {
          "base_uri": "https://localhost:8080/"
        },
        "outputId": "2e187ecf-7bc6-4a01-9b46-348becff36fb"
      },
      "source": [
        "movies_data.info()"
      ],
      "execution_count": 7,
      "outputs": [
        {
          "output_type": "stream",
          "text": [
            "<class 'pandas.core.frame.DataFrame'>\n",
            "Int64Index: 46904 entries, 0 to 46903\n",
            "Data columns (total 17 columns):\n",
            " #   Column                Non-Null Count  Dtype  \n",
            "---  ------                --------------  -----  \n",
            " 0   movieId               46904 non-null  int64  \n",
            " 1   title                 46904 non-null  object \n",
            " 2   budget                46904 non-null  int64  \n",
            " 3   profit                46904 non-null  float64\n",
            " 4   score                 46904 non-null  float64\n",
            " 5   release_year          46904 non-null  object \n",
            " 6   release_day           46904 non-null  object \n",
            " 7   genres                46904 non-null  object \n",
            " 8   keywords              46904 non-null  object \n",
            " 9   production_countries  46904 non-null  object \n",
            " 10  production_companies  46904 non-null  object \n",
            " 11  original_language     46904 non-null  object \n",
            " 12  runtime               46904 non-null  float64\n",
            " 13  content               46904 non-null  object \n",
            " 14  status                46904 non-null  object \n",
            " 15  cast                  46904 non-null  object \n",
            " 16  director              46904 non-null  object \n",
            "dtypes: float64(3), int64(2), object(12)\n",
            "memory usage: 6.4+ MB\n"
          ],
          "name": "stdout"
        }
      ]
    },
    {
      "cell_type": "code",
      "metadata": {
        "id": "FFBYhqRJSPSq",
        "colab": {
          "base_uri": "https://localhost:8080/",
          "height": 934
        },
        "outputId": "44f0ec0e-1a1b-4b60-e3ca-4e09567a2fde"
      },
      "source": [
        "movies_data['production_companies']=movies_data['production_companies'].str.replace(\" \",\"\")\r\n",
        "movies_data['production_companies']=movies_data['production_companies'].str.replace(\"|\",\"  \")\r\n",
        "movies_data['production_countries']=movies_data['production_countries'].str.replace(\" \",\"\")\r\n",
        "movies_data['production_countries']=movies_data['production_countries'].str.replace(\"|\",\"  \")\r\n",
        "movies_data['cast']=movies_data['cast'].str.replace(\" \",\"\")\r\n",
        "movies_data['cast']=movies_data['cast'].str.replace(\"|\",\"  \")\r\n",
        "movies_data['genres']=movies_data['genres'].str.replace(\"|\",\" \")\r\n",
        "movies_data['director']=movies_data['director'].str.replace(\" \",\"\")\r\n",
        "movies_data['keywords']=movies_data['keywords'].apply(lambda x:x[1:-1])\r\n",
        "movies_data['keywords']=movies_data['keywords'].str.replace(',',\"  \")\r\n",
        "movies_data['keywords']=movies_data['keywords'].str.replace(\"'\",\"\")\r\n",
        "movies_data.head(10)"
      ],
      "execution_count": 8,
      "outputs": [
        {
          "output_type": "execute_result",
          "data": {
            "text/html": [
              "<div>\n",
              "<style scoped>\n",
              "    .dataframe tbody tr th:only-of-type {\n",
              "        vertical-align: middle;\n",
              "    }\n",
              "\n",
              "    .dataframe tbody tr th {\n",
              "        vertical-align: top;\n",
              "    }\n",
              "\n",
              "    .dataframe thead th {\n",
              "        text-align: right;\n",
              "    }\n",
              "</style>\n",
              "<table border=\"1\" class=\"dataframe\">\n",
              "  <thead>\n",
              "    <tr style=\"text-align: right;\">\n",
              "      <th></th>\n",
              "      <th>movieId</th>\n",
              "      <th>title</th>\n",
              "      <th>budget</th>\n",
              "      <th>profit</th>\n",
              "      <th>score</th>\n",
              "      <th>release_year</th>\n",
              "      <th>release_day</th>\n",
              "      <th>genres</th>\n",
              "      <th>keywords</th>\n",
              "      <th>production_countries</th>\n",
              "      <th>production_companies</th>\n",
              "      <th>original_language</th>\n",
              "      <th>runtime</th>\n",
              "      <th>content</th>\n",
              "      <th>status</th>\n",
              "      <th>cast</th>\n",
              "      <th>director</th>\n",
              "    </tr>\n",
              "  </thead>\n",
              "  <tbody>\n",
              "    <tr>\n",
              "      <th>0</th>\n",
              "      <td>135887</td>\n",
              "      <td>Minions</td>\n",
              "      <td>74000000</td>\n",
              "      <td>1.082731e+09</td>\n",
              "      <td>0.631865</td>\n",
              "      <td>2015</td>\n",
              "      <td>Wednesday</td>\n",
              "      <td>Family Animation Adventure Comedy</td>\n",
              "      <td>assistant   aftercreditsstinger   duringcredit...</td>\n",
              "      <td>UnitedStatesofAmerica</td>\n",
              "      <td>UniversalPictures  IlluminationEntertainment</td>\n",
              "      <td>English</td>\n",
              "      <td>91.0</td>\n",
              "      <td>Minions Stuart, Kevin and Bob are recruited by...</td>\n",
              "      <td>Released</td>\n",
              "      <td>SandraBullock  JonHamm  MichaelKeaton  Allison...</td>\n",
              "      <td>KyleBalda</td>\n",
              "    </tr>\n",
              "    <tr>\n",
              "      <th>1</th>\n",
              "      <td>143355</td>\n",
              "      <td>Wonder Woman</td>\n",
              "      <td>149000000</td>\n",
              "      <td>6.715804e+08</td>\n",
              "      <td>0.595920</td>\n",
              "      <td>2017</td>\n",
              "      <td>Tuesday</td>\n",
              "      <td>Action Adventure Fantasy</td>\n",
              "      <td>dc comics   hero   greek mythology   island   ...</td>\n",
              "      <td>UnitedStatesofAmerica</td>\n",
              "      <td>DuneEntertainment  AtlasEntertainment  WarnerB...</td>\n",
              "      <td>English</td>\n",
              "      <td>141.0</td>\n",
              "      <td>An Amazon princess comes to the world of Man t...</td>\n",
              "      <td>Released</td>\n",
              "      <td>GalGadot  ChrisPine  RobinWright  DannyHuston ...</td>\n",
              "      <td>PattyJenkins</td>\n",
              "    </tr>\n",
              "    <tr>\n",
              "      <th>2</th>\n",
              "      <td>296</td>\n",
              "      <td>Pulp Fiction</td>\n",
              "      <td>8000000</td>\n",
              "      <td>2.059288e+08</td>\n",
              "      <td>0.590885</td>\n",
              "      <td>1994</td>\n",
              "      <td>Saturday</td>\n",
              "      <td>Thriller Crime</td>\n",
              "      <td>transporter   brothel   drug dealer   boxer   ...</td>\n",
              "      <td>UnitedStatesofAmerica</td>\n",
              "      <td>MiramaxFilms  ABandApart  JerseyFilms</td>\n",
              "      <td>English</td>\n",
              "      <td>154.0</td>\n",
              "      <td>A burger-loving hit man, his philosophical par...</td>\n",
              "      <td>Released</td>\n",
              "      <td>JohnTravolta  SamuelL.Jackson  UmaThurman  Bru...</td>\n",
              "      <td>QuentinTarantino</td>\n",
              "    </tr>\n",
              "    <tr>\n",
              "      <th>3</th>\n",
              "      <td>58559</td>\n",
              "      <td>The Dark Knight</td>\n",
              "      <td>185000000</td>\n",
              "      <td>8.195584e+08</td>\n",
              "      <td>0.577222</td>\n",
              "      <td>2008</td>\n",
              "      <td>Wednesday</td>\n",
              "      <td>Drama Action Crime Thriller</td>\n",
              "      <td>dc comics   crime fighter   secret identity   ...</td>\n",
              "      <td>UnitedKingdom  UnitedStatesofAmerica</td>\n",
              "      <td>DCComics  LegendaryPictures  WarnerBros.  DCEn...</td>\n",
              "      <td>English</td>\n",
              "      <td>152.0</td>\n",
              "      <td>Batman raises the stakes in his war on crime. ...</td>\n",
              "      <td>Released</td>\n",
              "      <td>ChristianBale  MichaelCaine  HeathLedger  Aaro...</td>\n",
              "      <td>ChristopherNolan</td>\n",
              "    </tr>\n",
              "    <tr>\n",
              "      <th>4</th>\n",
              "      <td>318</td>\n",
              "      <td>The Shawshank Redemption</td>\n",
              "      <td>25000000</td>\n",
              "      <td>3.341469e+06</td>\n",
              "      <td>0.568631</td>\n",
              "      <td>1994</td>\n",
              "      <td>Friday</td>\n",
              "      <td>Drama Crime</td>\n",
              "      <td>prison   corruption   police brutality   priso...</td>\n",
              "      <td>UnitedStatesofAmerica</td>\n",
              "      <td>CastleRockEntertainment  WarnerBros.</td>\n",
              "      <td>English</td>\n",
              "      <td>142.0</td>\n",
              "      <td>Framed in the 1940s for the double murder of h...</td>\n",
              "      <td>Released</td>\n",
              "      <td>TimRobbins  MorganFreeman  BobGunton  ClancyBr...</td>\n",
              "      <td>FrankDarabont</td>\n",
              "    </tr>\n",
              "    <tr>\n",
              "      <th>5</th>\n",
              "      <td>115617</td>\n",
              "      <td>Big Hero 6</td>\n",
              "      <td>165000000</td>\n",
              "      <td>4.871054e+08</td>\n",
              "      <td>0.556406</td>\n",
              "      <td>2014</td>\n",
              "      <td>Friday</td>\n",
              "      <td>Adventure Family Animation Action Comedy</td>\n",
              "      <td>brother brother relationship   hero   talent  ...</td>\n",
              "      <td>UnitedStatesofAmerica</td>\n",
              "      <td>WaltDisneyPictures  WaltDisneyAnimationStudios</td>\n",
              "      <td>English</td>\n",
              "      <td>102.0</td>\n",
              "      <td>The special bond that develops between plus-si...</td>\n",
              "      <td>Released</td>\n",
              "      <td>ScottAdsit  RyanPotter  DanielHenney  T.J.Mill...</td>\n",
              "      <td>ChrisWilliams</td>\n",
              "    </tr>\n",
              "    <tr>\n",
              "      <th>6</th>\n",
              "      <td>122904</td>\n",
              "      <td>Deadpool</td>\n",
              "      <td>58000000</td>\n",
              "      <td>7.251130e+08</td>\n",
              "      <td>0.545813</td>\n",
              "      <td>2016</td>\n",
              "      <td>Tuesday</td>\n",
              "      <td>Action Adventure Comedy</td>\n",
              "      <td>anti hero   mercenary   marvel comic   superhe...</td>\n",
              "      <td>UnitedStatesofAmerica</td>\n",
              "      <td>TwentiethCenturyFoxFilmCorporation  MarvelEnte...</td>\n",
              "      <td>English</td>\n",
              "      <td>108.0</td>\n",
              "      <td>Deadpool tells the origin story of former Spec...</td>\n",
              "      <td>Released</td>\n",
              "      <td>RyanReynolds  MorenaBaccarin  EdSkrein  T.J.Mi...</td>\n",
              "      <td>TimMiller</td>\n",
              "    </tr>\n",
              "    <tr>\n",
              "      <th>7</th>\n",
              "      <td>122918</td>\n",
              "      <td>Guardians of the Galaxy Vol. 2</td>\n",
              "      <td>200000000</td>\n",
              "      <td>6.634161e+08</td>\n",
              "      <td>0.544638</td>\n",
              "      <td>2017</td>\n",
              "      <td>Wednesday</td>\n",
              "      <td>Action Adventure Comedy Science Fiction</td>\n",
              "      <td>sequel   superhero   based on comic   misfit  ...</td>\n",
              "      <td>UnitedStatesofAmerica</td>\n",
              "      <td>WaltDisneyPictures  MarvelStudios</td>\n",
              "      <td>English</td>\n",
              "      <td>137.0</td>\n",
              "      <td>The Guardians must fight to keep their newfoun...</td>\n",
              "      <td>Released</td>\n",
              "      <td>ChrisPratt  ZoeSaldana  DaveBautista  VinDiese...</td>\n",
              "      <td>JamesGunn</td>\n",
              "    </tr>\n",
              "    <tr>\n",
              "      <th>8</th>\n",
              "      <td>168366</td>\n",
              "      <td>Beauty and the Beast</td>\n",
              "      <td>160000000</td>\n",
              "      <td>1.102886e+09</td>\n",
              "      <td>0.536204</td>\n",
              "      <td>2017</td>\n",
              "      <td>Thursday</td>\n",
              "      <td>Family Fantasy Romance</td>\n",
              "      <td>france   magic   castle   fairy tale   musical...</td>\n",
              "      <td>UnitedKingdom  UnitedStatesofAmerica</td>\n",
              "      <td>WaltDisneyPictures  MandevilleFilms</td>\n",
              "      <td>English</td>\n",
              "      <td>129.0</td>\n",
              "      <td>A live-action adaptation of Disney's version o...</td>\n",
              "      <td>Released</td>\n",
              "      <td>EmmaWatson  DanStevens  LukeEvans  KevinKline ...</td>\n",
              "      <td>BillCondon</td>\n",
              "    </tr>\n",
              "    <tr>\n",
              "      <th>9</th>\n",
              "      <td>112556</td>\n",
              "      <td>Gone Girl</td>\n",
              "      <td>61000000</td>\n",
              "      <td>3.083304e+08</td>\n",
              "      <td>0.535379</td>\n",
              "      <td>2014</td>\n",
              "      <td>Wednesday</td>\n",
              "      <td>Mystery Thriller Drama</td>\n",
              "      <td>based on novel   marriage crisis   disappearan...</td>\n",
              "      <td>UnitedStatesofAmerica</td>\n",
              "      <td>TwentiethCenturyFoxFilmCorporation  RegencyEnt...</td>\n",
              "      <td>English</td>\n",
              "      <td>145.0</td>\n",
              "      <td>With his wife's disappearance having become th...</td>\n",
              "      <td>Released</td>\n",
              "      <td>BenAffleck  RosamundPike  CarrieCoon  NeilPatr...</td>\n",
              "      <td>DavidFincher</td>\n",
              "    </tr>\n",
              "  </tbody>\n",
              "</table>\n",
              "</div>"
            ],
            "text/plain": [
              "   movieId  ...          director\n",
              "0   135887  ...         KyleBalda\n",
              "1   143355  ...      PattyJenkins\n",
              "2      296  ...  QuentinTarantino\n",
              "3    58559  ...  ChristopherNolan\n",
              "4      318  ...     FrankDarabont\n",
              "5   115617  ...     ChrisWilliams\n",
              "6   122904  ...         TimMiller\n",
              "7   122918  ...         JamesGunn\n",
              "8   168366  ...        BillCondon\n",
              "9   112556  ...      DavidFincher\n",
              "\n",
              "[10 rows x 17 columns]"
            ]
          },
          "metadata": {
            "tags": []
          },
          "execution_count": 8
        }
      ]
    },
    {
      "cell_type": "code",
      "metadata": {
        "id": "ABV4jPnFqcyy",
        "colab": {
          "base_uri": "https://localhost:8080/",
          "height": 86
        },
        "outputId": "872381e2-e07a-4fd7-bd42-7e8b7eec5d50"
      },
      "source": [
        "movies_data['keywords']=movies_data['keywords']+\" \" +movies_data['cast']+\" \"+movies_data['production_companies']+\" \"+movies_data['production_countries']+\" \"+movies_data['genres']+\" \"+movies_data['original_language']+\" \"+movies_data['release_day']+\" \"+movies_data['content']+\" \"+movies_data['director']\r\n",
        "movies_data['keywords']=movies_data['keywords'].replace({\"[^A-Za-z0-9]+\": \" \"},regex=True)\r\n",
        "movies_data['keywords'][0]"
      ],
      "execution_count": 9,
      "outputs": [
        {
          "output_type": "execute_result",
          "data": {
            "application/vnd.google.colaboratory.intrinsic+json": {
              "type": "string"
            },
            "text/plain": [
              "'assistant aftercreditsstinger duringcreditsstinger evil mastermind minions 3d SandraBullock JonHamm MichaelKeaton AllisonJanney SteveCoogan JenniferSaunders GeoffreyRush SteveCarell PierreCoffin KatyMixon MichaelBeattie HiroyukiSanada DaveRosenbaum AlexDowding PaulThornley KyleBalda AvaAcres UniversalPictures IlluminationEntertainment UnitedStatesofAmerica Family Animation Adventure Comedy English Wednesday Minions Stuart Kevin and Bob are recruited by Scarlet Overkill a super villain who alongside her inventor husband Herb hatches a plot to take over the world Before Gru they had a history of bad bosses KyleBalda'"
            ]
          },
          "metadata": {
            "tags": []
          },
          "execution_count": 9
        }
      ]
    },
    {
      "cell_type": "code",
      "metadata": {
        "id": "MMhileXteWwN"
      },
      "source": [
        "vectorizer=TfidfVectorizer(stop_words='english')\r\n",
        "X=vectorizer.fit_transform(movies_data['keywords'])\r\n",
        "#matrix=scipy.sparse.eye(46904)\r\n",
        "tfidf_df=pd.DataFrame.sparse.from_spmatrix(X)"
      ],
      "execution_count": 10,
      "outputs": []
    },
    {
      "cell_type": "code",
      "metadata": {
        "id": "ZvZgc09QusRB",
        "outputId": "5504c114-1537-4d3e-f723-dc6b2a5e41c2",
        "colab": {
          "base_uri": "https://localhost:8080/"
        }
      },
      "source": [
        "movies_df=movies_data[['movieId','budget','profit','score','release_year','runtime']]\r\n",
        "movies_df=movies_df.join(tfidf_df)\r\n",
        "movies_df.set_index('movieId',inplace=True)\r\n",
        "movies_df.shape"
      ],
      "execution_count": 11,
      "outputs": [
        {
          "output_type": "execute_result",
          "data": {
            "text/plain": [
              "(46904, 314604)"
            ]
          },
          "metadata": {
            "tags": []
          },
          "execution_count": 11
        }
      ]
    },
    {
      "cell_type": "code",
      "metadata": {
        "id": "J32gQV8_wXhL"
      },
      "source": [
        "#movies_df.head()"
      ],
      "execution_count": 12,
      "outputs": []
    },
    {
      "cell_type": "code",
      "metadata": {
        "id": "79o5KeAv9VfZ"
      },
      "source": [
        "sse={}\r\n",
        "for k in range(1,40):\r\n",
        "  kmeans=KMeans(n_clusters=k,init='k-means++',max_iter=100).fit(movies_df)\r\n",
        "  movies_df['clusters']=kmeans.labels_\r\n",
        "  sse[k]=kmeans.inertia_\r\n",
        "plt.plot(list(sse.keys()))"
      ],
      "execution_count": null,
      "outputs": []
    }
  ]
}