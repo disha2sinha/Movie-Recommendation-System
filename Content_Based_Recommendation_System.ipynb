{
  "nbformat": 4,
  "nbformat_minor": 0,
  "metadata": {
    "colab": {
      "name": "Content-Based Recommendation System.ipynb",
      "provenance": [],
      "authorship_tag": "ABX9TyMPRr8R0OUN6w67zKXRHPF1",
      "include_colab_link": true
    },
    "kernelspec": {
      "name": "python3",
      "display_name": "Python 3"
    }
  },
  "cells": [
    {
      "cell_type": "markdown",
      "metadata": {
        "id": "view-in-github",
        "colab_type": "text"
      },
      "source": [
        "<a href=\"https://colab.research.google.com/github/disha2sinha/Movie-Recommendation-System/blob/master/Content_Based_Recommendation_System.ipynb\" target=\"_parent\"><img src=\"https://colab.research.google.com/assets/colab-badge.svg\" alt=\"Open In Colab\"/></a>"
      ]
    },
    {
      "cell_type": "code",
      "metadata": {
        "id": "1UpMiIb8OKeD"
      },
      "source": [
        "!pip install -U -q PyDrive\r\n",
        "from pydrive.auth import GoogleAuth\r\n",
        "from pydrive.drive import GoogleDrive\r\n",
        "from google.colab import auth\r\n",
        "from oauth2client.client import GoogleCredentials\r\n",
        "from ast import literal_eval\r\n",
        "import pandas as pd\r\n",
        "import math\r\n",
        "import numpy as np\r\n",
        "from sklearn.cluster import KMeans\r\n",
        "from sklearn import metrics\r\n",
        "from sklearn.feature_extraction.text import TfidfVectorizer\r\n",
        "import re\r\n",
        "import matplotlib.pyplot as plt\r\n",
        "import scipy.sparse\r\n",
        "from sklearn.metrics.pairwise import cosine_similarity\r\n",
        "import os\r\n",
        "from sklearn.cluster import KMeans"
      ],
      "execution_count": 1,
      "outputs": []
    },
    {
      "cell_type": "code",
      "metadata": {
        "id": "sP-02Pu0Uu1u"
      },
      "source": [
        "auth.authenticate_user()\r\n",
        "gauth = GoogleAuth()\r\n",
        "gauth.credentials = GoogleCredentials.get_application_default()\r\n",
        "drive = GoogleDrive(gauth)"
      ],
      "execution_count": 2,
      "outputs": []
    },
    {
      "cell_type": "markdown",
      "metadata": {
        "id": "LXhOR4s2bz4M"
      },
      "source": [
        "## **IMPORTING MOVIES DATASET WHICH WAS PREVIOUSLY ARRANGED ACCORDING TO POPULARITY**"
      ]
    },
    {
      "cell_type": "code",
      "metadata": {
        "colab": {
          "base_uri": "https://localhost:8080/",
          "height": 568
        },
        "id": "S-oIdxVkU142",
        "outputId": "3f1c78f3-2973-440d-8d0b-3c696ee8f542"
      },
      "source": [
        "id='1wQEIJenO8lzY6VWpEvS8-bkkVpXOG90y'\r\n",
        "downloaded = drive.CreateFile({'id':id}) \r\n",
        "downloaded.GetContentFile('PopularMovies.csv') \r\n",
        "movies_data = pd.read_csv('PopularMovies.csv',engine='python',index_col=0)\r\n",
        "movies_data.head()"
      ],
      "execution_count": 3,
      "outputs": [
        {
          "output_type": "execute_result",
          "data": {
            "text/html": [
              "<div>\n",
              "<style scoped>\n",
              "    .dataframe tbody tr th:only-of-type {\n",
              "        vertical-align: middle;\n",
              "    }\n",
              "\n",
              "    .dataframe tbody tr th {\n",
              "        vertical-align: top;\n",
              "    }\n",
              "\n",
              "    .dataframe thead th {\n",
              "        text-align: right;\n",
              "    }\n",
              "</style>\n",
              "<table border=\"1\" class=\"dataframe\">\n",
              "  <thead>\n",
              "    <tr style=\"text-align: right;\">\n",
              "      <th></th>\n",
              "      <th>tmdbId</th>\n",
              "      <th>title</th>\n",
              "      <th>budget</th>\n",
              "      <th>profit</th>\n",
              "      <th>score</th>\n",
              "      <th>release_year</th>\n",
              "      <th>release_day</th>\n",
              "      <th>keywords</th>\n",
              "      <th>genres</th>\n",
              "      <th>production_countries</th>\n",
              "      <th>production_companies</th>\n",
              "      <th>original_language</th>\n",
              "      <th>runtime</th>\n",
              "      <th>content</th>\n",
              "      <th>status</th>\n",
              "      <th>cast</th>\n",
              "      <th>director</th>\n",
              "    </tr>\n",
              "  </thead>\n",
              "  <tbody>\n",
              "    <tr>\n",
              "      <th>0</th>\n",
              "      <td>211672</td>\n",
              "      <td>Minions</td>\n",
              "      <td>74000000</td>\n",
              "      <td>1.082731e+09</td>\n",
              "      <td>0.634881</td>\n",
              "      <td>2015</td>\n",
              "      <td>Wednesday</td>\n",
              "      <td>['assistant', 'aftercreditsstinger', 'duringcr...</td>\n",
              "      <td>Family|Animation|Adventure|Comedy</td>\n",
              "      <td>United States of America</td>\n",
              "      <td>Universal Pictures|Illumination Entertainment</td>\n",
              "      <td>English</td>\n",
              "      <td>91.0</td>\n",
              "      <td>Minions Stuart, Kevin and Bob are recruited by...</td>\n",
              "      <td>Released</td>\n",
              "      <td>Sandra Bullock|Jon Hamm|Michael Keaton|Allison...</td>\n",
              "      <td>Kyle Balda</td>\n",
              "    </tr>\n",
              "    <tr>\n",
              "      <th>1</th>\n",
              "      <td>177572</td>\n",
              "      <td>Big Hero 6</td>\n",
              "      <td>165000000</td>\n",
              "      <td>4.871054e+08</td>\n",
              "      <td>0.598368</td>\n",
              "      <td>2014</td>\n",
              "      <td>Friday</td>\n",
              "      <td>['brother brother relationship', 'hero', 'tale...</td>\n",
              "      <td>Adventure|Family|Animation|Action|Comedy</td>\n",
              "      <td>United States of America</td>\n",
              "      <td>Walt Disney Pictures|Walt Disney Animation Stu...</td>\n",
              "      <td>English</td>\n",
              "      <td>102.0</td>\n",
              "      <td>The special bond that develops between plus-si...</td>\n",
              "      <td>Released</td>\n",
              "      <td>Scott Adsit|Ryan Potter|Daniel Henney|T.J. Mil...</td>\n",
              "      <td>Chris Williams</td>\n",
              "    </tr>\n",
              "    <tr>\n",
              "      <th>2</th>\n",
              "      <td>155</td>\n",
              "      <td>The Dark Knight</td>\n",
              "      <td>185000000</td>\n",
              "      <td>8.195584e+08</td>\n",
              "      <td>0.565743</td>\n",
              "      <td>2008</td>\n",
              "      <td>Wednesday</td>\n",
              "      <td>['dc comics', 'crime fighter', 'secret identit...</td>\n",
              "      <td>Drama|Action|Crime|Thriller</td>\n",
              "      <td>United Kingdom|United States of America</td>\n",
              "      <td>DC Comics|Legendary Pictures|Warner Bros.|DC E...</td>\n",
              "      <td>English</td>\n",
              "      <td>152.0</td>\n",
              "      <td>Batman raises the stakes in his war on crime. ...</td>\n",
              "      <td>Released</td>\n",
              "      <td>Christian Bale|Michael Caine|Heath Ledger|Aaro...</td>\n",
              "      <td>Christopher Nolan</td>\n",
              "    </tr>\n",
              "    <tr>\n",
              "      <th>3</th>\n",
              "      <td>680</td>\n",
              "      <td>Pulp Fiction</td>\n",
              "      <td>8000000</td>\n",
              "      <td>2.059288e+08</td>\n",
              "      <td>0.558571</td>\n",
              "      <td>1994</td>\n",
              "      <td>Saturday</td>\n",
              "      <td>['transporter', 'brothel', 'drug dealer', 'box...</td>\n",
              "      <td>Thriller|Crime</td>\n",
              "      <td>United States of America</td>\n",
              "      <td>Miramax Films|A Band Apart|Jersey Films</td>\n",
              "      <td>English</td>\n",
              "      <td>154.0</td>\n",
              "      <td>A burger-loving hit man, his philosophical par...</td>\n",
              "      <td>Released</td>\n",
              "      <td>John Travolta|Samuel L. Jackson|Uma Thurman|Br...</td>\n",
              "      <td>Quentin Tarantino</td>\n",
              "    </tr>\n",
              "    <tr>\n",
              "      <th>4</th>\n",
              "      <td>278</td>\n",
              "      <td>The Shawshank Redemption</td>\n",
              "      <td>25000000</td>\n",
              "      <td>3.341469e+06</td>\n",
              "      <td>0.554077</td>\n",
              "      <td>1994</td>\n",
              "      <td>Friday</td>\n",
              "      <td>['prison', 'corruption', 'police brutality', '...</td>\n",
              "      <td>Drama|Crime</td>\n",
              "      <td>United States of America</td>\n",
              "      <td>Castle Rock Entertainment|Warner Bros.</td>\n",
              "      <td>English</td>\n",
              "      <td>142.0</td>\n",
              "      <td>Framed in the 1940s for the double murder of h...</td>\n",
              "      <td>Released</td>\n",
              "      <td>Tim Robbins|Morgan Freeman|Bob Gunton|Clancy B...</td>\n",
              "      <td>Frank Darabont</td>\n",
              "    </tr>\n",
              "  </tbody>\n",
              "</table>\n",
              "</div>"
            ],
            "text/plain": [
              "   tmdbId  ...           director\n",
              "0  211672  ...         Kyle Balda\n",
              "1  177572  ...     Chris Williams\n",
              "2     155  ...  Christopher Nolan\n",
              "3     680  ...  Quentin Tarantino\n",
              "4     278  ...     Frank Darabont\n",
              "\n",
              "[5 rows x 17 columns]"
            ]
          },
          "metadata": {
            "tags": []
          },
          "execution_count": 3
        }
      ]
    },
    {
      "cell_type": "code",
      "metadata": {
        "id": "fY3pMCPHZAfB",
        "colab": {
          "base_uri": "https://localhost:8080/"
        },
        "outputId": "077c7b72-1b13-4fad-bb77-f81dfbd8ff0a"
      },
      "source": [
        "movies_data.shape"
      ],
      "execution_count": 4,
      "outputs": [
        {
          "output_type": "execute_result",
          "data": {
            "text/plain": [
              "(9081, 17)"
            ]
          },
          "metadata": {
            "tags": []
          },
          "execution_count": 4
        }
      ]
    },
    {
      "cell_type": "code",
      "metadata": {
        "id": "47UHvtkIWFc5",
        "colab": {
          "base_uri": "https://localhost:8080/"
        },
        "outputId": "03f90ca6-46fe-43a8-efcb-59e491f6593b"
      },
      "source": [
        "movies_data.info()"
      ],
      "execution_count": 5,
      "outputs": [
        {
          "output_type": "stream",
          "text": [
            "<class 'pandas.core.frame.DataFrame'>\n",
            "Int64Index: 9081 entries, 0 to 9080\n",
            "Data columns (total 17 columns):\n",
            " #   Column                Non-Null Count  Dtype  \n",
            "---  ------                --------------  -----  \n",
            " 0   tmdbId                9081 non-null   int64  \n",
            " 1   title                 9081 non-null   object \n",
            " 2   budget                9081 non-null   int64  \n",
            " 3   profit                9081 non-null   float64\n",
            " 4   score                 9081 non-null   float64\n",
            " 5   release_year          9081 non-null   int64  \n",
            " 6   release_day           9081 non-null   object \n",
            " 7   keywords              9081 non-null   object \n",
            " 8   genres                9046 non-null   object \n",
            " 9   production_countries  8787 non-null   object \n",
            " 10  production_companies  8417 non-null   object \n",
            " 11  original_language     9079 non-null   object \n",
            " 12  runtime               9081 non-null   float64\n",
            " 13  content               9069 non-null   object \n",
            " 14  status                9081 non-null   object \n",
            " 15  cast                  8991 non-null   object \n",
            " 16  director              9081 non-null   object \n",
            "dtypes: float64(3), int64(3), object(11)\n",
            "memory usage: 1.2+ MB\n"
          ],
          "name": "stdout"
        }
      ]
    },
    {
      "cell_type": "code",
      "metadata": {
        "id": "DuSdwhKOjg3X"
      },
      "source": [
        "movies_data=movies_data.replace(np.nan,'Unknown',regex=True)\r\n",
        "movies_data['release_year']=movies_data['release_year'].replace('NaT','1874',regex=True)"
      ],
      "execution_count": 6,
      "outputs": []
    },
    {
      "cell_type": "code",
      "metadata": {
        "id": "StSU8TuMjjPd",
        "colab": {
          "base_uri": "https://localhost:8080/"
        },
        "outputId": "ec05d996-d944-4540-fe9f-24b54fc627a0"
      },
      "source": [
        "movies_data.info()"
      ],
      "execution_count": 7,
      "outputs": [
        {
          "output_type": "stream",
          "text": [
            "<class 'pandas.core.frame.DataFrame'>\n",
            "Int64Index: 9081 entries, 0 to 9080\n",
            "Data columns (total 17 columns):\n",
            " #   Column                Non-Null Count  Dtype  \n",
            "---  ------                --------------  -----  \n",
            " 0   tmdbId                9081 non-null   int64  \n",
            " 1   title                 9081 non-null   object \n",
            " 2   budget                9081 non-null   int64  \n",
            " 3   profit                9081 non-null   float64\n",
            " 4   score                 9081 non-null   float64\n",
            " 5   release_year          9081 non-null   int64  \n",
            " 6   release_day           9081 non-null   object \n",
            " 7   keywords              9081 non-null   object \n",
            " 8   genres                9081 non-null   object \n",
            " 9   production_countries  9081 non-null   object \n",
            " 10  production_companies  9081 non-null   object \n",
            " 11  original_language     9081 non-null   object \n",
            " 12  runtime               9081 non-null   float64\n",
            " 13  content               9081 non-null   object \n",
            " 14  status                9081 non-null   object \n",
            " 15  cast                  9081 non-null   object \n",
            " 16  director              9081 non-null   object \n",
            "dtypes: float64(3), int64(3), object(11)\n",
            "memory usage: 1.2+ MB\n"
          ],
          "name": "stdout"
        }
      ]
    },
    {
      "cell_type": "markdown",
      "metadata": {
        "id": "wzl8RvTJcZxa"
      },
      "source": [
        "## **KEYWORDS ARE FORMED FROM ALL THE NON-NUMERIC COLUMNS**"
      ]
    },
    {
      "cell_type": "code",
      "metadata": {
        "id": "FFBYhqRJSPSq",
        "colab": {
          "base_uri": "https://localhost:8080/",
          "height": 901
        },
        "outputId": "7d9bb642-51cf-4b4c-ea6d-20764eaf669c"
      },
      "source": [
        "movies_data['production_companies']=movies_data['production_companies'].str.replace(\" \",\"\")\r\n",
        "movies_data['production_companies']=movies_data['production_companies'].str.replace(\"|\",\"  \")\r\n",
        "movies_data['production_countries']=movies_data['production_countries'].str.replace(\" \",\"\")\r\n",
        "movies_data['production_countries']=movies_data['production_countries'].str.replace(\"|\",\"  \")\r\n",
        "movies_data['cast']=movies_data['cast'].str.replace(\" \",\"\")\r\n",
        "movies_data['cast']=movies_data['cast'].str.replace(\"|\",\"  \")\r\n",
        "movies_data['genres']=movies_data['genres'].str.replace(\"|\",\" \")\r\n",
        "movies_data['director']=movies_data['director'].str.replace(\" \",\"\")\r\n",
        "movies_data['keywords']=movies_data['keywords'].apply(lambda x:x[1:-1])\r\n",
        "movies_data['keywords']=movies_data['keywords'].str.replace(',',\"  \")\r\n",
        "movies_data['keywords']=movies_data['keywords'].str.replace(\"'\",\"\")\r\n",
        "movies_data.head(10)"
      ],
      "execution_count": 8,
      "outputs": [
        {
          "output_type": "execute_result",
          "data": {
            "text/html": [
              "<div>\n",
              "<style scoped>\n",
              "    .dataframe tbody tr th:only-of-type {\n",
              "        vertical-align: middle;\n",
              "    }\n",
              "\n",
              "    .dataframe tbody tr th {\n",
              "        vertical-align: top;\n",
              "    }\n",
              "\n",
              "    .dataframe thead th {\n",
              "        text-align: right;\n",
              "    }\n",
              "</style>\n",
              "<table border=\"1\" class=\"dataframe\">\n",
              "  <thead>\n",
              "    <tr style=\"text-align: right;\">\n",
              "      <th></th>\n",
              "      <th>tmdbId</th>\n",
              "      <th>title</th>\n",
              "      <th>budget</th>\n",
              "      <th>profit</th>\n",
              "      <th>score</th>\n",
              "      <th>release_year</th>\n",
              "      <th>release_day</th>\n",
              "      <th>keywords</th>\n",
              "      <th>genres</th>\n",
              "      <th>production_countries</th>\n",
              "      <th>production_companies</th>\n",
              "      <th>original_language</th>\n",
              "      <th>runtime</th>\n",
              "      <th>content</th>\n",
              "      <th>status</th>\n",
              "      <th>cast</th>\n",
              "      <th>director</th>\n",
              "    </tr>\n",
              "  </thead>\n",
              "  <tbody>\n",
              "    <tr>\n",
              "      <th>0</th>\n",
              "      <td>211672</td>\n",
              "      <td>Minions</td>\n",
              "      <td>74000000</td>\n",
              "      <td>1.082731e+09</td>\n",
              "      <td>0.634881</td>\n",
              "      <td>2015</td>\n",
              "      <td>Wednesday</td>\n",
              "      <td>assistant   aftercreditsstinger   duringcredit...</td>\n",
              "      <td>Family Animation Adventure Comedy</td>\n",
              "      <td>UnitedStatesofAmerica</td>\n",
              "      <td>UniversalPictures  IlluminationEntertainment</td>\n",
              "      <td>English</td>\n",
              "      <td>91.0</td>\n",
              "      <td>Minions Stuart, Kevin and Bob are recruited by...</td>\n",
              "      <td>Released</td>\n",
              "      <td>SandraBullock  JonHamm  MichaelKeaton  Allison...</td>\n",
              "      <td>KyleBalda</td>\n",
              "    </tr>\n",
              "    <tr>\n",
              "      <th>1</th>\n",
              "      <td>177572</td>\n",
              "      <td>Big Hero 6</td>\n",
              "      <td>165000000</td>\n",
              "      <td>4.871054e+08</td>\n",
              "      <td>0.598368</td>\n",
              "      <td>2014</td>\n",
              "      <td>Friday</td>\n",
              "      <td>brother brother relationship   hero   talent  ...</td>\n",
              "      <td>Adventure Family Animation Action Comedy</td>\n",
              "      <td>UnitedStatesofAmerica</td>\n",
              "      <td>WaltDisneyPictures  WaltDisneyAnimationStudios</td>\n",
              "      <td>English</td>\n",
              "      <td>102.0</td>\n",
              "      <td>The special bond that develops between plus-si...</td>\n",
              "      <td>Released</td>\n",
              "      <td>ScottAdsit  RyanPotter  DanielHenney  T.J.Mill...</td>\n",
              "      <td>ChrisWilliams</td>\n",
              "    </tr>\n",
              "    <tr>\n",
              "      <th>2</th>\n",
              "      <td>155</td>\n",
              "      <td>The Dark Knight</td>\n",
              "      <td>185000000</td>\n",
              "      <td>8.195584e+08</td>\n",
              "      <td>0.565743</td>\n",
              "      <td>2008</td>\n",
              "      <td>Wednesday</td>\n",
              "      <td>dc comics   crime fighter   secret identity   ...</td>\n",
              "      <td>Drama Action Crime Thriller</td>\n",
              "      <td>UnitedKingdom  UnitedStatesofAmerica</td>\n",
              "      <td>DCComics  LegendaryPictures  WarnerBros.  DCEn...</td>\n",
              "      <td>English</td>\n",
              "      <td>152.0</td>\n",
              "      <td>Batman raises the stakes in his war on crime. ...</td>\n",
              "      <td>Released</td>\n",
              "      <td>ChristianBale  MichaelCaine  HeathLedger  Aaro...</td>\n",
              "      <td>ChristopherNolan</td>\n",
              "    </tr>\n",
              "    <tr>\n",
              "      <th>3</th>\n",
              "      <td>680</td>\n",
              "      <td>Pulp Fiction</td>\n",
              "      <td>8000000</td>\n",
              "      <td>2.059288e+08</td>\n",
              "      <td>0.558571</td>\n",
              "      <td>1994</td>\n",
              "      <td>Saturday</td>\n",
              "      <td>transporter   brothel   drug dealer   boxer   ...</td>\n",
              "      <td>Thriller Crime</td>\n",
              "      <td>UnitedStatesofAmerica</td>\n",
              "      <td>MiramaxFilms  ABandApart  JerseyFilms</td>\n",
              "      <td>English</td>\n",
              "      <td>154.0</td>\n",
              "      <td>A burger-loving hit man, his philosophical par...</td>\n",
              "      <td>Released</td>\n",
              "      <td>JohnTravolta  SamuelL.Jackson  UmaThurman  Bru...</td>\n",
              "      <td>QuentinTarantino</td>\n",
              "    </tr>\n",
              "    <tr>\n",
              "      <th>4</th>\n",
              "      <td>278</td>\n",
              "      <td>The Shawshank Redemption</td>\n",
              "      <td>25000000</td>\n",
              "      <td>3.341469e+06</td>\n",
              "      <td>0.554077</td>\n",
              "      <td>1994</td>\n",
              "      <td>Friday</td>\n",
              "      <td>prison   corruption   police brutality   priso...</td>\n",
              "      <td>Drama Crime</td>\n",
              "      <td>UnitedStatesofAmerica</td>\n",
              "      <td>CastleRockEntertainment  WarnerBros.</td>\n",
              "      <td>English</td>\n",
              "      <td>142.0</td>\n",
              "      <td>Framed in the 1940s for the double murder of h...</td>\n",
              "      <td>Released</td>\n",
              "      <td>TimRobbins  MorganFreeman  BobGunton  ClancyBr...</td>\n",
              "      <td>FrankDarabont</td>\n",
              "    </tr>\n",
              "    <tr>\n",
              "      <th>5</th>\n",
              "      <td>210577</td>\n",
              "      <td>Gone Girl</td>\n",
              "      <td>61000000</td>\n",
              "      <td>3.083304e+08</td>\n",
              "      <td>0.523202</td>\n",
              "      <td>2014</td>\n",
              "      <td>Wednesday</td>\n",
              "      <td>based on novel   marriage crisis   disappearan...</td>\n",
              "      <td>Mystery Thriller Drama</td>\n",
              "      <td>UnitedStatesofAmerica</td>\n",
              "      <td>TwentiethCenturyFoxFilmCorporation  RegencyEnt...</td>\n",
              "      <td>English</td>\n",
              "      <td>145.0</td>\n",
              "      <td>With his wife's disappearance having become th...</td>\n",
              "      <td>Released</td>\n",
              "      <td>BenAffleck  RosamundPike  CarrieCoon  NeilPatr...</td>\n",
              "      <td>DavidFincher</td>\n",
              "    </tr>\n",
              "    <tr>\n",
              "      <th>6</th>\n",
              "      <td>293660</td>\n",
              "      <td>Deadpool</td>\n",
              "      <td>58000000</td>\n",
              "      <td>7.251130e+08</td>\n",
              "      <td>0.518324</td>\n",
              "      <td>2016</td>\n",
              "      <td>Tuesday</td>\n",
              "      <td>anti hero   mercenary   marvel comic   superhe...</td>\n",
              "      <td>Action Adventure Comedy</td>\n",
              "      <td>UnitedStatesofAmerica</td>\n",
              "      <td>TwentiethCenturyFoxFilmCorporation  MarvelEnte...</td>\n",
              "      <td>English</td>\n",
              "      <td>108.0</td>\n",
              "      <td>Deadpool tells the origin story of former Spec...</td>\n",
              "      <td>Released</td>\n",
              "      <td>RyanReynolds  MorenaBaccarin  EdSkrein  T.J.Mi...</td>\n",
              "      <td>TimMiller</td>\n",
              "    </tr>\n",
              "    <tr>\n",
              "      <th>7</th>\n",
              "      <td>157336</td>\n",
              "      <td>Interstellar</td>\n",
              "      <td>165000000</td>\n",
              "      <td>5.101200e+08</td>\n",
              "      <td>0.514384</td>\n",
              "      <td>2014</td>\n",
              "      <td>Wednesday</td>\n",
              "      <td>saving the world   artificial intelligence   f...</td>\n",
              "      <td>Adventure Drama Science Fiction</td>\n",
              "      <td>Canada  UnitedStatesofAmerica  UnitedKingdom</td>\n",
              "      <td>ParamountPictures  LegendaryPictures  WarnerBr...</td>\n",
              "      <td>English</td>\n",
              "      <td>169.0</td>\n",
              "      <td>Interstellar chronicles the adventures of a gr...</td>\n",
              "      <td>Released</td>\n",
              "      <td>MatthewMcConaughey  JessicaChastain  AnneHatha...</td>\n",
              "      <td>ChristopherNolan</td>\n",
              "    </tr>\n",
              "    <tr>\n",
              "      <th>8</th>\n",
              "      <td>550</td>\n",
              "      <td>Fight Club</td>\n",
              "      <td>63000000</td>\n",
              "      <td>3.785375e+07</td>\n",
              "      <td>0.495441</td>\n",
              "      <td>1999</td>\n",
              "      <td>Friday</td>\n",
              "      <td>support group   dual identity   nihilism   rag...</td>\n",
              "      <td>Drama</td>\n",
              "      <td>Germany  UnitedStatesofAmerica</td>\n",
              "      <td>TwentiethCenturyFoxFilmCorporation  RegencyEnt...</td>\n",
              "      <td>English</td>\n",
              "      <td>139.0</td>\n",
              "      <td>A ticking-time-bomb insomniac and a slippery s...</td>\n",
              "      <td>Released</td>\n",
              "      <td>EdwardNorton  BradPitt  MeatLoaf  JaredLeto  H...</td>\n",
              "      <td>DavidFincher</td>\n",
              "    </tr>\n",
              "    <tr>\n",
              "      <th>9</th>\n",
              "      <td>118340</td>\n",
              "      <td>Guardians of the Galaxy</td>\n",
              "      <td>170000000</td>\n",
              "      <td>6.033286e+08</td>\n",
              "      <td>0.484757</td>\n",
              "      <td>2014</td>\n",
              "      <td>Wednesday</td>\n",
              "      <td>marvel comic   spaceship   space   outer space...</td>\n",
              "      <td>Action Science Fiction Adventure</td>\n",
              "      <td>UnitedKingdom  UnitedStatesofAmerica</td>\n",
              "      <td>MarvelStudios  MovingPictureCompany(MPC)  Bull...</td>\n",
              "      <td>English</td>\n",
              "      <td>121.0</td>\n",
              "      <td>Light years from Earth, 26 years after being a...</td>\n",
              "      <td>Released</td>\n",
              "      <td>ChrisPratt  ZoeSaldana  DaveBautista  VinDiese...</td>\n",
              "      <td>JamesGunn</td>\n",
              "    </tr>\n",
              "  </tbody>\n",
              "</table>\n",
              "</div>"
            ],
            "text/plain": [
              "   tmdbId  ...          director\n",
              "0  211672  ...         KyleBalda\n",
              "1  177572  ...     ChrisWilliams\n",
              "2     155  ...  ChristopherNolan\n",
              "3     680  ...  QuentinTarantino\n",
              "4     278  ...     FrankDarabont\n",
              "5  210577  ...      DavidFincher\n",
              "6  293660  ...         TimMiller\n",
              "7  157336  ...  ChristopherNolan\n",
              "8     550  ...      DavidFincher\n",
              "9  118340  ...         JamesGunn\n",
              "\n",
              "[10 rows x 17 columns]"
            ]
          },
          "metadata": {
            "tags": []
          },
          "execution_count": 8
        }
      ]
    },
    {
      "cell_type": "code",
      "metadata": {
        "id": "ABV4jPnFqcyy",
        "colab": {
          "base_uri": "https://localhost:8080/",
          "height": 86
        },
        "outputId": "e235807b-08d8-4f3c-c8c0-f291cf21c7c6"
      },
      "source": [
        "movies_data['keywords']=movies_data['keywords']+\" \" +movies_data['cast']+\" \"+movies_data['production_companies']+\" \"+movies_data['production_countries']+\" \"+movies_data['genres']+\" \"+movies_data['original_language']+\" \"+movies_data['release_day']+\" \"+movies_data['content']+\" \"+movies_data['director']\r\n",
        "movies_data['keywords']=movies_data['keywords'].replace({\"[^A-Za-z0-9]+\": \" \"},regex=True)\r\n",
        "movies_data['keywords'][0]"
      ],
      "execution_count": 9,
      "outputs": [
        {
          "output_type": "execute_result",
          "data": {
            "application/vnd.google.colaboratory.intrinsic+json": {
              "type": "string"
            },
            "text/plain": [
              "'assistant aftercreditsstinger duringcreditsstinger evil mastermind minions 3d SandraBullock JonHamm MichaelKeaton AllisonJanney SteveCoogan JenniferSaunders GeoffreyRush SteveCarell PierreCoffin KatyMixon MichaelBeattie HiroyukiSanada DaveRosenbaum AlexDowding PaulThornley KyleBalda AvaAcres UniversalPictures IlluminationEntertainment UnitedStatesofAmerica Family Animation Adventure Comedy English Wednesday Minions Stuart Kevin and Bob are recruited by Scarlet Overkill a super villain who alongside her inventor husband Herb hatches a plot to take over the world Before Gru they had a history of bad bosses KyleBalda'"
            ]
          },
          "metadata": {
            "tags": []
          },
          "execution_count": 9
        }
      ]
    },
    {
      "cell_type": "markdown",
      "metadata": {
        "id": "a6UfOvJfhSMV"
      },
      "source": [
        "## **WORD VECTORIZER IS CREATED FROM THE KEYWORDS AND A NEW DATAFRAME IS FORMED COMBINING THE NUMERIC COLUMNS AND WORD VECTORIZER FOR EACH MOVIE ID**"
      ]
    },
    {
      "cell_type": "code",
      "metadata": {
        "id": "MMhileXteWwN"
      },
      "source": [
        "vectorizer=TfidfVectorizer(analyzer='word',stop_words='english')\r\n",
        "X=vectorizer.fit_transform(movies_data['keywords'])\r\n",
        "tfidf_df=pd.DataFrame.sparse.from_spmatrix(X)"
      ],
      "execution_count": 10,
      "outputs": []
    },
    {
      "cell_type": "code",
      "metadata": {
        "id": "ZvZgc09QusRB",
        "outputId": "7cdcbbab-f6b9-4189-e7b2-b0076208a168",
        "colab": {
          "base_uri": "https://localhost:8080/"
        }
      },
      "source": [
        "movies_df=movies_data[['tmdbId','budget','profit','score','release_year','runtime']]\r\n",
        "movies_df=movies_df.join(tfidf_df)\r\n",
        "movies_df.set_index('tmdbId',inplace=True)\r\n",
        "movies_df.shape"
      ],
      "execution_count": 11,
      "outputs": [
        {
          "output_type": "execute_result",
          "data": {
            "text/plain": [
              "(9081, 124699)"
            ]
          },
          "metadata": {
            "tags": []
          },
          "execution_count": 11
        }
      ]
    },
    {
      "cell_type": "code",
      "metadata": {
        "id": "U3rFGUw38l68"
      },
      "source": [
        "dftomat=scipy.sparse.csr_matrix(movies_df.values)"
      ],
      "execution_count": 12,
      "outputs": []
    },
    {
      "cell_type": "code",
      "metadata": {
        "id": "t7etWGQKPG6I",
        "colab": {
          "base_uri": "https://localhost:8080/"
        },
        "outputId": "3830c64f-a9ba-459e-e1ca-220aafae7e09"
      },
      "source": [
        "dftomat[1,:].toarray()"
      ],
      "execution_count": 13,
      "outputs": [
        {
          "output_type": "execute_result",
          "data": {
            "text/plain": [
              "array([[1.65000000e+08, 4.87105443e+08, 5.98367835e-01, ...,\n",
              "        0.00000000e+00, 0.00000000e+00, 0.00000000e+00]])"
            ]
          },
          "metadata": {
            "tags": []
          },
          "execution_count": 13
        }
      ]
    },
    {
      "cell_type": "code",
      "metadata": {
        "id": "WGKN_Svy-AZW",
        "colab": {
          "base_uri": "https://localhost:8080/"
        },
        "outputId": "3cf2de6b-0e40-4bd5-8682-c0c5006fedc4"
      },
      "source": [
        "dftomat.shape"
      ],
      "execution_count": 14,
      "outputs": [
        {
          "output_type": "execute_result",
          "data": {
            "text/plain": [
              "(9081, 124699)"
            ]
          },
          "metadata": {
            "tags": []
          },
          "execution_count": 14
        }
      ]
    },
    {
      "cell_type": "markdown",
      "metadata": {
        "id": "HRv7pchHiXCT"
      },
      "source": [
        "## **PERFORMING KMeans ON THE NEW DATAFRAME TO FORM CLUSTERS OF SIMILAR MOVIES:**\r\n",
        "\r\n",
        "### **FINDING OPTIMAL K USING ELBOW METHOD**"
      ]
    },
    {
      "cell_type": "code",
      "metadata": {
        "id": "D90d_UszbX0G",
        "colab": {
          "base_uri": "https://localhost:8080/",
          "height": 475
        },
        "outputId": "983f2c16-8ef2-4370-9789-9a422880548b"
      },
      "source": [
        "#sse={}\r\n",
        "#for k in range(4,15):\r\n",
        "  #print(\"K=\",k)\r\n",
        "  #kmeans=KMeans(n_clusters=k,init='random',max_iter=100).fit(dftomat)\r\n",
        "  #sse[k]=kmeans.inertia_\r\n",
        "#plt.plot(list(sse.keys()),list(sse.values()),'bx-')\r\n",
        "#plt.xlabel(\"Number of Cluster\")\r\n",
        "#plt.ylabel(\"SSE\")\r\n",
        "#plt.savefig(\"elbow_method.png\")"
      ],
      "execution_count": 20,
      "outputs": [
        {
          "output_type": "stream",
          "text": [
            "K= 4\n",
            "K= 5\n",
            "K= 6\n",
            "K= 7\n",
            "K= 8\n",
            "K= 9\n",
            "K= 10\n",
            "K= 11\n",
            "K= 12\n",
            "K= 13\n",
            "K= 14\n"
          ],
          "name": "stdout"
        },
        {
          "output_type": "display_data",
          "data": {
            "image/png": "[encoded data removed]",
            "text/plain": [
              "<Figure size 432x288 with 1 Axes>"
            ]
          },
          "metadata": {
            "tags": [],
            "needs_background": "light"
          }
        }
      ]
    },
    {
      "cell_type": "markdown",
      "metadata": {
        "id": "OZlLF7NyJC_P"
      },
      "source": [
        "### **OPTIMAL K VALUE IS 6**"
      ]
    },
    {
      "cell_type": "code",
      "metadata": {
        "id": "U-d3SiyaVLNO"
      },
      "source": [
        "kmeans=KMeans(n_clusters=6,init='random',max_iter=500).fit(dftomat)\r\n",
        "movies_df['KmeansCluster']=kmeans.labels_"
      ],
      "execution_count": 23,
      "outputs": []
    },
    {
      "cell_type": "code",
      "metadata": {
        "id": "I7prbNRSXEkz",
        "colab": {
          "base_uri": "https://localhost:8080/"
        },
        "outputId": "36129680-5de9-49f0-8610-0674fe67826f"
      },
      "source": [
        "print(\"Cluster 0: \",movies_df[movies_df['KmeansCluster']==0].KmeansCluster.count())\r\n",
        "print(\"Cluster 1: \",movies_df[movies_df['KmeansCluster']==1].KmeansCluster.count())\r\n",
        "print(\"Cluster 2: \",movies_df[movies_df['KmeansCluster']==2].KmeansCluster.count())\r\n",
        "print(\"Cluster 3: \",movies_df[movies_df['KmeansCluster']==3].KmeansCluster.count())\r\n",
        "print(\"Cluster 4: \",movies_df[movies_df['KmeansCluster']==4].KmeansCluster.count())\r\n",
        "print(\"Cluster 5: \",movies_df[movies_df['KmeansCluster']==5].KmeansCluster.count())"
      ],
      "execution_count": 24,
      "outputs": [
        {
          "output_type": "stream",
          "text": [
            "Cluster 0:  99\n",
            "Cluster 1:  10\n",
            "Cluster 2:  788\n",
            "Cluster 3:  1464\n",
            "Cluster 4:  275\n",
            "Cluster 5:  6445\n"
          ],
          "name": "stdout"
        }
      ]
    }
  ]
}